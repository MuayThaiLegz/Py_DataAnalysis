{
 "cells": [
  {
   "cell_type": "code",
   "execution_count": 1,
   "id": "5d1da3a0",
   "metadata": {},
   "outputs": [
    {
     "data": {
      "text/plain": [
       "['foo', 'bar', 'baz', 'dwarf']"
      ]
     },
     "execution_count": 1,
     "metadata": {},
     "output_type": "execute_result"
    }
   ],
   "source": [
    "\"\"\"\n",
    "Chapter 3\n",
    "\n",
    "Built-in Data Structures, Fucntions, and Files.\n",
    "\n",
    "# List \n",
    "-Adding and removing elements\n",
    "\n",
    "Elements can be apprended to the end of the list with the append method:\n",
    "\"\"\"\n",
    "tup = ('foo', 'bar', 'baz')\n",
    "\n",
    "b_list = list(tup)\n",
    "\n",
    "b_list.append('dwarf')\n",
    "\n",
    "b_list"
   ]
  },
  {
   "cell_type": "code",
   "execution_count": 2,
   "id": "b1a723d3",
   "metadata": {},
   "outputs": [],
   "source": [
    "# Ussing insert you can insert an element at a specific location in the list:\n",
    "\n",
    "\"\"\"\n",
    "The insertion index must be between 0 and the length of the list, inclusive.\n",
    "\n",
    "insert is computationally expensive compared with append,\n",
    "bacause references to subsequent elements have to be shifted internally to make room for the new element.\n",
    "If you need to insert elemetns at both the begenning and asn of a sequence,\n",
    "you may wish to explore collections.deque, a double-ended queue, for this purpose.\n",
    "\n",
    "\"\"\"\n",
    "b_list.remove('bar')\n",
    "b_list.insert(1, 'jav')\n",
    "b_list.remove('baz')\n",
    "b_list.insert(3, 'MAyra')"
   ]
  },
  {
   "cell_type": "code",
   "execution_count": 3,
   "id": "8f645670",
   "metadata": {},
   "outputs": [
    {
     "data": {
      "text/plain": [
       "True"
      ]
     },
     "metadata": {},
     "output_type": "display_data"
    },
    {
     "data": {
      "text/plain": [
       "False"
      ]
     },
     "metadata": {},
     "output_type": "display_data"
    }
   ],
   "source": [
    "\"\"\"\n",
    "Checking whwether a list contains a value is a is a lot slower than doing so with dicts and sets.\n",
    "Python makes linear scan across the values of the list,\n",
    "whereas it can check the others based on hash tables) in constant time.\n",
    "\n",
    "\"\"\"\n",
    "display('jav' in b_list)\n",
    "\n",
    "display('javier' in b_list)"
   ]
  },
  {
   "cell_type": "code",
   "execution_count": 4,
   "id": "3e8a2a50",
   "metadata": {},
   "outputs": [],
   "source": [
    "# IF you already have a list defined, ypu can append multiple elements to it using the extend method\n",
    "\"\"\"\n",
    "List concats are computaionally expensive.\n",
    "Using extend to append elements to an existing list, is ussually better.\n",
    "\n",
    "THUS:\n",
    "everything = []\n",
    "for chunk in list_oflist:\n",
    "    everything.extend(chunk)\n",
    "    \n",
    "# Faster than the concat alternative\n",
    "\n",
    "everything_ = []\n",
    "for chunk in list_oflist:\n",
    "    everything_ = everything_ + chunk\n",
    "\n",
    "\"\"\"\n",
    "b_list.extend(['1738'])"
   ]
  },
  {
   "cell_type": "code",
   "execution_count": 5,
   "id": "b75906be",
   "metadata": {},
   "outputs": [
    {
     "data": {
      "text/plain": [
       "['foo', 'jav', 'dwarf', 'MAyra', '1738']"
      ]
     },
     "execution_count": 5,
     "metadata": {},
     "output_type": "execute_result"
    }
   ],
   "source": [
    "b_list"
   ]
  },
  {
   "cell_type": "code",
   "execution_count": 6,
   "id": "955ced23",
   "metadata": {},
   "outputs": [
    {
     "data": {
      "text/plain": [
       "[1, 2, 3, 5, 7]"
      ]
     },
     "execution_count": 6,
     "metadata": {},
     "output_type": "execute_result"
    }
   ],
   "source": [
    "\"\"\"\n",
    "# Sorting:\n",
    "You can sort a list in-place (without creating a new object) by calling sort funciton:\n",
    "\"\"\"\n",
    "a = [7, 2, 5, 1, 3]\n",
    "\n",
    "a.sort()\n",
    "\n",
    "a\n"
   ]
  },
  {
   "cell_type": "code",
   "execution_count": 7,
   "id": "2e398884",
   "metadata": {},
   "outputs": [],
   "source": [
    "\"\"\"\n",
    "Sort has a few options that come in handy.\n",
    "One is the ability to pass a secondary sort key-\n",
    "A function that produces a vlue to use to sort the objects. \n",
    "\"\"\"\n",
    "\n",
    "b_list.sort(key=len)"
   ]
  },
  {
   "cell_type": "code",
   "execution_count": 8,
   "id": "d87b5256",
   "metadata": {},
   "outputs": [
    {
     "data": {
      "text/plain": [
       "['foo', 'jav', '1738', 'dwarf', 'MAyra']"
      ]
     },
     "execution_count": 8,
     "metadata": {},
     "output_type": "execute_result"
    }
   ],
   "source": [
    "b_list"
   ]
  },
  {
   "cell_type": "code",
   "execution_count": 9,
   "id": "eb1bb272",
   "metadata": {},
   "outputs": [
    {
     "data": {
      "text/plain": [
       "[1, 2, 2, 3, 3, 2, 5, 6, 5, 8]"
      ]
     },
     "execution_count": 9,
     "metadata": {},
     "output_type": "execute_result"
    }
   ],
   "source": [
    "\"\"\"\n",
    "Binary search and maintaning a sorted list:\n",
    "Built-in [bisect] module implements binary search and insertion into a sorted list.\n",
    "bisect.bisect finds the location where an element should be inserted to keep it sorted,\n",
    "while bisect.insort actually insertes the element into that location.\n",
    "\n",
    "\n",
    "The bisect module functions do not check whether the list is sorted.\n",
    "Thus using them with an unsorted list will succeed without error but may lead to incorrect results.\n",
    "\"\"\"\n",
    "\n",
    "import bisect\n",
    "\n",
    "c = [1, 2, 2, 3, 3, 2, 5, 6, 5]\n",
    "\n",
    "bisect.bisect(c, 5)\n",
    "\n",
    "bisect.insort(c, 8)\n",
    "\n",
    "c\n"
   ]
  },
  {
   "cell_type": "code",
   "execution_count": 10,
   "id": "4d6c5b85",
   "metadata": {},
   "outputs": [
    {
     "data": {
      "text/plain": [
       "[8, 5, 6, 5, 2, 3, 3, 2, 2, 1]"
      ]
     },
     "execution_count": 10,
     "metadata": {},
     "output_type": "execute_result"
    }
   ],
   "source": [
    "\"\"\"\n",
    "# Slicing:\n",
    "You select sections of most sequence types using slice notaion,\n",
    "which in its basic form consist of start:stop passed to indexing operatior []:\n",
    "\n",
    "While the element at the start index is included,\n",
    "the stop index is not included,\n",
    "either the start ot stop can be omitted,\n",
    "negative indices slice the sequence relative to the end:-\n",
    "\"\"\"\n",
    "a[0:1] = [1,4]\n",
    "\n",
    "# A step is used after a second colon to,take every other element:\n",
    "c[::2]\n",
    "# A clever use of this is to pass -1, which has the useful effect of reversing a list of tuples\n",
    "c[::-1]"
   ]
  },
  {
   "cell_type": "code",
   "execution_count": 11,
   "id": "b9ddf2a9",
   "metadata": {},
   "outputs": [
    {
     "data": {
      "text/plain": [
       "{'May': 0, 'Nay': 1, 'Ray': 2, 'Day': 3, 'Bay': 4, 'Zay': 5}"
      ]
     },
     "execution_count": 11,
     "metadata": {},
     "output_type": "execute_result"
    }
   ],
   "source": [
    "\"\"\"\n",
    "# Built-in Sequence Functions \n",
    "\n",
    "Python has a handful of useful sequence fucntions\n",
    "that you should familiarize yourself with and use at any opportunity:\n",
    "\n",
    "# Enumerate\n",
    "It's common when iterating over a sequence the want to keep tracj of the index\n",
    "of  the current item. A do it yourself approach would look like:\n",
    "\n",
    "i = 0 \n",
    "for value in collection:\n",
    "    # do something with value\n",
    "    i += 1\n",
    "    \n",
    "Python has a built-in-function, enumerate,\n",
    "which returns a sequence of (i, value) tuples:\n",
    "\n",
    "for i, value in enumerate(collection):\n",
    "# do soemthing with value\n",
    "\n",
    "When you are indexing data,\n",
    "one can use enumarate for computing a dict mapping the values of a sequence\n",
    "(which are assumed to be unique) to their locations in the sequence:\n",
    "\"\"\"\n",
    "\n",
    "some_list  = ['May', 'Nay', 'Ray', 'Day', 'Bay', 'Zay']\n",
    "\n",
    "mapping = {}\n",
    "\n",
    "for i, v in  enumerate(some_list):\n",
    "    mapping[v] = i\n",
    "    \n",
    "    \n",
    "mapping"
   ]
  },
  {
   "cell_type": "code",
   "execution_count": 12,
   "id": "71b9bdd0",
   "metadata": {},
   "outputs": [
    {
     "data": {
      "text/plain": [
       "[65, 213, 564, 684, 894, 4564, 5646, 6574, 64564, 564685]"
      ]
     },
     "metadata": {},
     "output_type": "display_data"
    },
    {
     "name": "stdout",
     "output_type": "stream",
     "text": [
      "[' ', 'a', 'a', 'a', 'd', 'e', 'k', 'l', 'n', 'o', 's', 't']\n"
     ]
    }
   ],
   "source": [
    "\"\"\"\n",
    "# Sorted \n",
    "The sorted function returns a new sorted list from the elements of any sequence\n",
    "\"\"\"\n",
    "\n",
    "display(sorted([64564,564685,564,684,5646,4564,213,6574,894,65]))\n",
    "\n",
    "print(sorted('east oakland'))"
   ]
  },
  {
   "cell_type": "code",
   "execution_count": 13,
   "id": "03cf17e1",
   "metadata": {},
   "outputs": [
    {
     "data": {
      "text/plain": [
       "[('Python', 'Evolve'),\n",
       " ('Always', 'Hense'),\n",
       " ('Goes', 'Delay'),\n",
       " ('Hard', 'Decay')]"
      ]
     },
     "execution_count": 13,
     "metadata": {},
     "output_type": "execute_result"
    }
   ],
   "source": [
    "\"\"\"\n",
    "# Zip\n",
    "zip 'pairs' up the elements of a number of lists, tuples,\n",
    "or other sequences to create a list of tuples:\n",
    "\"\"\"\n",
    "\n",
    "seq1 = ['Python', 'Always', 'Goes', 'Hard']\n",
    "\n",
    "seq2 = ['Evolve', 'Hense', 'Delay', 'Decay']\n",
    "\n",
    "zipped = zip(seq1, seq2)\n",
    "\n",
    "list(zipped)"
   ]
  },
  {
   "cell_type": "code",
   "execution_count": 14,
   "id": "b71f43b0",
   "metadata": {},
   "outputs": [
    {
     "data": {
      "text/plain": [
       "[('Python', 'Evolve', False), ('Always', 'Hense', True)]"
      ]
     },
     "execution_count": 14,
     "metadata": {},
     "output_type": "execute_result"
    }
   ],
   "source": [
    "\"\"\"\n",
    "zip can take an arbitrary number of sequences,\n",
    "and the number of the elements it produces is determined by the shortest sequence:\n",
    "\"\"\"\n",
    "\n",
    "seq3 = [False, True]\n",
    "\n",
    "list(zip(seq1, seq2, seq3))\n"
   ]
  },
  {
   "cell_type": "code",
   "execution_count": 15,
   "id": "9d7bd1dd",
   "metadata": {},
   "outputs": [
    {
     "name": "stdout",
     "output_type": "stream",
     "text": [
      "0: Python, Evolve\n",
      "1: Always, Hense\n",
      "2: Goes, Delay\n",
      "3: Hard, Decay\n"
     ]
    }
   ],
   "source": [
    "\"\"\"\n",
    "A use of zip is simultaneously iterating over multiple sequences,\n",
    "possibly also combined with enumarate:\n",
    "\"\"\"\n",
    "\n",
    "for i, (a, b) in enumerate(zip(seq1, seq2)):\n",
    "    print('{0}: {1}, {2}'.format(i, a, b))"
   ]
  },
  {
   "cell_type": "code",
   "execution_count": 16,
   "id": "3843272d",
   "metadata": {},
   "outputs": [
    {
     "name": "stdout",
     "output_type": "stream",
     "text": [
      "('Nolan', 'Roger', 'Curt')\n",
      "('Ryan', 'Clemens', 'Shilling')\n"
     ]
    }
   ],
   "source": [
    "\"\"\"\n",
    "Given a 'zipped', sequence zip can be applied in a clever may to 'unzip' the sequence.\n",
    "Think this as a list of rows being converted into a list of columns.\n",
    "\"\"\"\n",
    "\n",
    "pitchers = [('Nolan', 'Ryan'), ('Roger', 'Clemens'),\n",
    "           ('Curt', 'Shilling')]\n",
    "\n",
    "first_names, last_names = zip(*pitchers)\n",
    "\n",
    "print(first_names)\n",
    "\n",
    "print(last_names)"
   ]
  },
  {
   "cell_type": "code",
   "execution_count": 17,
   "id": "10972667",
   "metadata": {},
   "outputs": [
    {
     "name": "stdout",
     "output_type": "stream",
     "text": [
      "[24, 23, 22, 21, 20, 19, 18, 17, 16, 15, 14, 13, 12, 11, 10, 9, 8, 7, 6, 5, 4, 3, 2, 1, 0]\n"
     ]
    }
   ],
   "source": [
    "# Reversed iterates over the elements of a sequence in reverse order:\n",
    "\n",
    "print(list(reversed(range(25))))"
   ]
  },
  {
   "cell_type": "code",
   "execution_count": 18,
   "id": "f88dd1ba",
   "metadata": {},
   "outputs": [
    {
     "name": "stdout",
     "output_type": "stream",
     "text": [
      "{'a': 'some_value', 'b': [1, 2, 3, 4]}\n",
      "{'a': 'some_value', 'b': [1, 2, 3, 4], 7: 'an integer'}\n",
      "True\n",
      "{'a': 'some_value', 'b': [1, 2, 3, 4], 'dummy': 'value'}\n"
     ]
    }
   ],
   "source": [
    "\"\"\"\n",
    "# Dict\n",
    "\n",
    "dict is likely the most important built-in python data structure.\n",
    "A more common name for it is hash map or associative array.\n",
    "It is a flexibly sized collection of key-value pairs.\n",
    "Where key and value are python objects.\n",
    "One approach for creating one is to use curly braces and colons to separate and vlues:\n",
    "\"\"\"\n",
    "\n",
    "\n",
    "empty_dic = {}\n",
    "\n",
    "d1 = {'a': 'some_value', 'b':[1,2,3,4]}\n",
    "\n",
    "print(d1)\n",
    "\n",
    "# You can access, insert,\n",
    "# or set elemets using the same syntax as for accessing elenmts of a list of tuples\n",
    "\n",
    "d1[7] = 'an integer'\n",
    "\n",
    "print(d1)\n",
    "\n",
    "# Check dict for key \n",
    "\n",
    "print('b' in d1)\n",
    "\n",
    "\n",
    "d1['dummy'] = 'value'\n",
    "\n",
    "del d1[7]\n",
    "\n",
    "print(d1)"
   ]
  },
  {
   "cell_type": "code",
   "execution_count": 19,
   "id": "72d9dd6c",
   "metadata": {},
   "outputs": [
    {
     "name": "stdout",
     "output_type": "stream",
     "text": [
      "['a', 'b', 'dummy']\n",
      "['some_value', [1, 2, 3, 4], 'value']\n"
     ]
    }
   ],
   "source": [
    "\"\"\"\n",
    "The keys and values method give you iterators of the dict's keys and values, \n",
    "repectively. While the key-value pairs are not in any particular order, \n",
    "these fcuntions out-put keys and values in the same order:\n",
    "\"\"\"\n",
    "\n",
    "print(list(d1.keys()))\n",
    "\n",
    "\n",
    "print(list(d1.values()))\n",
    "\n",
    "# You can merge one dict into another using the update maethod:"
   ]
  },
  {
   "cell_type": "code",
   "execution_count": 20,
   "id": "157c993f",
   "metadata": {},
   "outputs": [
    {
     "name": "stdout",
     "output_type": "stream",
     "text": [
      "['a', 'b', 'dummy']\n",
      "['some_value', [1, 2, 3, 4], 'value']\n",
      "{'a': 'some_value', 'b': 'Barrnun', 'dummy': 'value', 'j': 'Revail'}\n"
     ]
    }
   ],
   "source": [
    "\"\"\"\n",
    "The keys and values method give you iterators of the dict's keys and values, \n",
    "repectively. While the key-value pairs are not in any particular order, \n",
    "these fcuntions out-put keys and values in the same order:\n",
    "\"\"\"\n",
    "\n",
    "print(list(d1.keys()))\n",
    "\n",
    "\n",
    "print(list(d1.values()))\n",
    "\n",
    "# You can merge one dict into another using the update maethod:\n",
    "\n",
    "d1.update({'b':'Barrnun', 'j':'Revail'})\n",
    "\n",
    "# Update changes dicts in-place,\n",
    "# so any existing keys in the data passed to update will hasbe their old values discarted\n",
    "\n",
    "print(d1)"
   ]
  },
  {
   "cell_type": "code",
   "execution_count": 21,
   "id": "606f1828",
   "metadata": {},
   "outputs": [
    {
     "data": {
      "text/plain": [
       "{0: 4, 1: 3, 2: 2, 3: 1, 4: 0}"
      ]
     },
     "execution_count": 21,
     "metadata": {},
     "output_type": "execute_result"
    }
   ],
   "source": [
    "\"\"\"\n",
    "# Creating dicts from sequences\n",
    "With two sequences that you want to pair up element-wise in a dict.\n",
    "As a first cut, you migth write code like this:\n",
    "\n",
    "mapping = {}\n",
    "for key, value in zip(key_list, value_list):\n",
    "    mapping[key] = value\n",
    "    \n",
    "Since a dict is essentially a collection of 2 tuples,\n",
    "the dict fucntion accepts a list of 2tuples:\n",
    "\"\"\"\n",
    "\n",
    "mappingg = dict(zip(range(5), reversed(range(5))))\n",
    "\n",
    "mappingg\n"
   ]
  },
  {
   "cell_type": "code",
   "execution_count": 22,
   "id": "5048085e",
   "metadata": {},
   "outputs": [
    {
     "data": {
      "text/plain": [
       "{'s': ['son'], 'b': ['bet'], 'a': ['atom'], 'c': ['chainlink']}"
      ]
     },
     "execution_count": 22,
     "metadata": {},
     "output_type": "execute_result"
    }
   ],
   "source": [
    "\"\"\"\n",
    "# Default values\n",
    "\n",
    "Its very common to have logic like:\n",
    "\n",
    "if key in some_digit:\n",
    "    value = some_dict[key]\n",
    "else:\n",
    "    value = default_value\n",
    "\n",
    "this, the dict methods get and pop can take a default value to be returned,\n",
    "so that the above if-else block can be writen simply as\n",
    "\n",
    "value = some_dict.get(key, default_value)\n",
    "\n",
    "\n",
    "With setting values,\n",
    "a common case is for the values in a dict to be other collections like lists.\n",
    "Imagine categorizing a list of words by their first letters as a dict of list:\n",
    "\"\"\"\n",
    "\n",
    "words = ['son', 'bet', 'atom', 'chainlink']\n",
    "\n",
    "by_leter = {}\n",
    "\n",
    "for word in words:\n",
    "    letter = word[0]\n",
    "    if letter not in by_leter:\n",
    "        by_leter[letter] = [word]\n",
    "    else:\n",
    "        by_leter[letter].append(word)\n",
    "        \n",
    "        \n",
    "by_leter"
   ]
  },
  {
   "cell_type": "code",
   "execution_count": 23,
   "id": "15b86106",
   "metadata": {},
   "outputs": [
    {
     "data": {
      "text/plain": [
       "{'s': ['son', 'son'],\n",
       " 'b': ['bet', 'bet'],\n",
       " 'a': ['atom', 'atom'],\n",
       " 'c': ['chainlink', 'chainlink']}"
      ]
     },
     "execution_count": 23,
     "metadata": {},
     "output_type": "execute_result"
    }
   ],
   "source": [
    "# The setdefault dict method is for percisely this purpose.\n",
    "\n",
    "for word in words:\n",
    "    letter = word[0]\n",
    "    by_leter.setdefault(letter, []).append(word)\n",
    "    \n",
    "    \n",
    "by_leter"
   ]
  },
  {
   "cell_type": "code",
   "execution_count": 24,
   "id": "32d08f8e",
   "metadata": {},
   "outputs": [
    {
     "data": {
      "text/plain": [
       "defaultdict(list,\n",
       "            {'s': ['son'], 'b': ['bet'], 'a': ['atom'], 'c': ['chainlink']})"
      ]
     },
     "execution_count": 24,
     "metadata": {},
     "output_type": "execute_result"
    }
   ],
   "source": [
    "\"\"\"\n",
    "The built-in collections module has a useful class, defaultdict.\n",
    "To create one, you pass a type r fucntion for generating the default value for each slot in the dict:\n",
    "\"\"\"\n",
    "\n",
    "from collections import defaultdict\n",
    "\n",
    "by_letter = defaultdict(list)\n",
    "for word in words:\n",
    "    by_letter[word[0]].append(word)\n",
    "    \n",
    "    \n",
    "by_letter"
   ]
  },
  {
   "cell_type": "code",
   "execution_count": 25,
   "id": "946fe53a",
   "metadata": {},
   "outputs": [
    {
     "data": {
      "text/plain": [
       "-8517212546372632302"
      ]
     },
     "execution_count": 25,
     "metadata": {},
     "output_type": "execute_result"
    }
   ],
   "source": [
    "\"\"\"\n",
    "# Valid dict key values\n",
    "\n",
    "while the values of a dict can be any Py object, they key must be immutable objects\n",
    "The technical term here is hashablility.\n",
    "To check if an object is hashable (can be used as a key in a dict)\n",
    "with the hash check whether an object is hashable with the hash fucntion\n",
    "\"\"\"\n",
    "\n",
    "hash('Ptter pan')"
   ]
  },
  {
   "cell_type": "code",
   "execution_count": 26,
   "id": "541c6971",
   "metadata": {},
   "outputs": [
    {
     "ename": "TypeError",
     "evalue": "'int' object is not callable",
     "output_type": "error",
     "traceback": [
      "\u001b[1;31m---------------------------------------------------------------------------\u001b[0m",
      "\u001b[1;31mTypeError\u001b[0m                                 Traceback (most recent call last)",
      "\u001b[1;32m<ipython-input-26-76047a03ad2b>\u001b[0m in \u001b[0;36m<module>\u001b[1;34m\u001b[0m\n\u001b[1;32m----> 1\u001b[1;33m \u001b[0mhash\u001b[0m\u001b[1;33m(\u001b[0m\u001b[1;33m(\u001b[0m\u001b[1;36m1\u001b[0m\u001b[1;33m,\u001b[0m\u001b[1;36m2\u001b[0m \u001b[1;33m(\u001b[0m\u001b[1;36m2\u001b[0m\u001b[1;33m,\u001b[0m\u001b[1;36m3\u001b[0m\u001b[1;33m)\u001b[0m\u001b[1;33m)\u001b[0m\u001b[1;33m)\u001b[0m\u001b[1;33m\u001b[0m\u001b[1;33m\u001b[0m\u001b[0m\n\u001b[0m",
      "\u001b[1;31mTypeError\u001b[0m: 'int' object is not callable"
     ]
    }
   ],
   "source": [
    "hash((1,2 (2,3)))"
   ]
  },
  {
   "cell_type": "code",
   "execution_count": null,
   "id": "7290bc1e",
   "metadata": {},
   "outputs": [],
   "source": [
    "\"\"\"\n",
    "To use a list as akey, one option is to convert it to a tuple,\n",
    "which can be hashed as long as its elements also can:\n",
    "\"\"\"\n",
    "\n",
    "d = {}\n",
    "\n",
    "d[tuple([1,3,4])] = 5\n",
    "\n",
    "d"
   ]
  },
  {
   "cell_type": "code",
   "execution_count": null,
   "id": "0d79cc35",
   "metadata": {},
   "outputs": [],
   "source": [
    "\"\"\"\n",
    "# Set is an unordered collection of unique elements. You can think of them like dicts, but keys only, no values.\n",
    "A set can be created in two ways: via the set function or via the set literal with curly braces:\n",
    "\n",
    "\n",
    "Sets support mathematical set operations like Union, intersection, difference, and symmetric difference.\n",
    "\n",
    "Consider second set of examples [a,b]\n",
    "\"\"\"\n",
    "\n",
    "#isplay(set([2, 2, 2, 1, 3, 3]))\n",
    "\n",
    "#isplay({1, 2, 3, 6, 8, 9})\n",
    "\n",
    "#Python set operations pg 66/67\n",
    "\n",
    "a = {1, 2, 3, 6, 8, 9}\n",
    "\n",
    "b = {1, 4, 3, 5, 6, 7}\n",
    "\n",
    "# Union of these two sets of distinct elements occuring in either set.\n",
    "# is can be computed with either union method or the | binary operator:\n",
    "\n",
    "display(a.union(b))\n",
    "\n",
    "display(a | b)\n",
    "\n",
    "# The intersection contains the elements occuring in both sets. The & operator or the intersection method can be used:\n",
    "\n",
    "display(a.intersection(b))\n",
    "\n",
    "display( a & b)"
   ]
  },
  {
   "cell_type": "code",
   "execution_count": null,
   "id": "9d8ff4cf",
   "metadata": {},
   "outputs": [],
   "source": [
    "\"\"\"\n",
    "# List, Set, Dict, Comprehensions.\n",
    "\n",
    "List comprehensions are one of hte most-loved Python languege features.\n",
    "They allow you tp concisely form a new list by filtering the elements of a collection,\n",
    "tranforming the elements passing the filter in one concise expression. They take the basic form:\n",
    "\n",
    "[expr for val in collection if condition]\n",
    "\n",
    "This is equivalent to the following for loop:\n",
    "\n",
    "result = []\n",
    "\n",
    "for val in collection:\n",
    "    if condition:\n",
    "        result.append(expr)\n",
    "\n",
    "The filter condition cna be omitted, leving only the expression.\n",
    "Given a list of strings we could filter out strings with len < 2 and also convert them to uppercase\n",
    "\"\"\"\n",
    "\n",
    "strings = ['a', 'as', 'bat', 'car', 'dove', 'python']\n",
    "\n",
    "[x.upper() for x in strings if len(x) > 2]"
   ]
  },
  {
   "cell_type": "code",
   "execution_count": null,
   "id": "6f043d29",
   "metadata": {},
   "outputs": [],
   "source": [
    "\"\"\"\n",
    "Set and dict comprehensions are natural extensions, producing sets and dicts in an idomatically similar way instead of lists.\n",
    "A dict comprehension looks like this: \n",
    "\n",
    "dict_comp = {key-expr : value-expr for value in collection\n",
    "            if condition}\n",
    "\n",
    "\n",
    "\n",
    "Set comprehension looks like the equivalent list comprehension except with curly brances instread of square:\n",
    "\n",
    "set_comp = {expr for value in collection if condition}\n",
    "\n",
    "Consider the list of strings from before. Suppose we wanted a set containing just the leggths of the strings.\n",
    "\"\"\"\n",
    "\n",
    "unique_lengths = {len(x) for x in strings}\n",
    "\n",
    "# We could also express this more functionally using the map function, \n",
    "\n",
    "set(map(len, strings))"
   ]
  },
  {
   "cell_type": "code",
   "execution_count": null,
   "id": "81af5356",
   "metadata": {},
   "outputs": [],
   "source": [
    "# Dict Comprehension example\n",
    "# We create a lookup map of these strings to their locations in the list\n",
    "\n",
    "loc_mapping = {val : index for index, val in enumerate(strings)}\n",
    "\n",
    "loc_mapping"
   ]
  },
  {
   "cell_type": "code",
   "execution_count": null,
   "id": "83c93249",
   "metadata": {},
   "outputs": [],
   "source": [
    "\"\"\"\n",
    "# Nested list comprehensions \n",
    "\n",
    "A list of list with english and spenish names:\n",
    "\"\"\"\n",
    "all_data = [['John', 'Emily', 'Michael', 'Mary', 'Steven'],\n",
    "           ['Maria', 'Juan', 'Javier', 'Natalia', 'Pilar']]\n",
    "all_data"
   ]
  },
  {
   "cell_type": "code",
   "execution_count": null,
   "id": "90c337cc",
   "metadata": {},
   "outputs": [],
   "source": [
    "# A single list containing all names with two or more e's in them.\n",
    "name_list = []\n",
    "for names in all_data:\n",
    "    en = [name for name in names if name.count('e') >=2]\n",
    "    name_list.extend(en)\n",
    "    \n",
    "# This opreations as a single nested list comprehension\n",
    "\n",
    "result = [name for names in all_data for name in names\n",
    "          if name.count('e') >=2]\n",
    "\n",
    "\n",
    "display(name_list)\n",
    "\n",
    "display(result)\n"
   ]
  },
  {
   "cell_type": "code",
   "execution_count": null,
   "id": "5b11c520",
   "metadata": {},
   "outputs": [],
   "source": [
    "\"\"\"\n",
    "Nested list comprehensions \n",
    "Another example where we 'flatten' a list of tuples of integers into list of integers:\n",
    "\n",
    "Keep in mind that the order of the for expressions would be the same if you wrote a nested for loop instead of list comprehension:\n",
    "\"\"\"\n",
    "\n",
    "some_tuples = [(1,2,3), (4,5,6), (7,8,9)]\n",
    "display(some_tuples)\n",
    "flattened = [x for tup in some_tuples for x in tup]\n",
    "display(flattened)"
   ]
  },
  {
   "cell_type": "code",
   "execution_count": 34,
   "id": "fd15669b",
   "metadata": {},
   "outputs": [
    {
     "name": "stdout",
     "output_type": "stream",
     "text": [
      "0.06363636363636363\n",
      "18574.0\n",
      "45.0\n",
      "85.0\n"
     ]
    }
   ],
   "source": [
    "\"\"\"\n",
    "# Functions \n",
    "Funtions are the primary and most important method of code organization and reuse in Python.\n",
    "If you anticipate needing to repeat the same or very similar code more than once, it may be worth to write a function,S\n",
    "Fucntions also make your code more readable.\n",
    "\n",
    "\n",
    "Each func can have positional arguments and keyword arguments.\n",
    "Keyword arguments are most commonly used to specify defalut values or optional arguments.\n",
    "In this function x & y are posotional arguments while z is a keyword argument\n",
    "\"\"\"\n",
    "def my_function(x, y, z =1.5):\n",
    "    if z > 1:\n",
    "        return z * (x + y)\n",
    "    else:\n",
    "        return z / (x + y)\n",
    "    \n",
    "# The function can be called in any of these ways\n",
    "\n",
    "print(my_function(5, 6, z=0.7))\n",
    "print(my_function(5014, 6, 3.7))\n",
    "print(my_function(10, 20))\n",
    "\n",
    "# You can specify keyword arguments in any order, you only have to remember names not order.\n",
    "\n",
    "# It is possible to use keywords for passing positional argumetns as well,\n",
    "# In the preceding example, we could also have written\n",
    "print(my_function(x = 12, y = 22, z = 2.5))"
   ]
  },
  {
   "cell_type": "code",
   "execution_count": 78,
   "id": "cd6157b2",
   "metadata": {},
   "outputs": [
    {
     "name": "stdout",
     "output_type": "stream",
     "text": [
      "[0, 1, 2, 3, 4, 5, 6, 7, 8, 9, 10, 11, 12, 13, 14, 15, 16, 17, 18, 19, 20, 21, 22, 23, 24]\n"
     ]
    }
   ],
   "source": [
    "\"\"\"\n",
    "Namespaces, Scope, And Local Funtions.\n",
    "The local namespace is created when a function is called and immediately popu;ated by the functions arguments. \n",
    "After the fucntion is finished, the local namespace is destroyed. \n",
    "\n",
    "\n",
    "\"\"\"\n",
    "\n",
    "def func():\n",
    "    aa = []\n",
    "    for i in range(5):\n",
    "        a.append(i)\n",
    "        \n",
    "        \n",
    "func()\n",
    "\n",
    "a = []        \n",
    "def funtionA():\n",
    "    for i in range(25):\n",
    "        a.append(i)\n",
    "\n",
    "funtionA()\n",
    "\n",
    "print(a)"
   ]
  },
  {
   "cell_type": "code",
   "execution_count": 82,
   "id": "f2187da5",
   "metadata": {},
   "outputs": [
    {
     "name": "stdout",
     "output_type": "stream",
     "text": [
      "3 9 12\n"
     ]
    }
   ],
   "source": [
    "\"\"\"\n",
    "# Returning Multiple Values \n",
    "\"\"\"\n",
    "\n",
    "def f():\n",
    "    a = 3\n",
    "    b = 9\n",
    "    c = 12\n",
    "    return a, b, c\n",
    "\n",
    "\n",
    "a,b,c = f()\n",
    "\n",
    "print(a, b, c)"
   ]
  },
  {
   "cell_type": "code",
   "execution_count": 86,
   "id": "ceed8ce1",
   "metadata": {},
   "outputs": [],
   "source": [
    "\"\"\"\n",
    "# Functios are Objects \n",
    "\n",
    "Pythin functions are objects\n",
    "\"\"\"\n",
    "\n",
    "states = ['  Alabama ', 'Georgia!', 'Georgia', 'georgia', 'FlOrida', 'south Carolina##', 'West virginia?']"
   ]
  },
  {
   "cell_type": "code",
   "execution_count": 87,
   "id": "b32d8553",
   "metadata": {},
   "outputs": [
    {
     "data": {
      "text/plain": [
       "['Alabama',\n",
       " 'Georgia',\n",
       " 'Georgia',\n",
       " 'Georgia',\n",
       " 'Florida',\n",
       " 'South Carolina',\n",
       " 'West Virginia']"
      ]
     },
     "execution_count": 87,
     "metadata": {},
     "output_type": "execute_result"
    }
   ],
   "source": [
    "import re\n",
    "\n",
    "def clean_strings(strings):\n",
    "    result = []\n",
    "    for value in strings:\n",
    "        value = value.strip()\n",
    "        value = re.sub('[!#?]', '', value)\n",
    "        value = value.title()\n",
    "        result.append(value)\n",
    "    return result\n",
    "\n",
    "\n",
    "clean_strings(states)"
   ]
  },
  {
   "cell_type": "code",
   "execution_count": 88,
   "id": "4186e5be",
   "metadata": {},
   "outputs": [],
   "source": [
    "\"\"\"\n",
    "An alternative approach that you find is to make a list of the oprations you want to apply to a prticular set of strings:\n",
    "\"\"\"\n",
    "def remove_punctuation(value):\n",
    "    return re.sub('[!#?]', '', value)\n",
    "\n",
    "clean_ops = [str.strip, remove_punctuation, str.title]\n",
    "\n",
    "def clean_strings(strings, ops):\n",
    "    result = []\n",
    "    for value in strings:\n",
    "        for funtion in ops:\n",
    "            value = funtion(value)\n",
    "        result.append(value)\n",
    "    return result"
   ]
  },
  {
   "cell_type": "code",
   "execution_count": 89,
   "id": "909a0c35",
   "metadata": {},
   "outputs": [
    {
     "data": {
      "text/plain": [
       "['Alabama',\n",
       " 'Georgia',\n",
       " 'Georgia',\n",
       " 'Georgia',\n",
       " 'Florida',\n",
       " 'South Carolina',\n",
       " 'West Virginia']"
      ]
     },
     "execution_count": 89,
     "metadata": {},
     "output_type": "execute_result"
    }
   ],
   "source": [
    "clean_strings(states, clean_ops)"
   ]
  },
  {
   "cell_type": "code",
   "execution_count": 92,
   "id": "66795dae",
   "metadata": {},
   "outputs": [
    {
     "name": "stdout",
     "output_type": "stream",
     "text": [
      "  Alabama \n",
      "Georgia\n",
      "Georgia\n",
      "georgia\n",
      "FlOrida\n",
      "south Carolina\n",
      "West virginia\n"
     ]
    }
   ],
   "source": [
    "\"\"\"\n",
    "A more functional pattern like this enables you to easily how the strings are tranformed at a very high level.\n",
    "The clean_strings fucntion is also now more reuseable and generic\n",
    "\n",
    "You can use fucntions as arguments to other fucntions like the built-in map function, \n",
    "which applies at a very high level. The clean_strings function is also now more reusable and generic\n",
    "\n",
    "You can use functions as arguments to other fucntions like the built in map fucntion,\n",
    "which applies a fucntion to a sequence of some kind.\n",
    "\"\"\"\n",
    "for x in map(remove_punctuation,states):\n",
    "    print(x)"
   ]
  },
  {
   "cell_type": "code",
   "execution_count": 95,
   "id": "9bbd44f8",
   "metadata": {},
   "outputs": [],
   "source": [
    "\"\"\"\n",
    "Anonumous (Lambda) Funtions\n",
    "\n",
    "Python has support for so called anonymous or lambda functions,\n",
    "which are a way of writing fucntions consisting of a sigle statement, the result of which is the return value.\n",
    "They are defined with the lamdba keyword.\n",
    "\"\"\"\n",
    "\n",
    "def short_function(x):\n",
    "    return x * 2\n",
    "\n",
    "\n",
    "equiv_anon = lambda x: x * 2"
   ]
  },
  {
   "cell_type": "code",
   "execution_count": 104,
   "id": "33392768",
   "metadata": {},
   "outputs": [
    {
     "data": {
      "text/plain": [
       "[8, 0, 2, 10, 12]"
      ]
     },
     "execution_count": 104,
     "metadata": {},
     "output_type": "execute_result"
    }
   ],
   "source": [
    "\"\"\"\n",
    "They are especially convinient in data analysis because, as you'll see,\n",
    "there are many cases where data transformation functions will take functions as arguments.\n",
    "\"\"\"\n",
    "\n",
    "def ap_to_list(some_list, f):\n",
    "    return [f(x) for x in some_list]\n",
    "\n",
    "ints = [4, 0, 1, 5, 6]\n",
    "\n",
    "ap_to_list(ints, lambda x: x * 2) "
   ]
  },
  {
   "cell_type": "code",
   "execution_count": 110,
   "id": "5bf3a1c6",
   "metadata": {},
   "outputs": [
    {
     "data": {
      "text/plain": [
       "['foo', 'bar', 'nap', 'card', 'shambala', 'esoteric', 'james bond']"
      ]
     },
     "execution_count": 110,
     "metadata": {},
     "output_type": "execute_result"
    }
   ],
   "source": [
    "# Suppose you wanted to sort a collection of strings by the number of strings\n",
    "\n",
    "strings = ['foo', 'card', 'bar', 'nap', 'shambala', 'esoteric', 'james bond']\n",
    "\n",
    "# Here we could pass a lambda function to the list's sort method:\n",
    "\n",
    "strings.sort(key=lambda x: len(set(list(x))))\n",
    "\n",
    "strings"
   ]
  },
  {
   "cell_type": "code",
   "execution_count": 121,
   "id": "ceb41af0",
   "metadata": {},
   "outputs": [],
   "source": [
    "\"\"\"\n",
    "# Currying : Partial Argument Application\n",
    "\n",
    "Currying- Deriving new functions from existing ones by partial argument application. \n",
    "Suppose we had a fucntion that adds two numbers together:\n",
    "\"\"\"\n",
    "\n",
    "def add_numbers(X, y):\n",
    "    return x + y\n",
    "\n",
    "\n",
    "# USing this function , we could derive a new funciton of the variable, add_five, that adds 5 to its argument:\n",
    "# The second argument to add_numbers is said to be curried.\n",
    "\n",
    "add_five = lambda y : add_numbers(5, y)\n",
    "\n",
    "\n",
    "\n",
    "\n",
    "# The bulit-in functools module can simplify this process using the partial function:\n",
    "\n",
    "from functools import partial\n",
    "\n",
    "add_5 = partial(add_numbers, 5)"
   ]
  },
  {
   "cell_type": "code",
   "execution_count": 124,
   "id": "1f4b8d7d",
   "metadata": {},
   "outputs": [
    {
     "name": "stdout",
     "output_type": "stream",
     "text": [
      "a\n",
      "b\n",
      "c\n"
     ]
    }
   ],
   "source": [
    "\"\"\"\n",
    "# Generators \n",
    "\n",
    "HAving a consistent way to iterate over sequences, like objects in a lilst or lines in a file, as an important Python feature.\n",
    "This is accomplished by means of the iterator protocol, a generic way to make objects iterable. \n",
    "\"\"\"\n",
    "# Iterating over a dict yields the dict keys:\n",
    "\n",
    "some_dict = {'a': 1, 'b': 2, 'c': 3}\n",
    "\n",
    "for key in some_dict:\n",
    "    print(key)\n",
    "    \n",
    "    \n",
    "    "
   ]
  },
  {
   "cell_type": "code",
   "execution_count": 126,
   "id": "53995a0b",
   "metadata": {},
   "outputs": [
    {
     "data": {
      "text/plain": [
       "['a', 'b', 'c']"
      ]
     },
     "execution_count": 126,
     "metadata": {},
     "output_type": "execute_result"
    }
   ],
   "source": [
    "\"\"\"\n",
    "An iterator as any object that will yield object to the python interpreter when used in a context like a for loop.\n",
    "Most methods expecting a list or list-lije object will also accept any iterable obejct.\n",
    "Uncluing buildt-in methods such as min, max, and sum and type of constructors like list and tuple:\n",
    "\"\"\"\n",
    "\n",
    "dict_iterator = iter(some_dict)\n",
    "\n",
    "list(dict_iterator)\n"
   ]
  },
  {
   "cell_type": "code",
   "execution_count": 129,
   "id": "15d15e3f",
   "metadata": {},
   "outputs": [
    {
     "name": "stdout",
     "output_type": "stream",
     "text": [
      "Generating squares from 1 to 100\n",
      "149162536496481100"
     ]
    }
   ],
   "source": [
    "\"\"\"\n",
    "Whereas normal fucntions execute and return a single reslut at a time generators return a sequence of multiple results lazily,\n",
    "pausing after each one until the nest one is requested.\n",
    "To create a generator, use the yiled keyward instead of return in fucntion:\n",
    "\"\"\"\n",
    "def squares(n=10):\n",
    "    print('Generating squares from 1 to {0}'.format(n ** 2))\n",
    "    for i in range(1, n + 1):\n",
    "        yield i ** 2\n",
    "        \n",
    "        \n",
    "# When you actually call the generator, no code is immidiately executed:\n",
    "\n",
    "gen = squares()\n",
    "\n",
    "# Not untinl you request elememnts from the generator that it begins executing its code:\n",
    "\n",
    "for x in gen:\n",
    "    print(x, end='')\n",
    "    \n"
   ]
  },
  {
   "cell_type": "code",
   "execution_count": 135,
   "id": "cbe16430",
   "metadata": {},
   "outputs": [
    {
     "name": "stdout",
     "output_type": "stream",
     "text": [
      "328350\n",
      "{0: 0, 1: 1, 2: 4, 3: 9, 4: 16}\n"
     ]
    }
   ],
   "source": [
    "\"\"\"\n",
    "Generator expresssions \n",
    "\n",
    "Another even more concise way to amek a generator is by using a generator expresion.\n",
    "This is a genarator analogue to list, dict and set comprehensions; to create one\n",
    "enclose what would otherwise be a list comprehension within parentheses instead of brackets:\n",
    "\"\"\"\n",
    "\n",
    "gen = (x ** 2 for x in range(100))\n",
    "\n",
    "# Equivalent to the following more verbose generator:\n",
    "\n",
    "def make_gen():\n",
    "    for x in range(100):\n",
    "        yield x ** 2\n",
    "\n",
    "        \n",
    "gen = make_gen()    \n",
    "\n",
    "\n",
    "# Generator expressions can be used instead of list comprehensions as fucntion arguments in many cases:\n",
    "\n",
    "print(sum(x ** 2 for x in range(100)))\n",
    "\n",
    "print(dict((i, i **2)for i in range(5)))\n",
    "\n"
   ]
  },
  {
   "cell_type": "code",
   "execution_count": 138,
   "id": "33fc7f18",
   "metadata": {},
   "outputs": [
    {
     "name": "stdout",
     "output_type": "stream",
     "text": [
      "A ['Alam', 'Adam']\n",
      "W ['Wes', 'Will']\n",
      "A ['Albert']\n",
      "S ['Steven']\n"
     ]
    }
   ],
   "source": [
    "\"\"\"\n",
    "Itertools module\n",
    "\n",
    "# itertools fucntions page 77\n",
    "\n",
    "The standard library itertools madule has a collection of generators for many common data algos.\n",
    "\n",
    "Example, groupby takes any sequence and a fucntion grouping consecutive elements in the sequence bt return value of function\n",
    "\"\"\"\n",
    "\n",
    "import itertools\n",
    "\n",
    "first_letter = lambda x: x[0]\n",
    "\n",
    "names = ['Alam', 'Adam', 'Wes', 'Will', 'Albert', 'Steven']\n",
    "\n",
    "for letter, names in itertools.groupby(names, first_letter):\n",
    "    print(letter, list(names))"
   ]
  },
  {
   "cell_type": "code",
   "execution_count": null,
   "id": "5d4dd94d",
   "metadata": {},
   "outputs": [],
   "source": []
  }
 ],
 "metadata": {
  "kernelspec": {
   "display_name": "dev",
   "language": "python",
   "name": "dev"
  },
  "language_info": {
   "codemirror_mode": {
    "name": "ipython",
    "version": 3
   },
   "file_extension": ".py",
   "mimetype": "text/x-python",
   "name": "python",
   "nbconvert_exporter": "python",
   "pygments_lexer": "ipython3",
   "version": "3.7.10"
  }
 },
 "nbformat": 4,
 "nbformat_minor": 5
}
