{
 "cells": [
  {
   "cell_type": "code",
   "execution_count": 81,
   "id": "5d1da3a0",
   "metadata": {},
   "outputs": [
    {
     "data": {
      "text/plain": [
       "['foo', 'bar', 'baz', 'dwarf']"
      ]
     },
     "execution_count": 81,
     "metadata": {},
     "output_type": "execute_result"
    }
   ],
   "source": [
    "\"\"\"\n",
    "Chapter 3\n",
    "\n",
    "Built-in Data Structures, Fucntions, and Files.\n",
    "\n",
    "# List \n",
    "-Adding and removing elements\n",
    "\n",
    "Elements can be apprended to the end of the list with the append method:\n",
    "\"\"\"\n",
    "tup = ('foo', 'bar', 'baz')\n",
    "\n",
    "b_list = list(tup)\n",
    "\n",
    "b_list.append('dwarf')\n",
    "\n",
    "b_list"
   ]
  },
  {
   "cell_type": "code",
   "execution_count": 82,
   "id": "b1a723d3",
   "metadata": {},
   "outputs": [],
   "source": [
    "# Ussing insert you can insert an element at a specific location in the list:\n",
    "\n",
    "\"\"\"\n",
    "The insertion index must be between 0 and the length of the list, inclusive.\n",
    "\n",
    "insert is computationally expensive compared with append,\n",
    "bacause references to subsequent elements have to be shifted internally to make room for the new element.\n",
    "If you need to insert elemetns at both the begenning and asn of a sequence,\n",
    "you may wish to explore collections.deque, a double-ended queue, for this purpose.\n",
    "\n",
    "\"\"\"\n",
    "b_list.remove('bar')\n",
    "b_list.insert(1, 'jav')\n",
    "b_list.remove('baz')\n",
    "b_list.insert(3, 'MAyra')"
   ]
  },
  {
   "cell_type": "code",
   "execution_count": 83,
   "id": "8f645670",
   "metadata": {},
   "outputs": [
    {
     "data": {
      "text/plain": [
       "True"
      ]
     },
     "metadata": {},
     "output_type": "display_data"
    },
    {
     "data": {
      "text/plain": [
       "False"
      ]
     },
     "metadata": {},
     "output_type": "display_data"
    }
   ],
   "source": [
    "\"\"\"\n",
    "Checking whwether a list contains a value is a is a lot slower than doing so with dicts and sets.\n",
    "Python makes linear scan across the values of the list,\n",
    "whereas it can check the others based on hash tables) in constant time.\n",
    "\n",
    "\"\"\"\n",
    "display('jav' in b_list)\n",
    "\n",
    "display('javier' in b_list)"
   ]
  },
  {
   "cell_type": "code",
   "execution_count": 84,
   "id": "3e8a2a50",
   "metadata": {},
   "outputs": [],
   "source": [
    "# IF you already have a list defined, ypu can append multiple elements to it using the extend method\n",
    "\"\"\"\n",
    "List concats are computaionally expensive.\n",
    "Using extend to append elements to an existing list, is ussually better.\n",
    "\n",
    "THUS:\n",
    "everything = []\n",
    "for chunk in list_oflist:\n",
    "    everything.extend(chunk)\n",
    "    \n",
    "# Faster than the concat alternative\n",
    "\n",
    "everything_ = []\n",
    "for chunk in list_oflist:\n",
    "    everything_ = everything_ + chunk\n",
    "\n",
    "\"\"\"\n",
    "b_list.extend(['1738'])"
   ]
  },
  {
   "cell_type": "code",
   "execution_count": 85,
   "id": "b75906be",
   "metadata": {},
   "outputs": [
    {
     "data": {
      "text/plain": [
       "['foo', 'jav', 'dwarf', 'MAyra', '1738']"
      ]
     },
     "execution_count": 85,
     "metadata": {},
     "output_type": "execute_result"
    }
   ],
   "source": [
    "b_list"
   ]
  },
  {
   "cell_type": "code",
   "execution_count": 86,
   "id": "955ced23",
   "metadata": {},
   "outputs": [
    {
     "data": {
      "text/plain": [
       "[1, 2, 3, 5, 7]"
      ]
     },
     "execution_count": 86,
     "metadata": {},
     "output_type": "execute_result"
    }
   ],
   "source": [
    "\"\"\"\n",
    "# Sorting:\n",
    "You can sort a list in-place (without creating a new object) by calling sort funciton:\n",
    "\"\"\"\n",
    "a = [7, 2, 5, 1, 3]\n",
    "\n",
    "a.sort()\n",
    "\n",
    "a\n"
   ]
  },
  {
   "cell_type": "code",
   "execution_count": 87,
   "id": "2e398884",
   "metadata": {},
   "outputs": [],
   "source": [
    "\"\"\"\n",
    "Sort has a few options that come in handy.\n",
    "One is the ability to pass a secondary sort key-\n",
    "A function that produces a vlue to use to sort the objects. \n",
    "\"\"\"\n",
    "\n",
    "b_list.sort(key=len)"
   ]
  },
  {
   "cell_type": "code",
   "execution_count": 88,
   "id": "d87b5256",
   "metadata": {},
   "outputs": [
    {
     "data": {
      "text/plain": [
       "['foo', 'jav', '1738', 'dwarf', 'MAyra']"
      ]
     },
     "execution_count": 88,
     "metadata": {},
     "output_type": "execute_result"
    }
   ],
   "source": [
    "b_list"
   ]
  },
  {
   "cell_type": "code",
   "execution_count": 97,
   "id": "eb1bb272",
   "metadata": {},
   "outputs": [
    {
     "data": {
      "text/plain": [
       "[1, 2, 2, 3, 3, 2, 5, 6, 5, 8]"
      ]
     },
     "execution_count": 97,
     "metadata": {},
     "output_type": "execute_result"
    }
   ],
   "source": [
    "\"\"\"\n",
    "Binary search and maintaning a sorted list:\n",
    "Built-in [bisect] module implements binary search and insertion into a sorted list.\n",
    "bisect.bisect finds the location where an element should be inserted to keep it sorted,\n",
    "while bisect.insort actually insertes the element into that location.\n",
    "\n",
    "\n",
    "The bisect module functions do not check whether the list is sorted.\n",
    "Thus using them with an unsorted list will succeed without error but may lead to incorrect results.\n",
    "\"\"\"\n",
    "\n",
    "import bisect\n",
    "\n",
    "c = [1, 2, 2, 3, 3, 2, 5, 6, 5]\n",
    "\n",
    "bisect.bisect(c, 5)\n",
    "\n",
    "bisect.insort(c, 8)\n",
    "\n",
    "c\n"
   ]
  },
  {
   "cell_type": "code",
   "execution_count": 105,
   "id": "4d6c5b85",
   "metadata": {},
   "outputs": [
    {
     "data": {
      "text/plain": [
       "[8, 5, 6, 5, 2, 3, 3, 2, 2, 1]"
      ]
     },
     "execution_count": 105,
     "metadata": {},
     "output_type": "execute_result"
    }
   ],
   "source": [
    "\"\"\"\n",
    "# Slicing:\n",
    "You select sections of most sequence types using slice notaion,\n",
    "which in its basic form consist of start:stop passed to indexing operatior []:\n",
    "\n",
    "While the element at the start index is included,\n",
    "the stop index is not included,\n",
    "either the start ot stop can be omitted,\n",
    "negative indices slice the sequence relative to the end:-\n",
    "\"\"\"\n",
    "a[0:1] = [1,4]\n",
    "\n",
    "# A step is used after a second colon to,take every other element:\n",
    "c[::2]\n",
    "# A clever use of this is to pass -1, which has the useful effect of reversing a list of tuples\n",
    "c[::-1]"
   ]
  },
  {
   "cell_type": "code",
   "execution_count": 116,
   "id": "b9ddf2a9",
   "metadata": {},
   "outputs": [
    {
     "data": {
      "text/plain": [
       "{'May': 0, 'Nay': 1, 'Ray': 2, 'Day': 3, 'Bay': 4, 'Zay': 5}"
      ]
     },
     "execution_count": 116,
     "metadata": {},
     "output_type": "execute_result"
    }
   ],
   "source": [
    "\"\"\"\n",
    "# Built-in Sequence Functions \n",
    "\n",
    "Python has a handful of useful sequence fucntions\n",
    "that you should familiarize yourself with and use at any opportunity:\n",
    "\n",
    "# Enumerate\n",
    "It's common when iterating over a sequence the want to keep tracj of the index\n",
    "of  the current item. A do it yourself approach would look like:\n",
    "\n",
    "i = 0 \n",
    "for value in collection:\n",
    "    # do something with value\n",
    "    i += 1\n",
    "    \n",
    "Python has a built-in-function, enumerate,\n",
    "which returns a sequence of (i, value) tuples:\n",
    "\n",
    "for i, value in enumerate(collection):\n",
    "# do soemthing with value\n",
    "\n",
    "When you are indexing data,\n",
    "one can use enumarate for computing a dict mapping the values of a sequence\n",
    "(which are assumed to be unique) to their locations in the sequence:\n",
    "\"\"\"\n",
    "\n",
    "some_list  = ['May', 'Nay', 'Ray', 'Day', 'Bay', 'Zay']\n",
    "\n",
    "mapping = {}\n",
    "\n",
    "for i, v in  enumerate(some_list):\n",
    "    mapping[v] = i\n",
    "    \n",
    "    \n",
    "mapping"
   ]
  },
  {
   "cell_type": "code",
   "execution_count": 126,
   "id": "71b9bdd0",
   "metadata": {},
   "outputs": [
    {
     "data": {
      "text/plain": [
       "[65, 213, 564, 684, 894, 4564, 5646, 6574, 64564, 564685]"
      ]
     },
     "metadata": {},
     "output_type": "display_data"
    },
    {
     "name": "stdout",
     "output_type": "stream",
     "text": [
      "[' ', 'a', 'a', 'a', 'd', 'e', 'k', 'l', 'n', 'o', 's', 't']\n"
     ]
    }
   ],
   "source": [
    "\"\"\"\n",
    "# Sorted \n",
    "The sorted function returns a new sorted list from the elements of any sequence\n",
    "\"\"\"\n",
    "\n",
    "display(sorted([64564,564685,564,684,5646,4564,213,6574,894,65]))\n",
    "\n",
    "print(sorted('east oakland'))"
   ]
  },
  {
   "cell_type": "code",
   "execution_count": 131,
   "id": "03cf17e1",
   "metadata": {},
   "outputs": [
    {
     "data": {
      "text/plain": [
       "[('Python', 'Evolve'),\n",
       " ('Always', 'Hense'),\n",
       " ('Goes', 'Delay'),\n",
       " ('Hard', 'Decay')]"
      ]
     },
     "execution_count": 131,
     "metadata": {},
     "output_type": "execute_result"
    }
   ],
   "source": [
    "\"\"\"\n",
    "# Zip\n",
    "zip 'pairs' up the elements of a number of lists, tuples,\n",
    "or other sequences to create a list of tuples:\n",
    "\"\"\"\n",
    "\n",
    "seq1 = ['Python', 'Always', 'Goes', 'Hard']\n",
    "\n",
    "seq2 = ['Evolve', 'Hense', 'Delay', 'Decay']\n",
    "\n",
    "zipped = zip(seq1, seq2)\n",
    "\n",
    "list(zipped)"
   ]
  },
  {
   "cell_type": "code",
   "execution_count": 133,
   "id": "b71f43b0",
   "metadata": {},
   "outputs": [
    {
     "data": {
      "text/plain": [
       "[('Python', 'Evolve', False), ('Always', 'Hense', True)]"
      ]
     },
     "execution_count": 133,
     "metadata": {},
     "output_type": "execute_result"
    }
   ],
   "source": [
    "\"\"\"\n",
    "zip can take an arbitrary number of sequences,\n",
    "and the number of the elements it produces is determined by the shortest sequence:\n",
    "\"\"\"\n",
    "\n",
    "seq3 = [False, True]\n",
    "\n",
    "list(zip(seq1, seq2, seq3))\n"
   ]
  },
  {
   "cell_type": "code",
   "execution_count": 134,
   "id": "9d7bd1dd",
   "metadata": {},
   "outputs": [
    {
     "name": "stdout",
     "output_type": "stream",
     "text": [
      "0: Python, Evolve\n",
      "1: Always, Hense\n",
      "2: Goes, Delay\n",
      "3: Hard, Decay\n"
     ]
    }
   ],
   "source": [
    "\"\"\"\n",
    "A use of zip is simultaneously iterating over multiple sequences,\n",
    "possibly also combined with enumarate:\n",
    "\"\"\"\n",
    "\n",
    "for i, (a, b) in enumerate(zip(seq1, seq2)):\n",
    "    print('{0}: {1}, {2}'.format(i, a, b))"
   ]
  },
  {
   "cell_type": "code",
   "execution_count": 138,
   "id": "3843272d",
   "metadata": {},
   "outputs": [
    {
     "name": "stdout",
     "output_type": "stream",
     "text": [
      "('Nolan', 'Roger', 'Curt')\n",
      "('Ryan', 'Clemens', 'Shilling')\n"
     ]
    }
   ],
   "source": [
    "\"\"\"\n",
    "Given a 'zipped', sequence zip can be applied in a clever may to 'unzip' the sequence.\n",
    "Think this as a list of rows being converted into a list of columns.\n",
    "\"\"\"\n",
    "\n",
    "pitchers = [('Nolan', 'Ryan'), ('Roger', 'Clemens'),\n",
    "           ('Curt', 'Shilling')]\n",
    "\n",
    "first_names, last_names = zip(*pitchers)\n",
    "\n",
    "print(first_names)\n",
    "\n",
    "print(last_names)"
   ]
  },
  {
   "cell_type": "code",
   "execution_count": 140,
   "id": "10972667",
   "metadata": {},
   "outputs": [
    {
     "name": "stdout",
     "output_type": "stream",
     "text": [
      "[24, 23, 22, 21, 20, 19, 18, 17, 16, 15, 14, 13, 12, 11, 10, 9, 8, 7, 6, 5, 4, 3, 2, 1, 0]\n"
     ]
    }
   ],
   "source": [
    "# Reversed iterates over the elements of a sequence in reverse order:\n",
    "\n",
    "print(list(reversed(range(25))))"
   ]
  },
  {
   "cell_type": "code",
   "execution_count": 154,
   "id": "f88dd1ba",
   "metadata": {},
   "outputs": [
    {
     "name": "stdout",
     "output_type": "stream",
     "text": [
      "{'a': 'some_value', 'b': [1, 2, 3, 4]}\n",
      "{'a': 'some_value', 'b': [1, 2, 3, 4], 7: 'an integer'}\n",
      "True\n",
      "{'a': 'some_value', 'b': [1, 2, 3, 4], 'dummy': 'value'}\n"
     ]
    }
   ],
   "source": [
    "\"\"\"\n",
    "# Dict\n",
    "\n",
    "dict is likely the most important built-in python data structure.\n",
    "A more common name for it is hash map or associative array.\n",
    "It is a flexibly sized collection of key-value pairs.\n",
    "Where key and value are python objects.\n",
    "One approach for creating one is to use curly braces and colons to separate and vlues:\n",
    "\"\"\"\n",
    "\n",
    "\n",
    "empty_dic = {}\n",
    "\n",
    "d1 = {'a': 'some_value', 'b':[1,2,3,4]}\n",
    "\n",
    "print(d1)\n",
    "\n",
    "# You can access, insert,\n",
    "# or set elemets using the same syntax as for accessing elenmts of a list of tuples\n",
    "\n",
    "d1[7] = 'an integer'\n",
    "\n",
    "print(d1)\n",
    "\n",
    "# Check dict for key \n",
    "\n",
    "print('b' in d1)\n",
    "\n",
    "\n",
    "d1['dummy'] = 'value'\n",
    "\n",
    "del d1[7]\n",
    "\n",
    "print(d1)"
   ]
  },
  {
   "cell_type": "code",
   "execution_count": 160,
   "id": "72d9dd6c",
   "metadata": {},
   "outputs": [
    {
     "name": "stdout",
     "output_type": "stream",
     "text": [
      "['a', 'b', 'dummy', 'j']\n",
      "['some_value', 'Barrnun', 'value', 'Revail']\n"
     ]
    }
   ],
   "source": [
    "\"\"\"\n",
    "The keys and values method give you iterators of the dict's keys and values, \n",
    "repectively. While the key-value pairs are not in any particular order, \n",
    "these fcuntions out-put keys and values in the same order:\n",
    "\"\"\"\n",
    "\n",
    "print(list(d1.keys()))\n",
    "\n",
    "\n",
    "print(list(d1.values()))\n",
    "\n",
    "# You can merge one dict into another using the update maethod:"
   ]
  },
  {
   "cell_type": "code",
   "execution_count": 164,
   "id": "157c993f",
   "metadata": {},
   "outputs": [
    {
     "name": "stdout",
     "output_type": "stream",
     "text": [
      "['a', 'b', 'dummy', 'j']\n",
      "['some_value', 'Barrnun', 'value', 'Revail']\n",
      "{'a': 'some_value', 'b': 'Barrnun', 'dummy': 'value', 'j': 'Revail'}\n"
     ]
    }
   ],
   "source": [
    "\"\"\"\n",
    "The keys and values method give you iterators of the dict's keys and values, \n",
    "repectively. While the key-value pairs are not in any particular order, \n",
    "these fcuntions out-put keys and values in the same order:\n",
    "\"\"\"\n",
    "\n",
    "print(list(d1.keys()))\n",
    "\n",
    "\n",
    "print(list(d1.values()))\n",
    "\n",
    "# You can merge one dict into another using the update maethod:\n",
    "\n",
    "d1.update({'b':'Barrnun', 'j':'Revail'})\n",
    "\n",
    "# Update changes dicts in-place,\n",
    "# so any existing keys in the data passed to update will hasbe their old values discarted\n",
    "\n",
    "print(d1)"
   ]
  },
  {
   "cell_type": "code",
   "execution_count": 166,
   "id": "606f1828",
   "metadata": {},
   "outputs": [
    {
     "data": {
      "text/plain": [
       "{0: 4, 1: 3, 2: 2, 3: 1, 4: 0}"
      ]
     },
     "execution_count": 166,
     "metadata": {},
     "output_type": "execute_result"
    }
   ],
   "source": [
    "\"\"\"\n",
    "# Creating dicts from sequences\n",
    "With two sequences that you want to pair up element-wise in a dict.\n",
    "As a first cut, you migth write code like this:\n",
    "\n",
    "mapping = {}\n",
    "for key, value in zip(key_list, value_list):\n",
    "    mapping[key] = value\n",
    "    \n",
    "Since a dict is essentially a collection of 2 tuples,\n",
    "the dict fucntion accepts a list of 2tuples:\n",
    "\"\"\"\n",
    "\n",
    "mappingg = dict(zip(range(5), reversed(range(5))))\n",
    "\n",
    "mappingg\n"
   ]
  },
  {
   "cell_type": "code",
   "execution_count": 169,
   "id": "5048085e",
   "metadata": {},
   "outputs": [
    {
     "data": {
      "text/plain": [
       "{'s': ['son'], 'b': ['bet'], 'a': ['atom'], 'c': ['chainlink']}"
      ]
     },
     "execution_count": 169,
     "metadata": {},
     "output_type": "execute_result"
    }
   ],
   "source": [
    "\"\"\"\n",
    "# Default values\n",
    "\n",
    "Its very common to have logic like:\n",
    "\n",
    "if key in some_digit:\n",
    "    value = some_dict[key]\n",
    "else:\n",
    "    value = default_value\n",
    "\n",
    "this, the dict methods get and pop can take a default value to be returned,\n",
    "so that the above if-else block can be writen simply as\n",
    "\n",
    "value = some_dict.get(key, default_value)\n",
    "\n",
    "\n",
    "With setting values,\n",
    "a common case is for the values in a dict to be other collections like lists.\n",
    "Imagine categorizing a list of words by their first letters as a dict of list:\n",
    "\"\"\"\n",
    "\n",
    "words = ['son', 'bet', 'atom', 'chainlink']\n",
    "\n",
    "by_leter = {}\n",
    "\n",
    "for word in words:\n",
    "    letter = word[0]\n",
    "    if letter not in by_leter:\n",
    "        by_leter[letter] = [word]\n",
    "    else:\n",
    "        by_leter[letter].append(word)\n",
    "        \n",
    "        \n",
    "by_leter"
   ]
  },
  {
   "cell_type": "code",
   "execution_count": 172,
   "id": "15b86106",
   "metadata": {},
   "outputs": [
    {
     "data": {
      "text/plain": [
       "{'s': ['son', 'son', 'son'],\n",
       " 'b': ['bet', 'bet', 'bet'],\n",
       " 'a': ['atom', 'atom', 'atom'],\n",
       " 'c': ['chainlink', 'chainlink', 'chainlink']}"
      ]
     },
     "execution_count": 172,
     "metadata": {},
     "output_type": "execute_result"
    }
   ],
   "source": [
    "# The setdefault dict method is for percisely this purpose.\n",
    "\n",
    "for word in words:\n",
    "    letter = word[0]\n",
    "    by_leter.setdefault(letter, []).append(word)\n",
    "    \n",
    "    \n",
    "by_leter"
   ]
  },
  {
   "cell_type": "code",
   "execution_count": 176,
   "id": "32d08f8e",
   "metadata": {},
   "outputs": [
    {
     "data": {
      "text/plain": [
       "defaultdict(list,\n",
       "            {'s': ['son'], 'b': ['bet'], 'a': ['atom'], 'c': ['chainlink']})"
      ]
     },
     "execution_count": 176,
     "metadata": {},
     "output_type": "execute_result"
    }
   ],
   "source": [
    "\"\"\"\n",
    "The built-in collections module has a useful class, defaultdict.\n",
    "To create one, you pass a type r fucntion for generating the default value for each slot in the dict:\n",
    "\"\"\"\n",
    "\n",
    "from collections import defaultdict\n",
    "\n",
    "by_letter = defaultdict(list)\n",
    "for word in words:\n",
    "    by_letter[word[0]].append(word)\n",
    "    \n",
    "    \n",
    "by_letter"
   ]
  },
  {
   "cell_type": "code",
   "execution_count": 177,
   "id": "946fe53a",
   "metadata": {},
   "outputs": [
    {
     "data": {
      "text/plain": [
       "-8845301693718592998"
      ]
     },
     "execution_count": 177,
     "metadata": {},
     "output_type": "execute_result"
    }
   ],
   "source": [
    "\"\"\"\n",
    "# Valid dict key values\n",
    "\n",
    "while the values of a dict can be any Py object, they key must be immutable objects\n",
    "The technical term here is hashablility.\n",
    "To check if an object is hashable (can be used as a key in a dict)\n",
    "with the hash check whether an object is hashable with the hash fucntion\n",
    "\"\"\"\n",
    "\n",
    "hash('Ptter pan')"
   ]
  },
  {
   "cell_type": "code",
   "execution_count": 178,
   "id": "541c6971",
   "metadata": {},
   "outputs": [
    {
     "ename": "TypeError",
     "evalue": "'int' object is not callable",
     "output_type": "error",
     "traceback": [
      "\u001b[1;31m---------------------------------------------------------------------------\u001b[0m",
      "\u001b[1;31mTypeError\u001b[0m                                 Traceback (most recent call last)",
      "\u001b[1;32m<ipython-input-178-76047a03ad2b>\u001b[0m in \u001b[0;36m<module>\u001b[1;34m\u001b[0m\n\u001b[1;32m----> 1\u001b[1;33m \u001b[0mhash\u001b[0m\u001b[1;33m(\u001b[0m\u001b[1;33m(\u001b[0m\u001b[1;36m1\u001b[0m\u001b[1;33m,\u001b[0m\u001b[1;36m2\u001b[0m \u001b[1;33m(\u001b[0m\u001b[1;36m2\u001b[0m\u001b[1;33m,\u001b[0m\u001b[1;36m3\u001b[0m\u001b[1;33m)\u001b[0m\u001b[1;33m)\u001b[0m\u001b[1;33m)\u001b[0m\u001b[1;33m\u001b[0m\u001b[1;33m\u001b[0m\u001b[0m\n\u001b[0m",
      "\u001b[1;31mTypeError\u001b[0m: 'int' object is not callable"
     ]
    }
   ],
   "source": [
    "hash((1,2 (2,3)))"
   ]
  },
  {
   "cell_type": "code",
   "execution_count": 180,
   "id": "7290bc1e",
   "metadata": {},
   "outputs": [
    {
     "data": {
      "text/plain": [
       "{(1, 3, 4): 5}"
      ]
     },
     "execution_count": 180,
     "metadata": {},
     "output_type": "execute_result"
    }
   ],
   "source": [
    "\"\"\"\n",
    "To use a list as akey, one option is to convert it to a tuple,\n",
    "which can be hashed as long as its elements also can:\n",
    "\"\"\"\n",
    "\n",
    "d = {}\n",
    "\n",
    "d[tuple([1,3,4])] = 5\n",
    "\n",
    "d"
   ]
  },
  {
   "cell_type": "code",
   "execution_count": 197,
   "id": "0d79cc35",
   "metadata": {},
   "outputs": [
    {
     "data": {
      "text/plain": [
       "{1, 2, 3, 4, 5, 6, 7, 8, 9}"
      ]
     },
     "metadata": {},
     "output_type": "display_data"
    },
    {
     "data": {
      "text/plain": [
       "{1, 2, 3, 4, 5, 6, 7, 8, 9}"
      ]
     },
     "metadata": {},
     "output_type": "display_data"
    },
    {
     "data": {
      "text/plain": [
       "{1, 3, 6}"
      ]
     },
     "metadata": {},
     "output_type": "display_data"
    },
    {
     "data": {
      "text/plain": [
       "{1, 3, 6}"
      ]
     },
     "metadata": {},
     "output_type": "display_data"
    }
   ],
   "source": [
    "\"\"\"\n",
    "# Set is an unordered collection of unique elements. You can think of them like dicts, but keys only, no values.\n",
    "A set can be created in two ways: via the set function or via the set literal with curly braces:\n",
    "\n",
    "\n",
    "Sets support mathematical set operations like Union, intersection, difference, and symmetric difference.\n",
    "\n",
    "Consider second set of examples [a,b]\n",
    "\"\"\"\n",
    "\n",
    "#isplay(set([2, 2, 2, 1, 3, 3]))\n",
    "\n",
    "#isplay({1, 2, 3, 6, 8, 9})\n",
    "\n",
    "#Python set operations pg 66/67\n",
    "\n",
    "a = {1, 2, 3, 6, 8, 9}\n",
    "\n",
    "b = {1, 4, 3, 5, 6, 7}\n",
    "\n",
    "# Union of these two sets of distinct elements occuring in either set.\n",
    "# is can be computed with either union method or the | binary operator:\n",
    "\n",
    "display(a.union(b))\n",
    "\n",
    "display(a | b)\n",
    "\n",
    "# The intersection contains the elements occuring in both sets. The & operator or the intersection method can be used:\n",
    "\n",
    "display(a.intersection(b))\n",
    "\n",
    "display( a & b)"
   ]
  },
  {
   "cell_type": "code",
   "execution_count": 199,
   "id": "1b98e561",
   "metadata": {},
   "outputs": [
    {
     "data": {
      "text/plain": [
       "['BAT', 'CAR', 'DOVE', 'PYTHON']"
      ]
     },
     "execution_count": 199,
     "metadata": {},
     "output_type": "execute_result"
    }
   ],
   "source": [
    "\"\"\"\n",
    "# List, Set, Dict, Comprehensions.\n",
    "\n",
    "List comprehensions are one of hte most-loved Python languege features.\n",
    "They allow you tp concisely form a new list by filtering the elements of a collection,\n",
    "tranforming the elements passing the filter in one concise expression. They take the basic form:\n",
    "\n",
    "[expr for val in collection if condition]\n",
    "\n",
    "This is equivalent to the following for loop:\n",
    "\n",
    "result = []\n",
    "\n",
    "for val in collection:\n",
    "    if condition:\n",
    "        result.append(expr)\n",
    "\n",
    "The filter condition cna be omitted, leving only the expression.\n",
    "Given a list of strings we could filter out strings with len < 2 and also convert them to uppercase\n",
    "\"\"\"\n",
    "\n",
    "strings = ['a', 'as', 'bat', 'car', 'dove', 'python']\n",
    "\n",
    "[x.upper() for x in strings if len(x) > 2]"
   ]
  },
  {
   "cell_type": "code",
   "execution_count": 203,
   "id": "ea8360b8",
   "metadata": {},
   "outputs": [
    {
     "data": {
      "text/plain": [
       "{1, 2, 3, 4, 6}"
      ]
     },
     "execution_count": 203,
     "metadata": {},
     "output_type": "execute_result"
    }
   ],
   "source": [
    "\"\"\"\n",
    "Set and dict comprehensions are natural extensions, producing sets and dicts in an idomatically similar way instead of lists.\n",
    "A dict comprehension looks like this: \n",
    "\n",
    "dict_comp = {key-expr : value-expr for value in collection\n",
    "            if condition}\n",
    "\n",
    "\n",
    "\n",
    "Set comprehension looks like the equivalent list comprehension except with curly brances instread of square:\n",
    "\n",
    "set_comp = {expr for value in collection if condition}\n",
    "\n",
    "Consider the list of strings from before. Suppose we wanted a set containing just the leggths of the strings.\n",
    "\"\"\"\n",
    "\n",
    "unique_lengths = {len(x) for x in strings}\n",
    "\n",
    "# We could also express this more functionally using the map function, \n",
    "\n",
    "set(map(len, strings))"
   ]
  },
  {
   "cell_type": "code",
   "execution_count": 232,
   "id": "7a61dc77",
   "metadata": {},
   "outputs": [
    {
     "data": {
      "text/plain": [
       "{'a': 0, 'as': 1, 'bat': 2, 'car': 3, 'dove': 4, 'python': 5}"
      ]
     },
     "execution_count": 232,
     "metadata": {},
     "output_type": "execute_result"
    }
   ],
   "source": [
    "# Dict Comprehension example\n",
    "# We create a lookup map of these strings to their locations in the list\n",
    "\n",
    "loc_mapping = {val : index for index, val in enumerate(strings)}\n",
    "\n",
    "loc_mapping"
   ]
  },
  {
   "cell_type": "code",
   "execution_count": 253,
   "id": "a57c8677",
   "metadata": {},
   "outputs": [
    {
     "data": {
      "text/plain": [
       "[['John', 'Emily', 'Michael', 'Mary', 'Steven'],\n",
       " ['Maria', 'Juan', 'Javier', 'Natalia', 'Pilar']]"
      ]
     },
     "execution_count": 253,
     "metadata": {},
     "output_type": "execute_result"
    }
   ],
   "source": [
    "\"\"\"\n",
    "# Nested list comprehensions \n",
    "\n",
    "A list of list with english and spenish names:\n",
    "\"\"\"\n",
    "all_data = [['John', 'Emily', 'Michael', 'Mary', 'Steven'],\n",
    "           ['Maria', 'Juan', 'Javier', 'Natalia', 'Pilar']]\n",
    "all_data"
   ]
  },
  {
   "cell_type": "code",
   "execution_count": 278,
   "id": "5e9db969",
   "metadata": {},
   "outputs": [
    {
     "data": {
      "text/plain": [
       "['Steven']"
      ]
     },
     "metadata": {},
     "output_type": "display_data"
    },
    {
     "data": {
      "text/plain": [
       "['Steven']"
      ]
     },
     "metadata": {},
     "output_type": "display_data"
    }
   ],
   "source": [
    "# A single list containing all names with two or more e's in them.\n",
    "name_list = []\n",
    "for names in all_data:\n",
    "    en = [name for name in names if name.count('e') >=2]\n",
    "    name_list.extend(en)\n",
    "    \n",
    "# This opreations as a single nested list comprehension\n",
    "\n",
    "result = [name for names in all_data for name in names\n",
    "          if name.count('e') >=2]\n",
    "\n",
    "\n",
    "display(name_list)\n",
    "\n",
    "display(result)\n"
   ]
  },
  {
   "cell_type": "code",
   "execution_count": 271,
   "id": "16f450ac",
   "metadata": {},
   "outputs": [
    {
     "data": {
      "text/plain": [
       "['Steven']"
      ]
     },
     "execution_count": 271,
     "metadata": {},
     "output_type": "execute_result"
    }
   ],
   "source": []
  },
  {
   "cell_type": "code",
   "execution_count": null,
   "id": "d86cb26f",
   "metadata": {},
   "outputs": [],
   "source": []
  },
  {
   "cell_type": "code",
   "execution_count": 280,
   "id": "d67d1c70",
   "metadata": {},
   "outputs": [
    {
     "data": {
      "text/plain": [
       "[(1, 2, 3), (4, 5, 6), (7, 8, 9)]"
      ]
     },
     "metadata": {},
     "output_type": "display_data"
    },
    {
     "data": {
      "text/plain": [
       "[1, 2, 3, 4, 5, 6, 7, 8, 9]"
      ]
     },
     "metadata": {},
     "output_type": "display_data"
    }
   ],
   "source": [
    "\"\"\"\n",
    "Nested list comprehensions \n",
    "Another example where we 'flatten' a list of tuples of integers into list of integers:\n",
    "\n",
    "Keep in mind that the order of the for expressions would be the same if you wrote a nested for loop instead of list comprehension:\n",
    "\"\"\"\n",
    "\n",
    "some_tuples = [(1,2,3), (4,5,6), (7,8,9)]\n",
    "display(some_tuples)\n",
    "flattened = [x for tup in some_tuples for x in tup]\n",
    "display(flattened)"
   ]
  },
  {
   "cell_type": "code",
   "execution_count": null,
   "id": "88be95b5",
   "metadata": {},
   "outputs": [],
   "source": []
  }
 ],
 "metadata": {
  "kernelspec": {
   "display_name": "dev",
   "language": "python",
   "name": "dev"
  },
  "language_info": {
   "codemirror_mode": {
    "name": "ipython",
    "version": 3
   },
   "file_extension": ".py",
   "mimetype": "text/x-python",
   "name": "python",
   "nbconvert_exporter": "python",
   "pygments_lexer": "ipython3",
   "version": "3.7.10"
  }
 },
 "nbformat": 4,
 "nbformat_minor": 5
}
