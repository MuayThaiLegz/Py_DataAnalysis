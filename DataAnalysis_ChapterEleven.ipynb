{
 "cells": [
  {
   "cell_type": "code",
   "execution_count": 4,
   "id": "3e03cf94",
   "metadata": {},
   "outputs": [
    {
     "data": {
      "text/plain": [
       "datetime.datetime(2021, 10, 8, 14, 39, 29, 932871)"
      ]
     },
     "metadata": {},
     "output_type": "display_data"
    },
    {
     "name": "stdout",
     "output_type": "stream",
     "text": [
      "2021 10 8\n"
     ]
    },
    {
     "data": {
      "text/plain": [
       "datetime.timedelta(days=926, seconds=56700)"
      ]
     },
     "metadata": {},
     "output_type": "display_data"
    },
    {
     "data": {
      "text/plain": [
       "926"
      ]
     },
     "metadata": {},
     "output_type": "display_data"
    },
    {
     "data": {
      "text/plain": [
       "56700"
      ]
     },
     "metadata": {},
     "output_type": "display_data"
    },
    {
     "name": "stdout",
     "output_type": "stream",
     "text": [
      "Types in datetime module page 325\n"
     ]
    }
   ],
   "source": [
    "\"\"\"\n",
    "Chapter 11 - Time Series:\n",
    "Anything that is observed, measured at many points in time forms a time series.\n",
    "Many time series are fixed frequency,\n",
    "which is to say that data points coour at regular intervals according to some rule,\n",
    "such as every 15 secs, 5 mins, or per month. Time Series can also be irregular without fixed unit\n",
    "of time or offset between units. How to mark and refer to time series data depends on the application\n",
    "and you may have one of the following:\n",
    "    * Timestamps specific instants in time\n",
    "    * Fixed periods, such as the month January 2007 of the  full year 2010\n",
    "    * Intervals of time, indicated by a start and end timestamp.\n",
    "        Periods can be thought of as special cases of intervals\n",
    "    * Experiment or elapsed time;\n",
    "        each timestamp is a measure of time relative to a particular start time:\n",
    "            (the diameter of a cookie baking each second sicne being placed in the oven)\n",
    "\"\"\"\n",
    "# Date and Time Data Types and Tools \n",
    "import pandas as pd\n",
    "import numpy as np\n",
    "\n",
    "from datetime import datetime\n",
    "\n",
    "now = datetime.now()\n",
    "\n",
    "display(now)\n",
    "\n",
    "print(now.year, now.month, now.day)\n",
    "\n",
    "# datime stores both the date and time down to the microsecond.\n",
    "# timedelta represents the temporal difference between two datetime objects:\n",
    "\n",
    "delta = datetime(2011, 1, 7) - datetime(2008, 6, 24, 8, 15)\n",
    "\n",
    "display(delta)\n",
    "\n",
    "display(delta.days)\n",
    "\n",
    "display(delta.seconds)\n",
    "\n",
    "# add / subtract a timedelta | multiple thereof to datetime object to yield a new shifed object\n",
    "\n",
    "from datetime import timedelta\n",
    "\n",
    "start = datetime.now()\n",
    "\n",
    "start + timedelta(12)\n",
    "\n",
    "print('Types in datetime module page 325')"
   ]
  },
  {
   "cell_type": "code",
   "execution_count": 5,
   "id": "aa59765f",
   "metadata": {},
   "outputs": [
    {
     "data": {
      "text/plain": [
       "'2011-01-03 00:00:00'"
      ]
     },
     "metadata": {},
     "output_type": "display_data"
    },
    {
     "data": {
      "text/plain": [
       "'2011-01-03'"
      ]
     },
     "metadata": {},
     "output_type": "display_data"
    },
    {
     "name": "stdout",
     "output_type": "stream",
     "text": [
      "Datetime format specification page 325\n"
     ]
    }
   ],
   "source": [
    "# Converting Between String and Datetime \n",
    "# format datetime object & pd Timestamp object,using srt|strftime method, pass f specification\n",
    "\n",
    "stamp = datetime(2011, 1, 3)\n",
    "\n",
    "display(str(stamp))\n",
    "\n",
    "display(stamp.strftime(\"%Y-%m-%d\"))\n",
    "\n",
    "print('Datetime format specification page 325')"
   ]
  },
  {
   "cell_type": "code",
   "execution_count": 8,
   "id": "1d631ffb",
   "metadata": {},
   "outputs": [
    {
     "data": {
      "text/plain": [
       "datetime.datetime(2011, 1, 3, 0, 0)"
      ]
     },
     "metadata": {},
     "output_type": "display_data"
    },
    {
     "data": {
      "text/plain": [
       "datetime.datetime(2011, 1, 3, 0, 0)"
      ]
     },
     "metadata": {},
     "output_type": "display_data"
    },
    {
     "data": {
      "text/plain": [
       "['7/6/2011', '8/6/2011']"
      ]
     },
     "metadata": {},
     "output_type": "display_data"
    },
    {
     "data": {
      "text/plain": [
       "[datetime.datetime(2011, 7, 6, 0, 0), datetime.datetime(2011, 8, 6, 0, 0)]"
      ]
     },
     "metadata": {},
     "output_type": "display_data"
    },
    {
     "data": {
      "text/plain": [
       "datetime.datetime(2011, 1, 3, 0, 0)"
      ]
     },
     "metadata": {},
     "output_type": "display_data"
    },
    {
     "data": {
      "text/plain": [
       "datetime.datetime(1997, 1, 31, 22, 45)"
      ]
     },
     "metadata": {},
     "output_type": "display_data"
    },
    {
     "data": {
      "text/plain": [
       "datetime.datetime(2021, 12, 6, 0, 0)"
      ]
     },
     "metadata": {},
     "output_type": "display_data"
    },
    {
     "data": {
      "text/plain": [
       "DatetimeIndex(['2011-07-06 12:00:00', '2011-08-06 00:00:00'], dtype='datetime64[ns]', freq=None)"
      ]
     },
     "metadata": {},
     "output_type": "display_data"
    },
    {
     "name": "stdout",
     "output_type": "stream",
     "text": [
      "Locale-specific date formatting\n"
     ]
    }
   ],
   "source": [
    "# Use many of the same format codes to conver strings to dates using datetime.strptime\n",
    "    # some codes like %F cannot be used\n",
    "    \n",
    "value = '2011-01-03'\n",
    "display(datetime.strptime(value, '%Y-%m-%d'))\n",
    "\n",
    "display(datetime(2011, 1, 3, 0, 0))\n",
    "\n",
    "daatestrs = ['7/6/2011', '8/6/2011']\n",
    "\n",
    "display(daatestrs)\n",
    "\n",
    "display([datetime.strptime(x, '%m/%d/%Y') for x in daatestrs])\n",
    "\n",
    "# datetime.strptime is a good way to parse a date with a known format.\n",
    "# avaoid writing format sects eachtime use the parser.parse method in 3rd-party dateutil package\n",
    "\n",
    "from dateutil.parser import parse\n",
    "\n",
    "display(parse('2011-01-03'))\n",
    "\n",
    "# dateutil is capable of parsing most human -intelligible date representaions\n",
    "\n",
    "display(parse('Jan 31, 1997 10:45 PM'))\n",
    "\n",
    "# for day appearing before month pass dayfirst=True to indicate this\n",
    "\n",
    "display(parse('6/12/2021', dayfirst=True))\n",
    "\n",
    "# pd uses arr as axis idx|col in df.to_datetime parses different kinds of date representations.\n",
    "\n",
    "datesrts = ['2011-07-06 12:00:00', '2011-08-06 00:00:00']\n",
    "\n",
    "display(pd.to_datetime(datesrts))\n",
    "\n",
    "print('Locale-specific date formatting')"
   ]
  },
  {
   "cell_type": "code",
   "execution_count": 18,
   "id": "41613871",
   "metadata": {},
   "outputs": [
    {
     "data": {
      "text/plain": [
       "2011-01-02   -0.215140\n",
       "2011-01-05   -0.258376\n",
       "2011-01-07   -0.322494\n",
       "2011-01-08   -1.234413\n",
       "2011-01-10    0.744067\n",
       "2011-01-12    0.672654\n",
       "dtype: float64"
      ]
     },
     "metadata": {},
     "output_type": "display_data"
    },
    {
     "data": {
      "text/plain": [
       "DatetimeIndex(['2011-01-02', '2011-01-05', '2011-01-07', '2011-01-08',\n",
       "               '2011-01-10', '2011-01-12'],\n",
       "              dtype='datetime64[ns]', freq=None)"
      ]
     },
     "metadata": {},
     "output_type": "display_data"
    }
   ],
   "source": [
    "\"\"\"\n",
    "# Time Series Basics:\n",
    "    A basic kind of time series object in pd is a series indexed by timestamps,\n",
    "    which is often represented external to pd as py strings or datetime objects:\n",
    "\"\"\"\n",
    "\n",
    "from datetime import datetime\n",
    "\n",
    "dates = [datetime(2011, 1, 2), datetime(2011, 1, 5),\n",
    "         datetime(2011, 1, 7), datetime(2011, 1, 8),\n",
    "         datetime(2011, 1, 10), datetime(2011, 1, 12)]\n",
    "\n",
    "ts = pd.Series(np.random.randn(6), index=dates)\n",
    "\n",
    "display(ts)\n",
    "\n",
    "# Under the hood, these satetime objects have been put in a datetimeIndex:\n",
    "\n",
    "display(ts.index)\n",
    "\n",
    "# Like other Series, arithmetic operations between differently indexed time series automatically \n",
    "# "
   ]
  },
  {
   "cell_type": "code",
   "execution_count": null,
   "id": "135acdbf",
   "metadata": {},
   "outputs": [],
   "source": []
  }
 ],
 "metadata": {
  "kernelspec": {
   "display_name": "dev",
   "language": "python",
   "name": "dev"
  },
  "language_info": {
   "codemirror_mode": {
    "name": "ipython",
    "version": 3
   },
   "file_extension": ".py",
   "mimetype": "text/x-python",
   "name": "python",
   "nbconvert_exporter": "python",
   "pygments_lexer": "ipython3",
   "version": "3.7.11"
  }
 },
 "nbformat": 4,
 "nbformat_minor": 5
}
