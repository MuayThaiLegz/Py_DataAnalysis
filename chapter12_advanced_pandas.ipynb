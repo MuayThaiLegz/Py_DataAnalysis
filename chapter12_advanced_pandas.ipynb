{
 "cells": [
  {
   "cell_type": "code",
   "execution_count": 36,
   "id": "e03576d2",
   "metadata": {},
   "outputs": [
    {
     "data": {
      "text/plain": [
       "'these are the values 0     apple\\n1    orange\\n2     apple\\n3     apple\\n4     apple\\n5    orange\\n6     apple\\n7     apple\\ndtype: object'"
      ]
     },
     "metadata": {},
     "output_type": "display_data"
    },
    {
     "data": {
      "text/plain": [
       "array(['apple', 'orange'], dtype=object)"
      ]
     },
     "metadata": {},
     "output_type": "display_data"
    },
    {
     "data": {
      "text/plain": [
       "apple     6\n",
       "orange    2\n",
       "dtype: int64"
      ]
     },
     "metadata": {},
     "output_type": "display_data"
    },
    {
     "data": {
      "text/plain": [
       "0    0\n",
       "1    1\n",
       "2    0\n",
       "3    0\n",
       "4    0\n",
       "5    1\n",
       "6    0\n",
       "7    0\n",
       "dtype: int64"
      ]
     },
     "metadata": {},
     "output_type": "display_data"
    },
    {
     "data": {
      "text/plain": [
       "0     apple\n",
       "1    orange\n",
       "dtype: object"
      ]
     },
     "metadata": {},
     "output_type": "display_data"
    },
    {
     "data": {
      "text/plain": [
       "0     apple\n",
       "1    orange\n",
       "0     apple\n",
       "0     apple\n",
       "0     apple\n",
       "1    orange\n",
       "0     apple\n",
       "0     apple\n",
       "dtype: object"
      ]
     },
     "metadata": {},
     "output_type": "display_data"
    }
   ],
   "source": [
    "\"\"\"\n",
    "Categorical Data This section introcudes the pandss Categorical type. \n",
    "\n",
    "Frequnetly, a cloumns in a table may contain repeated instances of a smaller set od distincit values. \n",
    "\n",
    "FUcntions like unique and value_counts, which enable us to extract the distinct values form an array and compute their frequqncies,\n",
    "\n",
    "\"\"\"\n",
    "\n",
    "import numpy as np; import pandas as pd\n",
    "\n",
    "values = pd.Series(['apple', 'orange', 'apple',\n",
    "                   'apple'] * 2)\n",
    "\n",
    "\n",
    "custom_dataset = pd.read_csv('ratios_vals_money.csv',\n",
    "                             infer_datetime_format=True,\n",
    "                             parse_dates=True,\n",
    "                             index_col=['Ticker','Year']\n",
    "                             )\n",
    "\n",
    "\n",
    "display(\n",
    "    f\"these are the values {values}\"\n",
    ")\n",
    "\n",
    "\n",
    "display(pd.unique(values))\n",
    "\n",
    "display(pd.value_counts(values))\n",
    "\n",
    "# Many data systems have developed sepcialized a[[roaches for representing data with repeated values for optiamal storage\n",
    "# and computaion. In data wareshousing, a best practice is to use so called simension tables cantaning the distinct values\n",
    "# and storing the primary observations as interger leys refreshing the dimension table]]\n",
    "\n",
    "vals = pd.Series([0,1,0,0] * 2)\n",
    "\n",
    "dim = pd.Series(['apple', 'orange'])\n",
    "\n",
    "display(vals,dim)\n",
    "\n",
    "# Use the take method to restore the original serieos of strings\n",
    "\n",
    "display(dim.take(vals))"
   ]
  },
  {
   "cell_type": "code",
   "execution_count": 37,
   "id": "35c077a0",
   "metadata": {},
   "outputs": [
    {
     "data": {
      "text/html": [
       "<div>\n",
       "<style scoped>\n",
       "    .dataframe tbody tr th:only-of-type {\n",
       "        vertical-align: middle;\n",
       "    }\n",
       "\n",
       "    .dataframe tbody tr th {\n",
       "        vertical-align: top;\n",
       "    }\n",
       "\n",
       "    .dataframe thead th {\n",
       "        text-align: right;\n",
       "    }\n",
       "</style>\n",
       "<table border=\"1\" class=\"dataframe\">\n",
       "  <thead>\n",
       "    <tr style=\"text-align: right;\">\n",
       "      <th></th>\n",
       "      <th>basket_id</th>\n",
       "      <th>fruit</th>\n",
       "      <th>count</th>\n",
       "      <th>weight</th>\n",
       "    </tr>\n",
       "  </thead>\n",
       "  <tbody>\n",
       "    <tr>\n",
       "      <th>0</th>\n",
       "      <td>0</td>\n",
       "      <td>apple</td>\n",
       "      <td>6</td>\n",
       "      <td>1.697275</td>\n",
       "    </tr>\n",
       "    <tr>\n",
       "      <th>1</th>\n",
       "      <td>1</td>\n",
       "      <td>orange</td>\n",
       "      <td>10</td>\n",
       "      <td>2.963134</td>\n",
       "    </tr>\n",
       "    <tr>\n",
       "      <th>2</th>\n",
       "      <td>2</td>\n",
       "      <td>apple</td>\n",
       "      <td>4</td>\n",
       "      <td>0.252656</td>\n",
       "    </tr>\n",
       "    <tr>\n",
       "      <th>3</th>\n",
       "      <td>3</td>\n",
       "      <td>apple</td>\n",
       "      <td>6</td>\n",
       "      <td>2.678084</td>\n",
       "    </tr>\n",
       "    <tr>\n",
       "      <th>4</th>\n",
       "      <td>4</td>\n",
       "      <td>apple</td>\n",
       "      <td>7</td>\n",
       "      <td>3.693899</td>\n",
       "    </tr>\n",
       "    <tr>\n",
       "      <th>5</th>\n",
       "      <td>5</td>\n",
       "      <td>orange</td>\n",
       "      <td>10</td>\n",
       "      <td>2.551818</td>\n",
       "    </tr>\n",
       "    <tr>\n",
       "      <th>6</th>\n",
       "      <td>6</td>\n",
       "      <td>apple</td>\n",
       "      <td>14</td>\n",
       "      <td>0.787548</td>\n",
       "    </tr>\n",
       "    <tr>\n",
       "      <th>7</th>\n",
       "      <td>7</td>\n",
       "      <td>apple</td>\n",
       "      <td>3</td>\n",
       "      <td>3.735868</td>\n",
       "    </tr>\n",
       "  </tbody>\n",
       "</table>\n",
       "</div>"
      ],
      "text/plain": [
       "   basket_id   fruit  count    weight\n",
       "0          0   apple      6  1.697275\n",
       "1          1  orange     10  2.963134\n",
       "2          2   apple      4  0.252656\n",
       "3          3   apple      6  2.678084\n",
       "4          4   apple      7  3.693899\n",
       "5          5  orange     10  2.551818\n",
       "6          6   apple     14  0.787548\n",
       "7          7   apple      3  3.735868"
      ]
     },
     "metadata": {},
     "output_type": "display_data"
    },
    {
     "data": {
      "text/plain": [
       "0     apple\n",
       "1    orange\n",
       "2     apple\n",
       "3     apple\n",
       "4     apple\n",
       "5    orange\n",
       "6     apple\n",
       "7     apple\n",
       "Name: fruit, dtype: category\n",
       "Categories (2, object): ['apple', 'orange']"
      ]
     },
     "metadata": {},
     "output_type": "display_data"
    },
    {
     "data": {
      "text/plain": [
       "pandas.core.arrays.categorical.Categorical"
      ]
     },
     "metadata": {},
     "output_type": "display_data"
    },
    {
     "data": {
      "text/plain": [
       "Index(['apple', 'orange'], dtype='object')"
      ]
     },
     "metadata": {},
     "output_type": "display_data"
    },
    {
     "data": {
      "text/plain": [
       "array([0, 1, 0, 0, 0, 1, 0, 0], dtype=int8)"
      ]
     },
     "metadata": {},
     "output_type": "display_data"
    },
    {
     "data": {
      "text/plain": [
       "<bound method DataFrame.count of    basket_id   fruit count    weight\n",
       "0          0   apple     6  1.697275\n",
       "1          1  orange    10  2.963134\n",
       "2          2   apple     4  0.252656\n",
       "3          3   apple     6  2.678084\n",
       "4          4   apple     7  3.693899\n",
       "5          5  orange    10  2.551818\n",
       "6          6   apple    14  0.787548\n",
       "7          7   apple     3  3.735868>"
      ]
     },
     "metadata": {},
     "output_type": "display_data"
    },
    {
     "data": {
      "text/plain": [
       "['foo', 'bar', 'baz', 'foo', 'bar']\n",
       "Categories (3, object): ['bar', 'baz', 'foo']"
      ]
     },
     "metadata": {},
     "output_type": "display_data"
    },
    {
     "data": {
      "text/plain": [
       "['foo', 'bar', 'baz', 'foo', 'foo', 'bar']\n",
       "Categories (4, object): ['foo', 'bar', 'baz', 'hang']"
      ]
     },
     "metadata": {},
     "output_type": "display_data"
    },
    {
     "data": {
      "text/plain": [
       "['foo', 'bar', 'baz', 'foo', 'foo', 'bar']\n",
       "Categories (4, object): ['foo' < 'bar' < 'baz' < 'hang']"
      ]
     },
     "metadata": {},
     "output_type": "display_data"
    },
    {
     "data": {
      "text/plain": [
       "['foo', 'bar', 'baz', 'foo', 'foo', 'bar']\n",
       "Categories (4, object): ['foo' < 'bar' < 'baz' < 'hang']"
      ]
     },
     "metadata": {},
     "output_type": "display_data"
    }
   ],
   "source": [
    "\"\"\"\n",
    "This representation is called the categorical or dictionary_encoded representaion.\n",
    "The array of distinct values can be called the categories, dictionary, or levels of data the data.\n",
    "In this book we wiil use the terms categorical and categories.\n",
    "The integer vals that refence the categoriess are called the category codes or simply codes.\n",
    "\n",
    "Caategorical representation can yield significant performance improvements when doing analytics\n",
    "\n",
    "Categorical Type in pandas: Pndas has a special Categorical type for holdong data that uses integer-vased catergorical \n",
    "representation or encoding. \n",
    "\n",
    "\"\"\"\n",
    "\n",
    "\n",
    "fruits = ['apple', 'orange', 'apple', 'apple'] * 2 \n",
    "\n",
    "\n",
    "N = len(fruits)\n",
    "\n",
    "\n",
    "df = pd.DataFrame({'fruit': fruits,\n",
    "                  'basket_id': np.arange(N),\n",
    "                  'count': np.random.randint(3, 15, size=N),\n",
    "                  'weight': np.random.uniform(0, 4, size=N)},\n",
    "                columns=['basket_id', 'fruit', 'count', 'weight'])\n",
    "\n",
    "\n",
    "display(df)\n",
    "\n",
    "# Here df['fruit'] is am array pf python string objects. we can convert it to categotical by calling:\n",
    "\n",
    "fruit_cat = df['fruit'].astype('category')\n",
    "\n",
    "display(fruit_cat) # values for fruit_cat are not Numpy array, but an instance of pandas.Cetegorical:\n",
    "\n",
    "c = fruit_cat.values\n",
    "\n",
    "display(type(c))\n",
    "\n",
    "# The Categorical object has categories and codes attributes:\n",
    "\n",
    "display(c.categories)\n",
    "\n",
    "display(c.codes)\n",
    "\n",
    "# You can convert a df column to categorical by assigning the converted result:\n",
    "\n",
    "df['count'] = df['count'].astype('category')\n",
    "\n",
    "display(df.count)\n",
    "\n",
    "# you can also create pd.Categorical directly from other types of Py sequences:\n",
    "\n",
    "my_categories = pd.Categorical(['foo', 'bar', 'baz', 'foo', 'bar'])\n",
    "\n",
    "display(my_categories)\n",
    "\n",
    "# If you have obtained categorical encoded data from enaother source, ypu can ise the alternative from_codes constructor:\n",
    "\n",
    "categories = ['foo','bar','baz', 'hang']\n",
    "\n",
    "codes = [0, 1, 2, 0, 0, 1]\n",
    "\n",
    "my_cats_2 = pd.Categorical.from_codes(codes, categories)\n",
    "\n",
    "display(my_cats_2)\n",
    "\n",
    "# Unless specidied, categorical conversions assume no specific orfering of the categories. So the categories array may be\n",
    "# in a diffrent order depending on the ordering of the input data. WHen using from_codes or any of the other constructors \n",
    "# you can indicate that the categories have a meaningful ordering:\n",
    "\n",
    "ordered_cat = pd.Categorical.from_codes(codes,categories,\n",
    "                                        ordered=True)\n",
    "\n",
    "\n",
    "display(ordered_cat)\n",
    "\n",
    "display(my_cats_2.as_ordered())"
   ]
  },
  {
   "cell_type": "code",
   "execution_count": 38,
   "id": "77e5529f",
   "metadata": {},
   "outputs": [
    {
     "data": {
      "text/html": [
       "<div>\n",
       "<style scoped>\n",
       "    .dataframe tbody tr th:only-of-type {\n",
       "        vertical-align: middle;\n",
       "    }\n",
       "\n",
       "    .dataframe tbody tr th {\n",
       "        vertical-align: top;\n",
       "    }\n",
       "\n",
       "    .dataframe thead th {\n",
       "        text-align: right;\n",
       "    }\n",
       "</style>\n",
       "<table border=\"1\" class=\"dataframe\">\n",
       "  <thead>\n",
       "    <tr style=\"text-align: right;\">\n",
       "      <th></th>\n",
       "      <th>basket_id</th>\n",
       "      <th>fruit</th>\n",
       "      <th>count</th>\n",
       "      <th>weight</th>\n",
       "    </tr>\n",
       "  </thead>\n",
       "  <tbody>\n",
       "    <tr>\n",
       "      <th>0</th>\n",
       "      <td>0</td>\n",
       "      <td>apple</td>\n",
       "      <td>6</td>\n",
       "      <td>1.697275</td>\n",
       "    </tr>\n",
       "    <tr>\n",
       "      <th>1</th>\n",
       "      <td>1</td>\n",
       "      <td>orange</td>\n",
       "      <td>10</td>\n",
       "      <td>2.963134</td>\n",
       "    </tr>\n",
       "    <tr>\n",
       "      <th>2</th>\n",
       "      <td>2</td>\n",
       "      <td>apple</td>\n",
       "      <td>4</td>\n",
       "      <td>0.252656</td>\n",
       "    </tr>\n",
       "    <tr>\n",
       "      <th>3</th>\n",
       "      <td>3</td>\n",
       "      <td>apple</td>\n",
       "      <td>6</td>\n",
       "      <td>2.678084</td>\n",
       "    </tr>\n",
       "    <tr>\n",
       "      <th>4</th>\n",
       "      <td>4</td>\n",
       "      <td>apple</td>\n",
       "      <td>7</td>\n",
       "      <td>3.693899</td>\n",
       "    </tr>\n",
       "    <tr>\n",
       "      <th>5</th>\n",
       "      <td>5</td>\n",
       "      <td>orange</td>\n",
       "      <td>10</td>\n",
       "      <td>2.551818</td>\n",
       "    </tr>\n",
       "    <tr>\n",
       "      <th>6</th>\n",
       "      <td>6</td>\n",
       "      <td>apple</td>\n",
       "      <td>14</td>\n",
       "      <td>0.787548</td>\n",
       "    </tr>\n",
       "    <tr>\n",
       "      <th>7</th>\n",
       "      <td>7</td>\n",
       "      <td>apple</td>\n",
       "      <td>3</td>\n",
       "      <td>3.735868</td>\n",
       "    </tr>\n",
       "  </tbody>\n",
       "</table>\n",
       "</div>"
      ],
      "text/plain": [
       "   basket_id   fruit count    weight\n",
       "0          0   apple     6  1.697275\n",
       "1          1  orange    10  2.963134\n",
       "2          2   apple     4  0.252656\n",
       "3          3   apple     6  2.678084\n",
       "4          4   apple     7  3.693899\n",
       "5          5  orange    10  2.551818\n",
       "6          6   apple    14  0.787548\n",
       "7          7   apple     3  3.735868"
      ]
     },
     "execution_count": 38,
     "metadata": {},
     "output_type": "execute_result"
    }
   ],
   "source": [
    "df"
   ]
  },
  {
   "cell_type": "code",
   "execution_count": 44,
   "id": "d4a9732e",
   "metadata": {},
   "outputs": [
    {
     "data": {
      "text/plain": [
       "[(-0.684, -0.0101], (-0.0101, 0.63], (-0.684, -0.0101], (-0.684, -0.0101], (0.63, 3.928], ..., (-0.0101, 0.63], (-0.684, -0.0101], (-2.9499999999999997, -0.684], (-0.0101, 0.63], (0.63, 3.928]]\n",
       "Length: 1000\n",
       "Categories (4, interval[float64]): [(-2.9499999999999997, -0.684] < (-0.684, -0.0101] < (-0.0101, 0.63] < (0.63, 3.928]]"
      ]
     },
     "metadata": {},
     "output_type": "display_data"
    },
    {
     "data": {
      "text/plain": [
       "['Q2', 'Q3', 'Q2', 'Q2', 'Q4', ..., 'Q3', 'Q2', 'Q1', 'Q3', 'Q4']\n",
       "Length: 1000\n",
       "Categories (4, object): ['Q1' < 'Q2' < 'Q3' < 'Q4']"
      ]
     },
     "metadata": {},
     "output_type": "display_data"
    },
    {
     "data": {
      "text/plain": [
       "array([1, 2, 1, 1, 3, 3, 2, 2, 3, 3], dtype=int8)"
      ]
     },
     "metadata": {},
     "output_type": "display_data"
    },
    {
     "data": {
      "text/html": [
       "<div>\n",
       "<style scoped>\n",
       "    .dataframe tbody tr th:only-of-type {\n",
       "        vertical-align: middle;\n",
       "    }\n",
       "\n",
       "    .dataframe tbody tr th {\n",
       "        vertical-align: top;\n",
       "    }\n",
       "\n",
       "    .dataframe thead th {\n",
       "        text-align: right;\n",
       "    }\n",
       "</style>\n",
       "<table border=\"1\" class=\"dataframe\">\n",
       "  <thead>\n",
       "    <tr style=\"text-align: right;\">\n",
       "      <th></th>\n",
       "      <th>quartile</th>\n",
       "      <th>count</th>\n",
       "      <th>min</th>\n",
       "      <th>max</th>\n",
       "    </tr>\n",
       "  </thead>\n",
       "  <tbody>\n",
       "    <tr>\n",
       "      <th>0</th>\n",
       "      <td>Q1</td>\n",
       "      <td>250</td>\n",
       "      <td>-2.949343</td>\n",
       "      <td>-0.685484</td>\n",
       "    </tr>\n",
       "    <tr>\n",
       "      <th>1</th>\n",
       "      <td>Q2</td>\n",
       "      <td>250</td>\n",
       "      <td>-0.683066</td>\n",
       "      <td>-0.010115</td>\n",
       "    </tr>\n",
       "    <tr>\n",
       "      <th>2</th>\n",
       "      <td>Q3</td>\n",
       "      <td>250</td>\n",
       "      <td>-0.010032</td>\n",
       "      <td>0.628894</td>\n",
       "    </tr>\n",
       "    <tr>\n",
       "      <th>3</th>\n",
       "      <td>Q4</td>\n",
       "      <td>250</td>\n",
       "      <td>0.634238</td>\n",
       "      <td>3.927528</td>\n",
       "    </tr>\n",
       "  </tbody>\n",
       "</table>\n",
       "</div>"
      ],
      "text/plain": [
       "  quartile  count       min       max\n",
       "0       Q1    250 -2.949343 -0.685484\n",
       "1       Q2    250 -0.683066 -0.010115\n",
       "2       Q3    250 -0.010032  0.628894\n",
       "3       Q4    250  0.634238  3.927528"
      ]
     },
     "metadata": {},
     "output_type": "display_data"
    },
    {
     "data": {
      "text/plain": [
       "0    Q1\n",
       "1    Q2\n",
       "2    Q3\n",
       "3    Q4\n",
       "Name: quartile, dtype: category\n",
       "Categories (4, object): ['Q1' < 'Q2' < 'Q3' < 'Q4']"
      ]
     },
     "metadata": {},
     "output_type": "display_data"
    }
   ],
   "source": [
    "\"\"\"\n",
    "Computations with Categoricals.\n",
    "Using Categorical in pandas compared with the non-encoded version (like an array of strings) generally bahaves the same way.\n",
    "Some parts of pandas, like the groupby function, perform better when working with categoricals.\n",
    "There are also some fucntions that can utilize the ordered flag.\n",
    "\n",
    "Using random numeric data, and use pandas.qcut binnig function, This return pandas.Categotical\n",
    "\"\"\"\n",
    "\n",
    "np.random.seed(12345)\n",
    "\n",
    "draws = np.random.randn(1000)\n",
    "\n",
    "draws[:5]\n",
    "\n",
    "# Computing a quartile binning of this data and extract some statistics:\n",
    "\n",
    "bins = pd.qcut(draws, 4)\n",
    "\n",
    "display(bins)\n",
    "\n",
    "# The exact sample quartiles may be less useful for a repost than quartile names. For this use the labels arg to qcut.\n",
    "\n",
    "binss = pd.qcut(draws, 4, labels=['Q1', 'Q2', 'Q3', 'Q4'])\n",
    "\n",
    "display(binss)\n",
    "\n",
    "display(binss.codes[:10])\n",
    "\n",
    "\n",
    "# The labeled bins categorical does not contain information about the bin edges in he data,\n",
    "#so we caan use groupby to extract some summary statistics:\n",
    "\n",
    "stat_bins = pd.Series(binss, name='quartile')\n",
    "\n",
    "results = (pd.Series(draws)\n",
    "           .groupby(stat_bins)\n",
    "           .agg(['count', 'min','max'])\n",
    "           .reset_index())\n",
    "\n",
    "display(results)\n",
    "\n",
    "\n",
    "display(results['quartile'])"
   ]
  },
  {
   "cell_type": "code",
   "execution_count": 80,
   "id": "5c1fcb33",
   "metadata": {},
   "outputs": [
    {
     "data": {
      "text/plain": [
       "85784"
      ]
     },
     "metadata": {},
     "output_type": "display_data"
    },
    {
     "data": {
      "text/plain": [
       "83630"
      ]
     },
     "metadata": {},
     "output_type": "display_data"
    }
   ],
   "source": [
    "''' WE create a python/ pandas object called a series:\n",
    "        To turn to dataframe add pair of [] brakets to alreadt existing set.\n",
    "        Add columns to data by inclsing name with quotes inside [].\n",
    "'''\n",
    "\n",
    "\n",
    "series_close = custom_dataset['Revenue'][:50]\n",
    "\n",
    "\n",
    "labels = custom_dataset['Asets/Liabili'][:50]\n",
    "\n",
    "# Now we convert labels to categorical \n",
    "\n",
    "categories = labels.astype('category')\n",
    "\n",
    "display(categories.memory_usage())\n",
    "\n",
    "display(labels.memory_usage())\n",
    "\n",
    "# GroupBy operations can be significatly faster with categoricals becaouse the udnerlying algorithms use the integer-based\n",
    "# codes array instead of an array of strings\n",
    "\n",
    "stock_daata = custom_dataset[:5]"
   ]
  },
  {
   "cell_type": "code",
   "execution_count": 81,
   "id": "3e0d630d",
   "metadata": {},
   "outputs": [
    {
     "name": "stderr",
     "output_type": "stream",
     "text": [
      "C:\\Users\\JBarr\\anaconda3\\envs\\dev\\lib\\site-packages\\ipykernel_launcher.py:1: SettingWithCopyWarning: \n",
      "A value is trying to be set on a copy of a slice from a DataFrame.\n",
      "Try using .loc[row_indexer,col_indexer] = value instead\n",
      "\n",
      "See the caveats in the documentation: https://pandas.pydata.org/pandas-docs/stable/user_guide/indexing.html#returning-a-view-versus-a-copy\n",
      "  \"\"\"Entry point for launching an IPython kernel.\n",
      "C:\\Users\\JBarr\\anaconda3\\envs\\dev\\lib\\site-packages\\ipykernel_launcher.py:3: SettingWithCopyWarning: \n",
      "A value is trying to be set on a copy of a slice from a DataFrame.\n",
      "Try using .loc[row_indexer,col_indexer] = value instead\n",
      "\n",
      "See the caveats in the documentation: https://pandas.pydata.org/pandas-docs/stable/user_guide/indexing.html#returning-a-view-versus-a-copy\n",
      "  This is separate from the ipykernel package so we can avoid doing imports until\n"
     ]
    }
   ],
   "source": [
    "stock_daata['pct_change'] = stock_daata['Close'].pct_change()\n",
    "\n",
    "stock_daata['Returns'] = np.log(stock_daata['Close'] / stock_daata['Close'].shift(1))"
   ]
  },
  {
   "cell_type": "code",
   "execution_count": 88,
   "id": "4f390d0f",
   "metadata": {},
   "outputs": [
    {
     "name": "stderr",
     "output_type": "stream",
     "text": [
      "C:\\Users\\JBarr\\anaconda3\\envs\\dev\\lib\\site-packages\\ipykernel_launcher.py:4: SettingWithCopyWarning: \n",
      "A value is trying to be set on a copy of a slice from a DataFrame.\n",
      "Try using .loc[row_indexer,col_indexer] = value instead\n",
      "\n",
      "See the caveats in the documentation: https://pandas.pydata.org/pandas-docs/stable/user_guide/indexing.html#returning-a-view-versus-a-copy\n",
      "  after removing the cwd from sys.path.\n",
      "C:\\Users\\JBarr\\anaconda3\\envs\\dev\\lib\\site-packages\\ipykernel_launcher.py:5: SettingWithCopyWarning: \n",
      "A value is trying to be set on a copy of a slice from a DataFrame.\n",
      "Try using .loc[row_indexer,col_indexer] = value instead\n",
      "\n",
      "See the caveats in the documentation: https://pandas.pydata.org/pandas-docs/stable/user_guide/indexing.html#returning-a-view-versus-a-copy\n",
      "  \"\"\"\n"
     ]
    },
    {
     "data": {
      "text/plain": [
       "<AxesSubplot:xlabel='Ticker,Year'>"
      ]
     },
     "execution_count": 88,
     "metadata": {},
     "output_type": "execute_result"
    },
    {
     "data": {
      "image/png": "[encoded data removed]",
      "text/plain": [
       "<Figure size 1440x720 with 1 Axes>"
      ]
     },
     "metadata": {
      "needs_background": "light"
     },
     "output_type": "display_data"
    }
   ],
   "source": [
    "\n",
    "SMA1 = 1 # Shorter SMA\n",
    "SMA2 = 2 # Longer SMA\n",
    "\n",
    "stock_daata['Asets/LiabiliSMA1'] = stock_daata['Asets/Liabili'].rolling(SMA1).mean() # Shorter SMA\n",
    "stock_daata['Asets/LiabiliSMA2'] = stock_daata['Asets/Liabili'].rolling(SMA2).mean() # Longer SMA\n",
    "\n",
    "stock_daata[['Asets/LiabiliSMA1','Asets/LiabiliSMA2']].round(2).plot(figsize=(20, 10))"
   ]
  },
  {
   "cell_type": "code",
   "execution_count": 87,
   "id": "f405c064",
   "metadata": {},
   "outputs": [
    {
     "name": "stderr",
     "output_type": "stream",
     "text": [
      "C:\\Users\\JBarr\\anaconda3\\envs\\dev\\lib\\site-packages\\ipykernel_launcher.py:4: SettingWithCopyWarning: \n",
      "A value is trying to be set on a copy of a slice from a DataFrame.\n",
      "Try using .loc[row_indexer,col_indexer] = value instead\n",
      "\n",
      "See the caveats in the documentation: https://pandas.pydata.org/pandas-docs/stable/user_guide/indexing.html#returning-a-view-versus-a-copy\n",
      "  after removing the cwd from sys.path.\n",
      "C:\\Users\\JBarr\\anaconda3\\envs\\dev\\lib\\site-packages\\ipykernel_launcher.py:5: SettingWithCopyWarning: \n",
      "A value is trying to be set on a copy of a slice from a DataFrame.\n",
      "Try using .loc[row_indexer,col_indexer] = value instead\n",
      "\n",
      "See the caveats in the documentation: https://pandas.pydata.org/pandas-docs/stable/user_guide/indexing.html#returning-a-view-versus-a-copy\n",
      "  \"\"\"\n"
     ]
    },
    {
     "data": {
      "text/plain": [
       "<AxesSubplot:xlabel='Ticker,Year'>"
      ]
     },
     "execution_count": 87,
     "metadata": {},
     "output_type": "execute_result"
    },
    {
     "data": {
      "image/png": "[encoded data removed]",
      "text/plain": [
       "<Figure size 1440x720 with 1 Axes>"
      ]
     },
     "metadata": {
      "needs_background": "light"
     },
     "output_type": "display_data"
    }
   ],
   "source": [
    "SMA1 = 1 # Shorter SMA\n",
    "SMA2 = 2 # Longer SMA\n",
    "\n",
    "stock_daata['RevenueSMA1'] = stock_daata['Revenue'].rolling(SMA1).mean() # Shorter SMA\n",
    "stock_daata['RevenueSMA2'] = stock_daata['Revenue'].rolling(SMA2).mean() # Longer SMA\n",
    "\n",
    "stock_daata[['RevenueSMA1','RevenueSMA2']].round(2).plot(figsize=(20, 10))"
   ]
  },
  {
   "cell_type": "code",
   "execution_count": 97,
   "id": "98796de3",
   "metadata": {},
   "outputs": [
    {
     "name": "stderr",
     "output_type": "stream",
     "text": [
      "C:\\Users\\JBarr\\anaconda3\\envs\\dev\\lib\\site-packages\\ipykernel_launcher.py:1: SettingWithCopyWarning: \n",
      "A value is trying to be set on a copy of a slice from a DataFrame.\n",
      "Try using .loc[row_indexer,col_indexer] = value instead\n",
      "\n",
      "See the caveats in the documentation: https://pandas.pydata.org/pandas-docs/stable/user_guide/indexing.html#returning-a-view-versus-a-copy\n",
      "  \"\"\"Entry point for launching an IPython kernel.\n"
     ]
    },
    {
     "data": {
      "image/png": "[encoded data removed]",
      "text/plain": [
       "<Figure size 1152x432 with 2 Axes>"
      ]
     },
     "metadata": {
      "needs_background": "light"
     },
     "output_type": "display_data"
    }
   ],
   "source": [
    "stock_daata['Position'] = np.where(stock_daata['Asets/LiabiliSMA1'] > stock_daata['Asets/LiabiliSMA2'], 1, -1)\n",
    "\n",
    "ax = stock_daata[['Position', 'Asets/LiabiliSMA1','Asets/LiabiliSMA2']].plot(secondary_y='Position', figsize=(16,6))\n",
    "ax.get_legend().set_bbox_to_anchor((0.25, 0.85))\n",
    "\n",
    "cat_data = stock_daata[['Close',\n",
    "             'Returns',\n",
    "             'SMA1',\n",
    "             'SMA2',\n",
    "             'RevenueSMA1',\n",
    "             'RevenueSMA2',\n",
    "             'Asets/LiabiliSMA1',\n",
    "             'Asets/LiabiliSMA2',\n",
    "             'Position']]"
   ]
  },
  {
   "cell_type": "code",
   "execution_count": 128,
   "id": "66c90f99",
   "metadata": {},
   "outputs": [
    {
     "data": {
      "text/plain": [
       "Ticker  Year      \n",
       "A       2015-01-01    0\n",
       "        2016-01-01    1\n",
       "        2017-01-01    0\n",
       "        2018-01-01    1\n",
       "        2019-01-01    0\n",
       "dtype: int8"
      ]
     },
     "metadata": {},
     "output_type": "display_data"
    },
    {
     "data": {
      "text/plain": [
       "Int64Index([-1, 1], dtype='int64')"
      ]
     },
     "metadata": {},
     "output_type": "display_data"
    },
    {
     "data": {
      "text/plain": [
       "Series([], Name: Position, dtype: category\n",
       "Categories (2, int64): [-1, 1])"
      ]
     },
     "metadata": {},
     "output_type": "display_data"
    },
    {
     "data": {
      "text/html": [
       "<div>\n",
       "<style scoped>\n",
       "    .dataframe tbody tr th:only-of-type {\n",
       "        vertical-align: middle;\n",
       "    }\n",
       "\n",
       "    .dataframe tbody tr th {\n",
       "        vertical-align: top;\n",
       "    }\n",
       "\n",
       "    .dataframe thead th {\n",
       "        text-align: right;\n",
       "    }\n",
       "</style>\n",
       "<table border=\"1\" class=\"dataframe\">\n",
       "  <thead>\n",
       "    <tr style=\"text-align: right;\">\n",
       "      <th></th>\n",
       "      <th></th>\n",
       "      <th>-1</th>\n",
       "      <th>1</th>\n",
       "    </tr>\n",
       "    <tr>\n",
       "      <th>Ticker</th>\n",
       "      <th>Year</th>\n",
       "      <th></th>\n",
       "      <th></th>\n",
       "    </tr>\n",
       "  </thead>\n",
       "  <tbody>\n",
       "    <tr>\n",
       "      <th rowspan=\"5\" valign=\"top\">A</th>\n",
       "      <th>2015-01-01</th>\n",
       "      <td>1</td>\n",
       "      <td>0</td>\n",
       "    </tr>\n",
       "    <tr>\n",
       "      <th>2016-01-01</th>\n",
       "      <td>0</td>\n",
       "      <td>1</td>\n",
       "    </tr>\n",
       "    <tr>\n",
       "      <th>2017-01-01</th>\n",
       "      <td>1</td>\n",
       "      <td>0</td>\n",
       "    </tr>\n",
       "    <tr>\n",
       "      <th>2018-01-01</th>\n",
       "      <td>0</td>\n",
       "      <td>1</td>\n",
       "    </tr>\n",
       "    <tr>\n",
       "      <th>2019-01-01</th>\n",
       "      <td>1</td>\n",
       "      <td>0</td>\n",
       "    </tr>\n",
       "  </tbody>\n",
       "</table>\n",
       "</div>"
      ],
      "text/plain": [
       "                   -1   1\n",
       "Ticker Year              \n",
       "A      2015-01-01   1   0\n",
       "       2016-01-01   0   1\n",
       "       2017-01-01   1   0\n",
       "       2018-01-01   0   1\n",
       "       2019-01-01   1   0"
      ]
     },
     "metadata": {},
     "output_type": "display_data"
    }
   ],
   "source": [
    "cat_s = cat_data['Position'].astype('category')\n",
    "\n",
    "\n",
    "# The special attribute cat provides acces to categotical methods\n",
    "\n",
    "display(cat_s.cat.codes)\n",
    "\n",
    "display(cat_s.cat.categories)\n",
    "\n",
    "cat_s3 = cat_s[cat_s.isin(['a', 'b'])]\n",
    "\n",
    "display(cat_s3)\n",
    "\n",
    "# Categorical methods for series in pandas pagges 378\n",
    "\n",
    "# When using ml tools, youll need to transform categorical data into dummy varrs also known as one hot encoding.\n",
    "series_data =  cat_data['Position']\n",
    "\n",
    "display(pd.get_dummies(series_data))"
   ]
  },
  {
   "cell_type": "code",
   "execution_count": 157,
   "id": "7fecbf27",
   "metadata": {},
   "outputs": [
    {
     "data": {
      "text/html": [
       "<div>\n",
       "<style scoped>\n",
       "    .dataframe tbody tr th:only-of-type {\n",
       "        vertical-align: middle;\n",
       "    }\n",
       "\n",
       "    .dataframe tbody tr th {\n",
       "        vertical-align: top;\n",
       "    }\n",
       "\n",
       "    .dataframe thead th {\n",
       "        text-align: right;\n",
       "    }\n",
       "</style>\n",
       "<table border=\"1\" class=\"dataframe\">\n",
       "  <thead>\n",
       "    <tr style=\"text-align: right;\">\n",
       "      <th></th>\n",
       "      <th>Close</th>\n",
       "      <th>Returns</th>\n",
       "      <th>SMA1</th>\n",
       "      <th>SMA2</th>\n",
       "      <th>RevenueSMA1</th>\n",
       "      <th>Asets/LiabiliSMA1</th>\n",
       "      <th>Asets/LiabiliSMA2</th>\n",
       "      <th>Position</th>\n",
       "    </tr>\n",
       "    <tr>\n",
       "      <th>RevenueSMA2</th>\n",
       "      <th></th>\n",
       "      <th></th>\n",
       "      <th></th>\n",
       "      <th></th>\n",
       "      <th></th>\n",
       "      <th></th>\n",
       "      <th></th>\n",
       "      <th></th>\n",
       "    </tr>\n",
       "  </thead>\n",
       "  <tbody>\n",
       "    <tr>\n",
       "      <th>-0.102965</th>\n",
       "      <td>43.370</td>\n",
       "      <td>0.090888</td>\n",
       "      <td>43.370</td>\n",
       "      <td>41.4860</td>\n",
       "      <td>-0.099310</td>\n",
       "      <td>-0.328392</td>\n",
       "      <td>-0.346920</td>\n",
       "      <td>1</td>\n",
       "    </tr>\n",
       "    <tr>\n",
       "      <th>-0.093293</th>\n",
       "      <td>59.330</td>\n",
       "      <td>0.313347</td>\n",
       "      <td>59.330</td>\n",
       "      <td>51.3500</td>\n",
       "      <td>-0.087275</td>\n",
       "      <td>-0.826095</td>\n",
       "      <td>-0.577243</td>\n",
       "      <td>-1</td>\n",
       "    </tr>\n",
       "    <tr>\n",
       "      <th>-0.077424</th>\n",
       "      <td>67.169</td>\n",
       "      <td>0.124097</td>\n",
       "      <td>67.169</td>\n",
       "      <td>63.2495</td>\n",
       "      <td>-0.067574</td>\n",
       "      <td>-0.540063</td>\n",
       "      <td>-0.683079</td>\n",
       "      <td>1</td>\n",
       "    </tr>\n",
       "    <tr>\n",
       "      <th>-0.062024</th>\n",
       "      <td>75.212</td>\n",
       "      <td>0.113099</td>\n",
       "      <td>75.212</td>\n",
       "      <td>71.1905</td>\n",
       "      <td>-0.056475</td>\n",
       "      <td>-0.587271</td>\n",
       "      <td>-0.563667</td>\n",
       "      <td>-1</td>\n",
       "    </tr>\n",
       "  </tbody>\n",
       "</table>\n",
       "</div>"
      ],
      "text/plain": [
       "              Close   Returns    SMA1     SMA2  RevenueSMA1  \\\n",
       "RevenueSMA2                                                   \n",
       "-0.102965    43.370  0.090888  43.370  41.4860    -0.099310   \n",
       "-0.093293    59.330  0.313347  59.330  51.3500    -0.087275   \n",
       "-0.077424    67.169  0.124097  67.169  63.2495    -0.067574   \n",
       "-0.062024    75.212  0.113099  75.212  71.1905    -0.056475   \n",
       "\n",
       "             Asets/LiabiliSMA1  Asets/LiabiliSMA2  Position  \n",
       "RevenueSMA2                                                  \n",
       "-0.102965            -0.328392          -0.346920         1  \n",
       "-0.093293            -0.826095          -0.577243        -1  \n",
       "-0.077424            -0.540063          -0.683079         1  \n",
       "-0.062024            -0.587271          -0.563667        -1  "
      ]
     },
     "metadata": {},
     "output_type": "display_data"
    }
   ],
   "source": [
    "\"\"\"\n",
    "# Advanced GroupBy Use \n",
    "\"\"\"\n",
    "\n",
    "\n",
    "g = cat_data.groupby('RevenueSMA2')\n",
    "\n",
    "display(g.mean())"
   ]
  },
  {
   "cell_type": "code",
   "execution_count": null,
   "id": "ccd8b29c",
   "metadata": {},
   "outputs": [],
   "source": []
  },
  {
   "cell_type": "code",
   "execution_count": null,
   "id": "c7964359",
   "metadata": {},
   "outputs": [],
   "source": []
  }
 ],
 "metadata": {
  "kernelspec": {
   "display_name": "dev",
   "language": "python",
   "name": "dev"
  },
  "language_info": {
   "codemirror_mode": {
    "name": "ipython",
    "version": 3
   },
   "file_extension": ".py",
   "mimetype": "text/x-python",
   "name": "python",
   "nbconvert_exporter": "python",
   "pygments_lexer": "ipython3",
   "version": "3.7.11"
  }
 },
 "nbformat": 4,
 "nbformat_minor": 5
}
