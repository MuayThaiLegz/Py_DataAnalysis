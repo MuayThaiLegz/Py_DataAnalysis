{
 "cells": [
  {
   "cell_type": "code",
   "execution_count": 1,
   "id": "36e54627",
   "metadata": {},
   "outputs": [
    {
     "data": {
      "text/plain": [
       "datetime.datetime(2021, 10, 13, 17, 11, 7, 861753)"
      ]
     },
     "metadata": {},
     "output_type": "display_data"
    },
    {
     "name": "stdout",
     "output_type": "stream",
     "text": [
      "2021 10 13\n"
     ]
    },
    {
     "data": {
      "text/plain": [
       "datetime.timedelta(days=926, seconds=56700)"
      ]
     },
     "metadata": {},
     "output_type": "display_data"
    },
    {
     "data": {
      "text/plain": [
       "926"
      ]
     },
     "metadata": {},
     "output_type": "display_data"
    },
    {
     "data": {
      "text/plain": [
       "56700"
      ]
     },
     "metadata": {},
     "output_type": "display_data"
    },
    {
     "name": "stdout",
     "output_type": "stream",
     "text": [
      "Types in datetime module page 325\n"
     ]
    }
   ],
   "source": [
    "\"\"\"\n",
    "Chapter 11 - Time Series:\n",
    "Anything that is observed, measured at many points in time forms a time series.\n",
    "Many time series are fixed frequency,\n",
    "which is to say that data points coour at regular intervals according to some rule,\n",
    "such as every 15 secs, 5 mins, or per month. Time Series can also be irregular without fixed unit\n",
    "of time or offset between units. How to mark and refer to time series data depends on the application\n",
    "and you may have one of the following:\n",
    "    * Timestamps specific instants in time\n",
    "    * Fixed periods, such as the month January 2007 of the  full year 2010\n",
    "    * Intervals of time, indicated by a start and end timestamp.\n",
    "        Periods can be thought of as special cases of intervals\n",
    "    * Experiment or elapsed time;\n",
    "        each timestamp is a measure of time relative to a particular start time:\n",
    "            (the diameter of a cookie baking each second sicne being placed in the oven)\n",
    "\"\"\"\n",
    "# Date and Time Data Types and Tools \n",
    "import pandas as pd\n",
    "import numpy as np\n",
    "\n",
    "from datetime import datetime\n",
    "\n",
    "now = datetime.now()\n",
    "\n",
    "display(now)\n",
    "\n",
    "print(now.year, now.month, now.day)\n",
    "\n",
    "# datime stores both the date and time down to the microsecond.\n",
    "# timedelta represents the temporal difference between two datetime objects:\n",
    "\n",
    "delta = datetime(2011, 1, 7) - datetime(2008, 6, 24, 8, 15)\n",
    "\n",
    "display(delta)\n",
    "\n",
    "display(delta.days)\n",
    "\n",
    "display(delta.seconds)\n",
    "\n",
    "# add / subtract a timedelta | multiple thereof to datetime object to yield a new shifed object\n",
    "\n",
    "from datetime import timedelta\n",
    "\n",
    "start = datetime.now()\n",
    "\n",
    "start + timedelta(12)\n",
    "\n",
    "print('Types in datetime module page 325')"
   ]
  },
  {
   "cell_type": "code",
   "execution_count": 2,
   "id": "066ca521",
   "metadata": {},
   "outputs": [
    {
     "data": {
      "text/plain": [
       "'2011-01-03 00:00:00'"
      ]
     },
     "metadata": {},
     "output_type": "display_data"
    },
    {
     "data": {
      "text/plain": [
       "'2011-01-03'"
      ]
     },
     "metadata": {},
     "output_type": "display_data"
    },
    {
     "name": "stdout",
     "output_type": "stream",
     "text": [
      "Datetime format specification page 325\n"
     ]
    }
   ],
   "source": [
    "# Converting Between String and Datetime \n",
    "# format datetime object & pd Timestamp object,using srt|strftime method, pass f specification\n",
    "\n",
    "stamp = datetime(2011, 1, 3)\n",
    "\n",
    "display(str(stamp))\n",
    "\n",
    "display(stamp.strftime(\"%Y-%m-%d\"))\n",
    "\n",
    "print('Datetime format specification page 325')"
   ]
  },
  {
   "cell_type": "code",
   "execution_count": 3,
   "id": "fc19bebf",
   "metadata": {},
   "outputs": [
    {
     "data": {
      "text/plain": [
       "datetime.datetime(2011, 1, 3, 0, 0)"
      ]
     },
     "metadata": {},
     "output_type": "display_data"
    },
    {
     "data": {
      "text/plain": [
       "datetime.datetime(2011, 1, 3, 0, 0)"
      ]
     },
     "metadata": {},
     "output_type": "display_data"
    },
    {
     "data": {
      "text/plain": [
       "['7/6/2011', '8/6/2011']"
      ]
     },
     "metadata": {},
     "output_type": "display_data"
    },
    {
     "data": {
      "text/plain": [
       "[datetime.datetime(2011, 7, 6, 0, 0), datetime.datetime(2011, 8, 6, 0, 0)]"
      ]
     },
     "metadata": {},
     "output_type": "display_data"
    },
    {
     "data": {
      "text/plain": [
       "datetime.datetime(2011, 1, 3, 0, 0)"
      ]
     },
     "metadata": {},
     "output_type": "display_data"
    },
    {
     "data": {
      "text/plain": [
       "datetime.datetime(1997, 1, 31, 22, 45)"
      ]
     },
     "metadata": {},
     "output_type": "display_data"
    },
    {
     "data": {
      "text/plain": [
       "datetime.datetime(2021, 12, 6, 0, 0)"
      ]
     },
     "metadata": {},
     "output_type": "display_data"
    },
    {
     "data": {
      "text/plain": [
       "DatetimeIndex(['2011-07-06 12:00:00', '2011-08-06 00:00:00'], dtype='datetime64[ns]', freq=None)"
      ]
     },
     "metadata": {},
     "output_type": "display_data"
    },
    {
     "name": "stdout",
     "output_type": "stream",
     "text": [
      "Locale-specific date formatting\n"
     ]
    }
   ],
   "source": [
    "# Use many of the same format codes to conver strings to dates using datetime.strptime\n",
    "    # some codes like %F cannot be used\n",
    "    \n",
    "value = '2011-01-03'\n",
    "display(datetime.strptime(value, '%Y-%m-%d'))\n",
    "\n",
    "display(datetime(2011, 1, 3, 0, 0))\n",
    "\n",
    "daatestrs = ['7/6/2011', '8/6/2011']\n",
    "\n",
    "display(daatestrs)\n",
    "\n",
    "display([datetime.strptime(x, '%m/%d/%Y') for x in daatestrs])\n",
    "\n",
    "# datetime.strptime is a good way to parse a date with a known format.\n",
    "# avaoid writing format sects eachtime use the parser.parse method in 3rd-party dateutil package\n",
    "\n",
    "from dateutil.parser import parse\n",
    "\n",
    "display(parse('2011-01-03'))\n",
    "\n",
    "# dateutil is capable of parsing most human -intelligible date representaions\n",
    "\n",
    "display(parse('Jan 31, 1997 10:45 PM'))\n",
    "\n",
    "# for day appearing before month pass dayfirst=True to indicate this\n",
    "\n",
    "display(parse('6/12/2021', dayfirst=True))\n",
    "\n",
    "# pd uses arr as axis idx|col in df.to_datetime parses different kinds of date representations.\n",
    "\n",
    "datesrts = ['2011-07-06 12:00:00', '2011-08-06 00:00:00']\n",
    "\n",
    "display(pd.to_datetime(datesrts))\n",
    "\n",
    "print('Locale-specific date formatting')"
   ]
  },
  {
   "cell_type": "code",
   "execution_count": 4,
   "id": "c31fe4ec",
   "metadata": {},
   "outputs": [
    {
     "data": {
      "text/plain": [
       "2011-01-02   -1.671792\n",
       "2011-01-05   -1.986466\n",
       "2011-01-07    0.147014\n",
       "2011-01-08    0.925276\n",
       "2011-01-10   -0.795081\n",
       "2011-01-12   -1.328955\n",
       "dtype: float64"
      ]
     },
     "metadata": {},
     "output_type": "display_data"
    },
    {
     "data": {
      "text/plain": [
       "DatetimeIndex(['2011-01-02', '2011-01-05', '2011-01-07', '2011-01-08',\n",
       "               '2011-01-10', '2011-01-12'],\n",
       "              dtype='datetime64[ns]', freq=None)"
      ]
     },
     "metadata": {},
     "output_type": "display_data"
    },
    {
     "data": {
      "text/plain": [
       "Timestamp('2011-01-02 00:00:00')"
      ]
     },
     "metadata": {},
     "output_type": "display_data"
    }
   ],
   "source": [
    "\"\"\"\n",
    "# Time Series Basics:\n",
    "    A basic kind of time series object in pd is a series indexed by timestamps,\n",
    "    which is often represented external to pd as py strings or datetime objects:\n",
    "\"\"\"\n",
    "\n",
    "from datetime import datetime\n",
    "\n",
    "dates = [datetime(2011, 1, 2), datetime(2011, 1, 5),\n",
    "         datetime(2011, 1, 7), datetime(2011, 1, 8),\n",
    "         datetime(2011, 1, 10), datetime(2011, 1, 12)]\n",
    "\n",
    "ts = pd.Series(np.random.randn(6), index=dates)\n",
    "\n",
    "display(ts)\n",
    "\n",
    "# Under the hood, these satetime objects have been put in a datetimeIndex:\n",
    "\n",
    "display(ts.index)\n",
    "\n",
    "# Like other Series, arithmetic operations between differently indexed time series automatically \n",
    "# aling on the dates:\n",
    "ts + ts[::2]\n",
    "\n",
    "# Scalar values from a DatietimeIndex are pd timsestamp objects:\n",
    "\n",
    "stamp = ts.index[0]\n",
    "\n",
    "display(stamp)\n",
    "\n",
    "# A timestamp can be substitues anuwhere you would use a datetime object. Also it can store \n",
    "# frequency information and usntands how to do time zone conversions and other manipulations."
   ]
  },
  {
   "cell_type": "code",
   "execution_count": 5,
   "id": "01d365d6",
   "metadata": {},
   "outputs": [
    {
     "data": {
      "text/plain": [
       "0.14701397338144617"
      ]
     },
     "metadata": {},
     "output_type": "display_data"
    },
    {
     "data": {
      "text/plain": [
       "-0.7950808562427746"
      ]
     },
     "metadata": {},
     "output_type": "display_data"
    },
    {
     "data": {
      "text/plain": [
       "-0.7950808562427746"
      ]
     },
     "metadata": {},
     "output_type": "display_data"
    },
    {
     "data": {
      "text/plain": [
       "2000-01-01    1.262395\n",
       "2000-01-02   -1.940803\n",
       "2000-01-03   -1.502487\n",
       "2000-01-04   -0.161514\n",
       "2000-01-05   -1.768813\n",
       "                ...   \n",
       "2002-09-22   -0.427228\n",
       "2002-09-23   -0.274869\n",
       "2002-09-24    0.043071\n",
       "2002-09-25    0.649159\n",
       "2002-09-26   -0.390599\n",
       "Freq: D, Length: 1000, dtype: float64"
      ]
     },
     "metadata": {},
     "output_type": "display_data"
    },
    {
     "data": {
      "text/plain": [
       "2001-01-01   -2.044789\n",
       "2001-01-02    0.555724\n",
       "2001-01-03   -0.301791\n",
       "2001-01-04   -0.439534\n",
       "2001-01-05   -1.036867\n",
       "Freq: D, dtype: float64"
      ]
     },
     "metadata": {},
     "output_type": "display_data"
    },
    {
     "data": {
      "text/plain": [
       "2001-05-01   -2.515559\n",
       "2001-05-02    0.486204\n",
       "2001-05-03   -1.380313\n",
       "2001-05-04    1.687745\n",
       "2001-05-05   -0.360070\n",
       "Freq: D, dtype: float64"
      ]
     },
     "metadata": {},
     "output_type": "display_data"
    },
    {
     "data": {
      "text/plain": [
       "2011-01-07    0.147014\n",
       "2011-01-08    0.925276\n",
       "2011-01-10   -0.795081\n",
       "2011-01-12   -1.328955\n",
       "dtype: float64"
      ]
     },
     "metadata": {},
     "output_type": "display_data"
    },
    {
     "data": {
      "text/plain": [
       "2011-01-07    0.147014\n",
       "2011-01-08    0.925276\n",
       "2011-01-10   -0.795081\n",
       "dtype: float64"
      ]
     },
     "metadata": {},
     "output_type": "display_data"
    },
    {
     "data": {
      "text/plain": [
       "2011-01-02   -1.671792\n",
       "2011-01-05   -1.986466\n",
       "2011-01-07    0.147014\n",
       "2011-01-08    0.925276\n",
       "dtype: float64"
      ]
     },
     "metadata": {},
     "output_type": "display_data"
    }
   ],
   "source": [
    "# Indexing, Selection, Subsetting\n",
    "# Time series behaves like any other pd.Series when you are indexing and selecting data based on label:\n",
    "\n",
    "stamp = ts.index[2]\n",
    "\n",
    "display(ts[stamp])\n",
    "\n",
    "# As a convenience, you can also pass s string that is interpretable as a date:\n",
    "\n",
    "display(ts['1/10/2011'])\n",
    "\n",
    "display(ts['20110110'])\n",
    "\n",
    "# For longer time series, a year or only a year and month can be passed to easily selct slices of data:\n",
    "\n",
    "longer_ts = pd.Series(np.random.randn(1000),\n",
    "                      index=pd.date_range('1/1/2000', periods=1000))\n",
    "\n",
    "display(longer_ts)\n",
    "\n",
    "display(longer_ts['2001'][:5])\n",
    "\n",
    "# Here the string \"2001\" is interpreted as a year and selects that time period. \n",
    "# This works if you specify the month:\n",
    "\n",
    "display(longer_ts['2001-05'][:5])\n",
    "\n",
    "# Slicing with datime onjects works as well:\n",
    "\n",
    "display(ts[datetime(2011, 1, 7):])\n",
    "\n",
    "# You can slice with timestamps not contained in a time series to perform a range query:\n",
    "\n",
    "display(ts['1/6/2011':'1/11/2011'])\n",
    "\n",
    "# Modifications on the slice will be reflactied in ther original data\n",
    "\n",
    "# These is an equivalent instance methos , trucate, that slices a Series betweeen two dates:\n",
    "\n",
    "display(ts.truncate(after='1/9/2011'))\n",
    "\n",
    "# All this holds for the df as well, indexing on its rows:"
   ]
  },
  {
   "cell_type": "code",
   "execution_count": 6,
   "id": "f1548cf5",
   "metadata": {},
   "outputs": [],
   "source": [
    "# Time Series with Duplucate Indices \n",
    "# In some apllications, there may be multiple data obsevations falling on a particualr timmestamp"
   ]
  },
  {
   "cell_type": "code",
   "execution_count": 7,
   "id": "65d51dbc",
   "metadata": {},
   "outputs": [
    {
     "data": {
      "text/plain": [
       "DatetimeIndex(['2012-04-01', '2012-04-02', '2012-04-03', '2012-04-04',\n",
       "               '2012-04-05', '2012-04-06', '2012-04-07', '2012-04-08',\n",
       "               '2012-04-09', '2012-04-10', '2012-04-11', '2012-04-12',\n",
       "               '2012-04-13', '2012-04-14', '2012-04-15', '2012-04-16',\n",
       "               '2012-04-17', '2012-04-18', '2012-04-19', '2012-04-20',\n",
       "               '2012-04-21', '2012-04-22', '2012-04-23', '2012-04-24',\n",
       "               '2012-04-25', '2012-04-26', '2012-04-27', '2012-04-28',\n",
       "               '2012-04-29', '2012-04-30', '2012-05-01', '2012-05-02',\n",
       "               '2012-05-03', '2012-05-04', '2012-05-05', '2012-05-06',\n",
       "               '2012-05-07', '2012-05-08', '2012-05-09', '2012-05-10',\n",
       "               '2012-05-11', '2012-05-12', '2012-05-13', '2012-05-14',\n",
       "               '2012-05-15', '2012-05-16', '2012-05-17', '2012-05-18',\n",
       "               '2012-05-19', '2012-05-20', '2012-05-21', '2012-05-22',\n",
       "               '2012-05-23', '2012-05-24', '2012-05-25', '2012-05-26',\n",
       "               '2012-05-27', '2012-05-28', '2012-05-29', '2012-05-30',\n",
       "               '2012-05-31', '2012-06-01'],\n",
       "              dtype='datetime64[ns]', freq='D')"
      ]
     },
     "metadata": {},
     "output_type": "display_data"
    },
    {
     "data": {
      "text/plain": [
       "DatetimeIndex(['2012-04-01', '2012-04-02', '2012-04-03', '2012-04-04',\n",
       "               '2012-04-05', '2012-04-06', '2012-04-07', '2012-04-08',\n",
       "               '2012-04-09', '2012-04-10', '2012-04-11', '2012-04-12',\n",
       "               '2012-04-13', '2012-04-14', '2012-04-15', '2012-04-16',\n",
       "               '2012-04-17', '2012-04-18', '2012-04-19', '2012-04-20'],\n",
       "              dtype='datetime64[ns]', freq='D')"
      ]
     },
     "metadata": {},
     "output_type": "display_data"
    },
    {
     "data": {
      "text/plain": [
       "DatetimeIndex(['2012-05-13', '2012-05-14', '2012-05-15', '2012-05-16',\n",
       "               '2012-05-17', '2012-05-18', '2012-05-19', '2012-05-20',\n",
       "               '2012-05-21', '2012-05-22', '2012-05-23', '2012-05-24',\n",
       "               '2012-05-25', '2012-05-26', '2012-05-27', '2012-05-28',\n",
       "               '2012-05-29', '2012-05-30', '2012-05-31', '2012-06-01'],\n",
       "              dtype='datetime64[ns]', freq='D')"
      ]
     },
     "metadata": {},
     "output_type": "display_data"
    }
   ],
   "source": [
    "\"\"\"\n",
    "# 11.3: Date Ranges, Frequencies, and Shifting\n",
    "\n",
    "You can convert the sample time series to be fixed daily frequency by calling resample:\n",
    "\"\"\"\n",
    "\n",
    "ts\n",
    "\n",
    "resampler = ts.resample(\"D\") # D daily frequency; Here we use base frequencies and multiples thereof\n",
    "\n",
    "# Generating Date Ranges: pd.date_range is responsible for generating a DatatimeIndex \n",
    "\n",
    "index = pd.date_range('2012-04-01', '2012-06-01')\n",
    "\n",
    "display(index)\n",
    "\n",
    "# By default, date_range genarates daily timestamps. If you pass only a strat or end date\n",
    "# You must pass a number of periods to generate:\n",
    "\n",
    "may = pd.date_range(start='2012-04-01', periods=20)\n",
    "        \n",
    "june = pd.date_range(end='2012-06-01', periods=20)\n",
    "\n",
    "display(may)\n",
    "                     \n",
    "display(june)"
   ]
  },
  {
   "cell_type": "code",
   "execution_count": 8,
   "id": "51021f10",
   "metadata": {},
   "outputs": [
    {
     "data": {
      "text/plain": [
       "DatetimeIndex(['2012-05-02 12:56:31', '2012-05-03 12:56:31',\n",
       "               '2012-05-04 12:56:31', '2012-05-05 12:56:31',\n",
       "               '2012-05-06 12:56:31'],\n",
       "              dtype='datetime64[ns]', freq='D')"
      ]
     },
     "metadata": {},
     "output_type": "display_data"
    },
    {
     "data": {
      "text/plain": [
       "DatetimeIndex(['2012-05-02', '2012-05-03', '2012-05-04', '2012-05-05',\n",
       "               '2012-05-06'],\n",
       "              dtype='datetime64[ns]', freq='D')"
      ]
     },
     "metadata": {},
     "output_type": "display_data"
    }
   ],
   "source": [
    "\"\"\"\n",
    "The start and end dates define strict boundaries for the generated date index.\n",
    "\n",
    "Base time series frequencies (not comphensive page 355)\n",
    "\n",
    "date_range by default preserves the time (in any) of the start or end stomestamp:\n",
    "\"\"\"                     \n",
    "non_mod = pd.date_range('2012-05-02 12:56:31',\n",
    "              periods=5)\n",
    "\n",
    "# To mormalized to mifnight as a convention. Use the normalize option:\n",
    "\n",
    "norm = pd.date_range('2012-05-02 12:56:31',\n",
    "              periods=5,\n",
    "              normalize=True)\n",
    "\n",
    "display(non_mod)\n",
    "\n",
    "display(norm)"
   ]
  },
  {
   "cell_type": "code",
   "execution_count": 9,
   "id": "ff3d39b1",
   "metadata": {},
   "outputs": [
    {
     "data": {
      "text/plain": [
       "<Hour>"
      ]
     },
     "metadata": {},
     "output_type": "display_data"
    },
    {
     "data": {
      "text/plain": [
       "<4 * Hours>"
      ]
     },
     "metadata": {},
     "output_type": "display_data"
    },
    {
     "data": {
      "text/plain": [
       "DatetimeIndex(['2000-01-01 00:00:00', '2000-01-01 04:00:00',\n",
       "               '2000-01-01 08:00:00', '2000-01-01 12:00:00',\n",
       "               '2000-01-01 16:00:00', '2000-01-01 20:00:00',\n",
       "               '2000-01-02 00:00:00', '2000-01-02 04:00:00',\n",
       "               '2000-01-02 08:00:00', '2000-01-02 12:00:00',\n",
       "               '2000-01-02 16:00:00', '2000-01-02 20:00:00',\n",
       "               '2000-01-03 00:00:00'],\n",
       "              dtype='datetime64[ns]', freq='4H')"
      ]
     },
     "metadata": {},
     "output_type": "display_data"
    },
    {
     "data": {
      "text/plain": [
       "DatetimeIndex(['2021-01-01 00:00:00', '2021-01-01 01:30:00',\n",
       "               '2021-01-01 03:00:00', '2021-01-01 04:30:00',\n",
       "               '2021-01-01 06:00:00', '2021-01-01 07:30:00',\n",
       "               '2021-01-01 09:00:00', '2021-01-01 10:30:00',\n",
       "               '2021-01-01 12:00:00', '2021-01-01 13:30:00'],\n",
       "              dtype='datetime64[ns]', freq='90T')"
      ]
     },
     "metadata": {},
     "output_type": "display_data"
    }
   ],
   "source": [
    "# Frequencies and Date Offsets \n",
    "\n",
    "from pandas.tseries.offsets import Hour, Minute\n",
    "\n",
    "hour = Hour()\n",
    "\n",
    "display(hour)\n",
    "\n",
    "# You can define a multipkle of an offset by passing an integer:\n",
    "\n",
    "four_hours = Hour(4)\n",
    "\n",
    "display(four_hours)\n",
    "\n",
    "# Putting an interger before the base frequency creates a mulitple\n",
    "\n",
    "multiple = pd.date_range(\"2000-01-01\", '2000-01-03', freq='4h')\n",
    "\n",
    "display(multiple)\n",
    "\n",
    "# Many offsets can be combined together by addition:\n",
    "\n",
    "Hour(2) + Minute(30)\n",
    "\n",
    "# Pass a frequency strings, like '1h30min', that will effectively be parsed to the expressing:\n",
    "\n",
    "custom_mod = pd.date_range('2021-01-01', periods=10, freq='1h30min')\n",
    "\n",
    "display(custom_mod)"
   ]
  },
  {
   "cell_type": "code",
   "execution_count": 10,
   "id": "c8e83e4d",
   "metadata": {},
   "outputs": [
    {
     "data": {
      "text/plain": [
       "DatetimeIndex(['2020-01-17', '2020-02-21', '2020-03-20', '2020-04-17',\n",
       "               '2020-05-15', '2020-06-19', '2020-07-17', '2020-08-21'],\n",
       "              dtype='datetime64[ns]', freq='WOM-3FRI')"
      ]
     },
     "metadata": {},
     "output_type": "display_data"
    },
    {
     "data": {
      "text/plain": [
       "2000-01-31    0.323411\n",
       "2000-02-29    0.314570\n",
       "2000-03-31   -0.675444\n",
       "2000-04-30    1.229575\n",
       "Freq: M, dtype: float64"
      ]
     },
     "metadata": {},
     "output_type": "display_data"
    },
    {
     "data": {
      "text/plain": [
       "2000-01-31         NaN\n",
       "2000-02-29         NaN\n",
       "2000-03-31    0.323411\n",
       "2000-04-30    0.314570\n",
       "Freq: M, dtype: float64"
      ]
     },
     "metadata": {},
     "output_type": "display_data"
    },
    {
     "data": {
      "text/plain": [
       "2000-01-31   -0.675444\n",
       "2000-02-29    1.229575\n",
       "2000-03-31         NaN\n",
       "2000-04-30         NaN\n",
       "Freq: M, dtype: float64"
      ]
     },
     "metadata": {},
     "output_type": "display_data"
    },
    {
     "data": {
      "text/plain": [
       "2000-01-31         NaN\n",
       "2000-02-29   -0.027337\n",
       "2000-03-31   -3.147198\n",
       "2000-04-30   -2.820394\n",
       "Freq: M, dtype: float64"
      ]
     },
     "metadata": {},
     "output_type": "display_data"
    },
    {
     "data": {
      "text/plain": [
       "2000-03-31    0.323411\n",
       "2000-04-30    0.314570\n",
       "2000-05-31   -0.675444\n",
       "2000-06-30    1.229575\n",
       "Freq: M, dtype: float64"
      ]
     },
     "metadata": {},
     "output_type": "display_data"
    },
    {
     "data": {
      "text/plain": [
       "2000-02-03    0.323411\n",
       "2000-03-03    0.314570\n",
       "2000-04-03   -0.675444\n",
       "2000-05-03    1.229575\n",
       "dtype: float64"
      ]
     },
     "metadata": {},
     "output_type": "display_data"
    },
    {
     "data": {
      "text/plain": [
       "2000-01-31 01:30:00    0.323411\n",
       "2000-02-29 01:30:00    0.314570\n",
       "2000-03-31 01:30:00   -0.675444\n",
       "2000-04-30 01:30:00    1.229575\n",
       "dtype: float64"
      ]
     },
     "metadata": {},
     "output_type": "display_data"
    },
    {
     "data": {
      "text/plain": [
       "Timestamp('2011-11-20 00:00:00')"
      ]
     },
     "metadata": {},
     "output_type": "display_data"
    },
    {
     "data": {
      "text/plain": [
       "Timestamp('2011-11-30 00:00:00')"
      ]
     },
     "metadata": {},
     "output_type": "display_data"
    },
    {
     "data": {
      "text/plain": [
       "Timestamp('2011-12-31 00:00:00')"
      ]
     },
     "metadata": {},
     "output_type": "display_data"
    },
    {
     "data": {
      "text/plain": [
       "Timestamp('2011-11-30 00:00:00')"
      ]
     },
     "metadata": {},
     "output_type": "display_data"
    },
    {
     "data": {
      "text/plain": [
       "Timestamp('2011-10-31 00:00:00')"
      ]
     },
     "metadata": {},
     "output_type": "display_data"
    },
    {
     "data": {
      "text/plain": [
       "2000-01-15   -0.348630\n",
       "2000-01-19   -0.242899\n",
       "2000-01-23    1.531511\n",
       "2000-01-27    0.800669\n",
       "2000-01-31   -1.490771\n",
       "2000-02-04   -1.215172\n",
       "2000-02-08    0.344875\n",
       "2000-02-12   -0.831604\n",
       "2000-02-16   -0.067861\n",
       "2000-02-20    0.889792\n",
       "2000-02-24    1.703046\n",
       "2000-02-28   -0.802500\n",
       "2000-03-03   -0.152938\n",
       "2000-03-07    0.916087\n",
       "2000-03-11   -0.515430\n",
       "2000-03-15    0.025064\n",
       "2000-03-19    3.203713\n",
       "2000-03-23    0.092109\n",
       "2000-03-27    0.141511\n",
       "2000-03-31    0.733799\n",
       "Freq: 4D, dtype: float64"
      ]
     },
     "metadata": {},
     "output_type": "display_data"
    },
    {
     "data": {
      "text/plain": [
       "1999-12-31    0.435163\n",
       "2000-01-31   -0.183774\n",
       "2000-02-29    0.530017\n",
       "2000-03-31    0.733799\n",
       "dtype: float64"
      ]
     },
     "metadata": {},
     "output_type": "display_data"
    },
    {
     "data": {
      "text/plain": [
       "2000-01-31    0.049976\n",
       "2000-02-29    0.002939\n",
       "2000-03-31    0.555489\n",
       "Freq: M, dtype: float64"
      ]
     },
     "metadata": {},
     "output_type": "display_data"
    }
   ],
   "source": [
    "# Week of month dates: WOM enables you to get dates like the third Friday of each month:\n",
    "\n",
    "rng = pd.date_range('2020-01-01', '2020-09-01', freq='WOM-3FRI')\n",
    "\n",
    "display(rng)\n",
    "\n",
    "# Shifting (Leading and Lagging) Data\n",
    "# \"shifting\" refers to moving data backward and foward through time.\n",
    "# Both Series and df have shift method for doing naive shifts forward or abckeard\n",
    "# Leaving index unmodified:\n",
    "\n",
    "ts = pd.Series(np.random.randn(4),\n",
    "              index=pd.date_range('1/1/2000', periods=4, freq='M'))\n",
    "\n",
    "display(ts)\n",
    "\n",
    "display(ts.shift(2))\n",
    "\n",
    "display(ts.shift(-2))\n",
    "\n",
    "# A common use of shift is computing % change in a time series or multiple series as df columns.\n",
    "\n",
    "display(ts / ts.shift(1) -1)\n",
    "\n",
    "# Frequency is known, it can passed to shitf to advance the timestamps instead of simple the data\n",
    "\n",
    "display(ts.shift(2, freq='M'))\n",
    "\n",
    "# Other frequencies can be apssed, too, giving you some flaexibility in how to lead and lag data\n",
    "\n",
    "display(ts.shift(3, freq='D'))\n",
    "\n",
    "display(ts.shift(1, freq='90T'))\n",
    "\n",
    "# The T stands for minutes. Note that the freq parameter here indicates the offset to apply to the\n",
    "# timestamps, but it does not change the underlying frequncy of the data, if any\n",
    "\n",
    "# Shifting, dates wiiht offsets; The pandas date ofsets can also be used with datetime|Timestamp\n",
    "\n",
    "from pandas.tseries.offsets import Day, MonthEnd\n",
    "\n",
    "now = datetime(2011, 11, 17)\n",
    "\n",
    "display(now + 3 * Day())\n",
    "\n",
    "# If you add an anchored offset like MonthEnd, the first increment will 'roll forward' \n",
    "# a date to the next date according to the frequency rule:\n",
    "\n",
    "display(now + MonthEnd())\n",
    "\n",
    "display(now + MonthEnd(2))\n",
    "\n",
    "# Anchored offets can explicitly 'roll' dates forward or backward by simply suning there \n",
    "# rollfowaed and rollback methods,respectively:\n",
    "\n",
    "offset = MonthEnd()\n",
    "\n",
    "display(offset.rollforward(now))\n",
    "\n",
    "display(offset.rollback(now))\n",
    "\n",
    "# A creative use of date offsets in to use these methods with groupby:\n",
    "\n",
    "ts = pd.Series(np.random.randn(20),\n",
    "              index=pd.date_range('1/15/2000', periods=20, freq='4d'))\n",
    "\n",
    "display(ts)\n",
    "\n",
    "display(ts.groupby(offset.rollback).mean())\n",
    "\n",
    "display(ts.resample('M').mean())\n"
   ]
  },
  {
   "cell_type": "code",
   "execution_count": 11,
   "id": "42e23a82",
   "metadata": {},
   "outputs": [
    {
     "data": {
      "text/plain": [
       "['US/Eastern', 'US/Hawaii', 'US/Mountain', 'US/Pacific', 'UTC']"
      ]
     },
     "metadata": {},
     "output_type": "display_data"
    },
    {
     "data": {
      "text/plain": [
       "<DstTzInfo 'America/New_York' LMT-1 day, 19:04:00 STD>"
      ]
     },
     "metadata": {},
     "output_type": "display_data"
    },
    {
     "data": {
      "text/plain": [
       "DatetimeIndex(['2012-03-09 09:30:00', '2012-03-10 09:30:00',\n",
       "               '2012-03-11 09:30:00', '2012-03-12 09:30:00',\n",
       "               '2012-03-13 09:30:00', '2012-03-14 09:30:00'],\n",
       "              dtype='datetime64[ns]', freq='D')"
      ]
     },
     "metadata": {},
     "output_type": "display_data"
    },
    {
     "data": {
      "text/plain": [
       "2020-01-17    0.512878\n",
       "2020-02-21    0.206506\n",
       "2020-03-20    0.691789\n",
       "2020-04-17    0.800493\n",
       "2020-05-15    0.785732\n",
       "2020-06-19    0.388258\n",
       "2020-07-17    0.290691\n",
       "2020-08-21    0.569047\n",
       "Freq: WOM-3FRI, dtype: float64"
      ]
     },
     "metadata": {},
     "output_type": "display_data"
    },
    {
     "name": "stdout",
     "output_type": "stream",
     "text": [
      "None\n"
     ]
    },
    {
     "data": {
      "text/plain": [
       "DatetimeIndex(['2012-03-09 09:30:00+00:00', '2012-03-10 09:30:00+00:00',\n",
       "               '2012-03-11 09:30:00+00:00', '2012-03-12 09:30:00+00:00',\n",
       "               '2012-03-13 09:30:00+00:00', '2012-03-14 09:30:00+00:00',\n",
       "               '2012-03-15 09:30:00+00:00', '2012-03-16 09:30:00+00:00',\n",
       "               '2012-03-17 09:30:00+00:00', '2012-03-18 09:30:00+00:00'],\n",
       "              dtype='datetime64[ns, UTC]', freq='D')"
      ]
     },
     "metadata": {},
     "output_type": "display_data"
    },
    {
     "data": {
      "text/plain": [
       "2020-01-17 00:00:00+00:00    0.512878\n",
       "2020-02-21 00:00:00+00:00    0.206506\n",
       "2020-03-20 00:00:00+00:00    0.691789\n",
       "2020-04-17 00:00:00+00:00    0.800493\n",
       "2020-05-15 00:00:00+00:00    0.785732\n",
       "2020-06-19 00:00:00+00:00    0.388258\n",
       "2020-07-17 00:00:00+00:00    0.290691\n",
       "2020-08-21 00:00:00+00:00    0.569047\n",
       "Freq: WOM-3FRI, dtype: float64"
      ]
     },
     "metadata": {},
     "output_type": "display_data"
    },
    {
     "data": {
      "text/plain": [
       "DatetimeIndex(['2020-01-17 00:00:00+00:00', '2020-02-21 00:00:00+00:00',\n",
       "               '2020-03-20 00:00:00+00:00', '2020-04-17 00:00:00+00:00',\n",
       "               '2020-05-15 00:00:00+00:00', '2020-06-19 00:00:00+00:00',\n",
       "               '2020-07-17 00:00:00+00:00', '2020-08-21 00:00:00+00:00'],\n",
       "              dtype='datetime64[ns, UTC]', freq='WOM-3FRI')"
      ]
     },
     "metadata": {},
     "output_type": "display_data"
    },
    {
     "data": {
      "text/plain": [
       "2020-01-16 19:00:00-05:00    0.512878\n",
       "2020-02-20 19:00:00-05:00    0.206506\n",
       "2020-03-19 20:00:00-04:00    0.691789\n",
       "2020-04-16 20:00:00-04:00    0.800493\n",
       "2020-05-14 20:00:00-04:00    0.785732\n",
       "2020-06-18 20:00:00-04:00    0.388258\n",
       "2020-07-16 20:00:00-04:00    0.290691\n",
       "2020-08-20 20:00:00-04:00    0.569047\n",
       "Freq: WOM-3FRI, dtype: float64"
      ]
     },
     "metadata": {},
     "output_type": "display_data"
    },
    {
     "data": {
      "text/plain": [
       "2020-01-17 05:00:00+00:00    0.512878\n",
       "2020-02-21 05:00:00+00:00    0.206506\n",
       "2020-03-20 04:00:00+00:00    0.691789\n",
       "2020-04-17 04:00:00+00:00    0.800493\n",
       "2020-05-15 04:00:00+00:00    0.785732\n",
       "2020-06-19 04:00:00+00:00    0.388258\n",
       "2020-07-17 04:00:00+00:00    0.290691\n",
       "2020-08-21 04:00:00+00:00    0.569047\n",
       "dtype: float64"
      ]
     },
     "metadata": {},
     "output_type": "display_data"
    },
    {
     "data": {
      "text/plain": [
       "2020-01-17 06:00:00+01:00    0.512878\n",
       "2020-02-21 06:00:00+01:00    0.206506\n",
       "2020-03-20 05:00:00+01:00    0.691789\n",
       "2020-04-17 06:00:00+02:00    0.800493\n",
       "2020-05-15 06:00:00+02:00    0.785732\n",
       "2020-06-19 06:00:00+02:00    0.388258\n",
       "2020-07-17 06:00:00+02:00    0.290691\n",
       "2020-08-21 06:00:00+02:00    0.569047\n",
       "dtype: float64"
      ]
     },
     "metadata": {},
     "output_type": "display_data"
    },
    {
     "data": {
      "text/plain": [
       "DatetimeIndex(['2020-01-17 00:00:00+08:00', '2020-02-21 00:00:00+08:00',\n",
       "               '2020-03-20 00:00:00+08:00', '2020-04-17 00:00:00+08:00',\n",
       "               '2020-05-15 00:00:00+08:00', '2020-06-19 00:00:00+08:00',\n",
       "               '2020-07-17 00:00:00+08:00', '2020-08-21 00:00:00+08:00'],\n",
       "              dtype='datetime64[ns, Asia/Shanghai]', freq=None)"
      ]
     },
     "metadata": {},
     "output_type": "display_data"
    }
   ],
   "source": [
    "\"\"\"\n",
    "# TIme Zone Handling\n",
    "\n",
    "Working with time zones generally considered one of most unpleasnt part of timeseries manipulation\n",
    "Coordinated Universal Time or UTC, which is the international standard. \n",
    "Timezones are expressed as offsets from UTC.\n",
    "\"\"\"\n",
    "\n",
    "import pytz\n",
    "\n",
    "display(pytz.common_timezones[-5:])\n",
    "\n",
    "# To get a time zone object form pytz, use pytz.timezone:\n",
    "\n",
    "tz = pytz.timezone('America/New_York')\n",
    "\n",
    "display(tz)\n",
    "\n",
    "# Time Zone Localization and Conversion: times series in pd are time zine naive.\n",
    "\n",
    "png = pd.date_range('3/9/2012 9:30', periods=6, freq='D')\n",
    "\n",
    "display(png)\n",
    "\n",
    "ts = pd.Series(np.random.rand(len(rng)), index=rng)\n",
    "\n",
    "display(ts)\n",
    "\n",
    "# Time index's tz fiels is None:\n",
    "\n",
    "print(ts.index.tz)\n",
    "\n",
    "# Date ranges can be generatged with a time zone set:\n",
    "\n",
    "geneatedZone = pd.date_range('3/9/2012 9:30', periods=10, freq='D', tz='UTC')\n",
    "display(geneatedZone)\n",
    "\n",
    "# Conversion from naice to localized is handled by the tz_localize method:\n",
    "ts_utc = ts.tz_localize('UTC')\n",
    "\n",
    "display(ts_utc)\n",
    "\n",
    "display(ts_utc.index)\n",
    "\n",
    "# Once a timezone had been localized to a particular timezone,\n",
    "# conver it to another with tz_convert:\n",
    "display(ts_utc.tz_convert('America/New_York'))\n",
    "\n",
    "# localize to EST and convert to, say, UTC or Berlin time:\n",
    "\n",
    "ts_eastern = ts.tz_localize('America/New_York')\n",
    "\n",
    "display(ts_eastern.tz_convert('UTC'))\n",
    "\n",
    "display(ts_eastern.tz_convert(\"Europe/Berlin\"))\n",
    "\n",
    "# tz_localize and tz_convert are also methods on datatimeindex:\n",
    "\n",
    "display(ts.index.tz_localize('Asia/Shanghai'))\n",
    "\n",
    "# Localizing naive timestmaps also checks for ambiguous or non-exixtent times around daylight time trnascaations\n"
   ]
  },
  {
   "cell_type": "code",
   "execution_count": 12,
   "id": "6d41c715",
   "metadata": {},
   "outputs": [
    {
     "data": {
      "text/plain": [
       "Timestamp('2011-03-11 23:00:00-0500', tz='America/New_York')"
      ]
     },
     "metadata": {},
     "output_type": "display_data"
    },
    {
     "data": {
      "text/plain": [
       "Timestamp('2011-03-12 04:00:00+0300', tz='Europe/Moscow')"
      ]
     },
     "metadata": {},
     "output_type": "display_data"
    },
    {
     "data": {
      "text/plain": [
       "1299902400000000000"
      ]
     },
     "metadata": {},
     "output_type": "display_data"
    },
    {
     "data": {
      "text/plain": [
       "1299902400000000000"
      ]
     },
     "metadata": {},
     "output_type": "display_data"
    },
    {
     "data": {
      "text/plain": [
       "Timestamp('2012-03-11 01:30:00-0500', tz='US/Eastern')"
      ]
     },
     "metadata": {},
     "output_type": "display_data"
    },
    {
     "data": {
      "text/plain": [
       "Timestamp('2012-03-11 03:30:00-0400', tz='US/Eastern')"
      ]
     },
     "metadata": {},
     "output_type": "display_data"
    },
    {
     "data": {
      "text/plain": [
       "Timestamp('2012-11-04 00:30:00-0400', tz='US/Eastern')"
      ]
     },
     "metadata": {},
     "output_type": "display_data"
    },
    {
     "data": {
      "text/plain": [
       "Timestamp('2012-03-11 04:30:00-0400', tz='US/Eastern')"
      ]
     },
     "metadata": {},
     "output_type": "display_data"
    },
    {
     "data": {
      "text/plain": [
       "2012-03-07 09:30:00    0.351314\n",
       "2012-03-08 09:30:00    0.190671\n",
       "2012-03-09 09:30:00   -0.212917\n",
       "2012-03-12 09:30:00    1.356670\n",
       "2012-03-13 09:30:00   -1.894094\n",
       "2012-03-14 09:30:00   -0.599570\n",
       "2012-03-15 09:30:00    0.765905\n",
       "2012-03-16 09:30:00   -0.293791\n",
       "2012-03-19 09:30:00    0.855750\n",
       "2012-03-20 09:30:00    0.648576\n",
       "Freq: B, dtype: float64"
      ]
     },
     "metadata": {},
     "output_type": "display_data"
    },
    {
     "data": {
      "text/plain": [
       "DatetimeIndex(['2012-03-07 09:30:00+00:00', '2012-03-08 09:30:00+00:00',\n",
       "               '2012-03-09 09:30:00+00:00', '2012-03-12 09:30:00+00:00',\n",
       "               '2012-03-13 09:30:00+00:00', '2012-03-14 09:30:00+00:00',\n",
       "               '2012-03-15 09:30:00+00:00'],\n",
       "              dtype='datetime64[ns, UTC]', freq=None)"
      ]
     },
     "metadata": {},
     "output_type": "display_data"
    }
   ],
   "source": [
    "# Operations with Time Zone - Aware Timestamp Objects:\n",
    "# Timestamp obj can be localized from naive to timezone-aware and converter one time zone to another\n",
    "stamp = pd.Timestamp('2011-03-12 04:00')\n",
    "\n",
    "stamp_utc = stamp.tz_localize('utc')\n",
    "\n",
    "display(stamp_utc.tz_convert('America/New_York'))\n",
    "\n",
    "# One can also pass the timezone while creating the timestamp\n",
    "\n",
    "stam_moscow = pd.Timestamp('2011-03-12 4:00', tz='Europe/Moscow')\n",
    "\n",
    "display(stam_moscow)\n",
    "\n",
    "# Timezone-aware Timestamp objects internally store a UTC timestamp value as nanoseconds\n",
    "# This UTC value is invariant between time zone conversions:\n",
    "\n",
    "display(stamp_utc.value)\n",
    "\n",
    "display(stamp_utc.tz_convert('America/New_York').value)\n",
    "\n",
    "# when performing time arithmetic using pandas DateOffset objects,\n",
    "# pd prespects daylight saving tome transactions where possible.\n",
    "# Here we construct tomestamps that occur right before DTF transitions (Forward and Backward)\n",
    "# First, 30 minutes before transitioning to DST:\n",
    "\n",
    "from pandas.tseries.offsets import Hour\n",
    "\n",
    "stamp = pd.Timestamp('2012-03-11 01:30', tz='US/Eastern')\n",
    "display(stamp)\n",
    "\n",
    "display(stamp + Hour())\n",
    "\n",
    "# Then, 90 minutes before transitiong out of DST\n",
    "\n",
    "stamp1 = pd.Timestamp('2012-11-04 00:30:00-0400', tz='US/Eastern')\n",
    "display(stamp1)\n",
    "\n",
    "display(stamp + 2 * Hour())\n",
    "\n",
    "# Operations Between Different Time Zones \n",
    "# IF two time series with different timezones are combined, the result will be UTC.\n",
    "# Since the timestamps are stored under the hood in utc,\n",
    "# this is a strightforward operation and requies no conversion\n",
    "\n",
    "rng1 = pd.date_range('3/7/2012 9:30', periods=10, freq='B')\n",
    "\n",
    "ts1 = pd.Series(np.random.randn(len(rng1)), index=rng1)\n",
    "\n",
    "display(ts1)\n",
    "\n",
    "ts11 = ts1[:7].tz_localize('Europe/London')\n",
    "\n",
    "ts2 = ts11[2:].tz_convert('Europe/Moscow')\n",
    "\n",
    "result = ts11 + ts2\n",
    "\n",
    "display(result.index)"
   ]
  },
  {
   "cell_type": "code",
   "execution_count": 13,
   "id": "5e0394ca",
   "metadata": {},
   "outputs": [
    {
     "data": {
      "text/plain": [
       "Period('2007', 'A-DEC')"
      ]
     },
     "metadata": {},
     "output_type": "display_data"
    },
    {
     "data": {
      "text/plain": [
       "Period('2012', 'A-DEC')"
      ]
     },
     "metadata": {},
     "output_type": "display_data"
    },
    {
     "data": {
      "text/plain": [
       "Period('2005', 'A-DEC')"
      ]
     },
     "metadata": {},
     "output_type": "display_data"
    },
    {
     "data": {
      "text/plain": [
       "<7 * YearEnds: month=12>"
      ]
     },
     "metadata": {},
     "output_type": "display_data"
    },
    {
     "data": {
      "text/plain": [
       "PeriodIndex(['2000-01', '2000-02', '2000-03', '2000-04', '2000-05', '2000-06'], dtype='period[M]', freq='M')"
      ]
     },
     "metadata": {},
     "output_type": "display_data"
    },
    {
     "data": {
      "text/plain": [
       "2000-01   -0.364017\n",
       "2000-02    0.438591\n",
       "2000-03   -1.718622\n",
       "2000-04    1.091022\n",
       "2000-05   -0.185022\n",
       "2000-06   -2.012804\n",
       "Freq: M, dtype: float64"
      ]
     },
     "metadata": {},
     "output_type": "display_data"
    },
    {
     "data": {
      "text/plain": [
       "PeriodIndex(['2001Q3', '2002Q2', '2003Q1'], dtype='period[Q-DEC]', freq='Q-DEC')"
      ]
     },
     "metadata": {},
     "output_type": "display_data"
    }
   ],
   "source": [
    "\"\"\"\n",
    "# Periods and Period Arithmetic \n",
    "\n",
    "Periods represent timespands, like days, months, quarters, or years.\n",
    "The period class represents this data type, requiring a string or integer and a frquency\n",
    "\n",
    "\"\"\"\n",
    "\n",
    "p = pd.Period(2007, freq='A-DEC')\n",
    "\n",
    "# Here the period object represnts the full timespan from Jan 1 - Dec 31 inclusive.\n",
    "\n",
    "display(p)\n",
    "\n",
    "# COnveniently, adding and subtracting ints from periods shifts by their frequency:\n",
    "\n",
    "display(p + 5)\n",
    "\n",
    "display(p - 2)\n",
    "\n",
    "# if tww periods the dame frequency, their diffrence is the number of units between them\n",
    "\n",
    "display(pd.Period('2014', freq='A-DEC') - p)\n",
    "\n",
    "# regular ranges of periods cna be constructed with the period_range function\n",
    "\n",
    "per_rng = pd.period_range('2000-01-01', '2000-06-30', freq='M')\n",
    "display(per_rng)\n",
    "\n",
    "# The PeriodIndex class stores a sequence of periods and can serve as\n",
    "# an axis index in any pands data strcuture.\n",
    "\n",
    "display(pd.Series(np.random.randn(6), index=per_rng))\n",
    "\n",
    "# If you have an array of strings, you can also use the PeriodIndex class:\n",
    "\n",
    "values = ['2001Q3', '2002Q2', \"2003Q1\"]\n",
    "\n",
    "indexS = pd.PeriodIndex(values, freq='Q-DEC')\n",
    "\n",
    "display(indexS)"
   ]
  },
  {
   "cell_type": "code",
   "execution_count": 14,
   "id": "101f2888",
   "metadata": {},
   "outputs": [
    {
     "data": {
      "text/plain": [
       "Period('2007', 'A-DEC')"
      ]
     },
     "metadata": {},
     "output_type": "display_data"
    },
    {
     "data": {
      "text/plain": [
       "Period('2007-01', 'M')"
      ]
     },
     "metadata": {},
     "output_type": "display_data"
    },
    {
     "data": {
      "text/plain": [
       "Period('2007-12', 'M')"
      ]
     },
     "metadata": {},
     "output_type": "display_data"
    },
    {
     "data": {
      "text/plain": [
       "Period('2007', 'A-JUN')"
      ]
     },
     "metadata": {},
     "output_type": "display_data"
    },
    {
     "data": {
      "text/plain": [
       "Period('2006-07', 'M')"
      ]
     },
     "metadata": {},
     "output_type": "display_data"
    },
    {
     "data": {
      "text/plain": [
       "Period('2007-06', 'M')"
      ]
     },
     "metadata": {},
     "output_type": "display_data"
    },
    {
     "data": {
      "text/plain": [
       "Period('2008', 'A-JUN')"
      ]
     },
     "metadata": {},
     "output_type": "display_data"
    },
    {
     "data": {
      "text/plain": [
       "2006    0.838088\n",
       "2007   -1.491177\n",
       "2008    1.219357\n",
       "2009   -0.470802\n",
       "Freq: A-DEC, dtype: float64"
      ]
     },
     "metadata": {},
     "output_type": "display_data"
    },
    {
     "data": {
      "text/plain": [
       "2006-12-29    0.838088\n",
       "2007-12-31   -1.491177\n",
       "2008-12-31    1.219357\n",
       "2009-12-31   -0.470802\n",
       "Freq: B, dtype: float64"
      ]
     },
     "metadata": {},
     "output_type": "display_data"
    }
   ],
   "source": [
    "\"\"\"\n",
    "# Period Frequency Conversion\n",
    "Periods and PeriodIndex objects can be converted to another frequency with their asfreq method.\n",
    "\"\"\"\n",
    "\n",
    "p = pd.Period('2007', freq='A-DEC')\n",
    "\n",
    "display(p)\n",
    "\n",
    "display(p.asfreq('M', how='start'))\n",
    "\n",
    "display(p.asfreq('M', how='end'))\n",
    "\n",
    "# One can think of Period('2007', 'A-DEC') as being a sort of cursor pointing to a span of time\n",
    "# subdivided by monthly periods. For a fiscal year ending on a month other than December,\n",
    "# the corresponding monthly subperiods are different:\n",
    "\n",
    "p = pd.Period('2007', 'A-JUN')\n",
    "\n",
    "display(p)\n",
    "\n",
    "display(p.asfreq('M', 'start'))\n",
    "\n",
    "display(p.asfreq('M', 'end'))\n",
    "\n",
    "# When you are converting from high to low frequency, pandas determines the super-period \n",
    "# depending on where the subperiod 'belongs.' For example, in A-JUN frequency,\n",
    "# the month aug-2007 is actually part of the 2008 period:\n",
    "\n",
    "p = pd.Period('Aug-2007', 'M')\n",
    "\n",
    "display(p.asfreq('A-JUN'))\n",
    "\n",
    "# Whole PeriodINdex objects or time series can be similarly converted with the same semantics:\n",
    "\n",
    "rng = pd.period_range('2006', '2009', freq='A-DEC')\n",
    "\n",
    "ts = pd.Series(np.random.randn(len(rng)), index=rng)\n",
    "\n",
    "display(ts)\n",
    "\n",
    "# If we instead wanted the last business day of each year,\n",
    "# we can use the 'B' frequency and indicate that we want the end of the period:\n",
    "\n",
    "display(ts.asfreq('B', how='end'))"
   ]
  },
  {
   "cell_type": "code",
   "execution_count": 15,
   "id": "e3081f67",
   "metadata": {},
   "outputs": [
    {
     "data": {
      "text/plain": [
       "Period('2012Q4', 'Q-JAN')"
      ]
     },
     "metadata": {},
     "output_type": "display_data"
    },
    {
     "data": {
      "text/plain": [
       "Period('2012-01-30 16:00', 'T')"
      ]
     },
     "metadata": {},
     "output_type": "display_data"
    },
    {
     "data": {
      "text/plain": [
       "Timestamp('2012-01-30 16:00:00')"
      ]
     },
     "metadata": {},
     "output_type": "display_data"
    },
    {
     "data": {
      "text/plain": [
       "2011Q3    0\n",
       "2011Q4    1\n",
       "2012Q1    2\n",
       "2012Q2    3\n",
       "2012Q3    4\n",
       "2012Q4    5\n",
       "Freq: Q-JAN, dtype: int32"
      ]
     },
     "metadata": {},
     "output_type": "display_data"
    },
    {
     "data": {
      "text/plain": [
       "2010-10-28 16:00:00    0\n",
       "2011-01-28 16:00:00    1\n",
       "2011-04-28 16:00:00    2\n",
       "2011-07-28 16:00:00    3\n",
       "2011-10-28 16:00:00    4\n",
       "2012-01-30 16:00:00    5\n",
       "dtype: int32"
      ]
     },
     "metadata": {},
     "output_type": "display_data"
    }
   ],
   "source": [
    "# Quarterly Period Frequencies \n",
    "\n",
    "\"\"\"\n",
    "Q data is standard in accounting, finance, and other fields.\n",
    "quarterly data is reported realtive to fiscal year end, typically the last calendar or bussiness\n",
    "day of one the 12 months of the year. Thus, the period 2012Q4 has a different meaning depending\n",
    "on fiscal year end. pandas supports all 12 possible quarterly frequencies as Q-JAN through Q-DEC:\n",
    "\n",
    "DIfferent quarterly frequency converntions page 349\n",
    "\"\"\"\n",
    "\n",
    "p = pd.Period('2012Q4', freq='Q-JAN')\n",
    "\n",
    "display(p)\n",
    "\n",
    "# Thus, itls possible to do easy period arithmetic; for example,\n",
    "# to get the timestamp at 4 PM on the second-to-last businees day of the quarter, you could do:\n",
    "\n",
    "p4pm = (p.asfreq('B', 'e') - 1).asfreq('T', 's') + 16 * 60 \n",
    "\n",
    "display(p4pm)\n",
    "\n",
    "display(p4pm.to_timestamp())\n",
    "\n",
    "# You can genarate quarterly ranges using period_range. Arithmetic is indentical, too:\n",
    "\n",
    "rng = pd.period_range('2011Q3', '2012Q4', freq='Q-JAN')\n",
    "\n",
    "ts = pd.Series(np.arange(len(rng)), index=rng)\n",
    "\n",
    "display(ts)\n",
    "\n",
    "new_rng = (rng.asfreq('B', 'e') - 1).asfreq('T', 's') + 16 * 60\n",
    "\n",
    "ts.index = new_rng.to_timestamp()\n",
    "\n",
    "display(ts)"
   ]
  },
  {
   "cell_type": "code",
   "execution_count": 16,
   "id": "088282dc",
   "metadata": {},
   "outputs": [
    {
     "data": {
      "text/plain": [
       "2001-01-31    1.551288\n",
       "2001-02-28    0.197186\n",
       "2001-03-31   -1.141906\n",
       "Freq: M, dtype: float64"
      ]
     },
     "metadata": {},
     "output_type": "display_data"
    },
    {
     "data": {
      "text/plain": [
       "2001-01    1.551288\n",
       "2001-02    0.197186\n",
       "2001-03   -1.141906\n",
       "Freq: M, dtype: float64"
      ]
     },
     "metadata": {},
     "output_type": "display_data"
    },
    {
     "data": {
      "text/plain": [
       "2001-01-31 23:59:59.999999999    1.551288\n",
       "2001-02-28 23:59:59.999999999    0.197186\n",
       "2001-03-31 23:59:59.999999999   -1.141906\n",
       "dtype: float64"
      ]
     },
     "metadata": {},
     "output_type": "display_data"
    },
    {
     "data": {
      "text/plain": [
       "PeriodIndex(['1959Q1', '1959Q2', '1959Q3', '1959Q4', '1960Q1', '1960Q2',\n",
       "             '1960Q3', '1960Q4', '1961Q1', '1961Q2',\n",
       "             ...\n",
       "             '2007Q2', '2007Q3', '2007Q4', '2008Q1', '2008Q2', '2008Q3',\n",
       "             '2008Q4', '2009Q1', '2009Q2', '2009Q3'],\n",
       "            dtype='period[Q-DEC]', length=203, freq='Q-DEC')"
      ]
     },
     "metadata": {},
     "output_type": "display_data"
    },
    {
     "data": {
      "text/plain": [
       "1959Q1    0.00\n",
       "1959Q2    2.34\n",
       "1959Q3    2.74\n",
       "1959Q4    0.27\n",
       "1960Q1    2.31\n",
       "          ... \n",
       "2008Q3   -3.16\n",
       "2008Q4   -8.79\n",
       "2009Q1    0.94\n",
       "2009Q2    3.37\n",
       "2009Q3    3.56\n",
       "Freq: Q-DEC, Name: infl, Length: 203, dtype: float64"
      ]
     },
     "metadata": {},
     "output_type": "display_data"
    }
   ],
   "source": [
    "\"\"\"\n",
    "# COnverting Timestamps to Periods (and Back)\n",
    "Series and DataFrame objects indexed by timestamps can be converted\n",
    "to periods with the to_period method:\n",
    "\"\"\"\n",
    "\n",
    "rng = pd.date_range('2001-01-01', periods=3, freq='M')\n",
    "\n",
    "ts = pd.Series(np.random.randn(3), index=rng)\n",
    "\n",
    "display(ts)\n",
    "\n",
    "pts = ts.to_period()\n",
    "\n",
    "display(pts)\n",
    "\n",
    "display(pts.to_timestamp(how='end'))\n",
    "\n",
    "# Creating a PeriodIndex from Arrays \n",
    "# Fixed frequency datasests are sometimes stored with timespan information spraed accros multiple cols\n",
    "\n",
    "mac_data = pd.read_csv('macrodata.csv')\n",
    "\n",
    "mac_data[:5]\n",
    "\n",
    "# By passing these arrays to PeriosIndex with a\n",
    "# frequencym you can combine tham to form an index for the DataFrame\n",
    "\n",
    "index = pd.PeriodIndex(year=mac_data.year, quarter = mac_data.quarter,\n",
    "                      freq='Q-DEC')\n",
    "\n",
    "display(index)\n",
    "\n",
    "mac_data.index = index\n",
    "\n",
    "display(mac_data.infl)"
   ]
  },
  {
   "cell_type": "code",
   "execution_count": 17,
   "id": "9b2c3abb",
   "metadata": {},
   "outputs": [
    {
     "data": {
      "text/plain": [
       "2000-01-01    0.060191\n",
       "2000-01-02    0.370572\n",
       "2000-01-03   -1.784461\n",
       "2000-01-04    1.605658\n",
       "2000-01-05   -0.585746\n",
       "                ...   \n",
       "2000-04-05   -0.018674\n",
       "2000-04-06    0.827845\n",
       "2000-04-07    0.565549\n",
       "2000-04-08    1.834914\n",
       "2000-04-09   -3.261648\n",
       "Freq: D, Length: 100, dtype: float64"
      ]
     },
     "metadata": {},
     "output_type": "display_data"
    },
    {
     "data": {
      "text/plain": [
       "2000-01-31   -0.076557\n",
       "2000-02-29   -0.042131\n",
       "2000-03-31   -0.002186\n",
       "2000-04-30   -0.081508\n",
       "Freq: M, dtype: float64"
      ]
     },
     "metadata": {},
     "output_type": "display_data"
    },
    {
     "data": {
      "text/plain": [
       "2000-01   -0.076557\n",
       "2000-02   -0.042131\n",
       "2000-03   -0.002186\n",
       "2000-04   -0.081508\n",
       "Freq: M, dtype: float64"
      ]
     },
     "metadata": {},
     "output_type": "display_data"
    },
    {
     "data": {
      "text/plain": [
       "DatetimeIndex(['2000-01-01 00:00:00', '2000-01-01 00:01:00',\n",
       "               '2000-01-01 00:02:00', '2000-01-01 00:03:00',\n",
       "               '2000-01-01 00:04:00', '2000-01-01 00:05:00',\n",
       "               '2000-01-01 00:06:00', '2000-01-01 00:07:00',\n",
       "               '2000-01-01 00:08:00', '2000-01-01 00:09:00',\n",
       "               '2000-01-01 00:10:00', '2000-01-01 00:11:00'],\n",
       "              dtype='datetime64[ns]', freq='T')"
      ]
     },
     "metadata": {},
     "output_type": "display_data"
    },
    {
     "data": {
      "text/plain": [
       "2000-01-01 00:00:00     0\n",
       "2000-01-01 00:01:00     1\n",
       "2000-01-01 00:02:00     2\n",
       "2000-01-01 00:03:00     3\n",
       "2000-01-01 00:04:00     4\n",
       "2000-01-01 00:05:00     5\n",
       "2000-01-01 00:06:00     6\n",
       "2000-01-01 00:07:00     7\n",
       "2000-01-01 00:08:00     8\n",
       "2000-01-01 00:09:00     9\n",
       "2000-01-01 00:10:00    10\n",
       "2000-01-01 00:11:00    11\n",
       "Freq: T, dtype: int32"
      ]
     },
     "metadata": {},
     "output_type": "display_data"
    },
    {
     "data": {
      "text/plain": [
       "1999-12-31 23:55:00     0\n",
       "2000-01-01 00:00:00    15\n",
       "2000-01-01 00:05:00    40\n",
       "2000-01-01 00:10:00    11\n",
       "Freq: 5T, dtype: int32"
      ]
     },
     "metadata": {},
     "output_type": "display_data"
    },
    {
     "data": {
      "text/plain": [
       "2000-01-01 00:00:00     0\n",
       "2000-01-01 00:05:00    15\n",
       "2000-01-01 00:10:00    40\n",
       "2000-01-01 00:15:00    11\n",
       "Freq: 5T, dtype: int32"
      ]
     },
     "metadata": {},
     "output_type": "display_data"
    },
    {
     "name": "stderr",
     "output_type": "stream",
     "text": [
      "C:\\Users\\JBarr\\anaconda3\\envs\\dev\\lib\\site-packages\\ipykernel_launcher.py:40: FutureWarning: 'loffset' in .resample() and in Grouper() is deprecated.\n",
      "\n",
      ">>> df.resample(freq=\"3s\", loffset=\"8H\")\n",
      "\n",
      "becomes:\n",
      "\n",
      ">>> from pandas.tseries.frequencies import to_offset\n",
      ">>> df = df.resample(freq=\"3s\").mean()\n",
      ">>> df.index = df.index.to_timestamp() + to_offset(\"8H\")\n",
      "\n"
     ]
    },
    {
     "data": {
      "text/plain": [
       "1999-12-31 23:59:59     0\n",
       "2000-01-01 00:04:59    15\n",
       "2000-01-01 00:09:59    40\n",
       "2000-01-01 00:14:59    11\n",
       "Freq: 5T, dtype: int32"
      ]
     },
     "metadata": {},
     "output_type": "display_data"
    }
   ],
   "source": [
    "\"\"\"\n",
    "# 11.6 Resampling and Frequency Conversion\n",
    "Resampling refers to the process of converting a time series from one frequency to another.\n",
    "Aggregating higger frequency data to lower frequency is called downsampling, Upsampling for opposite.\n",
    "\n",
    "using [resample] has a similar API to groupby; you call resample to group the data, then an aggregation function.\n",
    "\"\"\"\n",
    "\n",
    "rng = pd.date_range('2000-01-01', periods=100, freq='D')\n",
    "\n",
    "ts = pd.Series(np.random.randn(len(rng)), index=rng)\n",
    "\n",
    "display(ts)\n",
    "\n",
    "display(ts.resample('M').mean())\n",
    "\n",
    "display(ts.resample('M', kind='period').mean()) # resample method arguments page 355\n",
    "\n",
    "# Downsampling \n",
    "\n",
    "down_rng = pd.date_range('2000-01-01', periods=12, freq='T')\n",
    "\n",
    "down_ts = pd.Series(np.arange(12), index=down_rng)\n",
    "\n",
    "display(down_rng, down_ts)\n",
    "\n",
    "# Suppose you wanted to aggregate this data into five-minute chunks bars by taking the sum of each group:\n",
    "\n",
    "display(down_ts.resample('5min', closed='right').sum())\n",
    "\n",
    "# by passing label='right' you can label them with thr right bin edge:\n",
    "\n",
    "display(down_ts.resample('5min', closed='right', label='right').sum())\n",
    "\n",
    "# To shift the reslut index by some amount, say subtracting one second form the right edge\n",
    "# to make it more clear which interval the timestamp refers to. To do this, pass a string \n",
    "# or date offset to loffset:\n",
    "\n",
    "display(down_ts.resample('5min', closed='right',\n",
    "                        label='right', loffset='-1s').sum())\n"
   ]
  },
  {
   "cell_type": "code",
   "execution_count": 31,
   "id": "1e6e1d3b",
   "metadata": {},
   "outputs": [
    {
     "data": {
      "text/html": [
       "<div>\n",
       "<style scoped>\n",
       "    .dataframe tbody tr th:only-of-type {\n",
       "        vertical-align: middle;\n",
       "    }\n",
       "\n",
       "    .dataframe tbody tr th {\n",
       "        vertical-align: top;\n",
       "    }\n",
       "\n",
       "    .dataframe thead th {\n",
       "        text-align: right;\n",
       "    }\n",
       "</style>\n",
       "<table border=\"1\" class=\"dataframe\">\n",
       "  <thead>\n",
       "    <tr style=\"text-align: right;\">\n",
       "      <th></th>\n",
       "      <th>Colorado</th>\n",
       "      <th>Texas</th>\n",
       "      <th>New York</th>\n",
       "      <th>Ohio</th>\n",
       "    </tr>\n",
       "  </thead>\n",
       "  <tbody>\n",
       "    <tr>\n",
       "      <th>2000-01-05</th>\n",
       "      <td>-0.712337</td>\n",
       "      <td>-0.708974</td>\n",
       "      <td>-1.067407</td>\n",
       "      <td>0.250142</td>\n",
       "    </tr>\n",
       "    <tr>\n",
       "      <th>2000-01-12</th>\n",
       "      <td>1.927968</td>\n",
       "      <td>0.404706</td>\n",
       "      <td>-1.449387</td>\n",
       "      <td>1.097968</td>\n",
       "    </tr>\n",
       "  </tbody>\n",
       "</table>\n",
       "</div>"
      ],
      "text/plain": [
       "            Colorado     Texas  New York      Ohio\n",
       "2000-01-05 -0.712337 -0.708974 -1.067407  0.250142\n",
       "2000-01-12  1.927968  0.404706 -1.449387  1.097968"
      ]
     },
     "metadata": {},
     "output_type": "display_data"
    },
    {
     "data": {
      "text/html": [
       "<div>\n",
       "<style scoped>\n",
       "    .dataframe tbody tr th:only-of-type {\n",
       "        vertical-align: middle;\n",
       "    }\n",
       "\n",
       "    .dataframe tbody tr th {\n",
       "        vertical-align: top;\n",
       "    }\n",
       "\n",
       "    .dataframe thead th {\n",
       "        text-align: right;\n",
       "    }\n",
       "</style>\n",
       "<table border=\"1\" class=\"dataframe\">\n",
       "  <thead>\n",
       "    <tr style=\"text-align: right;\">\n",
       "      <th></th>\n",
       "      <th>Colorado</th>\n",
       "      <th>Texas</th>\n",
       "      <th>New York</th>\n",
       "      <th>Ohio</th>\n",
       "    </tr>\n",
       "  </thead>\n",
       "  <tbody>\n",
       "    <tr>\n",
       "      <th>2000-01-05</th>\n",
       "      <td>-0.712337</td>\n",
       "      <td>-0.708974</td>\n",
       "      <td>-1.067407</td>\n",
       "      <td>0.250142</td>\n",
       "    </tr>\n",
       "    <tr>\n",
       "      <th>2000-01-06</th>\n",
       "      <td>NaN</td>\n",
       "      <td>NaN</td>\n",
       "      <td>NaN</td>\n",
       "      <td>NaN</td>\n",
       "    </tr>\n",
       "    <tr>\n",
       "      <th>2000-01-07</th>\n",
       "      <td>NaN</td>\n",
       "      <td>NaN</td>\n",
       "      <td>NaN</td>\n",
       "      <td>NaN</td>\n",
       "    </tr>\n",
       "    <tr>\n",
       "      <th>2000-01-08</th>\n",
       "      <td>NaN</td>\n",
       "      <td>NaN</td>\n",
       "      <td>NaN</td>\n",
       "      <td>NaN</td>\n",
       "    </tr>\n",
       "    <tr>\n",
       "      <th>2000-01-09</th>\n",
       "      <td>NaN</td>\n",
       "      <td>NaN</td>\n",
       "      <td>NaN</td>\n",
       "      <td>NaN</td>\n",
       "    </tr>\n",
       "    <tr>\n",
       "      <th>2000-01-10</th>\n",
       "      <td>NaN</td>\n",
       "      <td>NaN</td>\n",
       "      <td>NaN</td>\n",
       "      <td>NaN</td>\n",
       "    </tr>\n",
       "    <tr>\n",
       "      <th>2000-01-11</th>\n",
       "      <td>NaN</td>\n",
       "      <td>NaN</td>\n",
       "      <td>NaN</td>\n",
       "      <td>NaN</td>\n",
       "    </tr>\n",
       "    <tr>\n",
       "      <th>2000-01-12</th>\n",
       "      <td>1.927968</td>\n",
       "      <td>0.404706</td>\n",
       "      <td>-1.449387</td>\n",
       "      <td>1.097968</td>\n",
       "    </tr>\n",
       "  </tbody>\n",
       "</table>\n",
       "</div>"
      ],
      "text/plain": [
       "            Colorado     Texas  New York      Ohio\n",
       "2000-01-05 -0.712337 -0.708974 -1.067407  0.250142\n",
       "2000-01-06       NaN       NaN       NaN       NaN\n",
       "2000-01-07       NaN       NaN       NaN       NaN\n",
       "2000-01-08       NaN       NaN       NaN       NaN\n",
       "2000-01-09       NaN       NaN       NaN       NaN\n",
       "2000-01-10       NaN       NaN       NaN       NaN\n",
       "2000-01-11       NaN       NaN       NaN       NaN\n",
       "2000-01-12  1.927968  0.404706 -1.449387  1.097968"
      ]
     },
     "metadata": {},
     "output_type": "display_data"
    },
    {
     "data": {
      "text/html": [
       "<div>\n",
       "<style scoped>\n",
       "    .dataframe tbody tr th:only-of-type {\n",
       "        vertical-align: middle;\n",
       "    }\n",
       "\n",
       "    .dataframe tbody tr th {\n",
       "        vertical-align: top;\n",
       "    }\n",
       "\n",
       "    .dataframe thead th {\n",
       "        text-align: right;\n",
       "    }\n",
       "</style>\n",
       "<table border=\"1\" class=\"dataframe\">\n",
       "  <thead>\n",
       "    <tr style=\"text-align: right;\">\n",
       "      <th></th>\n",
       "      <th>Colorado</th>\n",
       "      <th>Texas</th>\n",
       "      <th>New York</th>\n",
       "      <th>Ohio</th>\n",
       "    </tr>\n",
       "  </thead>\n",
       "  <tbody>\n",
       "    <tr>\n",
       "      <th>2000-01-05</th>\n",
       "      <td>-0.712337</td>\n",
       "      <td>-0.708974</td>\n",
       "      <td>-1.067407</td>\n",
       "      <td>0.250142</td>\n",
       "    </tr>\n",
       "    <tr>\n",
       "      <th>2000-01-06</th>\n",
       "      <td>-0.712337</td>\n",
       "      <td>-0.708974</td>\n",
       "      <td>-1.067407</td>\n",
       "      <td>0.250142</td>\n",
       "    </tr>\n",
       "    <tr>\n",
       "      <th>2000-01-07</th>\n",
       "      <td>-0.712337</td>\n",
       "      <td>-0.708974</td>\n",
       "      <td>-1.067407</td>\n",
       "      <td>0.250142</td>\n",
       "    </tr>\n",
       "    <tr>\n",
       "      <th>2000-01-08</th>\n",
       "      <td>NaN</td>\n",
       "      <td>NaN</td>\n",
       "      <td>NaN</td>\n",
       "      <td>NaN</td>\n",
       "    </tr>\n",
       "    <tr>\n",
       "      <th>2000-01-09</th>\n",
       "      <td>NaN</td>\n",
       "      <td>NaN</td>\n",
       "      <td>NaN</td>\n",
       "      <td>NaN</td>\n",
       "    </tr>\n",
       "    <tr>\n",
       "      <th>2000-01-10</th>\n",
       "      <td>NaN</td>\n",
       "      <td>NaN</td>\n",
       "      <td>NaN</td>\n",
       "      <td>NaN</td>\n",
       "    </tr>\n",
       "    <tr>\n",
       "      <th>2000-01-11</th>\n",
       "      <td>NaN</td>\n",
       "      <td>NaN</td>\n",
       "      <td>NaN</td>\n",
       "      <td>NaN</td>\n",
       "    </tr>\n",
       "    <tr>\n",
       "      <th>2000-01-12</th>\n",
       "      <td>1.927968</td>\n",
       "      <td>0.404706</td>\n",
       "      <td>-1.449387</td>\n",
       "      <td>1.097968</td>\n",
       "    </tr>\n",
       "  </tbody>\n",
       "</table>\n",
       "</div>"
      ],
      "text/plain": [
       "            Colorado     Texas  New York      Ohio\n",
       "2000-01-05 -0.712337 -0.708974 -1.067407  0.250142\n",
       "2000-01-06 -0.712337 -0.708974 -1.067407  0.250142\n",
       "2000-01-07 -0.712337 -0.708974 -1.067407  0.250142\n",
       "2000-01-08       NaN       NaN       NaN       NaN\n",
       "2000-01-09       NaN       NaN       NaN       NaN\n",
       "2000-01-10       NaN       NaN       NaN       NaN\n",
       "2000-01-11       NaN       NaN       NaN       NaN\n",
       "2000-01-12  1.927968  0.404706 -1.449387  1.097968"
      ]
     },
     "metadata": {},
     "output_type": "display_data"
    }
   ],
   "source": [
    "\"\"\"\n",
    "# Open-High-Low-Close (OHLC) resampling\n",
    "\n",
    "In finance, a popular way to aggregate a time series is to compute  four values for each bucket:\n",
    "Using the ohlc aggregate fucntion you will obtain a df having columns containing these four aggregates\n",
    "which are computed in a single sweep of data\n",
    "\n",
    "\"\"\"\n",
    "\n",
    "ohlc = down_ts.resample('5min').ohlc()\n",
    "\n",
    "ohlc\n",
    "\n",
    "# Upsampling and Interpolation: Converting for low to higher frequency, no aggregation is needed\n",
    "\n",
    "frame = pd.DataFrame(np.random.randn(2,4),\n",
    "                    index=pd.date_range('1/1/2000',\n",
    "                     periods=2,\n",
    "                     freq='W-WED'),\n",
    "                     columns=['Colorado','Texas' ,'New York', 'Ohio'])\n",
    "\n",
    "display(frame)\n",
    "\n",
    "# When using an aggregation function with this data, there is only one value per group,\n",
    "# and missing values result in the gaps. we use the as freq method to convert to the higher frequency\n",
    "# without any aggregation:\n",
    "\n",
    "df_daily = frame.resample('D').asfreq()\n",
    "\n",
    "display(df_daily)\n",
    "\n",
    "# You can choose to only fill a certain number of periods forward to limit\n",
    "# how far to continue using an observed value:\n",
    "\n",
    "display(frame.resample('D').ffill(limit=2))\n",
    "\n",
    "# Resampling with Periods\n",
    "\n",
    "# SInce periods refer to timespans, the rules about upsampling and downsampling are more rigid:\n",
    "#   * In down, the target freuency must be a subperiod of the source frequency\n",
    "#   * In upsampling, the target frequency must be a superperiod of the source frequency \n",
    "# If these rules are not satisfied an exception will be raised.\n"
   ]
  },
  {
   "cell_type": "code",
   "execution_count": 205,
   "id": "4115322a",
   "metadata": {},
   "outputs": [
    {
     "data": {
      "text/plain": [
       "<AxesSubplot:xlabel='Date'>"
      ]
     },
     "execution_count": 205,
     "metadata": {},
     "output_type": "execute_result"
    },
    {
     "data": {
      "image/png": "[encoded data removed]",
      "text/plain": [
       "<Figure size 432x288 with 1 Axes>"
      ]
     },
     "metadata": {
      "needs_background": "light"
     },
     "output_type": "display_data"
    }
   ],
   "source": [
    "\"\"\"\n",
    "# Moving Window Function\n",
    "\n",
    "An important class of array transformation used fopr time series operations\n",
    "are stsistcs and other functions evaluated over a sliding window or\n",
    "with exponentially decaying weights. Good for smoothing noisy or gappy data. \n",
    "\n",
    "\"\"\"\n",
    "\n",
    "SPY_px = pd.read_csv('SPY.csv',\n",
    "                      parse_dates=True,\n",
    "                      infer_datetime_format=True,\n",
    "                      index_col=['Date'])\n",
    "\n",
    "close_px = pd.read_csv('sp500_closefull.csv',\n",
    "                      parse_dates=True,\n",
    "                      infer_datetime_format=True,\n",
    "                      index_col=['Date'])\n",
    "\n",
    "\n",
    "tickers_df = close_px[['TROW', 'PRGO','TPR', 'PRGO', 'DVN', 'BA', 'VRTX']]\n",
    "\n",
    "\n",
    "\n",
    "\n",
    "\n",
    "tickers_df_std =  tickers_df.rolling(250, min_periods=10).std()\n",
    "tickers_df.rolling(250, min_periods=10).std().plot(grid=True, legend='left')"
   ]
  },
  {
   "cell_type": "code",
   "execution_count": 182,
   "id": "a1022345",
   "metadata": {},
   "outputs": [
    {
     "data": {
      "text/html": [
       "<div>\n",
       "<style scoped>\n",
       "    .dataframe tbody tr th:only-of-type {\n",
       "        vertical-align: middle;\n",
       "    }\n",
       "\n",
       "    .dataframe tbody tr th {\n",
       "        vertical-align: top;\n",
       "    }\n",
       "\n",
       "    .dataframe thead th {\n",
       "        text-align: right;\n",
       "    }\n",
       "</style>\n",
       "<table border=\"1\" class=\"dataframe\">\n",
       "  <thead>\n",
       "    <tr style=\"text-align: right;\">\n",
       "      <th></th>\n",
       "      <th>TROW</th>\n",
       "      <th>PRGO</th>\n",
       "      <th>TPR</th>\n",
       "      <th>PRGO</th>\n",
       "      <th>DVN</th>\n",
       "      <th>BA</th>\n",
       "      <th>VRTX</th>\n",
       "    </tr>\n",
       "    <tr>\n",
       "      <th>Date</th>\n",
       "      <th></th>\n",
       "      <th></th>\n",
       "      <th></th>\n",
       "      <th></th>\n",
       "      <th></th>\n",
       "      <th></th>\n",
       "      <th></th>\n",
       "    </tr>\n",
       "  </thead>\n",
       "  <tbody>\n",
       "    <tr>\n",
       "      <th>2010-01-04</th>\n",
       "      <td>54.400002</td>\n",
       "      <td>40.349998</td>\n",
       "      <td>36.310001</td>\n",
       "      <td>40.349998</td>\n",
       "      <td>76.570000</td>\n",
       "      <td>56.180000</td>\n",
       "      <td>44.240002</td>\n",
       "    </tr>\n",
       "    <tr>\n",
       "      <th>2010-01-05</th>\n",
       "      <td>54.705000</td>\n",
       "      <td>39.570000</td>\n",
       "      <td>36.530001</td>\n",
       "      <td>39.570000</td>\n",
       "      <td>76.610001</td>\n",
       "      <td>57.100000</td>\n",
       "      <td>43.510000</td>\n",
       "    </tr>\n",
       "    <tr>\n",
       "      <th>2010-01-06</th>\n",
       "      <td>54.520000</td>\n",
       "      <td>39.146666</td>\n",
       "      <td>36.843334</td>\n",
       "      <td>39.146666</td>\n",
       "      <td>76.546666</td>\n",
       "      <td>57.993333</td>\n",
       "      <td>43.016666</td>\n",
       "    </tr>\n",
       "    <tr>\n",
       "      <th>2010-01-07</th>\n",
       "      <td>54.417500</td>\n",
       "      <td>38.857500</td>\n",
       "      <td>37.005001</td>\n",
       "      <td>38.857500</td>\n",
       "      <td>76.402500</td>\n",
       "      <td>59.045000</td>\n",
       "      <td>42.637500</td>\n",
       "    </tr>\n",
       "    <tr>\n",
       "      <th>2010-01-08</th>\n",
       "      <td>54.314001</td>\n",
       "      <td>38.642000</td>\n",
       "      <td>37.058001</td>\n",
       "      <td>38.642000</td>\n",
       "      <td>76.346001</td>\n",
       "      <td>59.556000</td>\n",
       "      <td>42.243999</td>\n",
       "    </tr>\n",
       "    <tr>\n",
       "      <th>...</th>\n",
       "      <td>...</td>\n",
       "      <td>...</td>\n",
       "      <td>...</td>\n",
       "      <td>...</td>\n",
       "      <td>...</td>\n",
       "      <td>...</td>\n",
       "      <td>...</td>\n",
       "    </tr>\n",
       "    <tr>\n",
       "      <th>2018-12-24</th>\n",
       "      <td>90.856923</td>\n",
       "      <td>54.276923</td>\n",
       "      <td>34.697693</td>\n",
       "      <td>54.276923</td>\n",
       "      <td>25.163846</td>\n",
       "      <td>319.223844</td>\n",
       "      <td>167.363846</td>\n",
       "    </tr>\n",
       "    <tr>\n",
       "      <th>2018-12-26</th>\n",
       "      <td>90.456154</td>\n",
       "      <td>52.590770</td>\n",
       "      <td>34.413846</td>\n",
       "      <td>52.590770</td>\n",
       "      <td>24.776154</td>\n",
       "      <td>317.841536</td>\n",
       "      <td>165.996922</td>\n",
       "    </tr>\n",
       "    <tr>\n",
       "      <th>2018-12-27</th>\n",
       "      <td>90.304615</td>\n",
       "      <td>51.028462</td>\n",
       "      <td>34.322308</td>\n",
       "      <td>51.028462</td>\n",
       "      <td>24.445385</td>\n",
       "      <td>317.373845</td>\n",
       "      <td>165.239998</td>\n",
       "    </tr>\n",
       "    <tr>\n",
       "      <th>2018-12-28</th>\n",
       "      <td>90.378571</td>\n",
       "      <td>50.235000</td>\n",
       "      <td>34.285715</td>\n",
       "      <td>50.235000</td>\n",
       "      <td>24.303571</td>\n",
       "      <td>317.302856</td>\n",
       "      <td>164.967141</td>\n",
       "    </tr>\n",
       "    <tr>\n",
       "      <th>2018-12-31</th>\n",
       "      <td>90.068333</td>\n",
       "      <td>48.830000</td>\n",
       "      <td>34.100000</td>\n",
       "      <td>48.830000</td>\n",
       "      <td>23.935833</td>\n",
       "      <td>316.154999</td>\n",
       "      <td>163.544165</td>\n",
       "    </tr>\n",
       "  </tbody>\n",
       "</table>\n",
       "<p>2270 rows × 7 columns</p>\n",
       "</div>"
      ],
      "text/plain": [
       "                 TROW       PRGO        TPR       PRGO        DVN          BA  \\\n",
       "Date                                                                            \n",
       "2010-01-04  54.400002  40.349998  36.310001  40.349998  76.570000   56.180000   \n",
       "2010-01-05  54.705000  39.570000  36.530001  39.570000  76.610001   57.100000   \n",
       "2010-01-06  54.520000  39.146666  36.843334  39.146666  76.546666   57.993333   \n",
       "2010-01-07  54.417500  38.857500  37.005001  38.857500  76.402500   59.045000   \n",
       "2010-01-08  54.314001  38.642000  37.058001  38.642000  76.346001   59.556000   \n",
       "...               ...        ...        ...        ...        ...         ...   \n",
       "2018-12-24  90.856923  54.276923  34.697693  54.276923  25.163846  319.223844   \n",
       "2018-12-26  90.456154  52.590770  34.413846  52.590770  24.776154  317.841536   \n",
       "2018-12-27  90.304615  51.028462  34.322308  51.028462  24.445385  317.373845   \n",
       "2018-12-28  90.378571  50.235000  34.285715  50.235000  24.303571  317.302856   \n",
       "2018-12-31  90.068333  48.830000  34.100000  48.830000  23.935833  316.154999   \n",
       "\n",
       "                  VRTX  \n",
       "Date                    \n",
       "2010-01-04   44.240002  \n",
       "2010-01-05   43.510000  \n",
       "2010-01-06   43.016666  \n",
       "2010-01-07   42.637500  \n",
       "2010-01-08   42.243999  \n",
       "...                ...  \n",
       "2018-12-24  167.363846  \n",
       "2018-12-26  165.996922  \n",
       "2018-12-27  165.239998  \n",
       "2018-12-28  164.967141  \n",
       "2018-12-31  163.544165  \n",
       "\n",
       "[2270 rows x 7 columns]"
      ]
     },
     "execution_count": 182,
     "metadata": {},
     "output_type": "execute_result"
    },
    {
     "data": {
      "image/png": "[encoded data removed]",
      "text/plain": [
       "<Figure size 432x288 with 1 Axes>"
      ]
     },
     "metadata": {
      "needs_background": "light"
     },
     "output_type": "display_data"
    }
   ],
   "source": [
    "'''\n",
    "In order to compute an expanding window mean, use the expanding operating instead of rolling.\n",
    "Expanding mean starts the time window from the beginning of the time series and\n",
    "increases the size of the window until it encompasses the whole series.\n",
    "'''\n",
    "\n",
    "expanding_mean = tickers_df_std.expanding().mean()\n",
    "\n",
    "expanding_mean.rolling(60).mean().plot(logy=True)\n",
    "\n",
    "#The rolling f accepts string indicating fixed-size time offset rather than number and periods.\n",
    "\n",
    "#These are the same strigs you can pass to resample.\n",
    "\n",
    "tickers_df.rolling('20D').mean()\n"
   ]
  },
  {
   "cell_type": "code",
   "execution_count": 199,
   "id": "025694bd",
   "metadata": {},
   "outputs": [
    {
     "data": {
      "text/plain": [
       "<AxesSubplot:xlabel='Date'>"
      ]
     },
     "execution_count": 199,
     "metadata": {},
     "output_type": "execute_result"
    },
    {
     "data": {
      "image/png": "[encoded data removed]",
      "text/plain": [
       "<Figure size 432x288 with 1 Axes>"
      ]
     },
     "metadata": {
      "needs_background": "light"
     },
     "output_type": "display_data"
    }
   ],
   "source": [
    "\"\"\"\n",
    "Exponentially Weighted Functions\n",
    "An alternative to using a static window size with equally weighted observations\n",
    "is to specify a constant decay factor to give more weight to more recent obsevations,\n",
    "\n",
    "SInce an exponentially weighted statistic places more weight on more recent observations, \n",
    "it adapts aster to changes compareed with the equal-weighted version\n",
    "\n",
    "pandas has the ewm operator to go along with rolling and expanding.\n",
    "Here's an example comparing a 60-day moving average of a stock price an EW moving ave with spand=60\n",
    "\"\"\"\n",
    "\n",
    "\n",
    "BA_px = tickers_df.BA['2016/5':'2017/3']\n",
    "\n",
    "\n",
    "ma60 = BA_px.rolling(30, min_periods=20).mean()\n",
    "\n",
    "\n",
    "ewma60 = BA_px.ewm(span=30).mean()\n",
    "\n",
    "ma60.plot(style='k--', label='Simple MA', legend='best')\n",
    "\n",
    "ewma60.plot(style='k-', label='EW MA', legend='best')\n",
    "\n"
   ]
  },
  {
   "cell_type": "code",
   "execution_count": null,
   "id": "b3b907de",
   "metadata": {},
   "outputs": [],
   "source": [
    "\"\"\"\n",
    "# Binary Moving Window Functions\n",
    "\n",
    "Some statistical operatios, like correlation and covariance, need to operate on two time series.\n",
    "\n",
    "As an example;\n",
    "financial analysts are often interested in a stocks correlation to a benchmark index like sp500\n",
    "\n",
    "To do this first we conpute the percent change for the our data of interest\n",
    "\n",
    "\"\"\"\n",
    "\n",
    "spx_ps = SPY_px['Close']\n",
    "\n",
    "spx_rets = spx_ps.pct_change()\n",
    "\n",
    "returns = tickers_df.pct_change()\n",
    "\n",
    "# the corr aggregation function after we call rolling can then compute the rolling correlation\n",
    "\n",
    "corr = returns.BA.rolling(125,min_periods=100).corr(spx_rets)\n",
    "\n",
    "corr.plot()"
   ]
  },
  {
   "cell_type": "code",
   "execution_count": 242,
   "id": "e49f7c33",
   "metadata": {},
   "outputs": [],
   "source": [
    "from scipy.stats import percentileofscore\n"
   ]
  },
  {
   "cell_type": "code",
   "execution_count": 250,
   "id": "6b07347e",
   "metadata": {},
   "outputs": [
    {
     "data": {
      "text/plain": [
       "<AxesSubplot:xlabel='Date'>"
      ]
     },
     "execution_count": 250,
     "metadata": {},
     "output_type": "execute_result"
    },
    {
     "data": {
      "image/png": "[encoded data removed]",
      "text/plain": [
       "<Figure size 432x288 with 1 Axes>"
      ]
     },
     "metadata": {
      "needs_background": "light"
     },
     "output_type": "display_data"
    }
   ],
   "source": [
    "\"\"\"\n",
    "Suppose you wanted to compute the correlation of the sp500\n",
    "index with many stocks at once. writting allop and creating a df is repetetive\n",
    "\n",
    "If you pass a series and a df,\n",
    "a function like rollilng_corr will compute the correalation of the series\n",
    "with each column of the dataframe\n",
    "\n",
    "\"\"\"\n",
    "\n",
    "corrS = returns.rolling(125,min_periods=100).corr(spx_rets)\n",
    "\n",
    "\n",
    "corrS.plot()\n",
    "\n",
    "# The apply method on rolling and related method provides a means to appy an \n",
    "# array function of your own devisiong over a moving window.\n",
    "# The only requirement is that the fucntion produce a single value\n",
    "# (a reduction) from each piece of the array."
   ]
  },
  {
   "cell_type": "code",
   "execution_count": 252,
   "id": "44740030",
   "metadata": {},
   "outputs": [
    {
     "data": {
      "text/plain": [
       "<AxesSubplot:xlabel='Date'>"
      ]
     },
     "execution_count": 252,
     "metadata": {},
     "output_type": "execute_result"
    },
    {
     "data": {
      "image/png": "[encoded data removed]",
      "text/plain": [
       "<Figure size 432x288 with 1 Axes>"
      ]
     },
     "metadata": {
      "needs_background": "light"
     },
     "output_type": "display_data"
    }
   ],
   "source": [
    "score_at_2pct = lambda x: percentileofscore(x, 0.002)\n",
    "\n",
    "result2pct = returns.BA.rolling(250).apply(score_at_2pct)\n",
    "\n",
    "\n",
    "result2pct.plot()"
   ]
  },
  {
   "cell_type": "code",
   "execution_count": null,
   "id": "15b2f10b",
   "metadata": {},
   "outputs": [],
   "source": []
  },
  {
   "cell_type": "code",
   "execution_count": null,
   "id": "52809eda",
   "metadata": {},
   "outputs": [],
   "source": []
  },
  {
   "cell_type": "code",
   "execution_count": 204,
   "id": "0395abc3",
   "metadata": {},
   "outputs": [],
   "source": []
  },
  {
   "cell_type": "code",
   "execution_count": null,
   "id": "ac81a47d",
   "metadata": {},
   "outputs": [],
   "source": []
  }
 ],
 "metadata": {
  "kernelspec": {
   "display_name": "dev",
   "language": "python",
   "name": "dev"
  },
  "language_info": {
   "codemirror_mode": {
    "name": "ipython",
    "version": 3
   },
   "file_extension": ".py",
   "mimetype": "text/x-python",
   "name": "python",
   "nbconvert_exporter": "python",
   "pygments_lexer": "ipython3",
   "version": "3.7.11"
  }
 },
 "nbformat": 4,
 "nbformat_minor": 5
}
