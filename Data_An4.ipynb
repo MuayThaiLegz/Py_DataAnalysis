{
 "cells": [
  {
   "cell_type": "code",
   "execution_count": 1,
   "id": "edb272d7-0891-48c1-848d-334e6d976ca8",
   "metadata": {},
   "outputs": [
    {
     "data": {
      "text/plain": [
       "array([[ 0.26688396,  0.28236129, -0.40783389],\n",
       "       [-0.2283569 ,  0.13715202,  0.7244384 ]])"
      ]
     },
     "execution_count": 1,
     "metadata": {},
     "output_type": "execute_result"
    }
   ],
   "source": [
    "\"\"\"\n",
    "Python for Data Analysis\n",
    "Chapter 4:\n",
    "NumpY Basics: Arrays and Vectorized Computation\n",
    "\n",
    "Numpy \n",
    "\n",
    "* ndarray, anefficient multidimensional array providing fast array-oriented arithmetic operations and flexible broadcasting \n",
    "capabilities.\n",
    "\n",
    "* Mathematical functions for fast operations on entire arrays of data without having to write loops\n",
    "\n",
    "* Tools for reading /writing array data to disk and working with memory-mapped files.\n",
    "\n",
    "* Linear algebra, random number generation, and Fourier transform capabilites.\n",
    "* A C API for connectiong Numpy with libs writen in C, C++ or FORTRAN \n",
    "\n",
    "NumPy is desinged for eddiciency\n",
    "\n",
    "NumPy  internally sotres fata ina contigous bloack of memory,\n",
    "independent of ohter built_in Py objects.\n",
    "NP's library of algos written in the C language can operate on this memory without any type checking.\n",
    "NumPy use less memory then built-in Python sequences.\n",
    "\n",
    "Perform complex computations on entire arrays with no for loop.\n",
    "\"\"\"\n",
    "\n",
    "import numpy as np\n",
    "\n",
    "# Genarate aome random sata \n",
    "sata = np.random.randn(2, 3)\n",
    "\n",
    "sata"
   ]
  },
  {
   "cell_type": "code",
   "execution_count": 2,
   "id": "56c624a8-9239-44c3-b00d-f905a47ab0e9",
   "metadata": {},
   "outputs": [
    {
     "data": {
      "text/plain": [
       "array([[ 2.66883961,  2.82361295, -4.07833891],\n",
       "       [-2.28356901,  1.3715202 ,  7.24438404]])"
      ]
     },
     "execution_count": 2,
     "metadata": {},
     "output_type": "execute_result"
    }
   ],
   "source": [
    "# I then write math operations with sata\n",
    "\n",
    "sata * 10\n",
    "\n"
   ]
  },
  {
   "cell_type": "code",
   "execution_count": 3,
   "id": "4da9fd6a-c4e0-4578-9094-c81e78de967a",
   "metadata": {},
   "outputs": [
    {
     "data": {
      "text/plain": [
       "array([[0.07122705, 0.0797279 , 0.16632848],\n",
       "       [0.05214687, 0.01881068, 0.524811  ]])"
      ]
     },
     "execution_count": 3,
     "metadata": {},
     "output_type": "execute_result"
    }
   ],
   "source": [
    "sata * sata"
   ]
  },
  {
   "cell_type": "code",
   "execution_count": 4,
   "id": "e573a330-5bf3-46d1-84f0-8c8f7c1aeee9",
   "metadata": {},
   "outputs": [
    {
     "data": {
      "text/plain": [
       "(2, 3)"
      ]
     },
     "execution_count": 4,
     "metadata": {},
     "output_type": "execute_result"
    }
   ],
   "source": [
    "sata.shape"
   ]
  },
  {
   "cell_type": "code",
   "execution_count": 5,
   "id": "bfd6d2ef-a474-41d1-bf49-f990fc334d0f",
   "metadata": {},
   "outputs": [],
   "source": [
    "# Creating dn arrays \n",
    "\n",
    "\"\"\"\n",
    "The esiest way to create an array is to use the array function.\n",
    "This accepts any sequence-like object (inclusing other arrays)\n",
    "and produces a new NumPy array containing the passed data. For example, a list is a good condidate for conversion:\n",
    "\"\"\"\n",
    "\n",
    "data1 = [6., 7.5, 8., 0., 1.]\n",
    "\n",
    "# Nested sequences, like a list of equal -length listsm will be coverted into a multidimensional array:\n",
    "\n",
    "data2 = [[1, 2, 3, 4], [5,6, 7, 8]]\n",
    "\n",
    "arr22 = np.array(data2)\n",
    "\n",
    "arr1 = np.array(data1)"
   ]
  },
  {
   "cell_type": "code",
   "execution_count": 6,
   "id": "9af5e340-a68d-4a30-9115-bd2822a7e220",
   "metadata": {},
   "outputs": [
    {
     "data": {
      "text/plain": [
       "2"
      ]
     },
     "execution_count": 6,
     "metadata": {},
     "output_type": "execute_result"
    }
   ],
   "source": [
    "arr22.ndim"
   ]
  },
  {
   "cell_type": "code",
   "execution_count": 7,
   "id": "0144ee0f-697c-4fba-b868-e69761d1dcb1",
   "metadata": {},
   "outputs": [
    {
     "data": {
      "text/plain": [
       "1"
      ]
     },
     "execution_count": 7,
     "metadata": {},
     "output_type": "execute_result"
    }
   ],
   "source": [
    "arr1.ndim"
   ]
  },
  {
   "cell_type": "code",
   "execution_count": 8,
   "id": "71f0fb3e-e4d9-4589-9708-013ef178eeb9",
   "metadata": {},
   "outputs": [
    {
     "data": {
      "text/plain": [
       "(2, 4)"
      ]
     },
     "execution_count": 8,
     "metadata": {},
     "output_type": "execute_result"
    }
   ],
   "source": [
    "arr22.shape"
   ]
  },
  {
   "cell_type": "code",
   "execution_count": 9,
   "id": "57ab8982-df77-4ec9-9b22-f2a5a271d77e",
   "metadata": {},
   "outputs": [
    {
     "data": {
      "text/plain": [
       "1"
      ]
     },
     "execution_count": 9,
     "metadata": {},
     "output_type": "execute_result"
    }
   ],
   "source": [
    "arr1.ndim"
   ]
  },
  {
   "cell_type": "code",
   "execution_count": 10,
   "id": "302a68e1-d99b-49cd-9668-3dc1eaade386",
   "metadata": {},
   "outputs": [
    {
     "data": {
      "text/plain": [
       "dtype('int32')"
      ]
     },
     "execution_count": 10,
     "metadata": {},
     "output_type": "execute_result"
    }
   ],
   "source": [
    "# Unless explicitly specified np.array tries to infer a good data type for the raay it create, stored in metedata object dtype\n",
    "arr22.dtype"
   ]
  },
  {
   "cell_type": "code",
   "execution_count": 11,
   "id": "b223e87d-eff9-49f7-af49-b3edb7c8741f",
   "metadata": {},
   "outputs": [
    {
     "data": {
      "text/plain": [
       "dtype('float64')"
      ]
     },
     "execution_count": 11,
     "metadata": {},
     "output_type": "execute_result"
    }
   ],
   "source": [
    "arr1.dtype"
   ]
  },
  {
   "cell_type": "code",
   "execution_count": 12,
   "id": "90ecf71b-9095-4b6e-9194-3c7500c481af",
   "metadata": {},
   "outputs": [
    {
     "data": {
      "text/plain": [
       "array([0., 0., 0., 0., 0., 0., 0., 0., 0., 0., 0., 0., 0., 0., 0., 0., 0.,\n",
       "       0., 0., 0., 0., 0., 0., 0., 0.])"
      ]
     },
     "execution_count": 12,
     "metadata": {},
     "output_type": "execute_result"
    }
   ],
   "source": [
    "\"\"\"\n",
    "A number of other functions for creating new arrays.\n",
    "As examples, zeros and ones create arrays of 0s or 1s, respectively,\n",
    "with a given legth or shape.empty creates an array without initializing its values to any particular value. \n",
    "To create a higher dimensional array with these methods, pass a tuplefor the shape\n",
    "\"\"\"\n",
    "\n",
    "np.zeros(25)"
   ]
  },
  {
   "cell_type": "code",
   "execution_count": 13,
   "id": "795535a1-5eb1-41d7-b9bb-8b30145e88cc",
   "metadata": {},
   "outputs": [
    {
     "data": {
      "text/plain": [
       "array([[0., 0., 0., 0., 0., 0.],\n",
       "       [0., 0., 0., 0., 0., 0.],\n",
       "       [0., 0., 0., 0., 0., 0.]])"
      ]
     },
     "execution_count": 13,
     "metadata": {},
     "output_type": "execute_result"
    }
   ],
   "source": [
    "np.zeros((3, 6))"
   ]
  },
  {
   "cell_type": "code",
   "execution_count": 14,
   "id": "60b42918-03fb-4f76-82a0-68a077ab297a",
   "metadata": {},
   "outputs": [
    {
     "data": {
      "text/plain": [
       "array([[[0., 0.],\n",
       "        [0., 0.],\n",
       "        [0., 0.]],\n",
       "\n",
       "       [[0., 0.],\n",
       "        [0., 0.],\n",
       "        [0., 0.]]])"
      ]
     },
     "execution_count": 14,
     "metadata": {},
     "output_type": "execute_result"
    }
   ],
   "source": [
    "np.zeros((2,3,2))"
   ]
  },
  {
   "cell_type": "code",
   "execution_count": 15,
   "id": "c2571932-b235-4e05-95c8-a1e41b198d68",
   "metadata": {},
   "outputs": [
    {
     "data": {
      "text/plain": [
       "array([ 0,  1,  2,  3,  4,  5,  6,  7,  8,  9, 10, 11, 12, 13, 14, 15, 16,\n",
       "       17, 18, 19, 20, 21])"
      ]
     },
     "execution_count": 15,
     "metadata": {},
     "output_type": "execute_result"
    }
   ],
   "source": [
    "# arange is an array-valued vesrion of the built- in Python range function;\n",
    "np.arange(22)"
   ]
  },
  {
   "cell_type": "code",
   "execution_count": 16,
   "id": "4d289e83-4b5a-4dee-973d-b209425fb7c3",
   "metadata": {},
   "outputs": [],
   "source": [
    "# Array creation function pd 92"
   ]
  },
  {
   "cell_type": "code",
   "execution_count": 17,
   "id": "1c2cda24",
   "metadata": {},
   "outputs": [],
   "source": [
    "\"\"\"\n",
    "Data Types for ndarrays \n",
    "\n",
    "The data dtype is a special object containin the information (or metadata, data about data )\n",
    "the ndarray needs to interpret a chunk of memory as a particular type of data:\n",
    "\"\"\"\n",
    "\n",
    "array1 = np.array([1, 2, 3], dtype=np.float64)\n",
    "\n",
    "array2 = np.array([1, 2, 3], dtype=np.int32)"
   ]
  },
  {
   "cell_type": "code",
   "execution_count": 18,
   "id": "df9c0c3a",
   "metadata": {},
   "outputs": [
    {
     "data": {
      "text/plain": [
       "dtype('float64')"
      ]
     },
     "execution_count": 18,
     "metadata": {},
     "output_type": "execute_result"
    }
   ],
   "source": [
    "array1.dtype"
   ]
  },
  {
   "cell_type": "code",
   "execution_count": 19,
   "id": "64605450",
   "metadata": {},
   "outputs": [
    {
     "data": {
      "text/plain": [
       "dtype('int32')"
      ]
     },
     "execution_count": 19,
     "metadata": {},
     "output_type": "execute_result"
    }
   ],
   "source": [
    "array2.dtype"
   ]
  },
  {
   "cell_type": "code",
   "execution_count": 20,
   "id": "144c7e3a",
   "metadata": {},
   "outputs": [
    {
     "data": {
      "text/plain": [
       "dtype('int32')"
      ]
     },
     "execution_count": 20,
     "metadata": {},
     "output_type": "execute_result"
    }
   ],
   "source": [
    "\"\"\"\n",
    "dtype allow for NymPy's flexibility for interacting with data coming fromm other systems.\n",
    "In most cases they provide a mapping directly onto an underlying disk or memory represntaion.\n",
    "whcih makes it easy binary streams of data to disk and also to connect to code in low level langaage like C | Fortran\n",
    "\n",
    "NumPy data types page 93\n",
    "\"\"\"\n",
    "\n",
    "# You can explicitly convert or coast an array from one dtype to anoter using adarray's astype method:\n",
    "\n",
    "\n",
    "arrz = np.array([1,2,3,4,5])\n",
    "\n",
    "arrz.dtype\n"
   ]
  },
  {
   "cell_type": "code",
   "execution_count": 21,
   "id": "3742e9a8",
   "metadata": {},
   "outputs": [
    {
     "data": {
      "text/plain": [
       "array([1., 2., 3., 4., 5.])"
      ]
     },
     "execution_count": 21,
     "metadata": {},
     "output_type": "execute_result"
    }
   ],
   "source": [
    "float_arr = arrz.astype(np.float64)\n",
    "float_arr"
   ]
  },
  {
   "cell_type": "code",
   "execution_count": 22,
   "id": "006c95f7",
   "metadata": {},
   "outputs": [
    {
     "data": {
      "text/plain": [
       "array([ 3, -1, -2,  0, 12, 10])"
      ]
     },
     "execution_count": 22,
     "metadata": {},
     "output_type": "execute_result"
    }
   ],
   "source": [
    "\"\"\"\n",
    "In this example integers were cast to floating point. If i cast some floating -point numbers to be of integer dtype,\n",
    "decimal part will be truncated\n",
    "\"\"\"\n",
    "\n",
    "aray = np.array([3.7, -1.2, -2.6, 0.5, 12.9, 10.1])\n",
    "\n",
    "aray.astype(np.int32)"
   ]
  },
  {
   "cell_type": "code",
   "execution_count": 23,
   "id": "c7ae7c17",
   "metadata": {},
   "outputs": [
    {
     "data": {
      "text/plain": [
       "array([ 1.25, -9.6 , 42.  ])"
      ]
     },
     "execution_count": 23,
     "metadata": {},
     "output_type": "execute_result"
    }
   ],
   "source": [
    "# If you have an array of strings represeting numbers, you can use astype to convert them to numeric form:\n",
    "\n",
    "numric_strings = np.array(['1.25', '-9.6', '42'], dtype=np.string_)\n",
    "\n",
    "numric_strings.astype(float)\n",
    "\n",
    "\n",
    "# Be cautious when using the numpy.string_type as string data in numpy is fixed size\n",
    "# and may truncate inpput without warning.pandas has a more inuitive out-of the box behaior on non_numeric data."
   ]
  },
  {
   "cell_type": "code",
   "execution_count": 24,
   "id": "1ffe2efe",
   "metadata": {},
   "outputs": [
    {
     "data": {
      "text/plain": [
       "array([[1., 2., 3.],\n",
       "       [4., 5., 6.]])"
      ]
     },
     "execution_count": 24,
     "metadata": {},
     "output_type": "execute_result"
    }
   ],
   "source": [
    "\"\"\"\n",
    "# Arithmetic with Numpy Arrays \n",
    "\n",
    "Arrays are important because they enable you to express batch operations on data without writing any for loops.\n",
    "Any arithmetic operations betwwen equal-size arrays applies the operatio element-wisse:\n",
    "\n",
    "\n",
    "\n",
    "\n",
    "Evaluating operations betwwen diffrently sized arrays is called broadcasting .\n",
    "\"\"\"\n",
    "\n",
    "arrgs = np.array([[1., 2., 3.], [4.,5.,6.]])\n",
    "\n",
    "\n",
    "arrgs"
   ]
  },
  {
   "cell_type": "code",
   "execution_count": 25,
   "id": "7e816045",
   "metadata": {},
   "outputs": [
    {
     "data": {
      "text/plain": [
       "array([[ 1.,  4.,  9.],\n",
       "       [16., 25., 36.]])"
      ]
     },
     "execution_count": 25,
     "metadata": {},
     "output_type": "execute_result"
    }
   ],
   "source": [
    "arrgs * arrgs"
   ]
  },
  {
   "cell_type": "code",
   "execution_count": 26,
   "id": "08de8919",
   "metadata": {},
   "outputs": [
    {
     "data": {
      "text/plain": [
       "array([[0., 0., 0.],\n",
       "       [0., 0., 0.]])"
      ]
     },
     "execution_count": 26,
     "metadata": {},
     "output_type": "execute_result"
    }
   ],
   "source": [
    "arrgs - arrgs"
   ]
  },
  {
   "cell_type": "code",
   "execution_count": 27,
   "id": "398acd03",
   "metadata": {},
   "outputs": [
    {
     "data": {
      "text/plain": [
       "array([[False, False, False],\n",
       "       [False, False, False]])"
      ]
     },
     "execution_count": 27,
     "metadata": {},
     "output_type": "execute_result"
    }
   ],
   "source": [
    "sata > arrgs"
   ]
  },
  {
   "cell_type": "code",
   "execution_count": 28,
   "id": "2d922a0f",
   "metadata": {},
   "outputs": [
    {
     "data": {
      "text/plain": [
       "array([ 0,  1,  2,  3,  4, 12, 12, 12,  8,  9, 10, 11, 12, 13, 14, 15, 16,\n",
       "       17, 18, 19, 20, 21, 22, 23, 24, 25, 26, 27, 28, 29, 30, 31, 32])"
      ]
     },
     "execution_count": 28,
     "metadata": {},
     "output_type": "execute_result"
    }
   ],
   "source": [
    "\"\"\"\n",
    "# Basic Indexing and Slicing NimPu array indexing is a rich topic,\n",
    "as there are many ways you may want to select a subset of your data or individual elements.\n",
    "One -dimensional arrays are simples; on the surface they act like python list:\n",
    "\n",
    "\n",
    "Array slices are views on the original data.\n",
    "This means that the data is not copied, and any modifications to the view will be reflected in the source array:\n",
    "\n",
    "\n",
    "\"\"\"\n",
    "\n",
    "ayrr = np.arange(33)\n",
    "ayrr[5:8] = 12\n",
    "\n",
    "ayrr"
   ]
  },
  {
   "cell_type": "code",
   "execution_count": 29,
   "id": "fb4db2b2",
   "metadata": {},
   "outputs": [],
   "source": [
    "# If you assign a scalar value to s slice, as in arr[5:8] = 12,\n",
    "# the value is propagated (or broadcasted henceforth) to the entire seclection. \n",
    "\n",
    "arr_slice = ayrr[10:15]\n",
    "\n",
    "arr_slice\n",
    "\n",
    "# Modifing the value, the mutations are reflected in the orginal array\n",
    "\n",
    "arr_slice[1] = 2144\n",
    "\n",
    "# 'The bara slice [:] will assign to all values in an array'\n",
    "arr_slice[:] = 64\n",
    "\n",
    "\n",
    "# For NumPy Arrays Objects is you want to create a copy- explicitly  use [.copy()]"
   ]
  },
  {
   "cell_type": "code",
   "execution_count": 30,
   "id": "953c1812",
   "metadata": {},
   "outputs": [
    {
     "data": {
      "text/plain": [
       "array([64, 64, 64, 64, 64])"
      ]
     },
     "execution_count": 30,
     "metadata": {},
     "output_type": "execute_result"
    }
   ],
   "source": [
    "arr_slice"
   ]
  },
  {
   "cell_type": "code",
   "execution_count": 31,
   "id": "bb50ec23",
   "metadata": {},
   "outputs": [
    {
     "data": {
      "text/plain": [
       "array([ 0,  1,  2,  3,  4, 12, 12, 12,  8,  9, 64, 64, 64, 64, 64, 15, 16,\n",
       "       17, 18, 19, 20, 21, 22, 23, 24, 25, 26, 27, 28, 29, 30, 31, 32])"
      ]
     },
     "execution_count": 31,
     "metadata": {},
     "output_type": "execute_result"
    }
   ],
   "source": [
    "ayrr"
   ]
  },
  {
   "cell_type": "code",
   "execution_count": 32,
   "id": "e0c1c781",
   "metadata": {},
   "outputs": [
    {
     "data": {
      "text/plain": [
       "array([7, 8, 9])"
      ]
     },
     "metadata": {},
     "output_type": "display_data"
    },
    {
     "data": {
      "text/plain": [
       "2"
      ]
     },
     "metadata": {},
     "output_type": "display_data"
    },
    {
     "data": {
      "text/plain": [
       "3"
      ]
     },
     "metadata": {},
     "output_type": "display_data"
    }
   ],
   "source": [
    "\"\"\"\n",
    "With higher dimensional arrays, you have more options.\n",
    "In a two dimentional array, elements at each index are not scalars but rather one-dimensional arrays\n",
    "\"\"\"\n",
    "\n",
    "arr2d = np.array([[1,2,3], [4,5,6], [7,8,9]])\n",
    "\n",
    "\n",
    "display(arr2d[2])\n",
    "\n",
    "\n",
    "\n",
    "\n",
    "# Individual elements can be accessed recursively.\n",
    "# Or via passing a comma-separated list of indices to select individual elements'\n",
    "\n",
    "display(arr2d[0][1])\n",
    "\n",
    "display(arr2d[0, 2])"
   ]
  },
  {
   "cell_type": "code",
   "execution_count": 33,
   "id": "ae2634a6",
   "metadata": {},
   "outputs": [],
   "source": [
    "\"\"\"\n",
    "In multidimensional arrays, if you omit later indices,\n",
    "the returned object will be a lower dim nd array consisting of all the data along the higher dims\n",
    "\"\"\"\n",
    "\n",
    "# So in the 2x2x3 array arr3d:\n",
    "\n",
    "arr3dd = np.array([[[1,2,3], [4,5,6]], [[7,8,9], [10,11,12]]])"
   ]
  },
  {
   "cell_type": "code",
   "execution_count": 34,
   "id": "23de6ccd",
   "metadata": {},
   "outputs": [
    {
     "data": {
      "text/plain": [
       "array([[[ 1,  2,  3],\n",
       "        [ 4,  5,  6]],\n",
       "\n",
       "       [[ 7,  8,  9],\n",
       "        [10, 11, 12]]])"
      ]
     },
     "execution_count": 34,
     "metadata": {},
     "output_type": "execute_result"
    }
   ],
   "source": [
    "arr3dd"
   ]
  },
  {
   "cell_type": "code",
   "execution_count": 35,
   "id": "a331a98a",
   "metadata": {},
   "outputs": [
    {
     "data": {
      "text/plain": [
       "array([[1, 2, 3],\n",
       "       [4, 5, 6]])"
      ]
     },
     "execution_count": 35,
     "metadata": {},
     "output_type": "execute_result"
    }
   ],
   "source": [
    "# arr3dd[0] is a 2 x 3 array:\n",
    "arr3dd[0]"
   ]
  },
  {
   "cell_type": "code",
   "execution_count": 36,
   "id": "32b23c25",
   "metadata": {},
   "outputs": [],
   "source": [
    "# Both scalar values can be assigned to arr3d[0]:\n",
    "\n",
    "old_vals = arr3dd[0].copy()"
   ]
  },
  {
   "cell_type": "code",
   "execution_count": 37,
   "id": "bf50a233",
   "metadata": {},
   "outputs": [],
   "source": [
    "arr3dd[0] = 42"
   ]
  },
  {
   "cell_type": "code",
   "execution_count": 38,
   "id": "7efde815",
   "metadata": {},
   "outputs": [
    {
     "data": {
      "text/plain": [
       "array([[[42, 42, 42],\n",
       "        [42, 42, 42]],\n",
       "\n",
       "       [[ 7,  8,  9],\n",
       "        [10, 11, 12]]])"
      ]
     },
     "execution_count": 38,
     "metadata": {},
     "output_type": "execute_result"
    }
   ],
   "source": [
    "arr3dd"
   ]
  },
  {
   "cell_type": "code",
   "execution_count": 39,
   "id": "272ef18f",
   "metadata": {},
   "outputs": [
    {
     "data": {
      "text/plain": [
       "array([[[ 1,  2,  3],\n",
       "        [ 4,  5,  6]],\n",
       "\n",
       "       [[ 7,  8,  9],\n",
       "        [10, 11, 12]]])"
      ]
     },
     "execution_count": 39,
     "metadata": {},
     "output_type": "execute_result"
    }
   ],
   "source": [
    "arr3dd[0] = old_vals\n",
    "arr3dd"
   ]
  },
  {
   "cell_type": "code",
   "execution_count": 40,
   "id": "f073afae",
   "metadata": {},
   "outputs": [
    {
     "data": {
      "text/plain": [
       "array([7, 8, 9])"
      ]
     },
     "execution_count": 40,
     "metadata": {},
     "output_type": "execute_result"
    }
   ],
   "source": [
    "# arr3dd[1,0] gives you all the values whose indices start with (1,0) forming a 1-array:\n",
    "\n",
    "arr3dd[1, 0]"
   ]
  },
  {
   "cell_type": "code",
   "execution_count": 41,
   "id": "88ddabda",
   "metadata": {},
   "outputs": [
    {
     "data": {
      "text/plain": [
       "array([[ 7,  8,  9],\n",
       "       [10, 11, 12]])"
      ]
     },
     "execution_count": 41,
     "metadata": {},
     "output_type": "execute_result"
    }
   ],
   "source": [
    "# This ecpression is the same as though we had indeed in two steps\n",
    "# Note all returned arrays are views\n",
    "\n",
    "x = arr3dd[1]\n",
    "\n",
    "x"
   ]
  },
  {
   "cell_type": "code",
   "execution_count": 42,
   "id": "52bb0e2d",
   "metadata": {},
   "outputs": [
    {
     "data": {
      "text/plain": [
       "array([7, 8, 9])"
      ]
     },
     "execution_count": 42,
     "metadata": {},
     "output_type": "execute_result"
    }
   ],
   "source": [
    "x[0]"
   ]
  },
  {
   "cell_type": "code",
   "execution_count": 43,
   "id": "de22c460",
   "metadata": {},
   "outputs": [
    {
     "data": {
      "text/plain": [
       "array([ 0,  1,  2,  3,  4, 12, 12, 12,  8,  9, 64, 64, 64, 64, 64, 15, 16,\n",
       "       17, 18, 19, 20, 21, 22, 23, 24, 25, 26, 27, 28, 29, 30, 31, 32])"
      ]
     },
     "metadata": {},
     "output_type": "display_data"
    },
    {
     "data": {
      "text/plain": [
       "array([ 1,  2,  3,  4, 12])"
      ]
     },
     "execution_count": 43,
     "metadata": {},
     "output_type": "execute_result"
    }
   ],
   "source": [
    "\"\"\"\n",
    "Indexing with Slices\n",
    "\n",
    "Ndarrays can be sliced with the familiar syntax:\n",
    "\"\"\"\n",
    "\n",
    "display(ayrr)\n",
    "\n",
    "ayrr[1:6]"
   ]
  },
  {
   "cell_type": "code",
   "execution_count": 44,
   "id": "fce7cf5a",
   "metadata": {},
   "outputs": [
    {
     "data": {
      "text/plain": [
       "array([[1, 2, 3],\n",
       "       [4, 5, 6],\n",
       "       [7, 8, 9]])"
      ]
     },
     "metadata": {},
     "output_type": "display_data"
    },
    {
     "data": {
      "text/plain": [
       "array([[1, 2, 3],\n",
       "       [4, 5, 6]])"
      ]
     },
     "metadata": {},
     "output_type": "display_data"
    }
   ],
   "source": [
    "\"\"\" \n",
    "Consider the 2d array from before \n",
    "\n",
    "It slices along axis 0, the first axis.\n",
    "A slice, therefore, selects a range of elements along an axis\n",
    "It can be helpful to read [arr2d[:2]] as 'select the first two rows of arr2d'\n",
    "\n",
    "\n",
    "\n",
    "\n",
    "\"\"\"\n",
    "display(arr2d)\n",
    "\n",
    "\n",
    "display(arr2d[:2])"
   ]
  },
  {
   "cell_type": "code",
   "execution_count": 45,
   "id": "5f19d560",
   "metadata": {},
   "outputs": [
    {
     "data": {
      "text/plain": [
       "array([[2, 3],\n",
       "       [5, 6]])"
      ]
     },
     "execution_count": 45,
     "metadata": {},
     "output_type": "execute_result"
    }
   ],
   "source": [
    "# You can pass multiple slices, like you can pass multiple indexes\n",
    "\n",
    "arr2d[:2, 1:]\n"
   ]
  },
  {
   "cell_type": "code",
   "execution_count": 46,
   "id": "e0f2c688",
   "metadata": {},
   "outputs": [
    {
     "data": {
      "text/plain": [
       "array([4, 5])"
      ]
     },
     "metadata": {},
     "output_type": "display_data"
    },
    {
     "data": {
      "text/plain": [
       "array([3, 6])"
      ]
     },
     "metadata": {},
     "output_type": "display_data"
    },
    {
     "data": {
      "text/plain": [
       "array([[1],\n",
       "       [4],\n",
       "       [7]])"
      ]
     },
     "metadata": {},
     "output_type": "display_data"
    },
    {
     "data": {
      "text/plain": [
       "array([2, 5, 8])"
      ]
     },
     "metadata": {},
     "output_type": "display_data"
    }
   ],
   "source": [
    "\"\"\"\n",
    "WHen slicing like above, you always obtain array views of the same number of dimensions.\n",
    "\n",
    "By mixing integer indexes and slices, you get lower dimensional slices.\n",
    "\n",
    "# Ex: Select the second row but only the first two columns\n",
    "\"\"\"\n",
    "display(arr2d[1, :2])\n",
    "\n",
    "\n",
    "# Similarly, I can select the third column but only the first rwo rows like so:\n",
    "display(arr2d[:2, 2])\n",
    "\n",
    "# A colon by itself means to take the entire axis, you can only slice higer dim axes by doing:\n",
    "\n",
    "display(arr2d[:, :1])\n",
    "\n",
    "# ?\n",
    "display(arr2d[:,1])"
   ]
  },
  {
   "cell_type": "code",
   "execution_count": 47,
   "id": "a4169dc5",
   "metadata": {},
   "outputs": [
    {
     "data": {
      "text/plain": [
       "array([[ 0.25882982, -0.16890345,  2.09095571, -2.61315957],\n",
       "       [ 0.15927135,  1.31105004,  0.48506729,  0.95040544],\n",
       "       [-1.44517158, -0.37057434, -1.12776984, -0.44825362],\n",
       "       [ 0.78037663,  0.98469694,  1.18154747,  0.88880129],\n",
       "       [-1.82827906,  0.64692394, -0.27528862,  0.50937403],\n",
       "       [-0.74346871, -1.76020458, -1.21556409,  0.86248512],\n",
       "       [ 0.16429038, -0.41568108,  2.8001478 ,  1.09403006]])"
      ]
     },
     "execution_count": 47,
     "metadata": {},
     "output_type": "execute_result"
    }
   ],
   "source": [
    "\"\"\"\n",
    "# Boolean Indexing \n",
    "\n",
    "Let's consider an example where we have data in an array and an array of names\n",
    "with duplicates.\n",
    "\"\"\"\n",
    "import numpy as np\n",
    "# Generates random normally distributed data:\n",
    "\n",
    "\n",
    "names = np.array(['Bob', 'Joe', 'Will', 'Bob', 'Will', 'Joe', 'Joe'])\n",
    "\n",
    "dataS = np.random.randn(7, 4)\n",
    "\n",
    "dataS"
   ]
  },
  {
   "cell_type": "code",
   "execution_count": 48,
   "id": "86a63d39",
   "metadata": {},
   "outputs": [
    {
     "data": {
      "text/plain": [
       "array([[ 0.25882982, -0.16890345,  2.09095571, -2.61315957],\n",
       "       [ 0.78037663,  0.98469694,  1.18154747,  0.88880129]])"
      ]
     },
     "execution_count": 48,
     "metadata": {},
     "output_type": "execute_result"
    }
   ],
   "source": [
    "\"\"\"\n",
    "Like arithmetic operations, comparisons (as ==) with arrays are vectorized.\n",
    "\n",
    "Thus comparing names with the string Bob yiled a Boolean array.\n",
    "\"\"\"\n",
    "\n",
    "names == \"Bob\"\n",
    "\n",
    "# This boolean array can be apssed when indexing the array\n",
    "\n",
    "dataS[names == 'Bob']"
   ]
  },
  {
   "cell_type": "code",
   "execution_count": 49,
   "id": "b2dc8bb9",
   "metadata": {},
   "outputs": [
    {
     "data": {
      "text/plain": [
       "array([[ 2.09095571, -2.61315957],\n",
       "       [ 1.18154747,  0.88880129]])"
      ]
     },
     "metadata": {},
     "output_type": "display_data"
    },
    {
     "data": {
      "text/plain": [
       "array([[-2.61315957],\n",
       "       [ 0.88880129]])"
      ]
     },
     "metadata": {},
     "output_type": "display_data"
    },
    {
     "data": {
      "text/plain": [
       "array([False,  True,  True, False,  True,  True,  True])"
      ]
     },
     "metadata": {},
     "output_type": "display_data"
    },
    {
     "data": {
      "text/plain": [
       "array([[ 0.15927135,  1.31105004,  0.48506729,  0.95040544],\n",
       "       [-1.44517158, -0.37057434, -1.12776984, -0.44825362],\n",
       "       [-1.82827906,  0.64692394, -0.27528862,  0.50937403],\n",
       "       [-0.74346871, -1.76020458, -1.21556409,  0.86248512],\n",
       "       [ 0.16429038, -0.41568108,  2.8001478 ,  1.09403006]])"
      ]
     },
     "metadata": {},
     "output_type": "display_data"
    },
    {
     "data": {
      "text/plain": [
       "array([[ 0.15927135,  1.31105004,  0.48506729,  0.95040544],\n",
       "       [-1.44517158, -0.37057434, -1.12776984, -0.44825362],\n",
       "       [-1.82827906,  0.64692394, -0.27528862,  0.50937403],\n",
       "       [-0.74346871, -1.76020458, -1.21556409,  0.86248512],\n",
       "       [ 0.16429038, -0.41568108,  2.8001478 ,  1.09403006]])"
      ]
     },
     "metadata": {},
     "output_type": "display_data"
    }
   ],
   "source": [
    "\"\"\"\n",
    "The boolean array must be of the same length as the array axis it's indexing.\n",
    "You can even mix and match arrays with slices or integers\n",
    "(or sequences of integers)\n",
    "\"\"\"\n",
    "\n",
    "# Selcting from the rows where names == 'Bob' and index the columns too:\n",
    "\n",
    "display(dataS[names == 'Bob', 2:])\n",
    "\n",
    "display(dataS[names == 'Bob', 3:])\n",
    "\n",
    "# To select everything but 'Bob',\n",
    "# you can either use != or negate the condition using ~\n",
    "\n",
    "display(names != 'Bob')\n",
    "\n",
    "\n",
    "display(dataS[~(names == 'Bob')])\n",
    "\n",
    "# The operator can be useful when you want to invert a general condition\n",
    "\n",
    "cond = names == 'Bob'\n",
    "\n",
    "display(dataS[~cond])\n"
   ]
  },
  {
   "cell_type": "code",
   "execution_count": 50,
   "id": "4eada2cc",
   "metadata": {},
   "outputs": [
    {
     "data": {
      "text/plain": [
       "array([ True, False, False,  True, False, False, False])"
      ]
     },
     "metadata": {},
     "output_type": "display_data"
    },
    {
     "data": {
      "text/plain": [
       "array([[ 0.25882982, -0.16890345,  2.09095571, -2.61315957],\n",
       "       [ 0.78037663,  0.98469694,  1.18154747,  0.88880129]])"
      ]
     },
     "metadata": {},
     "output_type": "display_data"
    }
   ],
   "source": [
    "# Selecting two of the three names to combine multiple boolean conditions\n",
    "# Use boolean arithmetic operations like & (and) and | (or):\n",
    "\n",
    "mask = (names == 'Bob') | (names == 'will')\n",
    "\n",
    "display(mask)\n",
    "\n",
    "display(dataS[mask])"
   ]
  },
  {
   "cell_type": "code",
   "execution_count": 51,
   "id": "455a8649",
   "metadata": {},
   "outputs": [
    {
     "data": {
      "text/plain": [
       "array([[0.25882982, 0.        , 2.09095571, 0.        ],\n",
       "       [0.15927135, 1.31105004, 0.48506729, 0.95040544],\n",
       "       [0.        , 0.        , 0.        , 0.        ],\n",
       "       [0.78037663, 0.98469694, 1.18154747, 0.88880129],\n",
       "       [0.        , 0.64692394, 0.        , 0.50937403],\n",
       "       [0.        , 0.        , 0.        , 0.86248512],\n",
       "       [0.16429038, 0.        , 2.8001478 , 1.09403006]])"
      ]
     },
     "metadata": {},
     "output_type": "display_data"
    }
   ],
   "source": [
    "\"\"\"\n",
    "Selcelting data from an array by boolean indexing always creates a copy of the data,\n",
    "even if the returned array is unchanged.\n",
    "\n",
    "Python key words co dot work with boolean arrays.\n",
    "\n",
    "Use & (and) and | (or) instead. \n",
    "\"\"\"\n",
    "# Setting values with boolean arrays works in a common-sense way.\n",
    "# To set all of the negative values indata to 0 we:\n",
    "\n",
    "dataS[dataS < 0] = 0\n",
    "\n",
    "display(dataS)"
   ]
  },
  {
   "cell_type": "code",
   "execution_count": 52,
   "id": "a1506d16",
   "metadata": {},
   "outputs": [
    {
     "data": {
      "text/plain": [
       "array([[7.        , 7.        , 7.        , 7.        ],\n",
       "       [0.15927135, 1.31105004, 0.48506729, 0.95040544],\n",
       "       [7.        , 7.        , 7.        , 7.        ],\n",
       "       [7.        , 7.        , 7.        , 7.        ],\n",
       "       [7.        , 7.        , 7.        , 7.        ],\n",
       "       [0.        , 0.        , 0.        , 0.86248512],\n",
       "       [0.16429038, 0.        , 2.8001478 , 1.09403006]])"
      ]
     },
     "execution_count": 52,
     "metadata": {},
     "output_type": "execute_result"
    }
   ],
   "source": [
    "# Selecting whole rows or columns using 1d boolean array:\n",
    "\n",
    "dataS[names != 'Joe'] = 7\n",
    "dataS\n",
    "\n",
    "# these types of operations on two-dimensional data are convenient in Pandas."
   ]
  },
  {
   "cell_type": "code",
   "execution_count": 53,
   "id": "9bdb39cd",
   "metadata": {},
   "outputs": [
    {
     "data": {
      "text/plain": [
       "array([[0., 0., 0., 0.],\n",
       "       [1., 1., 1., 1.],\n",
       "       [2., 2., 2., 2.],\n",
       "       [3., 3., 3., 3.],\n",
       "       [4., 4., 4., 4.],\n",
       "       [5., 5., 5., 5.],\n",
       "       [6., 6., 6., 6.],\n",
       "       [7., 7., 7., 7.]])"
      ]
     },
     "metadata": {},
     "output_type": "display_data"
    },
    {
     "data": {
      "text/plain": [
       "array([[4., 4., 4., 4.],\n",
       "       [3., 3., 3., 3.],\n",
       "       [0., 0., 0., 0.],\n",
       "       [6., 6., 6., 6.]])"
      ]
     },
     "metadata": {},
     "output_type": "display_data"
    },
    {
     "data": {
      "text/plain": [
       "array([[5., 5., 5., 5.],\n",
       "       [3., 3., 3., 3.],\n",
       "       [1., 1., 1., 1.]])"
      ]
     },
     "metadata": {},
     "output_type": "display_data"
    },
    {
     "data": {
      "text/plain": [
       "array([[ 0,  1,  2,  3],\n",
       "       [ 4,  5,  6,  7],\n",
       "       [ 8,  9, 10, 11],\n",
       "       [12, 13, 14, 15],\n",
       "       [16, 17, 18, 19],\n",
       "       [20, 21, 22, 23],\n",
       "       [24, 25, 26, 27],\n",
       "       [28, 29, 30, 31]])"
      ]
     },
     "metadata": {},
     "output_type": "display_data"
    },
    {
     "data": {
      "text/plain": [
       "[1, 5, 7, 2]"
      ]
     },
     "metadata": {},
     "output_type": "display_data"
    },
    {
     "data": {
      "text/plain": [
       "[0, 3, 1, 2]"
      ]
     },
     "metadata": {},
     "output_type": "display_data"
    }
   ],
   "source": [
    "# Fancy Indexing: Used to describe indexing using integer arrays\n",
    "\n",
    "sarr = np.empty((8, 4))\n",
    "\n",
    "for i in range(8):\n",
    "    sarr[i] = i\n",
    "    \n",
    "display(sarr)\n",
    "\n",
    "# To select out a subset of the rows in a particular order\n",
    "# Simply pass a list or ndarray of integers specifying the desired order:\n",
    "\n",
    "display(sarr[[4, 3, 0, 6]])\n",
    "\n",
    "# Using negative indices selects rows from the end:\n",
    "\n",
    "display(sarr[[-3, -5, -7]])\n",
    "\n",
    "# Passing multiple index arrays does something slightly diffrent: \n",
    "# Slects 1d array of elemtnts corresponding to each tuple of indices:\n",
    "\n",
    "att = np.arange(32).reshape((8, 4))\n",
    "\n",
    "display(att)\n",
    "\n",
    "display([1, 5, 7, 2,], [0, 3, 1, 2])\n",
    "\n",
    "# For more detail about re-shape see Appendix A\n",
    "\n",
    "# The result of fancy index is always 1D.\n",
    "\n",
    "# Fancy indexing copies the data into a new array"
   ]
  },
  {
   "cell_type": "code",
   "execution_count": 54,
   "id": "b8265288",
   "metadata": {},
   "outputs": [
    {
     "data": {
      "text/plain": [
       "array([[ 0,  1,  2,  3,  4],\n",
       "       [ 5,  6,  7,  8,  9],\n",
       "       [10, 11, 12, 13, 14]])"
      ]
     },
     "metadata": {},
     "output_type": "display_data"
    },
    {
     "data": {
      "text/plain": [
       "array([[ 0,  5, 10],\n",
       "       [ 1,  6, 11],\n",
       "       [ 2,  7, 12],\n",
       "       [ 3,  8, 13],\n",
       "       [ 4,  9, 14]])"
      ]
     },
     "metadata": {},
     "output_type": "display_data"
    },
    {
     "data": {
      "text/plain": [
       "array([[125, 140, 155, 170, 185],\n",
       "       [140, 158, 176, 194, 212],\n",
       "       [155, 176, 197, 218, 239],\n",
       "       [170, 194, 218, 242, 266],\n",
       "       [185, 212, 239, 266, 293]])"
      ]
     },
     "metadata": {},
     "output_type": "display_data"
    },
    {
     "data": {
      "text/plain": [
       "array([[[ 0,  1,  2,  3],\n",
       "        [ 4,  5,  6,  7]],\n",
       "\n",
       "       [[ 8,  9, 10, 11],\n",
       "        [12, 13, 14, 15]]])"
      ]
     },
     "metadata": {},
     "output_type": "display_data"
    },
    {
     "data": {
      "text/plain": [
       "array([[[ 0,  8],\n",
       "        [ 4, 12]],\n",
       "\n",
       "       [[ 1,  9],\n",
       "        [ 5, 13]],\n",
       "\n",
       "       [[ 2, 10],\n",
       "        [ 6, 14]],\n",
       "\n",
       "       [[ 3, 11],\n",
       "        [ 7, 15]]])"
      ]
     },
     "metadata": {},
     "output_type": "display_data"
    },
    {
     "data": {
      "text/plain": [
       "array([[[ 0,  4],\n",
       "        [ 1,  5],\n",
       "        [ 2,  6],\n",
       "        [ 3,  7]],\n",
       "\n",
       "       [[ 8, 12],\n",
       "        [ 9, 13],\n",
       "        [10, 14],\n",
       "        [11, 15]]])"
      ]
     },
     "metadata": {},
     "output_type": "display_data"
    }
   ],
   "source": [
    "\"\"\"\n",
    "# Transposing Arrays and Swapping Axes:\n",
    "\n",
    "Transposing:\n",
    "A special form of reshaping\n",
    "similarly reurns a view uderlying data without copying anything.\n",
    "\n",
    "Arrays have the transpose method and also sthe special T attribute\n",
    "\"\"\"\n",
    "\n",
    "arr = np.arange(15).reshape((3, 5))\n",
    "\n",
    "display(arr)\n",
    "\n",
    "display(arr.T)\n",
    "\n",
    "# When computing matrix computains: Ex computing the inner matrix product\n",
    "\n",
    "arrr = np.random.randn(6, 3)\n",
    "\n",
    "\n",
    "display(np.dot(arr.T, arr))\n",
    "\n",
    "# For higher dimensional array,\n",
    "# trnspose will accept a tuple of axis numbers to permute the axes \n",
    "\n",
    "arr_bend = np.arange(16).reshape((2, 2, 4))\n",
    "\n",
    "display(arr_bend)\n",
    "\n",
    "display(arr_bend.T)\n",
    "\n",
    "\n",
    "# Simple T is a special case of swapping axes. ndarray has method [swapaxes]\n",
    "# Takes a pair of axis number and switches the axes to rearrange data\n",
    "\n",
    "\n",
    "arr_bend\n",
    "\n",
    "display(arr_bend.swapaxes(1,2))"
   ]
  },
  {
   "cell_type": "code",
   "execution_count": 55,
   "id": "499be34c",
   "metadata": {},
   "outputs": [
    {
     "data": {
      "text/plain": [
       "array([0, 1, 2, 3, 4, 5, 6, 7, 8, 9])"
      ]
     },
     "metadata": {},
     "output_type": "display_data"
    },
    {
     "data": {
      "text/plain": [
       "array([0.        , 1.        , 1.41421356, 1.73205081, 2.        ,\n",
       "       2.23606798, 2.44948974, 2.64575131, 2.82842712, 3.        ])"
      ]
     },
     "metadata": {},
     "output_type": "display_data"
    },
    {
     "data": {
      "text/plain": [
       "array([1.00000000e+00, 2.71828183e+00, 7.38905610e+00, 2.00855369e+01,\n",
       "       5.45981500e+01, 1.48413159e+02, 4.03428793e+02, 1.09663316e+03,\n",
       "       2.98095799e+03, 8.10308393e+03])"
      ]
     },
     "metadata": {},
     "output_type": "display_data"
    }
   ],
   "source": [
    "\"\"\"\n",
    "# Universal Functions: Fast Element-Wise Array Functions\n",
    "\n",
    "A universal function, or ufunc,\n",
    "is a fucntion that performs element-wise operations on data in ndarrays.\n",
    "You can think of them as fast vectorized wrappers for simple fucntions\n",
    "that take one or more scalar values and procude one or more scalar results\n",
    "\n",
    "Many ufunc, are simple element-wise transforamtions, like sqrt or exp:\n",
    "\n",
    "\"\"\"\n",
    "\n",
    "Uarr = np.arange(10)\n",
    "\n",
    "display(Uarr)\n",
    "\n",
    "display(np.sqrt(Uarr))\n",
    "\n",
    "display(np.exp(Uarr))"
   ]
  },
  {
   "cell_type": "code",
   "execution_count": 56,
   "id": "484e630c",
   "metadata": {},
   "outputs": [
    {
     "data": {
      "text/plain": [
       "array([ 0.08823192,  0.26434206,  0.64561596,  1.13827749,  0.39471282,\n",
       "        0.51854421,  0.00949977, -0.29761018])"
      ]
     },
     "metadata": {},
     "output_type": "display_data"
    },
    {
     "data": {
      "text/plain": [
       "array([[0.        , 1.        , 1.41421356, 1.73205081, 2.        ],\n",
       "       [2.23606798, 2.44948974, 2.64575131, 2.82842712, 3.        ],\n",
       "       [3.16227766, 3.31662479, 3.46410162, 3.60555128, 3.74165739]])"
      ]
     },
     "metadata": {},
     "output_type": "display_data"
    }
   ],
   "source": [
    "\"\"\"\n",
    "These are referred to as unary ufuncs.\n",
    "Others, such as add or maximum, take two arrays (thus binary ufuncs)\n",
    "and return a single array as the result\n",
    "\"\"\"\n",
    "\n",
    "x = np.random.randn(8)\n",
    "\n",
    "y = np.random.randn(8)\n",
    "\n",
    "# np.maximun computed the element-wise maximum of the elements in x & y\n",
    "\n",
    "display(np.maximum(x, y))\n",
    "\n",
    "# Ufuncs accept an optial out argument allows it 2 oprate inplace on arrays\n",
    "\n",
    "arr\n",
    "\n",
    "display(np.sqrt(arr))\n",
    "\n",
    "#isplay(np.sqrt(Uarr, Uarr))\n",
    "\n",
    "# Unary ufuncs, Binary universal functions page 109\n"
   ]
  },
  {
   "cell_type": "code",
   "execution_count": 57,
   "id": "12498b32",
   "metadata": {},
   "outputs": [
    {
     "data": {
      "text/plain": [
       "array([[-5.  , -5.  , -5.  , ..., -5.  , -5.  , -5.  ],\n",
       "       [-4.99, -4.99, -4.99, ..., -4.99, -4.99, -4.99],\n",
       "       [-4.98, -4.98, -4.98, ..., -4.98, -4.98, -4.98],\n",
       "       ...,\n",
       "       [ 4.97,  4.97,  4.97, ...,  4.97,  4.97,  4.97],\n",
       "       [ 4.98,  4.98,  4.98, ...,  4.98,  4.98,  4.98],\n",
       "       [ 4.99,  4.99,  4.99, ...,  4.99,  4.99,  4.99]])"
      ]
     },
     "metadata": {},
     "output_type": "display_data"
    },
    {
     "data": {
      "text/plain": [
       "array([[7.07106781, 7.06400028, 7.05693985, ..., 7.04988652, 7.05693985,\n",
       "        7.06400028],\n",
       "       [7.06400028, 7.05692568, 7.04985815, ..., 7.04279774, 7.04985815,\n",
       "        7.05692568],\n",
       "       [7.05693985, 7.04985815, 7.04278354, ..., 7.03571603, 7.04278354,\n",
       "        7.04985815],\n",
       "       ...,\n",
       "       [7.04988652, 7.04279774, 7.03571603, ..., 7.0286414 , 7.03571603,\n",
       "        7.04279774],\n",
       "       [7.05693985, 7.04985815, 7.04278354, ..., 7.03571603, 7.04278354,\n",
       "        7.04985815],\n",
       "       [7.06400028, 7.05692568, 7.04985815, ..., 7.04279774, 7.04985815,\n",
       "        7.05692568]])"
      ]
     },
     "metadata": {},
     "output_type": "display_data"
    }
   ],
   "source": [
    "\"\"\"\n",
    "# Array_oriented Pregramming with Arrays \n",
    "NumPy enables you to express data processing tasks as array ecpressions\n",
    "that might other wise require loops.\n",
    "This practice of replacing explict loops with array expressions\n",
    "is referred to as vectorization. \n",
    "Appendix A, explain broadcasting a powerful method for vectorizing computations\n",
    "\n",
    "\n",
    "Example \n",
    "Evaluate the fucntion sqrt(x^2 + y^2) across a regular grid of values.\n",
    "\n",
    "np.meshgrid function takes two 1d arrays and produces two 2d matrices\n",
    "corresponding to all pairs of (x,y) in the two arrays\n",
    "\"\"\"\n",
    "\n",
    "points = np.arange(-5, 5, 0.01)\n",
    "\n",
    "xs, ys = np.meshgrid(points, points)\n",
    "\n",
    "display(ys)\n",
    "\n",
    "# Evaluating the function is a matter of\n",
    "# writting the same expression you would write with two points\n",
    "z = np.sqrt(xs ** 2 + ys ** 2)\n",
    "\n",
    "display(z)"
   ]
  },
  {
   "cell_type": "code",
   "execution_count": 58,
   "id": "0d8d8d17",
   "metadata": {},
   "outputs": [
    {
     "data": {
      "text/plain": [
       "Text(0.5, 1.0, 'Image plot of $\\\\sqrt{x^2 + y^2}$ for a grid of values')"
      ]
     },
     "execution_count": 58,
     "metadata": {},
     "output_type": "execute_result"
    },
    {
     "data": {
      "image/png": "[encoded data removed]",
      "text/plain": [
       "<Figure size 432x288 with 2 Axes>"
      ]
     },
     "metadata": {
      "needs_background": "light"
     },
     "output_type": "display_data"
    }
   ],
   "source": [
    "# Use matplotlib to create a vis of this 2D array\n",
    "\n",
    "import matplotlib.pyplot as plt\n",
    "\n",
    "plt.imshow(z, cmap='BrBG'); plt.colorbar()\n",
    "\n",
    "plt.title('Image plot of $\\sqrt{x^2 + y^2}$ for a grid of values')\n"
   ]
  },
  {
   "cell_type": "code",
   "execution_count": 59,
   "id": "55040dcf",
   "metadata": {},
   "outputs": [],
   "source": [
    "\"\"\"\n",
    "# Expressing Conditional Logic Array Operations\n",
    "\n",
    "The numpy.where func is a vectoried version of the ternary expresion\n",
    "[x in condition else y].\n",
    "Suppose we had a loolean array and two arrays of values.\n",
    "\"\"\"\n",
    "\n",
    "xarr = np.array([1.1, 1.2, 1.3, 1.4, 1.5])\n",
    "\n",
    "yarr = np.array([2.1, 2.2, 2.3, 2.4, 2.5])\n",
    "\n",
    "cond = np.array([True, False, True, True, False])"
   ]
  },
  {
   "cell_type": "code",
   "execution_count": 60,
   "id": "12d7e02e",
   "metadata": {},
   "outputs": [],
   "source": [
    "\"\"\"\n",
    "We want to take a value from xarr whenever the corresponding value is cond is True,\n",
    "and otherwise thake the value form yarr.\n",
    "\"\"\"\n",
    "# List comprehension doing this might look like:\n",
    "\n",
    "result = [(x if c else y)\n",
    "          for x, y, c in zip(xarr, yarr, cond)]\n",
    "result\n",
    "\n",
    "# The code above is far from opimatl.\n",
    "# With np.where you can write the very code concisely:\n",
    "\n",
    "result2 = np.where(cond, xarr, yarr)"
   ]
  },
  {
   "cell_type": "code",
   "execution_count": 61,
   "id": "1c2d2667",
   "metadata": {},
   "outputs": [
    {
     "data": {
      "text/plain": [
       "array([[ 1.0867428 ,  0.52212776, -0.7185459 , -1.24652377,  0.6837941 ],\n",
       "       [-1.32796894, -0.30873504,  0.67880313, -0.50585524,  1.26659918],\n",
       "       [ 1.73266159, -0.95980063, -0.10713252, -1.39834307,  0.16671819],\n",
       "       [ 0.51325615, -0.37726555,  0.97396023,  0.83102113,  0.40409916],\n",
       "       [-1.60668265,  0.6197001 , -0.75843414,  0.52005296,  1.15634927]])"
      ]
     },
     "metadata": {},
     "output_type": "display_data"
    },
    {
     "data": {
      "text/plain": [
       "array([[ True,  True, False, False,  True],\n",
       "       [False, False,  True, False,  True],\n",
       "       [ True, False, False, False,  True],\n",
       "       [ True, False,  True,  True,  True],\n",
       "       [False,  True, False,  True,  True]])"
      ]
     },
     "metadata": {},
     "output_type": "display_data"
    },
    {
     "data": {
      "text/plain": [
       "array([[ 2,  2, -2, -2,  2],\n",
       "       [-2, -2,  2, -2,  2],\n",
       "       [ 2, -2, -2, -2,  2],\n",
       "       [ 2, -2,  2,  2,  2],\n",
       "       [-2,  2, -2,  2,  2]])"
      ]
     },
     "metadata": {},
     "output_type": "display_data"
    },
    {
     "data": {
      "text/plain": [
       "array([[ 2.        ,  2.        , -0.7185459 , -1.24652377,  2.        ],\n",
       "       [-1.32796894, -0.30873504,  2.        , -0.50585524,  2.        ],\n",
       "       [ 2.        , -0.95980063, -0.10713252, -1.39834307,  2.        ],\n",
       "       [ 2.        , -0.37726555,  2.        ,  2.        ,  2.        ],\n",
       "       [-1.60668265,  2.        , -0.75843414,  2.        ,  2.        ]])"
      ]
     },
     "metadata": {},
     "output_type": "display_data"
    }
   ],
   "source": [
    "\"\"\"\n",
    "The second and third arguments to np.where dont need to be arrays;\n",
    "One or both of them can be scalars. A typical use of np.where\n",
    "in data analysis to produce a new array of values based on another array.\n",
    "\"\"\"\n",
    "\n",
    "# To replace all positive vlaues with 2 and all negative values with -2 \n",
    "\n",
    "rand_arr = np.random.randn(5,5)\n",
    "\n",
    "display(rand_arr)\n",
    "\n",
    "display(rand_arr > 0)\n",
    "\n",
    "display(np.where(rand_arr > 0, 2, -2))\n",
    "\n",
    "# You can combine scalars and arrays when using np.where \n",
    "# Replace all positive values in rand_arr with the constant 2 like so:\n",
    "\n",
    "display(np.where(rand_arr > 0, 2, rand_arr))"
   ]
  },
  {
   "cell_type": "code",
   "execution_count": 62,
   "id": "725831c6-8f66-48ca-9009-b6e300992883",
   "metadata": {},
   "outputs": [
    {
     "data": {
      "text/plain": [
       "array([[-0.13136526,  0.07463356,  1.25456045,  0.90047422],\n",
       "       [ 1.90125209, -0.31930784,  0.11685581,  0.57896071],\n",
       "       [ 1.21072194,  0.07317871, -0.24586805, -0.63492766],\n",
       "       [-0.56266074,  1.8449808 ,  1.33633535, -1.18954111],\n",
       "       [ 0.26894678,  1.52266382,  1.25070909,  0.87632523]])"
      ]
     },
     "metadata": {},
     "output_type": "display_data"
    },
    {
     "data": {
      "text/plain": [
       "0.5063463951434154"
      ]
     },
     "metadata": {},
     "output_type": "display_data"
    },
    {
     "data": {
      "text/plain": [
       "0.5063463951434154"
      ]
     },
     "metadata": {},
     "output_type": "display_data"
    },
    {
     "data": {
      "text/plain": [
       "10.126927902868308"
      ]
     },
     "metadata": {},
     "output_type": "display_data"
    }
   ],
   "source": [
    "\"\"\"\n",
    "Mathematical and Statistical Methods \n",
    "\n",
    "A set of math funtions that compute statistics about an entire array\n",
    "or about the data alaong an axis are accessible as methods of the array class.\n",
    "\n",
    "TO call aggregationg (also called reductions) like [sum, mean, std].\n",
    "Either by calling the array instance method or using top-level NumPy funtion.\n",
    "\"\"\"\n",
    "\n",
    "# Generate some normally distributed random data n compute some aggregate stats.\n",
    "\n",
    "math_arr = np.random.randn(5, 4)\n",
    "\n",
    "display(math_arr)\n",
    "\n",
    "display(math_arr.mean())\n",
    "\n",
    "display(np.mean(math_arr))\n",
    "\n",
    "display(math_arr.sum())"
   ]
  },
  {
   "cell_type": "code",
   "execution_count": 63,
   "id": "95619249-5604-49bc-b88d-8206042dd5f3",
   "metadata": {},
   "outputs": [
    {
     "data": {
      "text/plain": [
       "array([0.52457574, 0.56944019, 0.10077624, 0.35727857, 0.97966123])"
      ]
     },
     "metadata": {},
     "output_type": "display_data"
    },
    {
     "data": {
      "text/plain": [
       "array([2.68689481, 3.19614905, 3.71259266, 0.53129138])"
      ]
     },
     "metadata": {},
     "output_type": "display_data"
    },
    {
     "data": {
      "text/plain": [
       "array([ 0,  1,  3,  6, 10, 15, 21, 28], dtype=int32)"
      ]
     },
     "metadata": {},
     "output_type": "display_data"
    }
   ],
   "source": [
    "# Functs like mean and sum take an optional axis argument that cimputes the \n",
    "# stats over the given axis, resulting in an array with one fewer dimensions.\n",
    "\n",
    "display(math_arr.mean(axis=1))\n",
    "\n",
    "display(math_arr.sum(axis=0))\n",
    "\n",
    "# Here arr.mean() means 'compute mean acroos the columns' where arr.sum(0) means rows\n",
    "\n",
    "# Other methods like cumsum and sumprod dont aggreate they instead producing \n",
    "# An array of the intermediate results\n",
    "\n",
    "row_arr = np.array([0, 1, 2, 3, 4, 5, 6, 7])\n",
    "\n",
    "display(row_arr.cumsum())"
   ]
  },
  {
   "cell_type": "code",
   "execution_count": 64,
   "id": "187f7927",
   "metadata": {},
   "outputs": [
    {
     "data": {
      "text/plain": [
       "array([[0, 1, 2],\n",
       "       [3, 4, 5],\n",
       "       [6, 7, 8]])"
      ]
     },
     "metadata": {},
     "output_type": "display_data"
    },
    {
     "data": {
      "text/plain": [
       "array([[ 0,  1,  2],\n",
       "       [ 3,  5,  7],\n",
       "       [ 9, 12, 15]], dtype=int32)"
      ]
     },
     "metadata": {},
     "output_type": "display_data"
    },
    {
     "data": {
      "text/plain": [
       "array([[  0,   0,   0],\n",
       "       [  3,  12,  60],\n",
       "       [  6,  42, 336]], dtype=int32)"
      ]
     },
     "execution_count": 64,
     "metadata": {},
     "output_type": "execute_result"
    }
   ],
   "source": [
    "\"\"\"\n",
    "In multidimensional arrays, \n",
    "accumulation functions like cumsum return an array of the same size,\n",
    "but with the partial aggregates computed along the indicated axis\n",
    "accoding to each lower Dim slice:\n",
    "\"\"\"\n",
    "\n",
    "Td_arr = np.array([[0, 1, 2], [3, 4, 5], [6, 7, 8]])\n",
    "\n",
    "display(Td_arr)\n",
    "\n",
    "display(Td_arr.cumsum(axis=0))\n",
    "\n",
    "Td_arr.cumprod(axis=1)\n",
    "\n",
    "# Basic array statistical methods page 114"
   ]
  },
  {
   "cell_type": "code",
   "execution_count": 71,
   "id": "3b84ded4",
   "metadata": {},
   "outputs": [
    {
     "data": {
      "text/plain": [
       "True"
      ]
     },
     "metadata": {},
     "output_type": "display_data"
    },
    {
     "data": {
      "text/plain": [
       "False"
      ]
     },
     "metadata": {},
     "output_type": "display_data"
    }
   ],
   "source": [
    "\"\"\"\n",
    "Methods for Boolean Arrays\n",
    "\n",
    "Boolean values are coerced to 1 (True) and 0 (False) in predeceding methods.\n",
    "Thus sum is often used as a means of counting True values in a boolean array:\n",
    "\"\"\"\n",
    "sm_arr = np.random.randn(100)\n",
    "\n",
    "(sm_arr > 0).sum() # Number of positive numbers\n",
    "\n",
    "# Two additional methods, any and all, useful especially 4 boolean arrays,\n",
    "# Any tests whether one or more values in an array is True,\n",
    "# While all checks if every values is true:\n",
    "\n",
    "bools = np.array([False, False, True, False])\n",
    "\n",
    "display(bools.any())\n",
    "\n",
    "display(bools.all())\n",
    "\n",
    "#methods also work with non-boolean arrays where non-zero elements Eval to true\n",
    "\n"
   ]
  },
  {
   "cell_type": "code",
   "execution_count": 105,
   "id": "3ade7253",
   "metadata": {},
   "outputs": [
    {
     "data": {
      "text/plain": [
       "array([-1.01932813, -0.72535809, -0.07166417,  0.2254789 ,  2.0719374 ])"
      ]
     },
     "metadata": {},
     "output_type": "display_data"
    },
    {
     "data": {
      "text/plain": [
       "array([[-1.27121271,  0.07364002, -0.8936393 ],\n",
       "       [ 0.00560181, -0.41557528, -0.1864144 ],\n",
       "       [-0.01018828,  0.99484994, -0.60565212],\n",
       "       [ 1.14863535,  0.12365743, -0.12643108],\n",
       "       [-0.86554481, -1.80025022,  1.22781381]])"
      ]
     },
     "metadata": {},
     "output_type": "display_data"
    },
    {
     "data": {
      "text/plain": [
       "None"
      ]
     },
     "metadata": {},
     "output_type": "display_data"
    }
   ],
   "source": [
    "\"\"\"\n",
    "# Sorting \n",
    "like Python list type,\n",
    "NumPy arrays can be sorted in-place with the sort method\n",
    "\"\"\"\n",
    "Arr = np.random.randn(5)\n",
    "\n",
    "display(np.sort(Arr))\n",
    "\n",
    "# You can sort each one-D section of values in multiD array inplace\n",
    "# Along an axis by passing the axis number to sort:\n",
    "\n",
    "sort_arr = np.random.randn(5,3)\n",
    "\n",
    "display(sort_arr)\n",
    "\n",
    "display(sort_arr.sort(0))"
   ]
  },
  {
   "cell_type": "code",
   "execution_count": 110,
   "id": "c4b89cca",
   "metadata": {},
   "outputs": [
    {
     "data": {
      "text/plain": [
       "array([-2.46121836, -2.41389394, -2.02224961, -2.00643526, -1.8396605 ,\n",
       "       -1.6237198 , -1.59391975, -1.55182015, -1.52362532, -1.43926782,\n",
       "       -1.41488222, -1.3181266 , -1.27339066, -1.26542323, -1.12969905,\n",
       "       -0.96147766, -0.87912703, -0.8721915 , -0.83560432, -0.83551533,\n",
       "       -0.80998029, -0.79488282, -0.76796949, -0.75598226, -0.7514391 ,\n",
       "       -0.71382616, -0.69213708, -0.60866614, -0.60322665, -0.58595288,\n",
       "       -0.50658689, -0.49337592, -0.47498877, -0.47483185, -0.45650622,\n",
       "       -0.4488202 , -0.44187397, -0.38805111, -0.36289873, -0.3568255 ,\n",
       "       -0.35422299, -0.34994718, -0.33923097, -0.31711616, -0.30883074,\n",
       "       -0.29653925, -0.23009939, -0.20448738, -0.13961392, -0.12694193,\n",
       "       -0.10432057, -0.09235675, -0.03078197, -0.02304366, -0.00904391,\n",
       "       -0.00709687,  0.00636165,  0.00752425,  0.04279599,  0.05169394,\n",
       "        0.05974576,  0.08831531,  0.11023933,  0.11613407,  0.15407446,\n",
       "        0.15711401,  0.1650471 ,  0.20527203,  0.30288036,  0.33113151,\n",
       "        0.351007  ,  0.36640399,  0.41161435,  0.43760035,  0.46938829,\n",
       "        0.49725771,  0.52903028,  0.58821051,  0.62162866,  0.64290452,\n",
       "        0.65045365,  0.65339164,  0.65777664,  0.82319185,  1.01945678,\n",
       "        1.05525884,  1.05619201,  1.07792879,  1.25693071,  1.30874904,\n",
       "        1.40542813,  1.42423755,  1.50158526,  1.54497977,  1.59960925,\n",
       "        1.63411215,  1.68101929,  1.88041609,  2.13541664,  2.85915975])"
      ]
     },
     "metadata": {},
     "output_type": "display_data"
    },
    {
     "data": {
      "text/plain": [
       "-1.6237197964155061"
      ]
     },
     "metadata": {},
     "output_type": "display_data"
    }
   ],
   "source": [
    "\"\"\"\n",
    "The top-level method np.sort() returns a sorted copy of an array\n",
    "instead of modifying the array in-place. A quick way to compute the quantiles\n",
    "of an array is to sort it and select the value at a particular rank:\n",
    "\n",
    "For more details about using NumPy sorting methods, \n",
    "and more advanced techs like indirect osrting see appendix A\n",
    "\"\"\"\n",
    "laege_arr = np.random.randn(100)\n",
    "\n",
    "laege_arr.sort()\n",
    "display(laege_arr)\n",
    "display(laege_arr[int(0.05 * len(laege_arr))])"
   ]
  },
  {
   "cell_type": "code",
   "execution_count": 119,
   "id": "0d187abd",
   "metadata": {},
   "outputs": [
    {
     "data": {
      "text/plain": [
       "array(['Bob', 'Joe', 'Will'], dtype='<U4')"
      ]
     },
     "metadata": {},
     "output_type": "display_data"
    },
    {
     "data": {
      "text/plain": [
       "array([1, 2, 3, 4])"
      ]
     },
     "metadata": {},
     "output_type": "display_data"
    },
    {
     "data": {
      "text/plain": [
       "['Bob', 'Joe', 'Will']"
      ]
     },
     "metadata": {},
     "output_type": "display_data"
    },
    {
     "data": {
      "text/plain": [
       "array([ True, False, False,  True,  True, False,  True])"
      ]
     },
     "metadata": {},
     "output_type": "display_data"
    }
   ],
   "source": [
    "\"\"\"\n",
    "Unique and Other Set Logic\n",
    "\n",
    "NumPy has some basic set operations for one_d ndarrays.\n",
    "A commonly used one is np.unique which returns the sorted uniquw values in an array\n",
    "\"\"\"\n",
    "\n",
    "names = np.array(['Bob', 'Joe', 'Will', 'Bob', 'Will', 'Joe', 'Joe'])\n",
    "\n",
    "display(np.unique(names))\n",
    "\n",
    "ints = np.array([3, 3, 3, 2, 2, 1, 1, 4, 4])\n",
    "\n",
    "display(np.unique(ints))\n",
    "\n",
    "# Contrast np.unique with python alt\n",
    "\n",
    "display(sorted(set(names)))\n",
    "\n",
    "values = np.array([6, 0, 0, 3, 2, 5, 6])\n",
    "\n",
    "display(np.in1d(values, [2, 3, 6]))\n",
    "\n",
    "# Array set operations page 117\n",
    "\n"
   ]
  },
  {
   "cell_type": "code",
   "execution_count": 128,
   "id": "1c169e13",
   "metadata": {},
   "outputs": [
    {
     "data": {
      "text/plain": [
       "array([[1., 2., 3.],\n",
       "       [4., 5., 6.]])"
      ]
     },
     "metadata": {},
     "output_type": "display_data"
    },
    {
     "data": {
      "text/plain": [
       "array([[ 6., 23.],\n",
       "       [-1.,  7.],\n",
       "       [ 8.,  9.]])"
      ]
     },
     "metadata": {},
     "output_type": "display_data"
    },
    {
     "data": {
      "text/plain": [
       "array([[ 28.,  64.],\n",
       "       [ 67., 181.]])"
      ]
     },
     "metadata": {},
     "output_type": "display_data"
    },
    {
     "data": {
      "text/plain": [
       "array([[ 28.,  64.],\n",
       "       [ 67., 181.]])"
      ]
     },
     "metadata": {},
     "output_type": "display_data"
    },
    {
     "data": {
      "text/plain": [
       "array([ 6., 15.])"
      ]
     },
     "metadata": {},
     "output_type": "display_data"
    },
    {
     "data": {
      "text/plain": [
       "array([ 6., 15.])"
      ]
     },
     "metadata": {},
     "output_type": "display_data"
    }
   ],
   "source": [
    "\"\"\"\n",
    "Linear Algebra\n",
    "\"\"\"\n",
    "\n",
    "x = np.array([[1., 2., 3.], [4., 5., 6.]])\n",
    "\n",
    "y = np.array([[6., 23.], [-1., 7.],[8, 9]])\n",
    "\n",
    "display(x)\n",
    "\n",
    "display(y)\n",
    "\n",
    "display(x.dot(y))\n",
    "\n",
    "display(np.dot(x,y))\n",
    "\n",
    "# MAtrix prduct betwwen a two-d array and a suitable sized 1D  array result\n",
    "# In a 1D array\n",
    "\n",
    "display(np.dot(x, np.ones(3)))\n",
    "\n",
    "# The @ symbol wokrs as infix operator that performs matrix multiplication\n",
    "\n",
    "display(x @ np.ones(3))\n",
    "\n"
   ]
  },
  {
   "cell_type": "code",
   "execution_count": 136,
   "id": "75e785a9",
   "metadata": {},
   "outputs": [
    {
     "data": {
      "text/plain": [
       "array([[ 0.38845676,  0.16990594, -0.18993424],\n",
       "       [ 0.16990594,  1.03291851, -0.2881871 ],\n",
       "       [-0.18993424, -0.2881871 ,  0.28435647]])"
      ]
     },
     "metadata": {},
     "output_type": "display_data"
    },
    {
     "data": {
      "text/plain": [
       "array([[ 1.00000000e+00,  3.06755828e-17, -2.82319802e-17],\n",
       "       [-1.08803842e-16,  1.00000000e+00,  2.95253744e-16],\n",
       "       [-1.64851533e-16, -2.78988987e-16,  1.00000000e+00]])"
      ]
     },
     "metadata": {},
     "output_type": "display_data"
    },
    {
     "data": {
      "text/plain": [
       "array([[-4.67750369, -0.95970143, -6.11077523],\n",
       "       [ 0.        , -1.73945657, -3.58260772],\n",
       "       [ 0.        ,  0.        ,  2.23614951]])"
      ]
     },
     "metadata": {},
     "output_type": "display_data"
    }
   ],
   "source": [
    "from numpy.linalg import inv, qr\n",
    "\n",
    "xs = np.random.randn(5,3)\n",
    "\n",
    "mat = xs.T.dot(xs)\n",
    "\n",
    "display(inv(mat))\n",
    "\n",
    "display(mat.dot(inv(mat)))\n",
    "\n",
    "q,r = qr(mat)\n",
    "\n",
    "display(r)\n",
    "\n",
    "# The expression X.T.dot(X) computes the dot product of X with traspose X.T.\n",
    "\n",
    "# Commonly used numpy.linalg functions page 120\n",
    "\n",
    "# Pseudorandom Number Generation/ numpy.random functions page 120\n",
    "# Random Walks page 121"
   ]
  },
  {
   "cell_type": "code",
   "execution_count": null,
   "id": "4b7de903",
   "metadata": {},
   "outputs": [],
   "source": []
  },
  {
   "cell_type": "code",
   "execution_count": null,
   "id": "e951016e",
   "metadata": {},
   "outputs": [],
   "source": []
  },
  {
   "cell_type": "code",
   "execution_count": null,
   "id": "a568a95c",
   "metadata": {},
   "outputs": [],
   "source": []
  },
  {
   "cell_type": "code",
   "execution_count": null,
   "id": "5bc0cf33",
   "metadata": {},
   "outputs": [],
   "source": []
  },
  {
   "cell_type": "markdown",
   "id": "1e7c56e2",
   "metadata": {},
   "source": [
    "# "
   ]
  },
  {
   "cell_type": "raw",
   "id": "111e98c0",
   "metadata": {},
   "source": []
  }
 ],
 "metadata": {
  "kernelspec": {
   "display_name": "dev",
   "language": "python",
   "name": "dev"
  },
  "language_info": {
   "codemirror_mode": {
    "name": "ipython",
    "version": 3
   },
   "file_extension": ".py",
   "mimetype": "text/x-python",
   "name": "python",
   "nbconvert_exporter": "python",
   "pygments_lexer": "ipython3",
   "version": "3.7.10"
  }
 },
 "nbformat": 4,
 "nbformat_minor": 5
}
