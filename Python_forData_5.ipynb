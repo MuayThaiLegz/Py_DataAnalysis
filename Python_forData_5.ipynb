{
 "cells": [
  {
   "cell_type": "code",
   "execution_count": 1,
   "id": "7a7cc063",
   "metadata": {},
   "outputs": [
    {
     "data": {
      "text/plain": [
       "'Python for Data Ananlysis Chapet 5 : Getting Started with pandas'"
      ]
     },
     "execution_count": 1,
     "metadata": {},
     "output_type": "execute_result"
    }
   ],
   "source": [
    "\"Python for Data Ananlysis \\\n",
    "Chapet 5 : Getting Started with pandas\""
   ]
  },
  {
   "cell_type": "code",
   "execution_count": 1,
   "id": "7a39b6cd",
   "metadata": {},
   "outputs": [],
   "source": [
    "\"\"\"\n",
    "Pandas is designed for working with tabular or heterogeneous data.\n",
    "\n",
    "\"\"\"\n",
    "\n",
    "import pandas as pd; from pandas import Series, DataFrame"
   ]
  },
  {
   "cell_type": "code",
   "execution_count": 33,
   "id": "34b8018d-ef98-409f-8249-9bd86523ba9f",
   "metadata": {},
   "outputs": [
    {
     "data": {
      "text/plain": [
       "0    2\n",
       "1    4\n",
       "2    5\n",
       "3   -2\n",
       "4    3\n",
       "dtype: int64"
      ]
     },
     "metadata": {},
     "output_type": "display_data"
    },
    {
     "data": {
      "text/plain": [
       "a    5\n",
       "r    6\n",
       "s    3\n",
       "c    4\n",
       "dtype: int64"
      ]
     },
     "metadata": {},
     "output_type": "display_data"
    },
    {
     "data": {
      "text/plain": [
       "5"
      ]
     },
     "metadata": {},
     "output_type": "display_data"
    },
    {
     "data": {
      "text/plain": [
       "4"
      ]
     },
     "metadata": {},
     "output_type": "display_data"
    },
    {
     "data": {
      "text/plain": [
       "a    5\n",
       "c    4\n",
       "r    6\n",
       "dtype: int64"
      ]
     },
     "metadata": {},
     "output_type": "display_data"
    },
    {
     "data": {
      "text/plain": [
       "a    5\n",
       "r    6\n",
       "s    3\n",
       "c    4\n",
       "dtype: int64"
      ]
     },
     "metadata": {},
     "output_type": "display_data"
    },
    {
     "data": {
      "text/plain": [
       "a    15\n",
       "r    18\n",
       "s     9\n",
       "c    12\n",
       "dtype: int64"
      ]
     },
     "metadata": {},
     "output_type": "display_data"
    }
   ],
   "source": [
    "\"\"\"\n",
    "# Series a 1D array-like object containing a sequence of values (similar to NymPy types)\n",
    "and and associated array of data labels, called its index.\n",
    "The simplest Series is formed from only an array of data\n",
    "\n",
    "\"\"\"\n",
    "\n",
    "\n",
    "obj = pd.Series([2,4,5,-2,3])\n",
    "\n",
    "display(obj)\n",
    "\n",
    "# Creating a Series with an Index\n",
    "\n",
    "index_obj = pd.Series([5, 6, 3, 4], index=['a','r','s','c'])\n",
    "\n",
    "display(index_obj)\n",
    "\n",
    "# You can use labels in the index when selecting single values or set values:\n",
    "\n",
    "display(index_obj['a'])\n",
    "\n",
    "index_obj['c'] = 4\n",
    "\n",
    "display(index_obj['c'])\n",
    "\n",
    "\n",
    "# Here ['a','c','r'] is interpreted as a list of indices,\n",
    "#even though it cointains strings instead of integers.\n",
    "display(index_obj[['a','c','r']])\n",
    "\n",
    "\n",
    "# Using NumPy-like operations, such as filtering with aboolean array,\n",
    "\n",
    "# scalar multiplication, or applying math functions, will perserve the index-value link\n",
    "\n",
    "display(index_obj[index_obj > 1])\n",
    "\n",
    "display(index_obj * 3)\n",
    "\n",
    "\n"
   ]
  },
  {
   "cell_type": "code",
   "execution_count": 60,
   "id": "f12285d9-bbe4-4887-944f-c15503ba91b9",
   "metadata": {},
   "outputs": [
    {
     "data": {
      "text/plain": [
       "Conocrd         NaN\n",
       "Marco           NaN\n",
       "Oregon      20000.0\n",
       "Texas      142000.0\n",
       "Utah            NaN\n",
       "ohio            NaN\n",
       "dtype: float64"
      ]
     },
     "execution_count": 60,
     "metadata": {},
     "output_type": "execute_result"
    }
   ],
   "source": [
    "\"\"\"\n",
    "Another way to use a Series is as a fixed-legth, ordered dict, as it is a mapping of index values\n",
    "to data values. It can be used in many ways in many contexts where you migth use a dict\n",
    "\"\"\"\n",
    "\n",
    "'b' in index_obj\n",
    "\n",
    "# If you have data in a Py dict, you can create A series from it bu passing the dict\n",
    "\n",
    "statesNdict = {'ohio' : 35000, 'Texas' : 71000, 'Oregon': 10000, 'Utah' : 50000}\n",
    "\n",
    "statesNdict2= {'Conocrd' : 35000, 'Texas' : 71000, 'Oregon': 10000, 'Marco' : 50000}\n",
    "\n",
    "obj3 = pd.Series(statesNdict)\n",
    "\n",
    "obj2= pd.Series(statesNdict2)\n",
    "\n",
    "#isplay(statesNdict)\n",
    "\n",
    "# A useful Series feature for many applicatios is \n",
    "# that it automatically aligns by index label in arithmetic operations.\n",
    "\n",
    "obj3+ obj2"
   ]
  },
  {
   "cell_type": "code",
   "execution_count": 67,
   "id": "94e33fb5-254d-443d-83f9-4ff6b59e8510",
   "metadata": {},
   "outputs": [
    {
     "data": {
      "text/plain": [
       "Kav     2\n",
       "Ant     4\n",
       "Russ    5\n",
       "Jeff   -2\n",
       "JV      3\n",
       "dtype: int64"
      ]
     },
     "execution_count": 67,
     "metadata": {},
     "output_type": "execute_result"
    }
   ],
   "source": [
    "\"\"\"\n",
    "Both the Series object itself and its index have a name attribute, which integrates with other key\n",
    "areas of pandas fuctionality:\n",
    "\"\"\"\n",
    "\n",
    "obj3.name = 'population'\n",
    "obj3.index.name = 'state'\n",
    "\n",
    "# A Series's index can be altered in-place by assignment:\n",
    "\n",
    "obj.index = ['Kav', 'Ant', 'Russ','Jeff', 'JV']\n",
    "\n",
    "obj"
   ]
  },
  {
   "cell_type": "code",
   "execution_count": 83,
   "id": "379138b9-1f36-4eac-b0cb-f045836024be",
   "metadata": {},
   "outputs": [
    {
     "data": {
      "text/plain": [
       "0    2019\n",
       "1    2020\n",
       "2    2021\n",
       "3    2022\n",
       "4    2023\n",
       "Name: year, dtype: int64"
      ]
     },
     "execution_count": 83,
     "metadata": {},
     "output_type": "execute_result"
    }
   ],
   "source": [
    "\"\"\"\n",
    "\n",
    "# DataFrame \n",
    "A rectangular table of data and contains an ordered collections of columns, each of which can be a \n",
    "different value type(numeric, string, boolean). The DataFrame had both a row and column index;\n",
    "it can be thougth of as a dict of Series all sharing the same index.\n",
    "One can use DF to represent higher DIMs data in a tabular format using hierarchial indexing.\n",
    "\"\"\"\n",
    "\n",
    "# Creating a DF from a dict of equal-leght lists or NumPy arrays:\n",
    "\n",
    "df_Style = {'state':['Ohio', 'Nevada', 'New York', 'Kansas', 'Texas'],\n",
    "            'year' : [2019, 2020, 2021, 2022, 2023], \n",
    "            'value': [1.5, 2.6, 1.9, 9.4, 2.1]}\n",
    "    \n",
    "frame = pd.DataFrame(df_Style)\n",
    "\n",
    "frame\n",
    "\n",
    "# If you specify a sequence of columns, the DataFrames columns will be arranged in that order\n",
    "\n",
    "pd.DataFrame(df_Style, columns=['value', 'state', 'year'])\n",
    "\n",
    "# A column in a DataFrame can be retrieved as a Series either by dict-like notation or by attribute\n",
    "\n",
    "frame['year']\n",
    "\n",
    "# frame.column only works when the column name is a valid Py variable name.\n",
    "\n",
    "frame.year\n"
   ]
  },
  {
   "cell_type": "code",
   "execution_count": null,
   "id": "bcb0b81e-0e08-44b0-acc8-f519bbfc8e19",
   "metadata": {},
   "outputs": [],
   "source": []
  },
  {
   "cell_type": "code",
   "execution_count": null,
   "id": "7054aed7-493a-4d1e-b9a9-10e55fb30575",
   "metadata": {},
   "outputs": [],
   "source": []
  },
  {
   "cell_type": "code",
   "execution_count": null,
   "id": "a2499d86-2a14-48d5-af2a-3c093a3abbf2",
   "metadata": {},
   "outputs": [],
   "source": []
  },
  {
   "cell_type": "code",
   "execution_count": null,
   "id": "973e6866-28ae-4d9d-8f0d-324a7495b343",
   "metadata": {},
   "outputs": [],
   "source": []
  },
  {
   "cell_type": "code",
   "execution_count": null,
   "id": "e3de3aa4-cd9e-4de2-89e2-fb9ec174974b",
   "metadata": {},
   "outputs": [],
   "source": []
  }
 ],
 "metadata": {
  "kernelspec": {
   "display_name": "dev",
   "language": "python",
   "name": "dev"
  },
  "language_info": {
   "codemirror_mode": {
    "name": "ipython",
    "version": 3
   },
   "file_extension": ".py",
   "mimetype": "text/x-python",
   "name": "python",
   "nbconvert_exporter": "python",
   "pygments_lexer": "ipython3",
   "version": "3.7.10"
  }
 },
 "nbformat": 4,
 "nbformat_minor": 5
}
