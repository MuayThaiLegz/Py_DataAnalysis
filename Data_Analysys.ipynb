{
 "cells": [
  {
   "cell_type": "code",
   "execution_count": null,
   "id": "1486cfd4",
   "metadata": {},
   "outputs": [],
   "source": [
    "\"\"\"\n",
    "This a self educational code along with The book-\n",
    "'Python for Data Analysis' by 'Wes McKinney'\n",
    "_________________________________________________\n",
    "\"\"\""
   ]
  },
  {
   "cell_type": "code",
   "execution_count": 18,
   "id": "95f00cb9",
   "metadata": {},
   "outputs": [
    {
     "data": {
      "text/plain": [
       "3885.0"
      ]
     },
     "execution_count": 18,
     "metadata": {},
     "output_type": "execute_result"
    }
   ],
   "source": [
    "\"\"\"\n",
    "CHapter 2:\n",
    "Python Language Basics, Ipython, and Jupyter Notebooks\n",
    "_______________________________________________________\n",
    "\n",
    "The %run Command You can run any file as a Python Program inside the environment of your IPython sessin using the %run command  \n",
    "\n",
    "The script is run as an empty namespace (with no imports or other variables defined)\n",
    "so that the behaivor should be indentical to running the prgram on the command line .\n",
    "All of the variables (imports. functions, and globals)\n",
    "defined in the python file will be accessible in the new shell\n",
    "\n",
    "To give a scipt acess to variables already defined inthe interactive python namespace,\n",
    "use %run -i instead of %run\n",
    "\n",
    "%run Ipython\n",
    "%load Jupyter\n",
    "\n",
    "Keyboard Shortcuts pg:27\n",
    "\n",
    "Magic Commands pg:29\n",
    "\n",
    "\"\"\"\n",
    "\n",
    "%run python_test.ipynb\n",
    "data = 33 + 2432 + 1421\n",
    "centerd_data(data)"
   ]
  },
  {
   "cell_type": "code",
   "execution_count": 19,
   "id": "fd387326",
   "metadata": {},
   "outputs": [
    {
     "data": {
      "text/plain": [
       "True"
      ]
     },
     "execution_count": 19,
     "metadata": {},
     "output_type": "execute_result"
    }
   ],
   "source": [
    "\"\"\"\n",
    "Knowing the type of an object is important, and it's useful to be able to write functions that can handle many diffrent kinds of imput.\n",
    " You can check that an object is an instance of a particular type using the isinstance function:\n",
    " \n",
    " \n",
    "isinstacen can also accept a tuplw of types if you want to check that an objects type is among those prestn inthe tuple.\n",
    "\n",
    "Attributes and methods 35\n",
    "\n",
    "Binary operators 37/38\n",
    "\n",
    "Scalar Types = 39\n",
    "\n",
    "\"\"\"\n",
    "\n",
    "a = 5\n",
    "\n",
    "isinstance(a, int)"
   ]
  },
  {
   "cell_type": "code",
   "execution_count": null,
   "id": "04304d35",
   "metadata": {},
   "outputs": [],
   "source": [
    "\"\"\"\n",
    "String templatting pr formatting is another important topic.\n",
    "Lets describe the mechanics of one of the main interfaces. String objects have a format methofd that\n",
    "can be used to substitute formmated arguments into the string, producing a new string\n",
    "\n",
    "template = '{0:.2f} {1:s} are worth US${2:d}'\n",
    "\n",
    "{0:.2f} means to format the first argument as a floating-point number with two decimal places.\n",
    "\n",
    "{1:s} means to format the second argument as a string\n",
    "\n",
    "{2:d} means to format the third argument as an exact interger\n",
    "\n",
    "To substitie aurgument for these format parameters, we pass a ssequence of aurguments to the format method:\n",
    "\n",
    "\"\"\""
   ]
  },
  {
   "cell_type": "code",
   "execution_count": 23,
   "id": "004a57a7",
   "metadata": {},
   "outputs": [
    {
     "data": {
      "text/plain": [
       "'10/20/2021 20:30'"
      ]
     },
     "execution_count": 23,
     "metadata": {},
     "output_type": "execute_result"
    }
   ],
   "source": [
    "'''\n",
    "Dates and times \n",
    "\n",
    "The built_in module provies datetime, date, and time types. The datetime type, as you may imagine,\n",
    "combines the information stored in date and time and is the modt commonly used:\n",
    "'''\n",
    "\n",
    "from datetime import datetime, date, time\n",
    "\n",
    "\n",
    "dt = datetime(2021, 10, 20, 20, 30, 21)\n",
    "\n",
    "# The strftime method formats a datetime as a string\n",
    "dt.strftime(\"%m/%d/%Y %H:%M\")"
   ]
  },
  {
   "cell_type": "code",
   "execution_count": 24,
   "id": "eaa3a44f",
   "metadata": {},
   "outputs": [
    {
     "data": {
      "text/plain": [
       "datetime.datetime(2020, 10, 31, 0, 0)"
      ]
     },
     "execution_count": 24,
     "metadata": {},
     "output_type": "execute_result"
    }
   ],
   "source": [
    "# Strings can be converted ( parsed into datetime objects with the strptime function)\n",
    "\n",
    "# Datetime format specificatin (ISO C*( compatible)) 48/49\n",
    "\n",
    "datetime.strptime(\"20201031\", \"%Y%m%d\")"
   ]
  },
  {
   "cell_type": "code",
   "execution_count": 36,
   "id": "dc1203c8",
   "metadata": {},
   "outputs": [
    {
     "data": {
      "text/plain": [
       "'\\n# Control Flow \\nPython has several built-in keywords for conditiaonal logic, loops, and other standard\\ncontrol flow concepts found in other programming languages\\n'"
      ]
     },
     "execution_count": 36,
     "metadata": {},
     "output_type": "execute_result"
    }
   ],
   "source": [
    "\"\"\"\n",
    "# Control Flow \n",
    "Python has several built-in keywords for conditiaonal logic, loops, and other standard\n",
    "control flow concepts found in other programming languages\n",
    "\"\"\"\n"
   ]
  },
  {
   "cell_type": "code",
   "execution_count": 37,
   "id": "f8d4b614",
   "metadata": {},
   "outputs": [
    {
     "name": "stdout",
     "output_type": "stream",
     "text": [
      "It's Negative\n"
     ]
    }
   ],
   "source": [
    "\"\"\"\n",
    "if, elif, else\n",
    "\n",
    "The if statement is one of the most well-known control flow statement types. \n",
    "It checks a condition that, if true evaluates the code in the block that follows\n",
    "\n",
    "\n",
    "\"\"\"\n",
    "\n",
    "\n",
    "if x < 0:\n",
    "    print(\"It's Negative\")\n",
    "    \n",
    "    "
   ]
  },
  {
   "cell_type": "code",
   "execution_count": 39,
   "id": "1d6cfe46",
   "metadata": {},
   "outputs": [
    {
     "name": "stdout",
     "output_type": "stream",
     "text": [
      "Positive and latger than or equal to 5\n"
     ]
    }
   ],
   "source": [
    "x = 15 \n",
    "x - data\n",
    "\n",
    "\n",
    "if x < 0:\n",
    "    print(\"It's negative\")\n",
    "elif x == 0:\n",
    "    print('Equal to zero')\n",
    "elif 0 < x < 5:\n",
    "    print('Positive but smaller than 5')\n",
    "else:\n",
    "    print('Positive and latger than or equal to 5')"
   ]
  },
  {
   "cell_type": "code",
   "execution_count": 40,
   "id": "31a8c265",
   "metadata": {},
   "outputs": [],
   "source": [
    "\"\"\"\n",
    "If any of the conditions is True, no further elif or else blocks will be reached>\n",
    "With a compound condition using and or or, conditions are evaluated left to right and short-circuit \n",
    "\"\"\"\n",
    "\n",
    "a = 5; b = 7\n",
    "\n",
    "c = 8; d = 4"
   ]
  },
  {
   "cell_type": "code",
   "execution_count": 42,
   "id": "f2481ccf",
   "metadata": {},
   "outputs": [
    {
     "name": "stdout",
     "output_type": "stream",
     "text": [
      "Made it\n"
     ]
    }
   ],
   "source": [
    "if a < b or c > d:\n",
    "    print('Made it')"
   ]
  },
  {
   "cell_type": "code",
   "execution_count": 44,
   "id": "f51dfd67",
   "metadata": {},
   "outputs": [
    {
     "data": {
      "text/plain": [
       "True"
      ]
     },
     "execution_count": 44,
     "metadata": {},
     "output_type": "execute_result"
    }
   ],
   "source": [
    "# It is also possible to chain comparisons:\n",
    "c > b > a > d"
   ]
  },
  {
   "cell_type": "code",
   "execution_count": 49,
   "id": "eaaa1cea",
   "metadata": {},
   "outputs": [
    {
     "data": {
      "text/plain": [
       "12"
      ]
     },
     "execution_count": 49,
     "metadata": {},
     "output_type": "execute_result"
    }
   ],
   "source": [
    "\"\"\"\n",
    "# For Loops \n",
    "for loops are for iterating over a collection (like a list or tuple) or an iterater.\n",
    "The standard syntax for a loop is:\n",
    "\n",
    "for value in collection:\n",
    "    # do something with value\n",
    "\n",
    "You can advance a for loop to the next iteration, skipping the remainder of the block, using the continue keyward.\n",
    "Consider this code, which sums up integers in a list and skips None values:\n",
    "\"\"\"\n",
    "\n",
    "sequence  = [1, 2 ,None, 4, None, 5]\n",
    "total = 0\n",
    "for value in sequence:\n",
    "    if value is None:\n",
    "        continue\n",
    "    total += value\n",
    "total"
   ]
  },
  {
   "cell_type": "code",
   "execution_count": 52,
   "id": "ece99f4e",
   "metadata": {},
   "outputs": [
    {
     "data": {
      "text/plain": [
       "16"
      ]
     },
     "execution_count": 52,
     "metadata": {},
     "output_type": "execute_result"
    }
   ],
   "source": [
    "# For loops can be exited altogether with the break keyword.\n",
    "# This code sums elements of the list until a 5 is reached:\n",
    "\n",
    "sequence1  = [1, 2 , 0, 4, 6, 5, 2, 1]\n",
    "total_until_5 = 3\n",
    "for value in sequence1:\n",
    "    if value ==5:\n",
    "        break\n",
    "    total_until_5 += value\n",
    "    \n",
    "total_until_5"
   ]
  },
  {
   "cell_type": "code",
   "execution_count": 54,
   "id": "95095d94",
   "metadata": {},
   "outputs": [
    {
     "name": "stdout",
     "output_type": "stream",
     "text": [
      "(0, 0)\n",
      "(1, 0)\n",
      "(1, 1)\n",
      "(2, 0)\n",
      "(2, 1)\n",
      "(2, 2)\n"
     ]
    }
   ],
   "source": [
    "# The break key word only terminates the innermost for loop:\n",
    "# any outer for loops will continue to run:\n",
    "\n",
    "for i in range(3):\n",
    "    for j in range(4):\n",
    "        if j > i:\n",
    "            break\n",
    "        print((i, j))"
   ]
  },
  {
   "cell_type": "code",
   "execution_count": 77,
   "id": "54aa1a53",
   "metadata": {},
   "outputs": [],
   "source": [
    "\"\"\"\n",
    "As we will see in more detail,\n",
    "if the elements in the collection or iterator are sequences (tuples or lists)\n",
    "they can be unpakced into variables in the for loops statement:\n",
    "\n",
    "for a, b, c in interator:\n",
    "    do something\n",
    "    \n",
    "# While loops \n",
    "A while loop specifies a condition and a block of code that is to be executed until the condition evelutes to Flase\n",
    "or the loop is explicitly ended witha break: \n",
    "\n",
    "\"\"\"\n",
    "x = 256\n",
    "\n",
    "total = 0\n",
    "\n",
    "while x > 10:\n",
    "    if total > 500:\n",
    "        break\n",
    "    total += x\n",
    "    x = x * 2 \n"
   ]
  },
  {
   "cell_type": "code",
   "execution_count": 79,
   "id": "5f0a3c1f",
   "metadata": {},
   "outputs": [
    {
     "name": "stdout",
     "output_type": "stream",
     "text": [
      "positive\n"
     ]
    }
   ],
   "source": [
    "'''\n",
    "# Pass \n",
    "Pass is the 'no-op' statement in Python.\n",
    "It can be used in blocks where no action is to be taken\n",
    "(or a placeholder for code not yet implemented);\n",
    "it is only required bcause Python used whitespace to delimit blocks:\n",
    "'''\n",
    "\n",
    "if x < 0:\n",
    "    print('negative!')\n",
    "elif x == 0:\n",
    "    # TODO put something smart here\n",
    "    pass\n",
    "else:\n",
    "    print('positive')"
   ]
  },
  {
   "cell_type": "code",
   "execution_count": 94,
   "id": "0174bfc3",
   "metadata": {},
   "outputs": [
    {
     "data": {
      "text/plain": [
       "[50, 45, 40, 35, 30, 25, 20, 15, 10, 5]"
      ]
     },
     "execution_count": 94,
     "metadata": {},
     "output_type": "execute_result"
    }
   ],
   "source": [
    "\"\"\"\n",
    "# Range \n",
    "The range fuction returns an iterator that yields a squence of evenly spaced integers:\n",
    "\"\"\"\n",
    "range(10)\n",
    "range(0, 10)\n",
    "\n",
    "list(range(10))\n",
    "\n",
    "# Both a start, end and step (which may be negative) can be given:\n",
    "list(range(50, 1, -5))"
   ]
  },
  {
   "cell_type": "code",
   "execution_count": 98,
   "id": "13a6d7a3",
   "metadata": {},
   "outputs": [
    {
     "data": {
      "text/plain": [
       "4"
      ]
     },
     "execution_count": 98,
     "metadata": {},
     "output_type": "execute_result"
    }
   ],
   "source": [
    "\"\"\"\n",
    "As you can see, range produces integers up to but not including the endpoint.\n",
    "A common use of range is for iterrating through sequences by index.\n",
    "\"\"\"\n",
    "seq = [1, 2, 3, 4]\n",
    "for i in range(len(seq)):\n",
    "    val = seq[i]\n",
    "    \n",
    "val"
   ]
  },
  {
   "cell_type": "code",
   "execution_count": 111,
   "id": "5890523f",
   "metadata": {},
   "outputs": [],
   "source": [
    "\"\"\"\n",
    "Often the default iterator form will be what you want.\n",
    "This code sums all numbers from 0 tp 99999 that are multiples of 3 -5\n",
    "\n",
    "\n",
    "\"\"\" \n",
    "\n",
    "sum = 0\n",
    "\n",
    "for i in range(100000):\n",
    "    # % is hte modulo operator\n",
    "    if i % 3 == 0 and i % 5 == 0:\n",
    "        sum += i"
   ]
  },
  {
   "cell_type": "code",
   "execution_count": 112,
   "id": "419c96bd",
   "metadata": {},
   "outputs": [
    {
     "data": {
      "text/plain": [
       "'Non-negative'"
      ]
     },
     "execution_count": 112,
     "metadata": {},
     "output_type": "execute_result"
    }
   ],
   "source": [
    "\"\"\"\n",
    "Ternary expression in python allows you to combine\n",
    "an if-else block that produces a value into a single line or expression.\n",
    "The syntax for this in Python is:\n",
    "\n",
    "value = true-expr if condition else false expr \n",
    "\n",
    "\n",
    "Here, true-expr and false-expr can be any Python expressions.\n",
    "It has the identical effect as the more verbose:\n",
    "\n",
    "if condition:\n",
    "    value = true-expr\n",
    "else:\n",
    "    value = false-expr\n",
    "    \n",
    "\"\"\"\n",
    "# This is a more concrte example:\n",
    "\n",
    "x = 5\n",
    "\n",
    "'Non-negative' if x >= 0 else 'Negative'\n"
   ]
  },
  {
   "cell_type": "code",
   "execution_count": null,
   "id": "ff434f24",
   "metadata": {},
   "outputs": [],
   "source": []
  }
 ],
 "metadata": {
  "kernelspec": {
   "display_name": "dev",
   "language": "python",
   "name": "dev"
  },
  "language_info": {
   "codemirror_mode": {
    "name": "ipython",
    "version": 3
   },
   "file_extension": ".py",
   "mimetype": "text/x-python",
   "name": "python",
   "nbconvert_exporter": "python",
   "pygments_lexer": "ipython3",
   "version": "3.7.10"
  }
 },
 "nbformat": 4,
 "nbformat_minor": 5
}
