{
 "cells": [
  {
   "cell_type": "code",
   "execution_count": 4,
   "id": "36e54627",
   "metadata": {},
   "outputs": [
    {
     "data": {
      "text/plain": [
       "datetime.datetime(2021, 10, 8, 14, 39, 29, 932871)"
      ]
     },
     "metadata": {},
     "output_type": "display_data"
    },
    {
     "name": "stdout",
     "output_type": "stream",
     "text": [
      "2021 10 8\n"
     ]
    },
    {
     "data": {
      "text/plain": [
       "datetime.timedelta(days=926, seconds=56700)"
      ]
     },
     "metadata": {},
     "output_type": "display_data"
    },
    {
     "data": {
      "text/plain": [
       "926"
      ]
     },
     "metadata": {},
     "output_type": "display_data"
    },
    {
     "data": {
      "text/plain": [
       "56700"
      ]
     },
     "metadata": {},
     "output_type": "display_data"
    },
    {
     "name": "stdout",
     "output_type": "stream",
     "text": [
      "Types in datetime module page 325\n"
     ]
    }
   ],
   "source": [
    "\"\"\"\n",
    "Chapter 11 - Time Series:\n",
    "Anything that is observed, measured at many points in time forms a time series.\n",
    "Many time series are fixed frequency,\n",
    "which is to say that data points coour at regular intervals according to some rule,\n",
    "such as every 15 secs, 5 mins, or per month. Time Series can also be irregular without fixed unit\n",
    "of time or offset between units. How to mark and refer to time series data depends on the application\n",
    "and you may have one of the following:\n",
    "    * Timestamps specific instants in time\n",
    "    * Fixed periods, such as the month January 2007 of the  full year 2010\n",
    "    * Intervals of time, indicated by a start and end timestamp.\n",
    "        Periods can be thought of as special cases of intervals\n",
    "    * Experiment or elapsed time;\n",
    "        each timestamp is a measure of time relative to a particular start time:\n",
    "            (the diameter of a cookie baking each second sicne being placed in the oven)\n",
    "\"\"\"\n",
    "# Date and Time Data Types and Tools \n",
    "import pandas as pd\n",
    "import numpy as np\n",
    "\n",
    "from datetime import datetime\n",
    "\n",
    "now = datetime.now()\n",
    "\n",
    "display(now)\n",
    "\n",
    "print(now.year, now.month, now.day)\n",
    "\n",
    "# datime stores both the date and time down to the microsecond.\n",
    "# timedelta represents the temporal difference between two datetime objects:\n",
    "\n",
    "delta = datetime(2011, 1, 7) - datetime(2008, 6, 24, 8, 15)\n",
    "\n",
    "display(delta)\n",
    "\n",
    "display(delta.days)\n",
    "\n",
    "display(delta.seconds)\n",
    "\n",
    "# add / subtract a timedelta | multiple thereof to datetime object to yield a new shifed object\n",
    "\n",
    "from datetime import timedelta\n",
    "\n",
    "start = datetime.now()\n",
    "\n",
    "start + timedelta(12)\n",
    "\n",
    "print('Types in datetime module page 325')"
   ]
  },
  {
   "cell_type": "code",
   "execution_count": 5,
   "id": "066ca521",
   "metadata": {},
   "outputs": [
    {
     "data": {
      "text/plain": [
       "'2011-01-03 00:00:00'"
      ]
     },
     "metadata": {},
     "output_type": "display_data"
    },
    {
     "data": {
      "text/plain": [
       "'2011-01-03'"
      ]
     },
     "metadata": {},
     "output_type": "display_data"
    },
    {
     "name": "stdout",
     "output_type": "stream",
     "text": [
      "Datetime format specification page 325\n"
     ]
    }
   ],
   "source": [
    "# Converting Between String and Datetime \n",
    "# format datetime object & pd Timestamp object,using srt|strftime method, pass f specification\n",
    "\n",
    "stamp = datetime(2011, 1, 3)\n",
    "\n",
    "display(str(stamp))\n",
    "\n",
    "display(stamp.strftime(\"%Y-%m-%d\"))\n",
    "\n",
    "print('Datetime format specification page 325')"
   ]
  },
  {
   "cell_type": "code",
   "execution_count": 8,
   "id": "fc19bebf",
   "metadata": {},
   "outputs": [
    {
     "data": {
      "text/plain": [
       "datetime.datetime(2011, 1, 3, 0, 0)"
      ]
     },
     "metadata": {},
     "output_type": "display_data"
    },
    {
     "data": {
      "text/plain": [
       "datetime.datetime(2011, 1, 3, 0, 0)"
      ]
     },
     "metadata": {},
     "output_type": "display_data"
    },
    {
     "data": {
      "text/plain": [
       "['7/6/2011', '8/6/2011']"
      ]
     },
     "metadata": {},
     "output_type": "display_data"
    },
    {
     "data": {
      "text/plain": [
       "[datetime.datetime(2011, 7, 6, 0, 0), datetime.datetime(2011, 8, 6, 0, 0)]"
      ]
     },
     "metadata": {},
     "output_type": "display_data"
    },
    {
     "data": {
      "text/plain": [
       "datetime.datetime(2011, 1, 3, 0, 0)"
      ]
     },
     "metadata": {},
     "output_type": "display_data"
    },
    {
     "data": {
      "text/plain": [
       "datetime.datetime(1997, 1, 31, 22, 45)"
      ]
     },
     "metadata": {},
     "output_type": "display_data"
    },
    {
     "data": {
      "text/plain": [
       "datetime.datetime(2021, 12, 6, 0, 0)"
      ]
     },
     "metadata": {},
     "output_type": "display_data"
    },
    {
     "data": {
      "text/plain": [
       "DatetimeIndex(['2011-07-06 12:00:00', '2011-08-06 00:00:00'], dtype='datetime64[ns]', freq=None)"
      ]
     },
     "metadata": {},
     "output_type": "display_data"
    },
    {
     "name": "stdout",
     "output_type": "stream",
     "text": [
      "Locale-specific date formatting\n"
     ]
    }
   ],
   "source": [
    "# Use many of the same format codes to conver strings to dates using datetime.strptime\n",
    "    # some codes like %F cannot be used\n",
    "    \n",
    "value = '2011-01-03'\n",
    "display(datetime.strptime(value, '%Y-%m-%d'))\n",
    "\n",
    "display(datetime(2011, 1, 3, 0, 0))\n",
    "\n",
    "daatestrs = ['7/6/2011', '8/6/2011']\n",
    "\n",
    "display(daatestrs)\n",
    "\n",
    "display([datetime.strptime(x, '%m/%d/%Y') for x in daatestrs])\n",
    "\n",
    "# datetime.strptime is a good way to parse a date with a known format.\n",
    "# avaoid writing format sects eachtime use the parser.parse method in 3rd-party dateutil package\n",
    "\n",
    "from dateutil.parser import parse\n",
    "\n",
    "display(parse('2011-01-03'))\n",
    "\n",
    "# dateutil is capable of parsing most human -intelligible date representaions\n",
    "\n",
    "display(parse('Jan 31, 1997 10:45 PM'))\n",
    "\n",
    "# for day appearing before month pass dayfirst=True to indicate this\n",
    "\n",
    "display(parse('6/12/2021', dayfirst=True))\n",
    "\n",
    "# pd uses arr as axis idx|col in df.to_datetime parses different kinds of date representations.\n",
    "\n",
    "datesrts = ['2011-07-06 12:00:00', '2011-08-06 00:00:00']\n",
    "\n",
    "display(pd.to_datetime(datesrts))\n",
    "\n",
    "print('Locale-specific date formatting')"
   ]
  },
  {
   "cell_type": "code",
   "execution_count": null,
   "id": "c31fe4ec",
   "metadata": {},
   "outputs": [],
   "source": [
    "\"\"\"\n",
    "# Time Series Basics:\n",
    "    A basic kind of time series object in pd is a series indexed by timestamps,\n",
    "    which is often represented external to pd as py strings or datetime objects:\n",
    "\"\"\"\n",
    "\n",
    "from datetime import datetime\n",
    "\n",
    "dates = [datetime(2011, 1, 2), datetime(2011, 1, 5),\n",
    "         datetime(2011, 1, 7), datetime(2011, 1, 8),\n",
    "         datetime(2011, 1, 10), datetime(2011, 1, 12)]\n",
    "\n",
    "ts = pd.Series(np.random.randn(6), index=dates)\n",
    "\n",
    "display(ts)\n",
    "\n",
    "# Under the hood, these satetime objects have been put in a datetimeIndex:\n",
    "\n",
    "display(ts.index)\n",
    "\n",
    "# Like other Series, arithmetic operations between differently indexed time series automatically \n",
    "# aling on the dates:\n",
    "ts + ts[::2]\n",
    "\n",
    "# Scalar values from a DatietimeIndex are pd timsestamp objects:\n",
    "\n",
    "stamp = ts.index[0]\n",
    "\n",
    "display(stamp)\n",
    "\n",
    "# A timestamp can be substitues anuwhere you would use a datetime object. Also it can store \n",
    "# frequency information and usntands how to do time zone conversions and other manipulations."
   ]
  },
  {
   "cell_type": "code",
   "execution_count": 32,
   "id": "01d365d6",
   "metadata": {},
   "outputs": [
    {
     "data": {
      "text/plain": [
       "0.183121269751764"
      ]
     },
     "metadata": {},
     "output_type": "display_data"
    },
    {
     "data": {
      "text/plain": [
       "-0.8300213734073932"
      ]
     },
     "metadata": {},
     "output_type": "display_data"
    },
    {
     "data": {
      "text/plain": [
       "-0.8300213734073932"
      ]
     },
     "metadata": {},
     "output_type": "display_data"
    },
    {
     "data": {
      "text/plain": [
       "2000-01-01    1.708890\n",
       "2000-01-02   -1.142517\n",
       "2000-01-03   -2.400360\n",
       "2000-01-04    0.062005\n",
       "2000-01-05   -2.671679\n",
       "                ...   \n",
       "2002-09-22   -0.292662\n",
       "2002-09-23    1.157317\n",
       "2002-09-24    1.185101\n",
       "2002-09-25    2.368851\n",
       "2002-09-26   -0.044699\n",
       "Freq: D, Length: 1000, dtype: float64"
      ]
     },
     "metadata": {},
     "output_type": "display_data"
    },
    {
     "data": {
      "text/plain": [
       "2001-01-01    0.421043\n",
       "2001-01-02   -0.690356\n",
       "2001-01-03   -1.273559\n",
       "2001-01-04    0.167545\n",
       "2001-01-05   -2.102238\n",
       "Freq: D, dtype: float64"
      ]
     },
     "metadata": {},
     "output_type": "display_data"
    },
    {
     "data": {
      "text/plain": [
       "2001-05-01   -0.548813\n",
       "2001-05-02   -0.479556\n",
       "2001-05-03    0.915147\n",
       "2001-05-04    0.333357\n",
       "2001-05-05   -0.431232\n",
       "Freq: D, dtype: float64"
      ]
     },
     "metadata": {},
     "output_type": "display_data"
    },
    {
     "data": {
      "text/plain": [
       "2011-01-07    0.183121\n",
       "2011-01-08   -0.463912\n",
       "2011-01-10   -0.830021\n",
       "2011-01-12    1.088414\n",
       "dtype: float64"
      ]
     },
     "metadata": {},
     "output_type": "display_data"
    },
    {
     "data": {
      "text/plain": [
       "2011-01-07    0.183121\n",
       "2011-01-08   -0.463912\n",
       "2011-01-10   -0.830021\n",
       "dtype: float64"
      ]
     },
     "metadata": {},
     "output_type": "display_data"
    },
    {
     "data": {
      "text/plain": [
       "2011-01-02   -1.045764\n",
       "2011-01-05    0.310491\n",
       "2011-01-07    0.183121\n",
       "2011-01-08   -0.463912\n",
       "dtype: float64"
      ]
     },
     "metadata": {},
     "output_type": "display_data"
    }
   ],
   "source": [
    "# Indexing, Selection, Subsetting\n",
    "# Time series behaves like any other pd.Series when you are indexing and selecting data based on label:\n",
    "\n",
    "stamp = ts.index[2]\n",
    "\n",
    "display(ts[stamp])\n",
    "\n",
    "# As a convenience, you can also pass s string that is interpretable as a date:\n",
    "\n",
    "display(ts['1/10/2011'])\n",
    "\n",
    "display(ts['20110110'])\n",
    "\n",
    "# For longer time series, a year or only a year and month can be passed to easily selct slices of data:\n",
    "\n",
    "longer_ts = pd.Series(np.random.randn(1000),\n",
    "                      index=pd.date_range('1/1/2000', periods=1000))\n",
    "\n",
    "display(longer_ts)\n",
    "\n",
    "display(longer_ts['2001'][:5])\n",
    "\n",
    "# Here the string \"2001\" is interpreted as a year and selects that time period. \n",
    "# This works if you specify the month:\n",
    "\n",
    "display(longer_ts['2001-05'][:5])\n",
    "\n",
    "# Slicing with datime onjects works as well:\n",
    "\n",
    "display(ts[datetime(2011, 1, 7):])\n",
    "\n",
    "# You can slice with timestamps not contained in a time series to perform a range query:\n",
    "\n",
    "display(ts['1/6/2011':'1/11/2011'])\n",
    "\n",
    "# Modifications on the slice will be reflactied in ther original data\n",
    "\n",
    "# These is an equivalent instance methos , trucate, that slices a Series betweeen two dates:\n",
    "\n",
    "display(ts.truncate(after='1/9/2011'))\n",
    "\n",
    "# All this holds for the df as well, indexing on its rows:"
   ]
  },
  {
   "cell_type": "code",
   "execution_count": null,
   "id": "f1548cf5",
   "metadata": {},
   "outputs": [],
   "source": [
    "# Time Series with Duplucate Indices \n",
    "# In some apllications, there may be multiple data obsevations falling on a particualr timmestamp"
   ]
  },
  {
   "cell_type": "code",
   "execution_count": 39,
   "id": "65d51dbc",
   "metadata": {},
   "outputs": [
    {
     "data": {
      "text/plain": [
       "DatetimeIndex(['2012-04-01', '2012-04-02', '2012-04-03', '2012-04-04',\n",
       "               '2012-04-05', '2012-04-06', '2012-04-07', '2012-04-08',\n",
       "               '2012-04-09', '2012-04-10', '2012-04-11', '2012-04-12',\n",
       "               '2012-04-13', '2012-04-14', '2012-04-15', '2012-04-16',\n",
       "               '2012-04-17', '2012-04-18', '2012-04-19', '2012-04-20',\n",
       "               '2012-04-21', '2012-04-22', '2012-04-23', '2012-04-24',\n",
       "               '2012-04-25', '2012-04-26', '2012-04-27', '2012-04-28',\n",
       "               '2012-04-29', '2012-04-30', '2012-05-01', '2012-05-02',\n",
       "               '2012-05-03', '2012-05-04', '2012-05-05', '2012-05-06',\n",
       "               '2012-05-07', '2012-05-08', '2012-05-09', '2012-05-10',\n",
       "               '2012-05-11', '2012-05-12', '2012-05-13', '2012-05-14',\n",
       "               '2012-05-15', '2012-05-16', '2012-05-17', '2012-05-18',\n",
       "               '2012-05-19', '2012-05-20', '2012-05-21', '2012-05-22',\n",
       "               '2012-05-23', '2012-05-24', '2012-05-25', '2012-05-26',\n",
       "               '2012-05-27', '2012-05-28', '2012-05-29', '2012-05-30',\n",
       "               '2012-05-31', '2012-06-01'],\n",
       "              dtype='datetime64[ns]', freq='D')"
      ]
     },
     "metadata": {},
     "output_type": "display_data"
    },
    {
     "data": {
      "text/plain": [
       "DatetimeIndex(['2012-04-01', '2012-04-02', '2012-04-03', '2012-04-04',\n",
       "               '2012-04-05', '2012-04-06', '2012-04-07', '2012-04-08',\n",
       "               '2012-04-09', '2012-04-10', '2012-04-11', '2012-04-12',\n",
       "               '2012-04-13', '2012-04-14', '2012-04-15', '2012-04-16',\n",
       "               '2012-04-17', '2012-04-18', '2012-04-19', '2012-04-20'],\n",
       "              dtype='datetime64[ns]', freq='D')"
      ]
     },
     "metadata": {},
     "output_type": "display_data"
    },
    {
     "data": {
      "text/plain": [
       "DatetimeIndex(['2012-05-13', '2012-05-14', '2012-05-15', '2012-05-16',\n",
       "               '2012-05-17', '2012-05-18', '2012-05-19', '2012-05-20',\n",
       "               '2012-05-21', '2012-05-22', '2012-05-23', '2012-05-24',\n",
       "               '2012-05-25', '2012-05-26', '2012-05-27', '2012-05-28',\n",
       "               '2012-05-29', '2012-05-30', '2012-05-31', '2012-06-01'],\n",
       "              dtype='datetime64[ns]', freq='D')"
      ]
     },
     "metadata": {},
     "output_type": "display_data"
    }
   ],
   "source": [
    "\"\"\"\n",
    "# 11.3: Date Ranges, Frequencies, and Shifting\n",
    "\n",
    "You can convert the sample time series to be fixed daily frequency by calling resample:\n",
    "\"\"\"\n",
    "\n",
    "ts\n",
    "\n",
    "resampler = ts.resample(\"D\") # D daily frequency; Here we use base frequencies and multiples thereof\n",
    "\n",
    "# Generating Date Ranges: pd.date_range is responsible for generating a DatatimeIndex \n",
    "\n",
    "index = pd.date_range('2012-04-01', '2012-06-01')\n",
    "\n",
    "display(index)\n",
    "\n",
    "# By default, date_range genarates daily timestamps. If you pass only a strat or end date\n",
    "# You must pass a number of periods to generate:\n",
    "\n",
    "may = pd.date_range(start='2012-04-01', periods=20)\n",
    "        \n",
    "june = pd.date_range(end='2012-06-01', periods=20)\n",
    "\n",
    "display(may)\n",
    "                     \n",
    "display(june)"
   ]
  },
  {
   "cell_type": "code",
   "execution_count": null,
   "id": "51021f10",
   "metadata": {},
   "outputs": [],
   "source": [
    "\"\"\"\n",
    "The start and end dates define strict boundaries for the generated date index.\n",
    "\n",
    "Base time series frequencies (not comphensive page 355)\n",
    "\n",
    "date_range by default preserves the time (in any) of the start or end stomestamp:\n",
    "\"\"\"                     \n",
    "non_mod = pd.date_range('2012-05-02 12:56:31',\n",
    "              periods=5)\n",
    "\n",
    "# To mormalized to mifnight as a convention. Use the normalize option:\n",
    "\n",
    "norm = pd.date_range('2012-05-02 12:56:31',\n",
    "              periods=5,\n",
    "              normalize=True)\n",
    "\n",
    "display(non_mod)\n",
    "\n",
    "display(norm)"
   ]
  },
  {
   "cell_type": "code",
   "execution_count": 60,
   "id": "ff3d39b1",
   "metadata": {},
   "outputs": [
    {
     "data": {
      "text/plain": [
       "<Hour>"
      ]
     },
     "metadata": {},
     "output_type": "display_data"
    },
    {
     "data": {
      "text/plain": [
       "<4 * Hours>"
      ]
     },
     "metadata": {},
     "output_type": "display_data"
    },
    {
     "data": {
      "text/plain": [
       "DatetimeIndex(['2000-01-01 00:00:00', '2000-01-01 04:00:00',\n",
       "               '2000-01-01 08:00:00', '2000-01-01 12:00:00',\n",
       "               '2000-01-01 16:00:00', '2000-01-01 20:00:00',\n",
       "               '2000-01-02 00:00:00', '2000-01-02 04:00:00',\n",
       "               '2000-01-02 08:00:00', '2000-01-02 12:00:00',\n",
       "               '2000-01-02 16:00:00', '2000-01-02 20:00:00',\n",
       "               '2000-01-03 00:00:00'],\n",
       "              dtype='datetime64[ns]', freq='4H')"
      ]
     },
     "metadata": {},
     "output_type": "display_data"
    },
    {
     "data": {
      "text/plain": [
       "DatetimeIndex(['2021-01-01 00:00:00', '2021-01-01 01:30:00',\n",
       "               '2021-01-01 03:00:00', '2021-01-01 04:30:00',\n",
       "               '2021-01-01 06:00:00', '2021-01-01 07:30:00',\n",
       "               '2021-01-01 09:00:00', '2021-01-01 10:30:00',\n",
       "               '2021-01-01 12:00:00', '2021-01-01 13:30:00'],\n",
       "              dtype='datetime64[ns]', freq='90T')"
      ]
     },
     "metadata": {},
     "output_type": "display_data"
    }
   ],
   "source": [
    "# Frequencies and Date Offsets \n",
    "\n",
    "from pandas.tseries.offsets import Hour, Minute\n",
    "\n",
    "hour = Hour()\n",
    "\n",
    "display(hour)\n",
    "\n",
    "# You can define a multipkle of an offset by passing an integer:\n",
    "\n",
    "four_hours = Hour(4)\n",
    "\n",
    "display(four_hours)\n",
    "\n",
    "# Putting an interger before the base frequency creates a mulitple\n",
    "\n",
    "multiple = pd.date_range(\"2000-01-01\", '2000-01-03', freq='4h')\n",
    "\n",
    "display(multiple)\n",
    "\n",
    "# Many offsets can be combined together by addition:\n",
    "\n",
    "Hour(2) + Minute(30)\n",
    "\n",
    "# Pass a frequency strings, like '1h30min', that will effectively be parsed to the expressing:\n",
    "\n",
    "custom_mod = pd.date_range('2021-01-01', periods=10, freq='1h30min')\n",
    "\n",
    "display(custom_mod)"
   ]
  },
  {
   "cell_type": "code",
   "execution_count": 79,
   "id": "c8e83e4d",
   "metadata": {},
   "outputs": [
    {
     "data": {
      "text/plain": [
       "DatetimeIndex(['2020-01-17', '2020-02-21', '2020-03-20', '2020-04-17',\n",
       "               '2020-05-15', '2020-06-19', '2020-07-17', '2020-08-21'],\n",
       "              dtype='datetime64[ns]', freq='WOM-3FRI')"
      ]
     },
     "metadata": {},
     "output_type": "display_data"
    },
    {
     "data": {
      "text/plain": [
       "2000-01-31    0.362559\n",
       "2000-02-29   -1.007329\n",
       "2000-03-31    1.122992\n",
       "2000-04-30   -0.556070\n",
       "Freq: M, dtype: float64"
      ]
     },
     "metadata": {},
     "output_type": "display_data"
    },
    {
     "data": {
      "text/plain": [
       "2000-01-31         NaN\n",
       "2000-02-29         NaN\n",
       "2000-03-31    0.362559\n",
       "2000-04-30   -1.007329\n",
       "Freq: M, dtype: float64"
      ]
     },
     "metadata": {},
     "output_type": "display_data"
    },
    {
     "data": {
      "text/plain": [
       "2000-01-31    1.122992\n",
       "2000-02-29   -0.556070\n",
       "2000-03-31         NaN\n",
       "2000-04-30         NaN\n",
       "Freq: M, dtype: float64"
      ]
     },
     "metadata": {},
     "output_type": "display_data"
    },
    {
     "data": {
      "text/plain": [
       "2000-01-31         NaN\n",
       "2000-02-29   -3.778387\n",
       "2000-03-31   -2.114821\n",
       "2000-04-30   -1.495169\n",
       "Freq: M, dtype: float64"
      ]
     },
     "metadata": {},
     "output_type": "display_data"
    },
    {
     "data": {
      "text/plain": [
       "2000-03-31    0.362559\n",
       "2000-04-30   -1.007329\n",
       "2000-05-31    1.122992\n",
       "2000-06-30   -0.556070\n",
       "Freq: M, dtype: float64"
      ]
     },
     "metadata": {},
     "output_type": "display_data"
    },
    {
     "data": {
      "text/plain": [
       "2000-02-03    0.362559\n",
       "2000-03-03   -1.007329\n",
       "2000-04-03    1.122992\n",
       "2000-05-03   -0.556070\n",
       "dtype: float64"
      ]
     },
     "metadata": {},
     "output_type": "display_data"
    },
    {
     "data": {
      "text/plain": [
       "2000-01-31 01:30:00    0.362559\n",
       "2000-02-29 01:30:00   -1.007329\n",
       "2000-03-31 01:30:00    1.122992\n",
       "2000-04-30 01:30:00   -0.556070\n",
       "dtype: float64"
      ]
     },
     "metadata": {},
     "output_type": "display_data"
    },
    {
     "data": {
      "text/plain": [
       "Timestamp('2011-11-20 00:00:00')"
      ]
     },
     "metadata": {},
     "output_type": "display_data"
    },
    {
     "data": {
      "text/plain": [
       "Timestamp('2011-11-30 00:00:00')"
      ]
     },
     "metadata": {},
     "output_type": "display_data"
    },
    {
     "data": {
      "text/plain": [
       "Timestamp('2011-12-31 00:00:00')"
      ]
     },
     "metadata": {},
     "output_type": "display_data"
    },
    {
     "data": {
      "text/plain": [
       "Timestamp('2011-11-30 00:00:00')"
      ]
     },
     "metadata": {},
     "output_type": "display_data"
    },
    {
     "data": {
      "text/plain": [
       "Timestamp('2011-10-31 00:00:00')"
      ]
     },
     "metadata": {},
     "output_type": "display_data"
    },
    {
     "data": {
      "text/plain": [
       "2000-01-15    1.072345\n",
       "2000-01-19    0.451320\n",
       "2000-01-23   -0.784893\n",
       "2000-01-27    0.600037\n",
       "2000-01-31    2.106316\n",
       "2000-02-04    1.260055\n",
       "2000-02-08    0.232120\n",
       "2000-02-12   -0.679668\n",
       "2000-02-16   -0.922210\n",
       "2000-02-20   -0.109448\n",
       "2000-02-24    0.804553\n",
       "2000-02-28    0.943764\n",
       "2000-03-03   -2.117143\n",
       "2000-03-07    0.206742\n",
       "2000-03-11    0.928263\n",
       "2000-03-15   -0.209868\n",
       "2000-03-19    1.720875\n",
       "2000-03-23   -0.625810\n",
       "2000-03-27    1.288198\n",
       "2000-03-31    0.053114\n",
       "Freq: 4D, dtype: float64"
      ]
     },
     "metadata": {},
     "output_type": "display_data"
    },
    {
     "data": {
      "text/plain": [
       "1999-12-31    0.334702\n",
       "2000-01-31    0.454435\n",
       "2000-02-29    0.170180\n",
       "2000-03-31    0.053114\n",
       "dtype: float64"
      ]
     },
     "metadata": {},
     "output_type": "display_data"
    },
    {
     "data": {
      "text/plain": [
       "2000-01-31    0.689025\n",
       "2000-02-29    0.218452\n",
       "2000-03-31    0.155546\n",
       "Freq: M, dtype: float64"
      ]
     },
     "metadata": {},
     "output_type": "display_data"
    }
   ],
   "source": [
    "# Week of month dates: WOM enables you to get dates like the third Friday of each month:\n",
    "\n",
    "rng = pd.date_range('2020-01-01', '2020-09-01', freq='WOM-3FRI')\n",
    "\n",
    "display(rng)\n",
    "\n",
    "# Shifting (Leading and Lagging) Data\n",
    "# \"shifting\" refers to moving data backward and foward through time.\n",
    "# Both Series and df have shift method for doing naive shifts forward or abckeard\n",
    "# Leaving index unmodified:\n",
    "\n",
    "ts = pd.Series(np.random.randn(4),\n",
    "              index=pd.date_range('1/1/2000', periods=4, freq='M'))\n",
    "\n",
    "display(ts)\n",
    "\n",
    "display(ts.shift(2))\n",
    "\n",
    "display(ts.shift(-2))\n",
    "\n",
    "# A common use of shift is computing % change in a time series or multiple series as df columns.\n",
    "\n",
    "display(ts / ts.shift(1) -1)\n",
    "\n",
    "# Frequency is known, it can passed to shitf to advance the timestamps instead of simple the data\n",
    "\n",
    "display(ts.shift(2, freq='M'))\n",
    "\n",
    "# Other frequencies can be apssed, too, giving you some flaexibility in how to lead and lag data\n",
    "\n",
    "display(ts.shift(3, freq='D'))\n",
    "\n",
    "display(ts.shift(1, freq='90T'))\n",
    "\n",
    "# The T stands for minutes. Note that the freq parameter here indicates the offset to apply to the\n",
    "# timestamps, but it does not change the underlying frequncy of the data, if any\n",
    "\n",
    "# Shifting, dates wiiht offsets; The pandas date ofsets can also be used with datetime|Timestamp\n",
    "\n",
    "from pandas.tseries.offsets import Day, MonthEnd\n",
    "\n",
    "now = datetime(2011, 11, 17)\n",
    "\n",
    "display(now + 3 * Day())\n",
    "\n",
    "# If you add an anchored offset like MonthEnd, the first increment will 'roll forward' \n",
    "# a date to the next date according to the frequency rule:\n",
    "\n",
    "display(now + MonthEnd())\n",
    "\n",
    "display(now + MonthEnd(2))\n",
    "\n",
    "# Anchored offets can explicitly 'roll' dates forward or backward by simply suning there \n",
    "# rollfowaed and rollback methods,respectively:\n",
    "\n",
    "offset = MonthEnd()\n",
    "\n",
    "display(offset.rollforward(now))\n",
    "\n",
    "display(offset.rollback(now))\n",
    "\n",
    "# A creative use of date offsets in to use these methods with groupby:\n",
    "\n",
    "ts = pd.Series(np.random.randn(20),\n",
    "              index=pd.date_range('1/15/2000', periods=20, freq='4d'))\n",
    "\n",
    "display(ts)\n",
    "\n",
    "display(ts.groupby(offset.rollback).mean())\n",
    "\n",
    "display(ts.resample('M').mean())\n"
   ]
  },
  {
   "cell_type": "code",
   "execution_count": 99,
   "id": "42e23a82",
   "metadata": {},
   "outputs": [
    {
     "data": {
      "text/plain": [
       "['US/Eastern', 'US/Hawaii', 'US/Mountain', 'US/Pacific', 'UTC']"
      ]
     },
     "metadata": {},
     "output_type": "display_data"
    },
    {
     "data": {
      "text/plain": [
       "<DstTzInfo 'America/New_York' LMT-1 day, 19:04:00 STD>"
      ]
     },
     "metadata": {},
     "output_type": "display_data"
    },
    {
     "data": {
      "text/plain": [
       "DatetimeIndex(['2012-03-09 09:30:00', '2012-03-10 09:30:00',\n",
       "               '2012-03-11 09:30:00', '2012-03-12 09:30:00',\n",
       "               '2012-03-13 09:30:00', '2012-03-14 09:30:00'],\n",
       "              dtype='datetime64[ns]', freq='D')"
      ]
     },
     "metadata": {},
     "output_type": "display_data"
    },
    {
     "data": {
      "text/plain": [
       "2020-01-17    0.848177\n",
       "2020-02-21    0.934168\n",
       "2020-03-20    0.988608\n",
       "2020-04-17    0.536307\n",
       "2020-05-15    0.229846\n",
       "2020-06-19    0.097042\n",
       "2020-07-17    0.166313\n",
       "2020-08-21    0.705508\n",
       "Freq: WOM-3FRI, dtype: float64"
      ]
     },
     "metadata": {},
     "output_type": "display_data"
    },
    {
     "name": "stdout",
     "output_type": "stream",
     "text": [
      "None\n"
     ]
    },
    {
     "data": {
      "text/plain": [
       "DatetimeIndex(['2012-03-09 09:30:00+00:00', '2012-03-10 09:30:00+00:00',\n",
       "               '2012-03-11 09:30:00+00:00', '2012-03-12 09:30:00+00:00',\n",
       "               '2012-03-13 09:30:00+00:00', '2012-03-14 09:30:00+00:00',\n",
       "               '2012-03-15 09:30:00+00:00', '2012-03-16 09:30:00+00:00',\n",
       "               '2012-03-17 09:30:00+00:00', '2012-03-18 09:30:00+00:00'],\n",
       "              dtype='datetime64[ns, UTC]', freq='D')"
      ]
     },
     "metadata": {},
     "output_type": "display_data"
    },
    {
     "data": {
      "text/plain": [
       "2020-01-17 00:00:00+00:00    0.848177\n",
       "2020-02-21 00:00:00+00:00    0.934168\n",
       "2020-03-20 00:00:00+00:00    0.988608\n",
       "2020-04-17 00:00:00+00:00    0.536307\n",
       "2020-05-15 00:00:00+00:00    0.229846\n",
       "2020-06-19 00:00:00+00:00    0.097042\n",
       "2020-07-17 00:00:00+00:00    0.166313\n",
       "2020-08-21 00:00:00+00:00    0.705508\n",
       "Freq: WOM-3FRI, dtype: float64"
      ]
     },
     "metadata": {},
     "output_type": "display_data"
    },
    {
     "data": {
      "text/plain": [
       "DatetimeIndex(['2020-01-17 00:00:00+00:00', '2020-02-21 00:00:00+00:00',\n",
       "               '2020-03-20 00:00:00+00:00', '2020-04-17 00:00:00+00:00',\n",
       "               '2020-05-15 00:00:00+00:00', '2020-06-19 00:00:00+00:00',\n",
       "               '2020-07-17 00:00:00+00:00', '2020-08-21 00:00:00+00:00'],\n",
       "              dtype='datetime64[ns, UTC]', freq='WOM-3FRI')"
      ]
     },
     "metadata": {},
     "output_type": "display_data"
    },
    {
     "data": {
      "text/plain": [
       "2020-01-16 19:00:00-05:00    0.848177\n",
       "2020-02-20 19:00:00-05:00    0.934168\n",
       "2020-03-19 20:00:00-04:00    0.988608\n",
       "2020-04-16 20:00:00-04:00    0.536307\n",
       "2020-05-14 20:00:00-04:00    0.229846\n",
       "2020-06-18 20:00:00-04:00    0.097042\n",
       "2020-07-16 20:00:00-04:00    0.166313\n",
       "2020-08-20 20:00:00-04:00    0.705508\n",
       "Freq: WOM-3FRI, dtype: float64"
      ]
     },
     "metadata": {},
     "output_type": "display_data"
    },
    {
     "data": {
      "text/plain": [
       "2020-01-17 05:00:00+00:00    0.848177\n",
       "2020-02-21 05:00:00+00:00    0.934168\n",
       "2020-03-20 04:00:00+00:00    0.988608\n",
       "2020-04-17 04:00:00+00:00    0.536307\n",
       "2020-05-15 04:00:00+00:00    0.229846\n",
       "2020-06-19 04:00:00+00:00    0.097042\n",
       "2020-07-17 04:00:00+00:00    0.166313\n",
       "2020-08-21 04:00:00+00:00    0.705508\n",
       "dtype: float64"
      ]
     },
     "metadata": {},
     "output_type": "display_data"
    },
    {
     "data": {
      "text/plain": [
       "2020-01-17 06:00:00+01:00    0.848177\n",
       "2020-02-21 06:00:00+01:00    0.934168\n",
       "2020-03-20 05:00:00+01:00    0.988608\n",
       "2020-04-17 06:00:00+02:00    0.536307\n",
       "2020-05-15 06:00:00+02:00    0.229846\n",
       "2020-06-19 06:00:00+02:00    0.097042\n",
       "2020-07-17 06:00:00+02:00    0.166313\n",
       "2020-08-21 06:00:00+02:00    0.705508\n",
       "dtype: float64"
      ]
     },
     "metadata": {},
     "output_type": "display_data"
    },
    {
     "data": {
      "text/plain": [
       "DatetimeIndex(['2020-01-17 00:00:00+08:00', '2020-02-21 00:00:00+08:00',\n",
       "               '2020-03-20 00:00:00+08:00', '2020-04-17 00:00:00+08:00',\n",
       "               '2020-05-15 00:00:00+08:00', '2020-06-19 00:00:00+08:00',\n",
       "               '2020-07-17 00:00:00+08:00', '2020-08-21 00:00:00+08:00'],\n",
       "              dtype='datetime64[ns, Asia/Shanghai]', freq=None)"
      ]
     },
     "metadata": {},
     "output_type": "display_data"
    }
   ],
   "source": [
    "\"\"\"\n",
    "# TIme Zone Handling\n",
    "\n",
    "Working with time zones generally considered one of most unpleasnt part of timeseries manipulation\n",
    "Coordinated Universal Time or UTC, which is the international standard. \n",
    "Timezones are expressed as offsets from UTC.\n",
    "\"\"\"\n",
    "\n",
    "import pytz\n",
    "\n",
    "display(pytz.common_timezones[-5:])\n",
    "\n",
    "# To get a time zone object form pytz, use pytz.timezone:\n",
    "\n",
    "tz = pytz.timezone('America/New_York')\n",
    "\n",
    "display(tz)\n",
    "\n",
    "# Time Zone Localization and Conversion: times series in pd are time zine naive.\n",
    "\n",
    "png = pd.date_range('3/9/2012 9:30', periods=6, freq='D')\n",
    "\n",
    "display(png)\n",
    "\n",
    "ts = pd.Series(np.random.rand(len(rng)), index=rng)\n",
    "\n",
    "display(ts)\n",
    "\n",
    "# Time index's tz fiels is None:\n",
    "\n",
    "print(ts.index.tz)\n",
    "\n",
    "# Date ranges can be generatged with a time zone set:\n",
    "\n",
    "geneatedZone = pd.date_range('3/9/2012 9:30', periods=10, freq='D', tz='UTC')\n",
    "display(geneatedZone)\n",
    "\n",
    "# Conversion from naice to localized is handled by the tz_localize method:\n",
    "ts_utc = ts.tz_localize('UTC')\n",
    "\n",
    "display(ts_utc)\n",
    "\n",
    "display(ts_utc.index)\n",
    "\n",
    "# Once a timezone had been localized to a particular timezone,\n",
    "# conver it to another with tz_convert:\n",
    "display(ts_utc.tz_convert('America/New_York'))\n",
    "\n",
    "# localize to EST and convert to, say, UTC or Berlin time:\n",
    "\n",
    "ts_eastern = ts.tz_localize('America/New_York')\n",
    "\n",
    "display(ts_eastern.tz_convert('UTC'))\n",
    "\n",
    "display(ts_eastern.tz_convert(\"Europe/Berlin\"))\n",
    "\n",
    "# tz_localize and tz_convert are also methods on datatimeindex:\n",
    "\n",
    "display(ts.index.tz_localize('Asia/Shanghai'))\n",
    "\n",
    "# Localizing naive timestmaps also checks for ambiguous or non-exixtent times around daylight time trnascaations\n"
   ]
  },
  {
   "cell_type": "code",
   "execution_count": 117,
   "id": "6d41c715",
   "metadata": {},
   "outputs": [
    {
     "data": {
      "text/plain": [
       "Timestamp('2011-03-11 23:00:00-0500', tz='America/New_York')"
      ]
     },
     "metadata": {},
     "output_type": "display_data"
    },
    {
     "data": {
      "text/plain": [
       "Timestamp('2011-03-12 04:00:00+0300', tz='Europe/Moscow')"
      ]
     },
     "metadata": {},
     "output_type": "display_data"
    },
    {
     "data": {
      "text/plain": [
       "1299902400000000000"
      ]
     },
     "metadata": {},
     "output_type": "display_data"
    },
    {
     "data": {
      "text/plain": [
       "1299902400000000000"
      ]
     },
     "metadata": {},
     "output_type": "display_data"
    },
    {
     "data": {
      "text/plain": [
       "Timestamp('2012-03-11 01:30:00-0500', tz='US/Eastern')"
      ]
     },
     "metadata": {},
     "output_type": "display_data"
    },
    {
     "data": {
      "text/plain": [
       "Timestamp('2012-03-11 03:30:00-0400', tz='US/Eastern')"
      ]
     },
     "metadata": {},
     "output_type": "display_data"
    },
    {
     "data": {
      "text/plain": [
       "Timestamp('2012-11-04 00:30:00-0400', tz='US/Eastern')"
      ]
     },
     "metadata": {},
     "output_type": "display_data"
    },
    {
     "data": {
      "text/plain": [
       "Timestamp('2012-03-11 04:30:00-0400', tz='US/Eastern')"
      ]
     },
     "metadata": {},
     "output_type": "display_data"
    },
    {
     "data": {
      "text/plain": [
       "2012-03-07 09:30:00   -1.726328\n",
       "2012-03-08 09:30:00   -0.011919\n",
       "2012-03-09 09:30:00   -1.323244\n",
       "2012-03-12 09:30:00   -0.464280\n",
       "2012-03-13 09:30:00   -0.593801\n",
       "2012-03-14 09:30:00   -0.918643\n",
       "2012-03-15 09:30:00    0.310215\n",
       "2012-03-16 09:30:00   -0.786204\n",
       "2012-03-19 09:30:00    0.507124\n",
       "2012-03-20 09:30:00    0.083232\n",
       "Freq: B, dtype: float64"
      ]
     },
     "metadata": {},
     "output_type": "display_data"
    },
    {
     "data": {
      "text/plain": [
       "DatetimeIndex(['2012-03-07 09:30:00+00:00', '2012-03-08 09:30:00+00:00',\n",
       "               '2012-03-09 09:30:00+00:00', '2012-03-12 09:30:00+00:00',\n",
       "               '2012-03-13 09:30:00+00:00', '2012-03-14 09:30:00+00:00',\n",
       "               '2012-03-15 09:30:00+00:00'],\n",
       "              dtype='datetime64[ns, UTC]', freq=None)"
      ]
     },
     "metadata": {},
     "output_type": "display_data"
    }
   ],
   "source": [
    "# Operations with Time Zone - Aware Timestamp Objects:\n",
    "# Timestamp obj can be localized from naive to timezone-aware and converter one time zone to another\n",
    "stamp = pd.Timestamp('2011-03-12 04:00')\n",
    "\n",
    "stamp_utc = stamp.tz_localize('utc')\n",
    "\n",
    "display(stamp_utc.tz_convert('America/New_York'))\n",
    "\n",
    "# One can also pass the timezone while creating the timestamp\n",
    "\n",
    "stam_moscow = pd.Timestamp('2011-03-12 4:00', tz='Europe/Moscow')\n",
    "\n",
    "display(stam_moscow)\n",
    "\n",
    "# Timezone-aware Timestamp objects internally store a UTC timestamp value as nanoseconds\n",
    "# This UTC value is invariant between time zone conversions:\n",
    "\n",
    "display(stamp_utc.value)\n",
    "\n",
    "display(stamp_utc.tz_convert('America/New_York').value)\n",
    "\n",
    "# when performing time arithmetic using pandas DateOffset objects,\n",
    "# pd prespects daylight saving tome transactions where possible.\n",
    "# Here we construct tomestamps that occur right before DTF transitions (Forward and Backward)\n",
    "# First, 30 minutes before transitioning to DST:\n",
    "\n",
    "from pandas.tseries.offsets import Hour\n",
    "\n",
    "stamp = pd.Timestamp('2012-03-11 01:30', tz='US/Eastern')\n",
    "display(stamp)\n",
    "\n",
    "display(stamp + Hour())\n",
    "\n",
    "# Then, 90 minutes before transitiong out of DST\n",
    "\n",
    "stamp1 = pd.Timestamp('2012-11-04 00:30:00-0400', tz='US/Eastern')\n",
    "display(stamp1)\n",
    "\n",
    "display(stamp + 2 * Hour())\n",
    "\n",
    "# Operations Between Different Time Zones \n",
    "# IF two time series with different timezones are combined, the result will be UTC.\n",
    "# Since the timestamps are stored under the hood in utc,\n",
    "# this is a strightforward operation and requies no conversion\n",
    "\n",
    "rng1 = pd.date_range('3/7/2012 9:30', periods=10, freq='B')\n",
    "\n",
    "ts1 = pd.Series(np.random.randn(len(rng1)), index=rng1)\n",
    "\n",
    "display(ts1)\n",
    "\n",
    "ts11 = ts1[:7].tz_localize('Europe/London')\n",
    "\n",
    "ts2 = ts11[2:].tz_convert('Europe/Moscow')\n",
    "\n",
    "result = ts11 + ts2\n",
    "\n",
    "display(result.index)"
   ]
  },
  {
   "cell_type": "code",
   "execution_count": 131,
   "id": "313ce7d2",
   "metadata": {},
   "outputs": [
    {
     "data": {
      "text/plain": [
       "Period('2007', 'A-DEC')"
      ]
     },
     "metadata": {},
     "output_type": "display_data"
    },
    {
     "data": {
      "text/plain": [
       "Period('2012', 'A-DEC')"
      ]
     },
     "metadata": {},
     "output_type": "display_data"
    },
    {
     "data": {
      "text/plain": [
       "Period('2005', 'A-DEC')"
      ]
     },
     "metadata": {},
     "output_type": "display_data"
    },
    {
     "data": {
      "text/plain": [
       "<7 * YearEnds: month=12>"
      ]
     },
     "metadata": {},
     "output_type": "display_data"
    },
    {
     "data": {
      "text/plain": [
       "PeriodIndex(['2000-01', '2000-02', '2000-03', '2000-04', '2000-05', '2000-06'], dtype='period[M]')"
      ]
     },
     "metadata": {},
     "output_type": "display_data"
    },
    {
     "data": {
      "text/plain": [
       "2000-01   -0.314988\n",
       "2000-02   -0.055042\n",
       "2000-03    1.066133\n",
       "2000-04   -0.276161\n",
       "2000-05    1.197504\n",
       "2000-06    0.131968\n",
       "Freq: M, dtype: float64"
      ]
     },
     "metadata": {},
     "output_type": "display_data"
    },
    {
     "data": {
      "text/plain": [
       "PeriodIndex(['2001Q3', '2002Q2', '2003Q1'], dtype='period[Q-DEC]')"
      ]
     },
     "metadata": {},
     "output_type": "display_data"
    }
   ],
   "source": [
    "\"\"\"\n",
    "# Periods and Period Arithmetic \n",
    "\n",
    "Periods represent timespands, like days, months, quarters, or years.\n",
    "The period class represents this data type, requiring a string or integer and a frquency\n",
    "\n",
    "\"\"\"\n",
    "\n",
    "p = pd.Period(2007, freq='A-DEC')\n",
    "\n",
    "# Here the period object represnts the full timespan from Jan 1 - Dec 31 inclusive.\n",
    "\n",
    "display(p)\n",
    "\n",
    "# COnveniently, adding and subtracting ints from periods shifts by their frequency:\n",
    "\n",
    "display(p + 5)\n",
    "\n",
    "display(p - 2)\n",
    "\n",
    "# if tww periods the dame frequency, their diffrence is the number of units between them\n",
    "\n",
    "display(pd.Period('2014', freq='A-DEC') - p)\n",
    "\n",
    "# regular ranges of periods cna be constructed with the period_range function\n",
    "\n",
    "per_rng = pd.period_range('2000-01-01', '2000-06-30', freq='M')\n",
    "display(per_rng)\n",
    "\n",
    "# The PeriodIndex class stores a sequence of periods and can serve as\n",
    "# an axis index in any pands data strcuture.\n",
    "\n",
    "display(pd.Series(np.random.randn(6), index=per_rng))\n",
    "\n",
    "# If you have an array of strings, you can also use the PeriodIndex class:\n",
    "\n",
    "values = ['2001Q3', '2002Q2', \"2003Q1\"]\n",
    "\n",
    "indexS = pd.PeriodIndex(values, freq='Q-DEC')\n",
    "\n",
    "display(indexS)"
   ]
  },
  {
   "cell_type": "code",
   "execution_count": null,
   "id": "9b866269",
   "metadata": {},
   "outputs": [],
   "source": [
    "\"\"\"\n",
    "# Period Frequency Conversion\n",
    "Periods and PeriodIndex objects can be converted to another frequency with their asfreq method.\n",
    "\"\"\"\n",
    "\n",
    "p = pd.Period('2007', freq='A-DEC')\n",
    "\n",
    "display(p)\n",
    "\n",
    "display(p.asfreq('M', how='start'))\n",
    "\n",
    "display(p.asfreq('M', how='end'))\n",
    "\n",
    "# One can think of Period('2007', 'A-DEC') as being a sort of cursor pointing to a span of time\n",
    "# subdivided by monthly periods. For a fiscal year ending on a month other than December,\n",
    "# the corresponding monthly subperiods are different:\n",
    "\n",
    "p = pd.Period('2007', 'A-JUN')\n",
    "\n",
    "display(p)\n",
    "\n",
    "display(p.asfreq('M', 'start'))\n",
    "\n",
    "display(p.asfreq('M', 'end'))\n",
    "\n",
    "# When you are converting from high to low frequency, pandas determines the super-period \n",
    "# depending on where the subperiod 'belongs.' For example, in A-JUN frequency,\n",
    "# the month aug-2007 is actually part of the 2008 period:\n",
    "\n",
    "p = pd.Period('Aug-2007', 'M')\n",
    "\n",
    "display(p.asfreq('A-JUN'))\n",
    "\n",
    "# Whole PeriodINdex objects or time series can be similarly converted with the same semantics:\n",
    "\n",
    "rng = pd.period_range('2006', '2009', freq='A-DEC')\n",
    "\n",
    "ts = pd.Series(np.random.randn(len(rng)), index=rng)\n",
    "\n",
    "display(ts)\n",
    "\n",
    "# If we instead wanted the last business day of each year,\n",
    "# we can use the 'B' frequency and indicate that we want the end of the period:\n",
    "\n",
    "display(ts.asfreq('B', how='end'))"
   ]
  },
  {
   "cell_type": "code",
   "execution_count": 152,
   "id": "e3081f67",
   "metadata": {},
   "outputs": [
    {
     "data": {
      "text/plain": [
       "Period('2012Q4', 'Q-JAN')"
      ]
     },
     "metadata": {},
     "output_type": "display_data"
    },
    {
     "data": {
      "text/plain": [
       "Period('2012-01-30 16:00', 'T')"
      ]
     },
     "metadata": {},
     "output_type": "display_data"
    },
    {
     "data": {
      "text/plain": [
       "Timestamp('2012-01-30 16:00:00')"
      ]
     },
     "metadata": {},
     "output_type": "display_data"
    },
    {
     "data": {
      "text/plain": [
       "2011Q3    0\n",
       "2011Q4    1\n",
       "2012Q1    2\n",
       "2012Q2    3\n",
       "2012Q3    4\n",
       "2012Q4    5\n",
       "Freq: Q-JAN, dtype: int32"
      ]
     },
     "metadata": {},
     "output_type": "display_data"
    },
    {
     "data": {
      "text/plain": [
       "2010-10-28 16:00:00    0\n",
       "2011-01-28 16:00:00    1\n",
       "2011-04-28 16:00:00    2\n",
       "2011-07-28 16:00:00    3\n",
       "2011-10-28 16:00:00    4\n",
       "2012-01-30 16:00:00    5\n",
       "dtype: int32"
      ]
     },
     "metadata": {},
     "output_type": "display_data"
    }
   ],
   "source": [
    "# Quarterly Period Frequencies \n",
    "\n",
    "\"\"\"\n",
    "Q data is standard in accounting, finance, and other fields.\n",
    "quarterly data is reported realtive to fiscal year end, typically the last calendar or bussiness\n",
    "day of one the 12 months of the year. Thus, the period 2012Q4 has a different meaning depending\n",
    "on fiscal year end. pandas supports all 12 possible quarterly frequencies as Q-JAN through Q-DEC:\n",
    "\n",
    "DIfferent quarterly frequency converntions page 349\n",
    "\"\"\"\n",
    "\n",
    "p = pd.Period('2012Q4', freq='Q-JAN')\n",
    "\n",
    "display(p)\n",
    "\n",
    "# Thus, itls possible to do easy period arithmetic; for example,\n",
    "# to get the timestamp at 4 PM on the second-to-last businees day of the quarter, you could do:\n",
    "\n",
    "p4pm = (p.asfreq('B', 'e') - 1).asfreq('T', 's') + 16 * 60 \n",
    "\n",
    "display(p4pm)\n",
    "\n",
    "display(p4pm.to_timestamp())\n",
    "\n",
    "# You can genarate quarterly ranges using period_range. Arithmetic is indentical, too:\n",
    "\n",
    "rng = pd.period_range('2011Q3', '2012Q4', freq='Q-JAN')\n",
    "\n",
    "ts = pd.Series(np.arange(len(rng)), index=rng)\n",
    "\n",
    "display(ts)\n",
    "\n",
    "new_rng = (rng.asfreq('B', 'e') - 1).asfreq('T', 's') + 16 * 60\n",
    "\n",
    "ts.index = new_rng.to_timestamp()\n",
    "\n",
    "display(ts)"
   ]
  },
  {
   "cell_type": "code",
   "execution_count": 173,
   "id": "088282dc",
   "metadata": {},
   "outputs": [
    {
     "data": {
      "text/plain": [
       "2001-01-31    0.312357\n",
       "2001-02-28    1.015564\n",
       "2001-03-31    1.159014\n",
       "Freq: M, dtype: float64"
      ]
     },
     "metadata": {},
     "output_type": "display_data"
    },
    {
     "data": {
      "text/plain": [
       "2001-01    0.312357\n",
       "2001-02    1.015564\n",
       "2001-03    1.159014\n",
       "Freq: M, dtype: float64"
      ]
     },
     "metadata": {},
     "output_type": "display_data"
    },
    {
     "data": {
      "text/plain": [
       "2001-01-31 23:59:59.999999999    0.312357\n",
       "2001-02-28 23:59:59.999999999    1.015564\n",
       "2001-03-31 23:59:59.999999999    1.159014\n",
       "dtype: float64"
      ]
     },
     "metadata": {},
     "output_type": "display_data"
    },
    {
     "data": {
      "text/plain": [
       "PeriodIndex(['1959Q1', '1959Q2', '1959Q3', '1959Q4', '1960Q1', '1960Q2',\n",
       "             '1960Q3', '1960Q4', '1961Q1', '1961Q2',\n",
       "             ...\n",
       "             '2007Q2', '2007Q3', '2007Q4', '2008Q1', '2008Q2', '2008Q3',\n",
       "             '2008Q4', '2009Q1', '2009Q2', '2009Q3'],\n",
       "            dtype='period[Q-DEC]', length=203)"
      ]
     },
     "metadata": {},
     "output_type": "display_data"
    },
    {
     "data": {
      "text/plain": [
       "1959Q1    0.00\n",
       "1959Q2    2.34\n",
       "1959Q3    2.74\n",
       "1959Q4    0.27\n",
       "1960Q1    2.31\n",
       "          ... \n",
       "2008Q3   -3.16\n",
       "2008Q4   -8.79\n",
       "2009Q1    0.94\n",
       "2009Q2    3.37\n",
       "2009Q3    3.56\n",
       "Freq: Q-DEC, Name: infl, Length: 203, dtype: float64"
      ]
     },
     "metadata": {},
     "output_type": "display_data"
    }
   ],
   "source": [
    "\"\"\"\n",
    "# COnverting Timestamps to Periods (and Back)\n",
    "Series and DataFrame objects indexed by timestamps can be converted\n",
    "to periods with the to_period method:\n",
    "\"\"\"\n",
    "\n",
    "rng = pd.date_range('2001-01-01', periods=3, freq='M')\n",
    "\n",
    "ts = pd.Series(np.random.randn(3), index=rng)\n",
    "\n",
    "display(ts)\n",
    "\n",
    "pts = ts.to_period()\n",
    "\n",
    "display(pts)\n",
    "\n",
    "display(pts.to_timestamp(how='end'))\n",
    "\n",
    "# Creating a PeriodIndex from Arrays \n",
    "# Fixed frequency datasests are sometimes stored with timespan information spraed accros multiple cols\n",
    "\n",
    "mac_data = pd.read_csv('macrodata.csv')\n",
    "\n",
    "mac_data[:5]\n",
    "\n",
    "# By passing these arrays to PeriosIndex with a\n",
    "# frequencym you can combine tham to form an index for the DataFrame\n",
    "\n",
    "index = pd.PeriodIndex(year=mac_data.year, quarter = mac_data.quarter,\n",
    "                      freq='Q-DEC')\n",
    "\n",
    "display(index)\n",
    "\n",
    "mac_data.index = index\n",
    "\n",
    "display(mac_data.infl)"
   ]
  },
  {
   "cell_type": "code",
   "execution_count": 184,
   "id": "9b2c3abb",
   "metadata": {},
   "outputs": [
    {
     "data": {
      "text/plain": [
       "2000-01-01   -1.307379\n",
       "2000-01-02    0.293188\n",
       "2000-01-03   -0.071954\n",
       "2000-01-04   -0.161508\n",
       "2000-01-05   -0.978347\n",
       "                ...   \n",
       "2000-04-05   -0.520057\n",
       "2000-04-06    0.316449\n",
       "2000-04-07    1.009623\n",
       "2000-04-08    0.221852\n",
       "2000-04-09   -0.089892\n",
       "Freq: D, Length: 100, dtype: float64"
      ]
     },
     "metadata": {},
     "output_type": "display_data"
    },
    {
     "data": {
      "text/plain": [
       "2000-01-31   -0.060993\n",
       "2000-02-29    0.586275\n",
       "2000-03-31    0.008753\n",
       "2000-04-30    0.212805\n",
       "Freq: M, dtype: float64"
      ]
     },
     "metadata": {},
     "output_type": "display_data"
    },
    {
     "data": {
      "text/plain": [
       "2000-01   -0.060993\n",
       "2000-02    0.586275\n",
       "2000-03    0.008753\n",
       "2000-04    0.212805\n",
       "Freq: M, dtype: float64"
      ]
     },
     "metadata": {},
     "output_type": "display_data"
    },
    {
     "data": {
      "text/plain": [
       "DatetimeIndex(['2000-01-01 00:00:00', '2000-01-01 00:01:00',\n",
       "               '2000-01-01 00:02:00', '2000-01-01 00:03:00',\n",
       "               '2000-01-01 00:04:00', '2000-01-01 00:05:00',\n",
       "               '2000-01-01 00:06:00', '2000-01-01 00:07:00',\n",
       "               '2000-01-01 00:08:00', '2000-01-01 00:09:00',\n",
       "               '2000-01-01 00:10:00', '2000-01-01 00:11:00'],\n",
       "              dtype='datetime64[ns]', freq='T')"
      ]
     },
     "metadata": {},
     "output_type": "display_data"
    },
    {
     "data": {
      "text/plain": [
       "2000-01-01 00:00:00     0\n",
       "2000-01-01 00:01:00     1\n",
       "2000-01-01 00:02:00     2\n",
       "2000-01-01 00:03:00     3\n",
       "2000-01-01 00:04:00     4\n",
       "2000-01-01 00:05:00     5\n",
       "2000-01-01 00:06:00     6\n",
       "2000-01-01 00:07:00     7\n",
       "2000-01-01 00:08:00     8\n",
       "2000-01-01 00:09:00     9\n",
       "2000-01-01 00:10:00    10\n",
       "2000-01-01 00:11:00    11\n",
       "Freq: T, dtype: int32"
      ]
     },
     "metadata": {},
     "output_type": "display_data"
    },
    {
     "data": {
      "text/plain": [
       "1999-12-31 23:55:00     0\n",
       "2000-01-01 00:00:00    15\n",
       "2000-01-01 00:05:00    40\n",
       "2000-01-01 00:10:00    11\n",
       "Freq: 5T, dtype: int32"
      ]
     },
     "metadata": {},
     "output_type": "display_data"
    },
    {
     "data": {
      "text/plain": [
       "2000-01-01 00:00:00     0\n",
       "2000-01-01 00:05:00    15\n",
       "2000-01-01 00:10:00    40\n",
       "2000-01-01 00:15:00    11\n",
       "Freq: 5T, dtype: int32"
      ]
     },
     "metadata": {},
     "output_type": "display_data"
    },
    {
     "name": "stderr",
     "output_type": "stream",
     "text": [
      "C:\\Users\\JBarr\\anaconda3\\envs\\dev\\lib\\site-packages\\ipykernel_launcher.py:40: FutureWarning: 'loffset' in .resample() and in Grouper() is deprecated.\n",
      "\n",
      ">>> df.resample(freq=\"3s\", loffset=\"8H\")\n",
      "\n",
      "becomes:\n",
      "\n",
      ">>> from pandas.tseries.frequencies import to_offset\n",
      ">>> df = df.resample(freq=\"3s\").mean()\n",
      ">>> df.index = df.index.to_timestamp() + to_offset(\"8H\")\n",
      "\n"
     ]
    },
    {
     "data": {
      "text/plain": [
       "1999-12-31 23:59:59     0\n",
       "2000-01-01 00:04:59    15\n",
       "2000-01-01 00:09:59    40\n",
       "2000-01-01 00:14:59    11\n",
       "Freq: 5T, dtype: int32"
      ]
     },
     "metadata": {},
     "output_type": "display_data"
    }
   ],
   "source": [
    "\"\"\"\n",
    "# 11.6 Resampling and Frequency Conversion\n",
    "Resampling refers to the process of converting a time series from one frequency to another.\n",
    "Aggregating higger frequency data to lower frequency is called downsampling, Upsampling for opposite.\n",
    "\n",
    "using [resample] has a similar API to groupby; you call resample to group the data, then an aggregation function.\n",
    "\"\"\"\n",
    "\n",
    "rng = pd.date_range('2000-01-01', periods=100, freq='D')\n",
    "\n",
    "ts = pd.Series(np.random.randn(len(rng)), index=rng)\n",
    "\n",
    "display(ts)\n",
    "\n",
    "display(ts.resample('M').mean())\n",
    "\n",
    "display(ts.resample('M', kind='period').mean()) # resample method arguments page 355\n",
    "\n",
    "# Downsampling \n",
    "\n",
    "down_rng = pd.date_range('2000-01-01', periods=12, freq='T')\n",
    "\n",
    "down_ts = pd.Series(np.arange(12), index=down_rng)\n",
    "\n",
    "display(down_rng, down_ts)\n",
    "\n",
    "# Suppose you wanted to aggregate this data into five-minute chunks bars by taking the sum of each group:\n",
    "\n",
    "display(down_ts.resample('5min', closed='right').sum())\n",
    "\n",
    "# by passing label='right' you can label them with thr right bin edge:\n",
    "\n",
    "display(down_ts.resample('5min', closed='right', label='right').sum())\n",
    "\n",
    "# To shift the reslut index by some amount, say subtracting one second form the right edge\n",
    "# to make it more clear which interval the timestamp refers to. To do this, pass a string \n",
    "# or date offset to loffset:\n",
    "\n",
    "display(down_ts.resample('5min', closed='right',\n",
    "                        label='right', loffset='-1s').sum())\n"
   ]
  },
  {
   "cell_type": "code",
   "execution_count": null,
   "id": "1e6e1d3b",
   "metadata": {},
   "outputs": [],
   "source": []
  },
  {
   "cell_type": "code",
   "execution_count": null,
   "id": "4115322a",
   "metadata": {},
   "outputs": [],
   "source": []
  },
  {
   "cell_type": "code",
   "execution_count": null,
   "id": "e49f7c33",
   "metadata": {},
   "outputs": [],
   "source": []
  },
  {
   "cell_type": "code",
   "execution_count": null,
   "id": "52809eda",
   "metadata": {},
   "outputs": [],
   "source": []
  },
  {
   "cell_type": "code",
   "execution_count": null,
   "id": "0395abc3",
   "metadata": {},
   "outputs": [],
   "source": []
  },
  {
   "cell_type": "code",
   "execution_count": null,
   "id": "ac81a47d",
   "metadata": {},
   "outputs": [],
   "source": []
  }
 ],
 "metadata": {
  "kernelspec": {
   "display_name": "dev",
   "language": "python",
   "name": "dev"
  },
  "language_info": {
   "codemirror_mode": {
    "name": "ipython",
    "version": 3
   },
   "file_extension": ".py",
   "mimetype": "text/x-python",
   "name": "python",
   "nbconvert_exporter": "python",
   "pygments_lexer": "ipython3",
   "version": "3.7.11"
  }
 },
 "nbformat": 4,
 "nbformat_minor": 5
}
