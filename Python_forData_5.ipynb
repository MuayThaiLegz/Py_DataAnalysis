{
 "cells": [
  {
   "cell_type": "code",
   "execution_count": 1,
   "id": "7a7cc063",
   "metadata": {},
   "outputs": [
    {
     "data": {
      "text/plain": [
       "'Python for Data Ananlysis Chapet 5 : Getting Started with pandas'"
      ]
     },
     "execution_count": 1,
     "metadata": {},
     "output_type": "execute_result"
    }
   ],
   "source": [
    "\"Python for Data Ananlysis \\\n",
    "Chapet 5 : Getting Started with pandas\""
   ]
  },
  {
   "cell_type": "code",
   "execution_count": 13,
   "id": "7a39b6cd",
   "metadata": {},
   "outputs": [],
   "source": [
    "\"\"\"\n",
    "Pandas is designed for working with tabular or heterogeneous data.\n",
    "\n",
    "\"\"\"\n",
    "\n",
    "import pandas as pd; from pandas import Series, DataFrame; import numpy as np"
   ]
  },
  {
   "cell_type": "code",
   "execution_count": 14,
   "id": "34b8018d-ef98-409f-8249-9bd86523ba9f",
   "metadata": {},
   "outputs": [
    {
     "data": {
      "text/plain": [
       "0    2\n",
       "1    4\n",
       "2    5\n",
       "3   -2\n",
       "4    3\n",
       "dtype: int64"
      ]
     },
     "metadata": {},
     "output_type": "display_data"
    },
    {
     "data": {
      "text/plain": [
       "a    5\n",
       "r    6\n",
       "s    3\n",
       "c    4\n",
       "dtype: int64"
      ]
     },
     "metadata": {},
     "output_type": "display_data"
    },
    {
     "data": {
      "text/plain": [
       "5"
      ]
     },
     "metadata": {},
     "output_type": "display_data"
    },
    {
     "data": {
      "text/plain": [
       "4"
      ]
     },
     "metadata": {},
     "output_type": "display_data"
    },
    {
     "data": {
      "text/plain": [
       "a    5\n",
       "c    4\n",
       "r    6\n",
       "dtype: int64"
      ]
     },
     "metadata": {},
     "output_type": "display_data"
    },
    {
     "data": {
      "text/plain": [
       "a    5\n",
       "r    6\n",
       "s    3\n",
       "c    4\n",
       "dtype: int64"
      ]
     },
     "metadata": {},
     "output_type": "display_data"
    },
    {
     "data": {
      "text/plain": [
       "a    15\n",
       "r    18\n",
       "s     9\n",
       "c    12\n",
       "dtype: int64"
      ]
     },
     "metadata": {},
     "output_type": "display_data"
    }
   ],
   "source": [
    "\"\"\"\n",
    "# Series a 1D array-like object containing a sequence of values (similar to NymPy types)\n",
    "and and associated array of data labels, called its index.\n",
    "The simplest Series is formed from only an array of data\n",
    "\n",
    "\"\"\"\n",
    "\n",
    "\n",
    "obj = pd.Series([2,4,5,-2,3])\n",
    "\n",
    "display(obj)\n",
    "\n",
    "# Creating a Series with an Index\n",
    "\n",
    "index_obj = pd.Series([5, 6, 3, 4], index=['a','r','s','c'])\n",
    "\n",
    "display(index_obj)\n",
    "\n",
    "# You can use labels in the index when selecting single values or set values:\n",
    "\n",
    "display(index_obj['a'])\n",
    "\n",
    "index_obj['c'] = 4\n",
    "\n",
    "display(index_obj['c'])\n",
    "\n",
    "\n",
    "# Here ['a','c','r'] is interpreted as a list of indices,\n",
    "#even though it cointains strings instead of integers.\n",
    "display(index_obj[['a','c','r']])\n",
    "\n",
    "\n",
    "# Using NumPy-like operations, such as filtering with aboolean array,\n",
    "\n",
    "# scalar multiplication, or applying math functions, will perserve the index-value link\n",
    "\n",
    "display(index_obj[index_obj > 1])\n",
    "\n",
    "display(index_obj * 3)\n",
    "\n",
    "\n"
   ]
  },
  {
   "cell_type": "code",
   "execution_count": 15,
   "id": "f12285d9-bbe4-4887-944f-c15503ba91b9",
   "metadata": {},
   "outputs": [
    {
     "data": {
      "text/plain": [
       "Conocrd         NaN\n",
       "Marco           NaN\n",
       "Oregon      20000.0\n",
       "Texas      142000.0\n",
       "Utah            NaN\n",
       "ohio            NaN\n",
       "dtype: float64"
      ]
     },
     "execution_count": 15,
     "metadata": {},
     "output_type": "execute_result"
    }
   ],
   "source": [
    "\"\"\"\n",
    "Another way to use a Series is as a fixed-legth, ordered dict, as it is a mapping of index values\n",
    "to data values. It can be used in many ways in many contexts where you migth use a dict\n",
    "\"\"\"\n",
    "\n",
    "'b' in index_obj\n",
    "\n",
    "# If you have data in a Py dict, you can create A series from it bu passing the dict\n",
    "\n",
    "statesNdict = {'ohio' : 35000, 'Texas' : 71000, 'Oregon': 10000, 'Utah' : 50000}\n",
    "\n",
    "statesNdict2= {'Conocrd' : 35000, 'Texas' : 71000, 'Oregon': 10000, 'Marco' : 50000}\n",
    "\n",
    "obj3 = pd.Series(statesNdict)\n",
    "\n",
    "obj2= pd.Series(statesNdict2)\n",
    "\n",
    "#isplay(statesNdict)\n",
    "\n",
    "# A useful Series feature for many applicatios is \n",
    "# that it automatically aligns by index label in arithmetic operations.\n",
    "\n",
    "obj3+ obj2"
   ]
  },
  {
   "cell_type": "code",
   "execution_count": 16,
   "id": "94e33fb5-254d-443d-83f9-4ff6b59e8510",
   "metadata": {},
   "outputs": [
    {
     "data": {
      "text/plain": [
       "Kav     2\n",
       "Ant     4\n",
       "Russ    5\n",
       "Jeff   -2\n",
       "JV      3\n",
       "dtype: int64"
      ]
     },
     "execution_count": 16,
     "metadata": {},
     "output_type": "execute_result"
    }
   ],
   "source": [
    "\"\"\"\n",
    "Both the Series object itself and its index have a name attribute, which integrates with other key\n",
    "areas of pandas fuctionality:\n",
    "\"\"\"\n",
    "\n",
    "obj3.name = 'population'\n",
    "obj3.index.name = 'state'\n",
    "\n",
    "# A Series's index can be altered in-place by assignment:\n",
    "\n",
    "obj.index = ['Kav', 'Ant', 'Russ','Jeff', 'JV']\n",
    "\n",
    "obj"
   ]
  },
  {
   "cell_type": "code",
   "execution_count": 30,
   "id": "379138b9-1f36-4eac-b0cb-f045836024be",
   "metadata": {},
   "outputs": [
    {
     "data": {
      "text/html": [
       "<div>\n",
       "<style scoped>\n",
       "    .dataframe tbody tr th:only-of-type {\n",
       "        vertical-align: middle;\n",
       "    }\n",
       "\n",
       "    .dataframe tbody tr th {\n",
       "        vertical-align: top;\n",
       "    }\n",
       "\n",
       "    .dataframe thead th {\n",
       "        text-align: right;\n",
       "    }\n",
       "</style>\n",
       "<table border=\"1\" class=\"dataframe\">\n",
       "  <thead>\n",
       "    <tr style=\"text-align: right;\">\n",
       "      <th></th>\n",
       "      <th>state</th>\n",
       "      <th>year</th>\n",
       "      <th>value</th>\n",
       "    </tr>\n",
       "  </thead>\n",
       "  <tbody>\n",
       "    <tr>\n",
       "      <th>0</th>\n",
       "      <td>Ohio</td>\n",
       "      <td>2019</td>\n",
       "      <td>1.5</td>\n",
       "    </tr>\n",
       "    <tr>\n",
       "      <th>1</th>\n",
       "      <td>Nevada</td>\n",
       "      <td>2020</td>\n",
       "      <td>2.6</td>\n",
       "    </tr>\n",
       "    <tr>\n",
       "      <th>2</th>\n",
       "      <td>New York</td>\n",
       "      <td>2021</td>\n",
       "      <td>1.9</td>\n",
       "    </tr>\n",
       "    <tr>\n",
       "      <th>3</th>\n",
       "      <td>Kansas</td>\n",
       "      <td>2022</td>\n",
       "      <td>9.4</td>\n",
       "    </tr>\n",
       "    <tr>\n",
       "      <th>4</th>\n",
       "      <td>Texas</td>\n",
       "      <td>2023</td>\n",
       "      <td>2.1</td>\n",
       "    </tr>\n",
       "  </tbody>\n",
       "</table>\n",
       "</div>"
      ],
      "text/plain": [
       "      state  year  value\n",
       "0      Ohio  2019    1.5\n",
       "1    Nevada  2020    2.6\n",
       "2  New York  2021    1.9\n",
       "3    Kansas  2022    9.4\n",
       "4     Texas  2023    2.1"
      ]
     },
     "metadata": {},
     "output_type": "display_data"
    },
    {
     "data": {
      "text/plain": [
       "0    2019\n",
       "1    2020\n",
       "2    2021\n",
       "3    2022\n",
       "4    2023\n",
       "Name: year, dtype: int64"
      ]
     },
     "metadata": {},
     "output_type": "display_data"
    },
    {
     "data": {
      "text/plain": [
       "state    New York\n",
       "year         2021\n",
       "value         1.9\n",
       "Name: 2, dtype: object"
      ]
     },
     "metadata": {},
     "output_type": "display_data"
    },
    {
     "data": {
      "text/html": [
       "<div>\n",
       "<style scoped>\n",
       "    .dataframe tbody tr th:only-of-type {\n",
       "        vertical-align: middle;\n",
       "    }\n",
       "\n",
       "    .dataframe tbody tr th {\n",
       "        vertical-align: top;\n",
       "    }\n",
       "\n",
       "    .dataframe thead th {\n",
       "        text-align: right;\n",
       "    }\n",
       "</style>\n",
       "<table border=\"1\" class=\"dataframe\">\n",
       "  <thead>\n",
       "    <tr style=\"text-align: right;\">\n",
       "      <th></th>\n",
       "      <th>state</th>\n",
       "      <th>year</th>\n",
       "      <th>value</th>\n",
       "      <th>Todday</th>\n",
       "    </tr>\n",
       "  </thead>\n",
       "  <tbody>\n",
       "    <tr>\n",
       "      <th>0</th>\n",
       "      <td>Ohio</td>\n",
       "      <td>2019</td>\n",
       "      <td>1.5</td>\n",
       "      <td>5</td>\n",
       "    </tr>\n",
       "    <tr>\n",
       "      <th>1</th>\n",
       "      <td>Nevada</td>\n",
       "      <td>2020</td>\n",
       "      <td>2.6</td>\n",
       "      <td>4</td>\n",
       "    </tr>\n",
       "    <tr>\n",
       "      <th>2</th>\n",
       "      <td>New York</td>\n",
       "      <td>2021</td>\n",
       "      <td>1.9</td>\n",
       "      <td>3</td>\n",
       "    </tr>\n",
       "    <tr>\n",
       "      <th>3</th>\n",
       "      <td>Kansas</td>\n",
       "      <td>2022</td>\n",
       "      <td>9.4</td>\n",
       "      <td>2</td>\n",
       "    </tr>\n",
       "    <tr>\n",
       "      <th>4</th>\n",
       "      <td>Texas</td>\n",
       "      <td>2023</td>\n",
       "      <td>2.1</td>\n",
       "      <td>1</td>\n",
       "    </tr>\n",
       "  </tbody>\n",
       "</table>\n",
       "</div>"
      ],
      "text/plain": [
       "      state  year  value  Todday\n",
       "0      Ohio  2019    1.5       5\n",
       "1    Nevada  2020    2.6       4\n",
       "2  New York  2021    1.9       3\n",
       "3    Kansas  2022    9.4       2\n",
       "4     Texas  2023    2.1       1"
      ]
     },
     "metadata": {},
     "output_type": "display_data"
    },
    {
     "data": {
      "text/html": [
       "<div>\n",
       "<style scoped>\n",
       "    .dataframe tbody tr th:only-of-type {\n",
       "        vertical-align: middle;\n",
       "    }\n",
       "\n",
       "    .dataframe tbody tr th {\n",
       "        vertical-align: top;\n",
       "    }\n",
       "\n",
       "    .dataframe thead th {\n",
       "        text-align: right;\n",
       "    }\n",
       "</style>\n",
       "<table border=\"1\" class=\"dataframe\">\n",
       "  <thead>\n",
       "    <tr style=\"text-align: right;\">\n",
       "      <th></th>\n",
       "      <th>state</th>\n",
       "      <th>year</th>\n",
       "      <th>value</th>\n",
       "      <th>Todday</th>\n",
       "      <th>tomorrow</th>\n",
       "    </tr>\n",
       "  </thead>\n",
       "  <tbody>\n",
       "    <tr>\n",
       "      <th>0</th>\n",
       "      <td>Ohio</td>\n",
       "      <td>2019</td>\n",
       "      <td>1.5</td>\n",
       "      <td>5</td>\n",
       "      <td>0</td>\n",
       "    </tr>\n",
       "    <tr>\n",
       "      <th>1</th>\n",
       "      <td>Nevada</td>\n",
       "      <td>2020</td>\n",
       "      <td>2.6</td>\n",
       "      <td>4</td>\n",
       "      <td>1</td>\n",
       "    </tr>\n",
       "    <tr>\n",
       "      <th>2</th>\n",
       "      <td>New York</td>\n",
       "      <td>2021</td>\n",
       "      <td>1.9</td>\n",
       "      <td>3</td>\n",
       "      <td>2</td>\n",
       "    </tr>\n",
       "    <tr>\n",
       "      <th>3</th>\n",
       "      <td>Kansas</td>\n",
       "      <td>2022</td>\n",
       "      <td>9.4</td>\n",
       "      <td>2</td>\n",
       "      <td>3</td>\n",
       "    </tr>\n",
       "    <tr>\n",
       "      <th>4</th>\n",
       "      <td>Texas</td>\n",
       "      <td>2023</td>\n",
       "      <td>2.1</td>\n",
       "      <td>1</td>\n",
       "      <td>4</td>\n",
       "    </tr>\n",
       "  </tbody>\n",
       "</table>\n",
       "</div>"
      ],
      "text/plain": [
       "      state  year  value  Todday  tomorrow\n",
       "0      Ohio  2019    1.5       5         0\n",
       "1    Nevada  2020    2.6       4         1\n",
       "2  New York  2021    1.9       3         2\n",
       "3    Kansas  2022    9.4       2         3\n",
       "4     Texas  2023    2.1       1         4"
      ]
     },
     "metadata": {},
     "output_type": "display_data"
    },
    {
     "data": {
      "text/html": [
       "<div>\n",
       "<style scoped>\n",
       "    .dataframe tbody tr th:only-of-type {\n",
       "        vertical-align: middle;\n",
       "    }\n",
       "\n",
       "    .dataframe tbody tr th {\n",
       "        vertical-align: top;\n",
       "    }\n",
       "\n",
       "    .dataframe thead th {\n",
       "        text-align: right;\n",
       "    }\n",
       "</style>\n",
       "<table border=\"1\" class=\"dataframe\">\n",
       "  <thead>\n",
       "    <tr style=\"text-align: right;\">\n",
       "      <th></th>\n",
       "      <th>state</th>\n",
       "      <th>year</th>\n",
       "      <th>value</th>\n",
       "      <th>Todday</th>\n",
       "      <th>tomorrow</th>\n",
       "      <th>debt</th>\n",
       "    </tr>\n",
       "  </thead>\n",
       "  <tbody>\n",
       "    <tr>\n",
       "      <th>0</th>\n",
       "      <td>Ohio</td>\n",
       "      <td>2019</td>\n",
       "      <td>1.5</td>\n",
       "      <td>5</td>\n",
       "      <td>0</td>\n",
       "      <td>NaN</td>\n",
       "    </tr>\n",
       "    <tr>\n",
       "      <th>1</th>\n",
       "      <td>Nevada</td>\n",
       "      <td>2020</td>\n",
       "      <td>2.6</td>\n",
       "      <td>4</td>\n",
       "      <td>1</td>\n",
       "      <td>NaN</td>\n",
       "    </tr>\n",
       "    <tr>\n",
       "      <th>2</th>\n",
       "      <td>New York</td>\n",
       "      <td>2021</td>\n",
       "      <td>1.9</td>\n",
       "      <td>3</td>\n",
       "      <td>2</td>\n",
       "      <td>NaN</td>\n",
       "    </tr>\n",
       "    <tr>\n",
       "      <th>3</th>\n",
       "      <td>Kansas</td>\n",
       "      <td>2022</td>\n",
       "      <td>9.4</td>\n",
       "      <td>2</td>\n",
       "      <td>3</td>\n",
       "      <td>NaN</td>\n",
       "    </tr>\n",
       "    <tr>\n",
       "      <th>4</th>\n",
       "      <td>Texas</td>\n",
       "      <td>2023</td>\n",
       "      <td>2.1</td>\n",
       "      <td>1</td>\n",
       "      <td>4</td>\n",
       "      <td>NaN</td>\n",
       "    </tr>\n",
       "  </tbody>\n",
       "</table>\n",
       "</div>"
      ],
      "text/plain": [
       "      state  year  value  Todday  tomorrow  debt\n",
       "0      Ohio  2019    1.5       5         0   NaN\n",
       "1    Nevada  2020    2.6       4         1   NaN\n",
       "2  New York  2021    1.9       3         2   NaN\n",
       "3    Kansas  2022    9.4       2         3   NaN\n",
       "4     Texas  2023    2.1       1         4   NaN"
      ]
     },
     "metadata": {},
     "output_type": "display_data"
    },
    {
     "data": {
      "text/html": [
       "<div>\n",
       "<style scoped>\n",
       "    .dataframe tbody tr th:only-of-type {\n",
       "        vertical-align: middle;\n",
       "    }\n",
       "\n",
       "    .dataframe tbody tr th {\n",
       "        vertical-align: top;\n",
       "    }\n",
       "\n",
       "    .dataframe thead th {\n",
       "        text-align: right;\n",
       "    }\n",
       "</style>\n",
       "<table border=\"1\" class=\"dataframe\">\n",
       "  <thead>\n",
       "    <tr style=\"text-align: right;\">\n",
       "      <th></th>\n",
       "      <th>state</th>\n",
       "      <th>year</th>\n",
       "      <th>value</th>\n",
       "      <th>Todday</th>\n",
       "      <th>tomorrow</th>\n",
       "      <th>debt</th>\n",
       "      <th>east</th>\n",
       "    </tr>\n",
       "  </thead>\n",
       "  <tbody>\n",
       "    <tr>\n",
       "      <th>0</th>\n",
       "      <td>Ohio</td>\n",
       "      <td>2019</td>\n",
       "      <td>1.5</td>\n",
       "      <td>5</td>\n",
       "      <td>0</td>\n",
       "      <td>NaN</td>\n",
       "      <td>True</td>\n",
       "    </tr>\n",
       "    <tr>\n",
       "      <th>1</th>\n",
       "      <td>Nevada</td>\n",
       "      <td>2020</td>\n",
       "      <td>2.6</td>\n",
       "      <td>4</td>\n",
       "      <td>1</td>\n",
       "      <td>NaN</td>\n",
       "      <td>False</td>\n",
       "    </tr>\n",
       "    <tr>\n",
       "      <th>2</th>\n",
       "      <td>New York</td>\n",
       "      <td>2021</td>\n",
       "      <td>1.9</td>\n",
       "      <td>3</td>\n",
       "      <td>2</td>\n",
       "      <td>NaN</td>\n",
       "      <td>False</td>\n",
       "    </tr>\n",
       "    <tr>\n",
       "      <th>3</th>\n",
       "      <td>Kansas</td>\n",
       "      <td>2022</td>\n",
       "      <td>9.4</td>\n",
       "      <td>2</td>\n",
       "      <td>3</td>\n",
       "      <td>NaN</td>\n",
       "      <td>False</td>\n",
       "    </tr>\n",
       "    <tr>\n",
       "      <th>4</th>\n",
       "      <td>Texas</td>\n",
       "      <td>2023</td>\n",
       "      <td>2.1</td>\n",
       "      <td>1</td>\n",
       "      <td>4</td>\n",
       "      <td>NaN</td>\n",
       "      <td>False</td>\n",
       "    </tr>\n",
       "  </tbody>\n",
       "</table>\n",
       "</div>"
      ],
      "text/plain": [
       "      state  year  value  Todday  tomorrow  debt   east\n",
       "0      Ohio  2019    1.5       5         0   NaN   True\n",
       "1    Nevada  2020    2.6       4         1   NaN  False\n",
       "2  New York  2021    1.9       3         2   NaN  False\n",
       "3    Kansas  2022    9.4       2         3   NaN  False\n",
       "4     Texas  2023    2.1       1         4   NaN  False"
      ]
     },
     "metadata": {},
     "output_type": "display_data"
    },
    {
     "data": {
      "text/plain": [
       "Index(['state', 'year', 'value', 'Todday', 'tomorrow', 'debt'], dtype='object')"
      ]
     },
     "metadata": {},
     "output_type": "display_data"
    }
   ],
   "source": [
    "\"\"\"\n",
    "\n",
    "# DataFrame \n",
    "A rectangular table of data and contains an ordered collections of columns, each of which can be a \n",
    "different value type(numeric, string, boolean). The DataFrame had both a row and column index;\n",
    "it can be thougth of as a dict of Series all sharing the same index.\n",
    "One can use DF to represent higher DIMs data in a tabular format using hierarchial indexing.\n",
    "\"\"\"\n",
    "\n",
    "# Creating a DF from a dict of equal-leght lists or NumPy arrays:\n",
    "\n",
    "df_Style = {'state':['Ohio', 'Nevada', 'New York', 'Kansas', 'Texas'],\n",
    "            'year' : [2019, 2020, 2021, 2022, 2023], \n",
    "            'value': [1.5, 2.6, 1.9, 9.4, 2.1]}\n",
    "    \n",
    "frame = pd.DataFrame(df_Style)\n",
    "\n",
    "display(frame)\n",
    "\n",
    "# If you specify a sequence of columns, the DataFrames columns will be arranged in that order\n",
    "\n",
    "pd.DataFrame(df_Style, columns=['value', 'state', 'year'])\n",
    "\n",
    "# A column in a DataFrame can be retrieved as a Series either by dict-like notation or by attribute\n",
    "\n",
    "display(frame['year'])\n",
    "\n",
    "# frame.column only works when the column name is a valid Py variable name.\n",
    "\n",
    "(frame.year)\n",
    "\n",
    "# Note that the returned Series have the same index as the DF,\n",
    "# and their name attribute has been appropriately set.\n",
    "\n",
    "# Rows can aslo be retruved by position on name with special attribute loc\n",
    "\n",
    "display(frame.loc[2])\n",
    "\n",
    "# Columns can be modified and added by assigment. for example,\n",
    "# the 'debt' column could be created and its value assigned a scalar valu3\n",
    "frame['Todday'] = [5, 4, 3, 2, 1]\n",
    "\n",
    "display(frame)\n",
    "\n",
    "\n",
    "frame['tomorrow'] = np.arange(5,)\n",
    "\n",
    "display(frame)\n",
    "\n",
    "\n",
    "# When assinging lists | arrays to a column the value's length must match the length of the DF\n",
    "# If assingn a Series its labels will be realigned exactly to the DF index, inserting NaN values in any hole.\n",
    "\n",
    "\n",
    "vid = pd.Series([-5.9, -4.2, -6.8], index=['two', 'four', 'five'])\n",
    "\n",
    "frame['debt'] = vid\n",
    "\n",
    "display(frame)\n",
    "\n",
    "# The del keyword will delete columns as with a dict.\n",
    "\n",
    "frame['east'] = frame.state == 'Ohio'\n",
    "\n",
    "display(frame)\n",
    "\n",
    "del frame['east']\n",
    "\n",
    "display(frame.columns)\n",
    "\n",
    "# The column returned from indexing a DF is a view on the underlying data, not a copy! \n",
    "\n",
    "# The column can be copied with copy method"
   ]
  },
  {
   "cell_type": "code",
   "execution_count": 54,
   "id": "7054aed7-493a-4d1e-b9a9-10e55fb30575",
   "metadata": {},
   "outputs": [
    {
     "data": {
      "text/html": [
       "<div>\n",
       "<style scoped>\n",
       "    .dataframe tbody tr th:only-of-type {\n",
       "        vertical-align: middle;\n",
       "    }\n",
       "\n",
       "    .dataframe tbody tr th {\n",
       "        vertical-align: top;\n",
       "    }\n",
       "\n",
       "    .dataframe thead th {\n",
       "        text-align: right;\n",
       "    }\n",
       "</style>\n",
       "<table border=\"1\" class=\"dataframe\">\n",
       "  <thead>\n",
       "    <tr style=\"text-align: right;\">\n",
       "      <th></th>\n",
       "      <th>2001</th>\n",
       "      <th>2002</th>\n",
       "      <th>2000</th>\n",
       "    </tr>\n",
       "  </thead>\n",
       "  <tbody>\n",
       "    <tr>\n",
       "      <th>Nevada</th>\n",
       "      <td>2.4</td>\n",
       "      <td>2.9</td>\n",
       "      <td>NaN</td>\n",
       "    </tr>\n",
       "    <tr>\n",
       "      <th>Ohio</th>\n",
       "      <td>1.7</td>\n",
       "      <td>3.6</td>\n",
       "      <td>1.5</td>\n",
       "    </tr>\n",
       "  </tbody>\n",
       "</table>\n",
       "</div>"
      ],
      "text/plain": [
       "        2001  2002  2000\n",
       "Nevada   2.4   2.9   NaN\n",
       "Ohio     1.7   3.6   1.5"
      ]
     },
     "metadata": {},
     "output_type": "display_data"
    },
    {
     "data": {
      "text/html": [
       "<div>\n",
       "<style scoped>\n",
       "    .dataframe tbody tr th:only-of-type {\n",
       "        vertical-align: middle;\n",
       "    }\n",
       "\n",
       "    .dataframe tbody tr th {\n",
       "        vertical-align: top;\n",
       "    }\n",
       "\n",
       "    .dataframe thead th {\n",
       "        text-align: right;\n",
       "    }\n",
       "</style>\n",
       "<table border=\"1\" class=\"dataframe\">\n",
       "  <thead>\n",
       "    <tr style=\"text-align: right;\">\n",
       "      <th></th>\n",
       "      <th>Nevada</th>\n",
       "      <th>Ohio</th>\n",
       "    </tr>\n",
       "  </thead>\n",
       "  <tbody>\n",
       "    <tr>\n",
       "      <th>2001</th>\n",
       "      <td>2.4</td>\n",
       "      <td>1.7</td>\n",
       "    </tr>\n",
       "    <tr>\n",
       "      <th>2019</th>\n",
       "      <td>NaN</td>\n",
       "      <td>NaN</td>\n",
       "    </tr>\n",
       "    <tr>\n",
       "      <th>2022</th>\n",
       "      <td>NaN</td>\n",
       "      <td>NaN</td>\n",
       "    </tr>\n",
       "  </tbody>\n",
       "</table>\n",
       "</div>"
      ],
      "text/plain": [
       "      Nevada  Ohio\n",
       "2001     2.4   1.7\n",
       "2019     NaN   NaN\n",
       "2022     NaN   NaN"
      ]
     },
     "metadata": {},
     "output_type": "display_data"
    },
    {
     "data": {
      "text/plain": [
       "{'Ohio': 2001    1.7\n",
       " 2002    3.6\n",
       " Name: Ohio, dtype: float64,\n",
       " 'Nevada': 2001    2.4\n",
       " 2002    2.9\n",
       " Name: Nevada, dtype: float64}"
      ]
     },
     "metadata": {},
     "output_type": "display_data"
    },
    {
     "data": {
      "text/html": [
       "<div>\n",
       "<style scoped>\n",
       "    .dataframe tbody tr th:only-of-type {\n",
       "        vertical-align: middle;\n",
       "    }\n",
       "\n",
       "    .dataframe tbody tr th {\n",
       "        vertical-align: top;\n",
       "    }\n",
       "\n",
       "    .dataframe thead th {\n",
       "        text-align: right;\n",
       "    }\n",
       "</style>\n",
       "<table border=\"1\" class=\"dataframe\">\n",
       "  <thead>\n",
       "    <tr style=\"text-align: right;\">\n",
       "      <th>state</th>\n",
       "      <th>Nevada</th>\n",
       "      <th>Ohio</th>\n",
       "    </tr>\n",
       "    <tr>\n",
       "      <th>year</th>\n",
       "      <th></th>\n",
       "      <th></th>\n",
       "    </tr>\n",
       "  </thead>\n",
       "  <tbody>\n",
       "    <tr>\n",
       "      <th>2001</th>\n",
       "      <td>2.4</td>\n",
       "      <td>1.7</td>\n",
       "    </tr>\n",
       "    <tr>\n",
       "      <th>2002</th>\n",
       "      <td>2.9</td>\n",
       "      <td>3.6</td>\n",
       "    </tr>\n",
       "    <tr>\n",
       "      <th>2000</th>\n",
       "      <td>NaN</td>\n",
       "      <td>1.5</td>\n",
       "    </tr>\n",
       "  </tbody>\n",
       "</table>\n",
       "</div>"
      ],
      "text/plain": [
       "state  Nevada  Ohio\n",
       "year               \n",
       "2001      2.4   1.7\n",
       "2002      2.9   3.6\n",
       "2000      NaN   1.5"
      ]
     },
     "metadata": {},
     "output_type": "display_data"
    }
   ],
   "source": [
    "\"\"\"\n",
    "Another common form of data is a nested dicts of dicts:\n",
    "\n",
    "If the nested dict is padded to the DF,\n",
    "pandas will interpret the outer dict keys as the colums and the inner keys as the row indices:\n",
    "\"\"\"\n",
    "\n",
    "dict_pop = {'Nevada' : {2001: 2.4, 2002: 2.9},\n",
    "           \"Ohio\" :{2000: 1.5, 2001:1.7, 2002: 3.6}}  \n",
    "\n",
    "dict_frame = pd.DataFrame(dict_pop)\n",
    "\n",
    "# You can transpose the df (swap rows and columns) with similar syntax to a NumPy array\n",
    "\n",
    "display(dict_frame.T)\n",
    "\n",
    "# The keys in the inner dicts are comnined and sorted to form the index in the result.\n",
    "# This isnt true if an explicit index is specified:\n",
    "\n",
    "display(pd.DataFrame(dict_pop, index=[2001, 2019, 2022]))\n",
    "\n",
    "dict_frame.loc[2001]\n",
    "\n",
    "# Dicts of Series are treated in much the same way:\n",
    "\n",
    "pdata = {'Ohio': dict_frame['Ohio'][:-1],\n",
    "        'Nevada': dict_frame['Nevada'][:2]}\n",
    "\n",
    "display(pdata)\n",
    "\n",
    "pd.DataFrame(pdata)\n",
    "\n",
    "#  IF a DF index and colums have their name attrinutes set, these will also be displayed\n",
    "\n",
    "dict_frame.index.name = 'year'; dict_frame.columns.name = 'state'\n",
    "\n",
    "display(dict_frame)\n",
    "\n",
    "# Possible data inputs to DF constructor pages 136"
   ]
  },
  {
   "cell_type": "code",
   "execution_count": 74,
   "id": "a2499d86-2a14-48d5-af2a-3c093a3abbf2",
   "metadata": {},
   "outputs": [
    {
     "data": {
      "text/plain": [
       "Index(['a', 'b', 'c'], dtype='object')"
      ]
     },
     "metadata": {},
     "output_type": "display_data"
    },
    {
     "data": {
      "text/plain": [
       "Index(['b', 'c'], dtype='object')"
      ]
     },
     "metadata": {},
     "output_type": "display_data"
    },
    {
     "data": {
      "text/plain": [
       "Int64Index([0, 1, 2], dtype='int64')"
      ]
     },
     "metadata": {},
     "output_type": "display_data"
    },
    {
     "data": {
      "text/plain": [
       "0    1.5\n",
       "1   -2.5\n",
       "2    0.0\n",
       "dtype: float64"
      ]
     },
     "metadata": {},
     "output_type": "display_data"
    },
    {
     "data": {
      "text/html": [
       "<div>\n",
       "<style scoped>\n",
       "    .dataframe tbody tr th:only-of-type {\n",
       "        vertical-align: middle;\n",
       "    }\n",
       "\n",
       "    .dataframe tbody tr th {\n",
       "        vertical-align: top;\n",
       "    }\n",
       "\n",
       "    .dataframe thead th {\n",
       "        text-align: right;\n",
       "    }\n",
       "</style>\n",
       "<table border=\"1\" class=\"dataframe\">\n",
       "  <thead>\n",
       "    <tr style=\"text-align: right;\">\n",
       "      <th>state</th>\n",
       "      <th>Nevada</th>\n",
       "      <th>Ohio</th>\n",
       "    </tr>\n",
       "    <tr>\n",
       "      <th>year</th>\n",
       "      <th></th>\n",
       "      <th></th>\n",
       "    </tr>\n",
       "  </thead>\n",
       "  <tbody>\n",
       "    <tr>\n",
       "      <th>2001</th>\n",
       "      <td>2.4</td>\n",
       "      <td>1.7</td>\n",
       "    </tr>\n",
       "    <tr>\n",
       "      <th>2002</th>\n",
       "      <td>2.9</td>\n",
       "      <td>3.6</td>\n",
       "    </tr>\n",
       "    <tr>\n",
       "      <th>2000</th>\n",
       "      <td>NaN</td>\n",
       "      <td>1.5</td>\n",
       "    </tr>\n",
       "  </tbody>\n",
       "</table>\n",
       "</div>"
      ],
      "text/plain": [
       "state  Nevada  Ohio\n",
       "year               \n",
       "2001      2.4   1.7\n",
       "2002      2.9   3.6\n",
       "2000      NaN   1.5"
      ]
     },
     "metadata": {},
     "output_type": "display_data"
    },
    {
     "data": {
      "text/plain": [
       "Index(['Nevada', 'Ohio'], dtype='object', name='state')"
      ]
     },
     "metadata": {},
     "output_type": "display_data"
    },
    {
     "data": {
      "text/plain": [
       "True"
      ]
     },
     "metadata": {},
     "output_type": "display_data"
    },
    {
     "data": {
      "text/plain": [
       "False"
      ]
     },
     "metadata": {},
     "output_type": "display_data"
    },
    {
     "data": {
      "text/plain": [
       "Index(['foo', 'foo', 'bar', 'bar'], dtype='object')"
      ]
     },
     "metadata": {},
     "output_type": "display_data"
    }
   ],
   "source": [
    "\"\"\"\n",
    "# Index Objects\n",
    "\n",
    "Pandas Index objects are resposible for holding the axis labels and other metadata\n",
    "(like the axis name or names).\n",
    "Any array or other sequence of labels you use when constructing\n",
    "a Series or DataFrame is internallyconverted to an index:\n",
    "\n",
    "\n",
    "Some users will not often take advantage of the capabilites provided by indexes\n",
    "\n",
    "\"\"\"\n",
    "\n",
    "obk = pd.Series(range(3), index=['a', 'b', 'c'])\n",
    "\n",
    "index = obk.index\n",
    "\n",
    "display(index)\n",
    "\n",
    "display(index[1:])\n",
    "\n",
    "# Index objects are immutable and thus can't be modified by the user\n",
    "# Immutability makes it safer to share index objectys among data structures.\n",
    "\n",
    "inx_labels = pd.Index(np.arange(3))\n",
    "\n",
    "display(inx_labels)\n",
    "\n",
    "obk2 = pd.Series([1.5, -2.5, 0], index=inx_labels)\n",
    "\n",
    "display(obk2)\n",
    "\n",
    "obk2.index is inx_labels\n",
    "\n",
    "# In addition to being array-like, an Index also bahves like a fixed-size set:\n",
    "\n",
    "display(dict_frame)\n",
    "\n",
    "display(dict_frame.columns)\n",
    "\n",
    "display('Ohio' in dict_frame.columns)\n",
    "\n",
    "display(2004 in dict_frame.index)\n",
    "\n",
    "# Unlike Py sets pandas Index can cointain duplicate labelss:\n",
    "\n",
    "dup_labels = pd.Index(['foo', 'foo', 'bar', 'bar'])\n",
    "\n",
    "display(dup_labels)\n",
    "\n",
    "# Some Index methods and properties"
   ]
  },
  {
   "cell_type": "code",
   "execution_count": null,
   "id": "973e6866-28ae-4d9d-8f0d-324a7495b343",
   "metadata": {},
   "outputs": [],
   "source": []
  },
  {
   "cell_type": "code",
   "execution_count": null,
   "id": "e3de3aa4-cd9e-4de2-89e2-fb9ec174974b",
   "metadata": {},
   "outputs": [],
   "source": []
  }
 ],
 "metadata": {
  "kernelspec": {
   "display_name": "dev",
   "language": "python",
   "name": "dev"
  },
  "language_info": {
   "codemirror_mode": {
    "name": "ipython",
    "version": 3
   },
   "file_extension": ".py",
   "mimetype": "text/x-python",
   "name": "python",
   "nbconvert_exporter": "python",
   "pygments_lexer": "ipython3",
   "version": "3.7.10"
  }
 },
 "nbformat": 4,
 "nbformat_minor": 5
}
