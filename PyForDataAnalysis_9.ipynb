{
 "cells": [
  {
   "cell_type": "code",
   "execution_count": 9,
   "id": "c4cf67bb-db6f-45ce-8016-7ba7bc2b2400",
   "metadata": {},
   "outputs": [],
   "source": [
    "\"\"\"\n",
    "Python for Data Analysis \n",
    "\n",
    "Plotting and Visualization \n",
    "\"\"\"\n",
    "\n",
    "%matplotlib notebook\n",
    "# Financial Time Series \n",
    "import numpy as np \n",
    "import pandas as pd\n",
    "from pylab import mpl, plt\n",
    "plt.style.use('seaborn')\n",
    "mpl.rcParams['font.family'] = 'serif'\n",
    "%matplotlib inline\n",
    "pd.set_option('display.max_rows', 2000)\n",
    "pd.set_option('display.max_columns', 2000)\n",
    "pd.set_option('display.width', 1000)"
   ]
  },
  {
   "cell_type": "code",
   "execution_count": 26,
   "id": "5b3d44da-e949-4387-8e80-18d96a8e29f9",
   "metadata": {},
   "outputs": [],
   "source": [
    "import numpy as np \n",
    "\n",
    "data = np.arange(10)\n",
    "\n",
    "plt.plot(data)\n",
    "\n",
    "# Figures and Subsplots\n",
    "\n",
    "fig = plt.figure()\n",
    "\n",
    "# You cant make a plot of a blank figure. You have yo create one or more subplots using add_subplot \n",
    "\n",
    "ax1 = fig.add_subplot(2, 2, 1)\n",
    "\n",
    "ax2 = fig.add_subplot(2, 2, 2)\n",
    "\n",
    "ax3 = fig.add_subplot(2, 2, 3)\n",
    "\n",
    "plt.plot(np.random.rand(50).cumsum(), 'k--')\n",
    "\n",
    "# When issue plotting command lile plt.plot([1.5, 3.5, -2, 1.6]), matplotlib draws on the last figure and subplot creation. \n",
    "# The 'k--' is a style option instructing matplotlib to plot a black dashed line.\n",
    "# The objects returned by fig.add_subplot here are axessubplots objects, \n",
    "# one which you can directly plot on the other empty plots by calling their instance method\n",
    "\n",
    "_ = ax1.hist(np.random.rand(100),\n",
    "             bins=20, color = 'k',\n",
    "            alpha=0.3)\n",
    "\n",
    "ax2.scatter(np.arange(30), np.arange(30) + 3 * np.random.randn(30))\n",
    "\n",
    "# Creating a figure with a grid of subplots is very common task, so matsplotlib includes a convenience method, plt.subplots\n",
    "# that creates a new figure and returns a NumPy array containing the created subplots\n",
    "\n",
    "fig , axes = plt.subplots(2, 2)\n",
    "\n",
    "# Python subplot s options page 263"
   ]
  },
  {
   "cell_type": "code",
   "execution_count": 33,
   "id": "140e86cd-0182-4ca5-9a21-43ccb474516b",
   "metadata": {},
   "outputs": [
    {
     "data": {
      "text/plain": [
       "<matplotlib.legend.Legend at 0x1c7d3a2fbc8>"
      ]
     },
     "execution_count": 33,
     "metadata": {},
     "output_type": "execute_result"
    },
    {
     "data": {
      "image/png": "[encoded data removed]",
      "text/plain": [
       "<Figure size 432x288 with 1 Axes>"
      ]
     },
     "metadata": {
      "needs_background": "light"
     },
     "output_type": "display_data"
    }
   ],
   "source": [
    "\"\"\"Colors, Markers, and Line Styles \n",
    "\n",
    "Matplotlib's main plot function accepts array of x y coordinates and optionally\n",
    "a string abbreviation indication color and line style\n",
    "\n",
    "ax.plot(x, y, 'g--')\n",
    "\n",
    "This way of specifying color and line style in a string is provided as a convenience: in practice the same plot could also be \n",
    "\n",
    "ax.plot(x, y, linestyle='--', color='g')\n",
    "\n",
    "Line plots can additionally have markers to highlight the actual data points\n",
    "\n",
    "\"\"\"\n",
    "from numpy.random import randn\n",
    "\n",
    "plt.plot(randn(30).cumsum(), 'ko--')\n",
    "\n",
    "# For line plots, you will notice that subsequent points are lineraly interpolated by default.\n",
    "# This can be altered with the drawstyle option \n",
    "\n",
    "data = np.random.randn(30).cumsum()\n",
    "\n",
    "plt.plot(data, 'k--', label='Default')\n",
    "\n",
    "plt.plot(data, 'k-', drawstyle='steps-post')\n",
    "\n",
    "plt.legend(loc ='best')"
   ]
  },
  {
   "cell_type": "code",
   "execution_count": null,
   "id": "9f7fed31-3e14-4aac-ac60-f022a03616b4",
   "metadata": {},
   "outputs": [],
   "source": [
    "\"\"\"\n",
    "# Ticks,Labels,and Legends \n",
    "\n",
    "* Called with no argumetns returns the current parameter value(plt.xlim()) returns the current \n",
    "\n",
    "\"\"\"\n"
   ]
  },
  {
   "cell_type": "code",
   "execution_count": null,
   "id": "80531971-7aa9-48dc-8726-b5f860232b7f",
   "metadata": {},
   "outputs": [],
   "source": []
  }
 ],
 "metadata": {
  "kernelspec": {
   "display_name": "dev",
   "language": "python",
   "name": "dev"
  },
  "language_info": {
   "codemirror_mode": {
    "name": "ipython",
    "version": 3
   },
   "file_extension": ".py",
   "mimetype": "text/x-python",
   "name": "python",
   "nbconvert_exporter": "python",
   "pygments_lexer": "ipython3",
   "version": "3.7.10"
  }
 },
 "nbformat": 4,
 "nbformat_minor": 5
}
