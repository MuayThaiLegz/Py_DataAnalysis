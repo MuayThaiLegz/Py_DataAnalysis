{
 "cells": [
  {
   "cell_type": "code",
   "execution_count": 4,
   "id": "ce3031ce",
   "metadata": {},
   "outputs": [
    {
     "data": {
      "text/plain": [
       "datetime.datetime(2021, 10, 8, 14, 39, 29, 932871)"
      ]
     },
     "metadata": {},
     "output_type": "display_data"
    },
    {
     "name": "stdout",
     "output_type": "stream",
     "text": [
      "2021 10 8\n"
     ]
    },
    {
     "data": {
      "text/plain": [
       "datetime.timedelta(days=926, seconds=56700)"
      ]
     },
     "metadata": {},
     "output_type": "display_data"
    },
    {
     "data": {
      "text/plain": [
       "926"
      ]
     },
     "metadata": {},
     "output_type": "display_data"
    },
    {
     "data": {
      "text/plain": [
       "56700"
      ]
     },
     "metadata": {},
     "output_type": "display_data"
    },
    {
     "name": "stdout",
     "output_type": "stream",
     "text": [
      "Types in datetime module page 325\n"
     ]
    }
   ],
   "source": [
    "\"\"\"\n",
    "Chapter 11 - Time Series:\n",
    "Anything that is observed, measured at many points in time forms a time series.\n",
    "Many time series are fixed frequency,\n",
    "which is to say that data points coour at regular intervals according to some rule,\n",
    "such as every 15 secs, 5 mins, or per month. Time Series can also be irregular without fixed unit\n",
    "of time or offset between units. How to mark and refer to time series data depends on the application\n",
    "and you may have one of the following:\n",
    "    * Timestamps specific instants in time\n",
    "    * Fixed periods, such as the month January 2007 of the  full year 2010\n",
    "    * Intervals of time, indicated by a start and end timestamp.\n",
    "        Periods can be thought of as special cases of intervals\n",
    "    * Experiment or elapsed time;\n",
    "        each timestamp is a measure of time relative to a particular start time:\n",
    "            (the diameter of a cookie baking each second sicne being placed in the oven)\n",
    "\"\"\"\n",
    "# Date and Time Data Types and Tools \n",
    "import pandas as pd\n",
    "import numpy as np\n",
    "\n",
    "from datetime import datetime\n",
    "\n",
    "now = datetime.now()\n",
    "\n",
    "display(now)\n",
    "\n",
    "print(now.year, now.month, now.day)\n",
    "\n",
    "# datime stores both the date and time down to the microsecond.\n",
    "# timedelta represents the temporal difference between two datetime objects:\n",
    "\n",
    "delta = datetime(2011, 1, 7) - datetime(2008, 6, 24, 8, 15)\n",
    "\n",
    "display(delta)\n",
    "\n",
    "display(delta.days)\n",
    "\n",
    "display(delta.seconds)\n",
    "\n",
    "# add / subtract a timedelta | multiple thereof to datetime object to yield a new shifed object\n",
    "\n",
    "from datetime import timedelta\n",
    "\n",
    "start = datetime.now()\n",
    "\n",
    "start + timedelta(12)\n",
    "\n",
    "print('Types in datetime module page 325')"
   ]
  },
  {
   "cell_type": "code",
   "execution_count": 5,
   "id": "0079f3d6",
   "metadata": {},
   "outputs": [
    {
     "data": {
      "text/plain": [
       "'2011-01-03 00:00:00'"
      ]
     },
     "metadata": {},
     "output_type": "display_data"
    },
    {
     "data": {
      "text/plain": [
       "'2011-01-03'"
      ]
     },
     "metadata": {},
     "output_type": "display_data"
    },
    {
     "name": "stdout",
     "output_type": "stream",
     "text": [
      "Datetime format specification page 325\n"
     ]
    }
   ],
   "source": [
    "# Converting Between String and Datetime \n",
    "# format datetime object & pd Timestamp object,using srt|strftime method, pass f specification\n",
    "\n",
    "stamp = datetime(2011, 1, 3)\n",
    "\n",
    "display(str(stamp))\n",
    "\n",
    "display(stamp.strftime(\"%Y-%m-%d\"))\n",
    "\n",
    "print('Datetime format specification page 325')"
   ]
  },
  {
   "cell_type": "code",
   "execution_count": 8,
   "id": "29670dab",
   "metadata": {},
   "outputs": [
    {
     "data": {
      "text/plain": [
       "datetime.datetime(2011, 1, 3, 0, 0)"
      ]
     },
     "metadata": {},
     "output_type": "display_data"
    },
    {
     "data": {
      "text/plain": [
       "datetime.datetime(2011, 1, 3, 0, 0)"
      ]
     },
     "metadata": {},
     "output_type": "display_data"
    },
    {
     "data": {
      "text/plain": [
       "['7/6/2011', '8/6/2011']"
      ]
     },
     "metadata": {},
     "output_type": "display_data"
    },
    {
     "data": {
      "text/plain": [
       "[datetime.datetime(2011, 7, 6, 0, 0), datetime.datetime(2011, 8, 6, 0, 0)]"
      ]
     },
     "metadata": {},
     "output_type": "display_data"
    },
    {
     "data": {
      "text/plain": [
       "datetime.datetime(2011, 1, 3, 0, 0)"
      ]
     },
     "metadata": {},
     "output_type": "display_data"
    },
    {
     "data": {
      "text/plain": [
       "datetime.datetime(1997, 1, 31, 22, 45)"
      ]
     },
     "metadata": {},
     "output_type": "display_data"
    },
    {
     "data": {
      "text/plain": [
       "datetime.datetime(2021, 12, 6, 0, 0)"
      ]
     },
     "metadata": {},
     "output_type": "display_data"
    },
    {
     "data": {
      "text/plain": [
       "DatetimeIndex(['2011-07-06 12:00:00', '2011-08-06 00:00:00'], dtype='datetime64[ns]', freq=None)"
      ]
     },
     "metadata": {},
     "output_type": "display_data"
    },
    {
     "name": "stdout",
     "output_type": "stream",
     "text": [
      "Locale-specific date formatting\n"
     ]
    }
   ],
   "source": [
    "# Use many of the same format codes to conver strings to dates using datetime.strptime\n",
    "    # some codes like %F cannot be used\n",
    "    \n",
    "value = '2011-01-03'\n",
    "display(datetime.strptime(value, '%Y-%m-%d'))\n",
    "\n",
    "display(datetime(2011, 1, 3, 0, 0))\n",
    "\n",
    "daatestrs = ['7/6/2011', '8/6/2011']\n",
    "\n",
    "display(daatestrs)\n",
    "\n",
    "display([datetime.strptime(x, '%m/%d/%Y') for x in daatestrs])\n",
    "\n",
    "# datetime.strptime is a good way to parse a date with a known format.\n",
    "# avaoid writing format sects eachtime use the parser.parse method in 3rd-party dateutil package\n",
    "\n",
    "from dateutil.parser import parse\n",
    "\n",
    "display(parse('2011-01-03'))\n",
    "\n",
    "# dateutil is capable of parsing most human -intelligible date representaions\n",
    "\n",
    "display(parse('Jan 31, 1997 10:45 PM'))\n",
    "\n",
    "# for day appearing before month pass dayfirst=True to indicate this\n",
    "\n",
    "display(parse('6/12/2021', dayfirst=True))\n",
    "\n",
    "# pd uses arr as axis idx|col in df.to_datetime parses different kinds of date representations.\n",
    "\n",
    "datesrts = ['2011-07-06 12:00:00', '2011-08-06 00:00:00']\n",
    "\n",
    "display(pd.to_datetime(datesrts))\n",
    "\n",
    "print('Locale-specific date formatting')"
   ]
  },
  {
   "cell_type": "code",
   "execution_count": null,
   "id": "18836721",
   "metadata": {},
   "outputs": [],
   "source": [
    "\"\"\"\n",
    "# Time Series Basics:\n",
    "    A basic kind of time series object in pd is a series indexed by timestamps,\n",
    "    which is often represented external to pd as py strings or datetime objects:\n",
    "\"\"\"\n",
    "\n",
    "from datetime import datetime\n",
    "\n",
    "dates = [datetime(2011, 1, 2), datetime(2011, 1, 5),\n",
    "         datetime(2011, 1, 7), datetime(2011, 1, 8),\n",
    "         datetime(2011, 1, 10), datetime(2011, 1, 12)]\n",
    "\n",
    "ts = pd.Series(np.random.randn(6), index=dates)\n",
    "\n",
    "display(ts)\n",
    "\n",
    "# Under the hood, these satetime objects have been put in a datetimeIndex:\n",
    "\n",
    "display(ts.index)\n",
    "\n",
    "# Like other Series, arithmetic operations between differently indexed time series automatically \n",
    "# aling on the dates:\n",
    "ts + ts[::2]\n",
    "\n",
    "# Scalar values from a DatietimeIndex are pd timsestamp objects:\n",
    "\n",
    "stamp = ts.index[0]\n",
    "\n",
    "display(stamp)\n",
    "\n",
    "# A timestamp can be substitues anuwhere you would use a datetime object. Also it can store \n",
    "# frequency information and usntands how to do time zone conversions and other manipulations."
   ]
  },
  {
   "cell_type": "code",
   "execution_count": 32,
   "id": "6c2b11bd",
   "metadata": {},
   "outputs": [
    {
     "data": {
      "text/plain": [
       "0.183121269751764"
      ]
     },
     "metadata": {},
     "output_type": "display_data"
    },
    {
     "data": {
      "text/plain": [
       "-0.8300213734073932"
      ]
     },
     "metadata": {},
     "output_type": "display_data"
    },
    {
     "data": {
      "text/plain": [
       "-0.8300213734073932"
      ]
     },
     "metadata": {},
     "output_type": "display_data"
    },
    {
     "data": {
      "text/plain": [
       "2000-01-01    1.708890\n",
       "2000-01-02   -1.142517\n",
       "2000-01-03   -2.400360\n",
       "2000-01-04    0.062005\n",
       "2000-01-05   -2.671679\n",
       "                ...   \n",
       "2002-09-22   -0.292662\n",
       "2002-09-23    1.157317\n",
       "2002-09-24    1.185101\n",
       "2002-09-25    2.368851\n",
       "2002-09-26   -0.044699\n",
       "Freq: D, Length: 1000, dtype: float64"
      ]
     },
     "metadata": {},
     "output_type": "display_data"
    },
    {
     "data": {
      "text/plain": [
       "2001-01-01    0.421043\n",
       "2001-01-02   -0.690356\n",
       "2001-01-03   -1.273559\n",
       "2001-01-04    0.167545\n",
       "2001-01-05   -2.102238\n",
       "Freq: D, dtype: float64"
      ]
     },
     "metadata": {},
     "output_type": "display_data"
    },
    {
     "data": {
      "text/plain": [
       "2001-05-01   -0.548813\n",
       "2001-05-02   -0.479556\n",
       "2001-05-03    0.915147\n",
       "2001-05-04    0.333357\n",
       "2001-05-05   -0.431232\n",
       "Freq: D, dtype: float64"
      ]
     },
     "metadata": {},
     "output_type": "display_data"
    },
    {
     "data": {
      "text/plain": [
       "2011-01-07    0.183121\n",
       "2011-01-08   -0.463912\n",
       "2011-01-10   -0.830021\n",
       "2011-01-12    1.088414\n",
       "dtype: float64"
      ]
     },
     "metadata": {},
     "output_type": "display_data"
    },
    {
     "data": {
      "text/plain": [
       "2011-01-07    0.183121\n",
       "2011-01-08   -0.463912\n",
       "2011-01-10   -0.830021\n",
       "dtype: float64"
      ]
     },
     "metadata": {},
     "output_type": "display_data"
    },
    {
     "data": {
      "text/plain": [
       "2011-01-02   -1.045764\n",
       "2011-01-05    0.310491\n",
       "2011-01-07    0.183121\n",
       "2011-01-08   -0.463912\n",
       "dtype: float64"
      ]
     },
     "metadata": {},
     "output_type": "display_data"
    }
   ],
   "source": [
    "# Indexing, Selection, Subsetting\n",
    "# Time series behaves like any other pd.Series when you are indexing and selecting data based on label:\n",
    "\n",
    "stamp = ts.index[2]\n",
    "\n",
    "display(ts[stamp])\n",
    "\n",
    "# As a convenience, you can also pass s string that is interpretable as a date:\n",
    "\n",
    "display(ts['1/10/2011'])\n",
    "\n",
    "display(ts['20110110'])\n",
    "\n",
    "# For longer time series, a year or only a year and month can be passed to easily selct slices of data:\n",
    "\n",
    "longer_ts = pd.Series(np.random.randn(1000),\n",
    "                      index=pd.date_range('1/1/2000', periods=1000))\n",
    "\n",
    "display(longer_ts)\n",
    "\n",
    "display(longer_ts['2001'][:5])\n",
    "\n",
    "# Here the string \"2001\" is interpreted as a year and selects that time period. \n",
    "# This works if you specify the month:\n",
    "\n",
    "display(longer_ts['2001-05'][:5])\n",
    "\n",
    "# Slicing with datime onjects works as well:\n",
    "\n",
    "display(ts[datetime(2011, 1, 7):])\n",
    "\n",
    "# You can slice with timestamps not contained in a time series to perform a range query:\n",
    "\n",
    "display(ts['1/6/2011':'1/11/2011'])\n",
    "\n",
    "# Modifications on the slice will be reflactied in ther original data\n",
    "\n",
    "# These is an equivalent instance methos , trucate, that slices a Series betweeen two dates:\n",
    "\n",
    "display(ts.truncate(after='1/9/2011'))\n",
    "\n",
    "# All this holds for the df as well, indexing on its rows:"
   ]
  },
  {
   "cell_type": "code",
   "execution_count": null,
   "id": "39a83f48",
   "metadata": {},
   "outputs": [],
   "source": [
    "# Time Series with Duplucate Indices \n",
    "# In some apllications, there may be multiple data obsevations falling on a particualr timmestamp"
   ]
  },
  {
   "cell_type": "code",
   "execution_count": 39,
   "id": "ff38f90b",
   "metadata": {},
   "outputs": [
    {
     "data": {
      "text/plain": [
       "DatetimeIndex(['2012-04-01', '2012-04-02', '2012-04-03', '2012-04-04',\n",
       "               '2012-04-05', '2012-04-06', '2012-04-07', '2012-04-08',\n",
       "               '2012-04-09', '2012-04-10', '2012-04-11', '2012-04-12',\n",
       "               '2012-04-13', '2012-04-14', '2012-04-15', '2012-04-16',\n",
       "               '2012-04-17', '2012-04-18', '2012-04-19', '2012-04-20',\n",
       "               '2012-04-21', '2012-04-22', '2012-04-23', '2012-04-24',\n",
       "               '2012-04-25', '2012-04-26', '2012-04-27', '2012-04-28',\n",
       "               '2012-04-29', '2012-04-30', '2012-05-01', '2012-05-02',\n",
       "               '2012-05-03', '2012-05-04', '2012-05-05', '2012-05-06',\n",
       "               '2012-05-07', '2012-05-08', '2012-05-09', '2012-05-10',\n",
       "               '2012-05-11', '2012-05-12', '2012-05-13', '2012-05-14',\n",
       "               '2012-05-15', '2012-05-16', '2012-05-17', '2012-05-18',\n",
       "               '2012-05-19', '2012-05-20', '2012-05-21', '2012-05-22',\n",
       "               '2012-05-23', '2012-05-24', '2012-05-25', '2012-05-26',\n",
       "               '2012-05-27', '2012-05-28', '2012-05-29', '2012-05-30',\n",
       "               '2012-05-31', '2012-06-01'],\n",
       "              dtype='datetime64[ns]', freq='D')"
      ]
     },
     "metadata": {},
     "output_type": "display_data"
    },
    {
     "data": {
      "text/plain": [
       "DatetimeIndex(['2012-04-01', '2012-04-02', '2012-04-03', '2012-04-04',\n",
       "               '2012-04-05', '2012-04-06', '2012-04-07', '2012-04-08',\n",
       "               '2012-04-09', '2012-04-10', '2012-04-11', '2012-04-12',\n",
       "               '2012-04-13', '2012-04-14', '2012-04-15', '2012-04-16',\n",
       "               '2012-04-17', '2012-04-18', '2012-04-19', '2012-04-20'],\n",
       "              dtype='datetime64[ns]', freq='D')"
      ]
     },
     "metadata": {},
     "output_type": "display_data"
    },
    {
     "data": {
      "text/plain": [
       "DatetimeIndex(['2012-05-13', '2012-05-14', '2012-05-15', '2012-05-16',\n",
       "               '2012-05-17', '2012-05-18', '2012-05-19', '2012-05-20',\n",
       "               '2012-05-21', '2012-05-22', '2012-05-23', '2012-05-24',\n",
       "               '2012-05-25', '2012-05-26', '2012-05-27', '2012-05-28',\n",
       "               '2012-05-29', '2012-05-30', '2012-05-31', '2012-06-01'],\n",
       "              dtype='datetime64[ns]', freq='D')"
      ]
     },
     "metadata": {},
     "output_type": "display_data"
    }
   ],
   "source": [
    "\"\"\"\n",
    "# 11.3: Date Ranges, Frequencies, and Shifting\n",
    "\n",
    "You can convert the sample time series to be fixed daily frequency by calling resample:\n",
    "\"\"\"\n",
    "\n",
    "ts\n",
    "\n",
    "resampler = ts.resample(\"D\") # D daily frequency; Here we use base frequencies and multiples thereof\n",
    "\n",
    "# Generating Date Ranges: pd.date_range is responsible for generating a DatatimeIndex \n",
    "\n",
    "index = pd.date_range('2012-04-01', '2012-06-01')\n",
    "\n",
    "display(index)\n",
    "\n",
    "# By default, date_range genarates daily timestamps. If you pass only a strat or end date\n",
    "# You must pass a number of periods to generate:\n",
    "\n",
    "may = pd.date_range(start='2012-04-01', periods=20)\n",
    "        \n",
    "june = pd.date_range(end='2012-06-01', periods=20)\n",
    "\n",
    "display(may)\n",
    "                     \n",
    "display(june)"
   ]
  },
  {
   "cell_type": "code",
   "execution_count": null,
   "id": "899414dd",
   "metadata": {},
   "outputs": [],
   "source": [
    "\"\"\"\n",
    "The start and end dates define strict boundaries for the generated date index.\n",
    "\n",
    "Base time series frequencies (not comphensive page 355)\n",
    "\n",
    "date_range by default preserves the time (in any) of the start or end stomestamp:\n",
    "\"\"\"                     \n",
    "non_mod = pd.date_range('2012-05-02 12:56:31',\n",
    "              periods=5)\n",
    "\n",
    "# To mormalized to mifnight as a convention. Use the normalize option:\n",
    "\n",
    "norm = pd.date_range('2012-05-02 12:56:31',\n",
    "              periods=5,\n",
    "              normalize=True)\n",
    "\n",
    "display(non_mod)\n",
    "\n",
    "display(norm)"
   ]
  },
  {
   "cell_type": "code",
   "execution_count": 60,
   "id": "51c3a5a4",
   "metadata": {},
   "outputs": [
    {
     "data": {
      "text/plain": [
       "<Hour>"
      ]
     },
     "metadata": {},
     "output_type": "display_data"
    },
    {
     "data": {
      "text/plain": [
       "<4 * Hours>"
      ]
     },
     "metadata": {},
     "output_type": "display_data"
    },
    {
     "data": {
      "text/plain": [
       "DatetimeIndex(['2000-01-01 00:00:00', '2000-01-01 04:00:00',\n",
       "               '2000-01-01 08:00:00', '2000-01-01 12:00:00',\n",
       "               '2000-01-01 16:00:00', '2000-01-01 20:00:00',\n",
       "               '2000-01-02 00:00:00', '2000-01-02 04:00:00',\n",
       "               '2000-01-02 08:00:00', '2000-01-02 12:00:00',\n",
       "               '2000-01-02 16:00:00', '2000-01-02 20:00:00',\n",
       "               '2000-01-03 00:00:00'],\n",
       "              dtype='datetime64[ns]', freq='4H')"
      ]
     },
     "metadata": {},
     "output_type": "display_data"
    },
    {
     "data": {
      "text/plain": [
       "DatetimeIndex(['2021-01-01 00:00:00', '2021-01-01 01:30:00',\n",
       "               '2021-01-01 03:00:00', '2021-01-01 04:30:00',\n",
       "               '2021-01-01 06:00:00', '2021-01-01 07:30:00',\n",
       "               '2021-01-01 09:00:00', '2021-01-01 10:30:00',\n",
       "               '2021-01-01 12:00:00', '2021-01-01 13:30:00'],\n",
       "              dtype='datetime64[ns]', freq='90T')"
      ]
     },
     "metadata": {},
     "output_type": "display_data"
    }
   ],
   "source": [
    "# Frequencies and Date Offsets \n",
    "\n",
    "from pandas.tseries.offsets import Hour, Minute\n",
    "\n",
    "hour = Hour()\n",
    "\n",
    "display(hour)\n",
    "\n",
    "# You can define a multipkle of an offset by passing an integer:\n",
    "\n",
    "four_hours = Hour(4)\n",
    "\n",
    "display(four_hours)\n",
    "\n",
    "# Putting an interger before the base frequency creates a mulitple\n",
    "\n",
    "multiple = pd.date_range(\"2000-01-01\", '2000-01-03', freq='4h')\n",
    "\n",
    "display(multiple)\n",
    "\n",
    "# Many offsets can be combined together by addition:\n",
    "\n",
    "Hour(2) + Minute(30)\n",
    "\n",
    "# Pass a frequency strings, like '1h30min', that will effectively be parsed to the expressing:\n",
    "\n",
    "custom_mod = pd.date_range('2021-01-01', periods=10, freq='1h30min')\n",
    "\n",
    "display(custom_mod)"
   ]
  },
  {
   "cell_type": "code",
   "execution_count": 78,
   "id": "aac81150",
   "metadata": {},
   "outputs": [
    {
     "data": {
      "text/plain": [
       "DatetimeIndex(['2020-01-17', '2020-02-21', '2020-03-20', '2020-04-17',\n",
       "               '2020-05-15', '2020-06-19', '2020-07-17', '2020-08-21'],\n",
       "              dtype='datetime64[ns]', freq='WOM-3FRI')"
      ]
     },
     "metadata": {},
     "output_type": "display_data"
    },
    {
     "data": {
      "text/plain": [
       "2000-01-31   -0.001516\n",
       "2000-02-29   -0.759315\n",
       "2000-03-31    0.747325\n",
       "2000-04-30   -0.160883\n",
       "Freq: M, dtype: float64"
      ]
     },
     "metadata": {},
     "output_type": "display_data"
    },
    {
     "data": {
      "text/plain": [
       "2000-01-31         NaN\n",
       "2000-02-29         NaN\n",
       "2000-03-31   -0.001516\n",
       "2000-04-30   -0.759315\n",
       "Freq: M, dtype: float64"
      ]
     },
     "metadata": {},
     "output_type": "display_data"
    },
    {
     "data": {
      "text/plain": [
       "2000-01-31    0.747325\n",
       "2000-02-29   -0.160883\n",
       "2000-03-31         NaN\n",
       "2000-04-30         NaN\n",
       "Freq: M, dtype: float64"
      ]
     },
     "metadata": {},
     "output_type": "display_data"
    },
    {
     "data": {
      "text/plain": [
       "2000-01-31           NaN\n",
       "2000-02-29    499.915079\n",
       "2000-03-31     -1.984209\n",
       "2000-04-30     -1.215279\n",
       "Freq: M, dtype: float64"
      ]
     },
     "metadata": {},
     "output_type": "display_data"
    },
    {
     "data": {
      "text/plain": [
       "2000-03-31   -0.001516\n",
       "2000-04-30   -0.759315\n",
       "2000-05-31    0.747325\n",
       "2000-06-30   -0.160883\n",
       "Freq: M, dtype: float64"
      ]
     },
     "metadata": {},
     "output_type": "display_data"
    },
    {
     "data": {
      "text/plain": [
       "2000-02-03   -0.001516\n",
       "2000-03-03   -0.759315\n",
       "2000-04-03    0.747325\n",
       "2000-05-03   -0.160883\n",
       "dtype: float64"
      ]
     },
     "metadata": {},
     "output_type": "display_data"
    },
    {
     "data": {
      "text/plain": [
       "2000-01-31 01:30:00   -0.001516\n",
       "2000-02-29 01:30:00   -0.759315\n",
       "2000-03-31 01:30:00    0.747325\n",
       "2000-04-30 01:30:00   -0.160883\n",
       "dtype: float64"
      ]
     },
     "metadata": {},
     "output_type": "display_data"
    },
    {
     "data": {
      "text/plain": [
       "Timestamp('2011-11-20 00:00:00')"
      ]
     },
     "metadata": {},
     "output_type": "display_data"
    },
    {
     "data": {
      "text/plain": [
       "Timestamp('2011-11-30 00:00:00')"
      ]
     },
     "metadata": {},
     "output_type": "display_data"
    },
    {
     "data": {
      "text/plain": [
       "Timestamp('2011-12-31 00:00:00')"
      ]
     },
     "metadata": {},
     "output_type": "display_data"
    },
    {
     "data": {
      "text/plain": [
       "Timestamp('2011-11-30 00:00:00')"
      ]
     },
     "metadata": {},
     "output_type": "display_data"
    },
    {
     "data": {
      "text/plain": [
       "Timestamp('2011-10-31 00:00:00')"
      ]
     },
     "metadata": {},
     "output_type": "display_data"
    },
    {
     "data": {
      "text/plain": [
       "2000-01-15   -0.823032\n",
       "2000-01-19    0.265913\n",
       "2000-01-23    0.782343\n",
       "2000-01-27   -0.994325\n",
       "2000-01-31   -0.321077\n",
       "2000-02-04   -0.373295\n",
       "2000-02-08   -0.290048\n",
       "2000-02-12    0.137106\n",
       "2000-02-16    0.830140\n",
       "2000-02-20    0.763444\n",
       "2000-02-24    0.910139\n",
       "2000-02-28    1.474334\n",
       "2000-03-03    0.298148\n",
       "2000-03-07    0.398748\n",
       "2000-03-11   -0.151270\n",
       "2000-03-15   -1.421740\n",
       "2000-03-19    0.581271\n",
       "2000-03-23    0.647762\n",
       "2000-03-27   -1.433520\n",
       "2000-03-31   -0.324535\n",
       "Freq: 4D, dtype: float64"
      ]
     },
     "metadata": {},
     "output_type": "display_data"
    },
    {
     "data": {
      "text/plain": [
       "1999-12-31   -0.192275\n",
       "2000-01-31    0.391343\n",
       "2000-02-29   -0.154371\n",
       "2000-03-31   -0.324535\n",
       "dtype: float64"
      ]
     },
     "metadata": {},
     "output_type": "display_data"
    }
   ],
   "source": [
    "# Week of month dates: WOM enables you to get dates like the third Friday of each month:\n",
    "\n",
    "rng = pd.date_range('2020-01-01', '2020-09-01', freq='WOM-3FRI')\n",
    "\n",
    "display(rng)\n",
    "\n",
    "# Shifting (Leading and Lagging) Data\n",
    "# \"shifting\" refers to moving data backward and foward through time.\n",
    "# Both Series and df have shift method for doing naive shifts forward or abckeard\n",
    "# Leaving index unmodified:\n",
    "\n",
    "ts = pd.Series(np.random.randn(4),\n",
    "              index=pd.date_range('1/1/2000', periods=4, freq='M'))\n",
    "\n",
    "display(ts)\n",
    "\n",
    "display(ts.shift(2))\n",
    "\n",
    "display(ts.shift(-2))\n",
    "\n",
    "# A common use of shift is computing % change in a time series or multiple series as df columns.\n",
    "\n",
    "display(ts / ts.shift(1) -1)\n",
    "\n",
    "# Frequency is known, it can passed to shitf to advance the timestamps instead of simple the data\n",
    "\n",
    "display(ts.shift(2, freq='M'))\n",
    "\n",
    "# Other frequencies can be apssed, too, giving you some flaexibility in how to lead and lag data\n",
    "\n",
    "display(ts.shift(3, freq='D'))\n",
    "\n",
    "display(ts.shift(1, freq='90T'))\n",
    "\n",
    "# The T stands for minutes. Note that the freq parameter here indicates the offset to apply to the\n",
    "# timestamps, but it does not change the underlying frequncy of the data, if any\n",
    "\n",
    "# Shifting, dates wiiht offsets; The pandas date ofsets can also be used with datetime|Timestamp\n",
    "\n",
    "from pandas.tseries.offsets import Day, MonthEnd\n",
    "\n",
    "now = datetime(2011, 11, 17)\n",
    "\n",
    "display(now + 3 * Day())\n",
    "\n",
    "# If you add an anchored offset like MonthEnd, the first increment will 'roll forward' \n",
    "# a date to the next date according to the frequency rule:\n",
    "\n",
    "display(now + MonthEnd())\n",
    "\n",
    "display(now + MonthEnd(2))\n",
    "\n",
    "# Anchored offets can explicitly 'roll' dates forward or backward by simply suning there \n",
    "# rollfowaed and rollback methods,respectively:\n",
    "\n",
    "offset = MonthEnd()\n",
    "\n",
    "display(offset.rollforward(now))\n",
    "\n",
    "display(offset.rollback(now))\n",
    "\n",
    "# A creative use of date offsets in to use these methods with groupby:\n",
    "\n",
    "ts = pd.Series(np.random.randn(20),\n",
    "              index=pd.date_range('1/15/2000', periods=20, freq='4d'))\n",
    "\n",
    "display(ts)\n",
    "\n",
    "display(ts.groupby(offset.rollback).mean())"
   ]
  },
  {
   "cell_type": "code",
   "execution_count": null,
   "id": "2504985b",
   "metadata": {},
   "outputs": [],
   "source": []
  },
  {
   "cell_type": "code",
   "execution_count": null,
   "id": "3d5b37c8",
   "metadata": {},
   "outputs": [],
   "source": []
  },
  {
   "cell_type": "code",
   "execution_count": null,
   "id": "fe1199f8",
   "metadata": {},
   "outputs": [],
   "source": []
  },
  {
   "cell_type": "code",
   "execution_count": null,
   "id": "cdb7de20",
   "metadata": {},
   "outputs": [],
   "source": []
  },
  {
   "cell_type": "code",
   "execution_count": null,
   "id": "2c710b4e",
   "metadata": {},
   "outputs": [],
   "source": []
  },
  {
   "cell_type": "code",
   "execution_count": null,
   "id": "bb1385b1",
   "metadata": {},
   "outputs": [],
   "source": []
  },
  {
   "cell_type": "code",
   "execution_count": null,
   "id": "32bc7994",
   "metadata": {},
   "outputs": [],
   "source": []
  },
  {
   "cell_type": "code",
   "execution_count": null,
   "id": "69a58928",
   "metadata": {},
   "outputs": [],
   "source": []
  },
  {
   "cell_type": "code",
   "execution_count": null,
   "id": "f5b43cdc",
   "metadata": {},
   "outputs": [],
   "source": []
  },
  {
   "cell_type": "code",
   "execution_count": null,
   "id": "368419f0",
   "metadata": {},
   "outputs": [],
   "source": []
  },
  {
   "cell_type": "code",
   "execution_count": null,
   "id": "6e976fad",
   "metadata": {},
   "outputs": [],
   "source": []
  }
 ],
 "metadata": {
  "kernelspec": {
   "display_name": "dev",
   "language": "python",
   "name": "dev"
  },
  "language_info": {
   "codemirror_mode": {
    "name": "ipython",
    "version": 3
   },
   "file_extension": ".py",
   "mimetype": "text/x-python",
   "name": "python",
   "nbconvert_exporter": "python",
   "pygments_lexer": "ipython3",
   "version": "3.7.11"
  }
 },
 "nbformat": 4,
 "nbformat_minor": 5
}
