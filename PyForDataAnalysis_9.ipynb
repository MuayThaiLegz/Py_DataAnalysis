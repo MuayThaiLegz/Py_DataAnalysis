{
 "cells": [
  {
   "cell_type": "code",
   "execution_count": 9,
   "id": "c4cf67bb-db6f-45ce-8016-7ba7bc2b2400",
   "metadata": {},
   "outputs": [],
   "source": [
    "\"\"\"\n",
    "Python for Data Analysis \n",
    "\n",
    "Plotting and Visualization \n",
    "\"\"\"\n",
    "\n",
    "%matplotlib notebook\n",
    "# Financial Time Series \n",
    "import numpy as np \n",
    "import pandas as pd\n",
    "from pylab import mpl, plt\n",
    "plt.style.use('seaborn')\n",
    "mpl.rcParams['font.family'] = 'serif'\n",
    "%matplotlib inline\n",
    "pd.set_option('display.max_rows', 2000)\n",
    "pd.set_option('display.max_columns', 2000)\n",
    "pd.set_option('display.width', 1000)"
   ]
  },
  {
   "cell_type": "code",
   "execution_count": 26,
   "id": "5b3d44da-e949-4387-8e80-18d96a8e29f9",
   "metadata": {},
   "outputs": [],
   "source": [
    "import numpy as np \n",
    "\n",
    "data = np.arange(10)\n",
    "\n",
    "plt.plot(data)\n",
    "\n",
    "# Figures and Subsplots\n",
    "\n",
    "fig = plt.figure()\n",
    "\n",
    "# You cant make a plot of a blank figure. You have yo create one or more subplots using add_subplot \n",
    "\n",
    "ax1 = fig.add_subplot(2, 2, 1)\n",
    "\n",
    "ax2 = fig.add_subplot(2, 2, 2)\n",
    "\n",
    "ax3 = fig.add_subplot(2, 2, 3)\n",
    "\n",
    "plt.plot(np.random.rand(50).cumsum(), 'k--')\n",
    "\n",
    "# When issue plotting command lile plt.plot([1.5, 3.5, -2, 1.6]), matplotlib draws on the last figure and subplot creation. \n",
    "# The 'k--' is a style option instructing matplotlib to plot a black dashed line.\n",
    "# The objects returned by fig.add_subplot here are axessubplots objects, \n",
    "# one which you can directly plot on the other empty plots by calling their instance method\n",
    "\n",
    "_ = ax1.hist(np.random.rand(100),\n",
    "             bins=20, color = 'k',\n",
    "            alpha=0.3)\n",
    "\n",
    "ax2.scatter(np.arange(30), np.arange(30) + 3 * np.random.randn(30))\n",
    "\n",
    "# Creating a figure with a grid of subplots is very common task, so matsplotlib includes a convenience method, plt.subplots\n",
    "# that creates a new figure and returns a NumPy array containing the created subplots\n",
    "\n",
    "fig , axes = plt.subplots(2, 2)\n",
    "\n",
    "# Python subplot s options page 263"
   ]
  },
  {
   "cell_type": "code",
   "execution_count": 33,
   "id": "140e86cd-0182-4ca5-9a21-43ccb474516b",
   "metadata": {},
   "outputs": [
    {
     "data": {
      "text/plain": [
       "<matplotlib.legend.Legend at 0x1c7d3a2fbc8>"
      ]
     },
     "execution_count": 33,
     "metadata": {},
     "output_type": "execute_result"
    },
    {
     "data": {
      "image/png": "[encoded data removed]",
      "text/plain": [
       "<Figure size 432x288 with 1 Axes>"
      ]
     },
     "metadata": {
      "needs_background": "light"
     },
     "output_type": "display_data"
    }
   ],
   "source": [
    "\"\"\"Colors, Markers, and Line Styles \n",
    "\n",
    "Matplotlib's main plot function accepts array of x y coordinates and optionally\n",
    "a string abbreviation indication color and line style\n",
    "\n",
    "ax.plot(x, y, 'g--')\n",
    "\n",
    "This way of specifying color and line style in a string is provided as a convenience: in practice the same plot could also be \n",
    "\n",
    "ax.plot(x, y, linestyle='--', color='g')\n",
    "\n",
    "Line plots can additionally have markers to highlight the actual data points\n",
    "\n",
    "\"\"\"\n",
    "from numpy.random import randn\n",
    "\n",
    "plt.plot(randn(30).cumsum(), 'ko--')\n",
    "\n",
    "# For line plots, you will notice that subsequent points are lineraly interpolated by default.\n",
    "# This can be altered with the drawstyle option \n",
    "\n",
    "data = np.random.randn(30).cumsum()\n",
    "\n",
    "plt.plot(data, 'k--', label='Default')\n",
    "\n",
    "plt.plot(data, 'k-', drawstyle='steps-post')\n",
    "\n",
    "plt.legend(loc ='best')"
   ]
  },
  {
   "cell_type": "code",
   "execution_count": null,
   "id": "9f7fed31-3e14-4aac-ac60-f022a03616b4",
   "metadata": {},
   "outputs": [],
   "source": [
    "\"\"\"\n",
    "# Ticks,Labels,and Legends \n",
    "\n",
    "* Called with no argumetns returns the current parameter value(plt.xlim() returns the current \n",
    "    returns the current x-axis plotting range)\n",
    "    \n",
    "* Called with parameters setsd the parameter values plt. xlim([0, 10]), sets the x-axis range to 0 to 10\n",
    "\n",
    "\"\"\"\n",
    "-*\n"
   ]
  },
  {
   "cell_type": "code",
   "execution_count": 42,
   "id": "80531971-7aa9-48dc-8726-b5f860232b7f",
   "metadata": {},
   "outputs": [
    {
     "data": {
      "text/html": [
       "<div>\n",
       "<style scoped>\n",
       "    .dataframe tbody tr th:only-of-type {\n",
       "        vertical-align: middle;\n",
       "    }\n",
       "\n",
       "    .dataframe tbody tr th {\n",
       "        vertical-align: top;\n",
       "    }\n",
       "\n",
       "    .dataframe thead th {\n",
       "        text-align: right;\n",
       "    }\n",
       "</style>\n",
       "<table border=\"1\" class=\"dataframe\">\n",
       "  <thead>\n",
       "    <tr style=\"text-align: right;\">\n",
       "      <th>Genus</th>\n",
       "      <th>A</th>\n",
       "      <th>B</th>\n",
       "      <th>C</th>\n",
       "      <th>D</th>\n",
       "    </tr>\n",
       "  </thead>\n",
       "  <tbody>\n",
       "    <tr>\n",
       "      <th>one</th>\n",
       "      <td>0.413992</td>\n",
       "      <td>0.157714</td>\n",
       "      <td>0.120604</td>\n",
       "      <td>0.961598</td>\n",
       "    </tr>\n",
       "    <tr>\n",
       "      <th>two</th>\n",
       "      <td>0.231309</td>\n",
       "      <td>0.333098</td>\n",
       "      <td>0.053417</td>\n",
       "      <td>0.726094</td>\n",
       "    </tr>\n",
       "    <tr>\n",
       "      <th>three</th>\n",
       "      <td>0.330529</td>\n",
       "      <td>0.686739</td>\n",
       "      <td>0.368963</td>\n",
       "      <td>0.803526</td>\n",
       "    </tr>\n",
       "    <tr>\n",
       "      <th>four</th>\n",
       "      <td>0.667915</td>\n",
       "      <td>0.279188</td>\n",
       "      <td>0.296096</td>\n",
       "      <td>0.888455</td>\n",
       "    </tr>\n",
       "    <tr>\n",
       "      <th>five</th>\n",
       "      <td>0.881082</td>\n",
       "      <td>0.304009</td>\n",
       "      <td>0.927800</td>\n",
       "      <td>0.899521</td>\n",
       "    </tr>\n",
       "    <tr>\n",
       "      <th>six</th>\n",
       "      <td>0.896097</td>\n",
       "      <td>0.306950</td>\n",
       "      <td>0.842554</td>\n",
       "      <td>0.272264</td>\n",
       "    </tr>\n",
       "  </tbody>\n",
       "</table>\n",
       "</div>"
      ],
      "text/plain": [
       "Genus         A         B         C         D\n",
       "one    0.413992  0.157714  0.120604  0.961598\n",
       "two    0.231309  0.333098  0.053417  0.726094\n",
       "three  0.330529  0.686739  0.368963  0.803526\n",
       "four   0.667915  0.279188  0.296096  0.888455\n",
       "five   0.881082  0.304009  0.927800  0.899521\n",
       "six    0.896097  0.306950  0.842554  0.272264"
      ]
     },
     "metadata": {},
     "output_type": "display_data"
    },
    {
     "data": {
      "text/plain": [
       "<AxesSubplot:>"
      ]
     },
     "execution_count": 42,
     "metadata": {},
     "output_type": "execute_result"
    },
    {
     "data": {
      "image/png": "[encoded data removed]",
      "text/plain": [
       "<Figure size 432x288 with 2 Axes>"
      ]
     },
     "metadata": {
      "needs_background": "light"
     },
     "output_type": "display_data"
    },
    {
     "data": {
      "image/png": "[encoded data removed]",
      "text/plain": [
       "<Figure size 432x288 with 1 Axes>"
      ]
     },
     "metadata": {
      "needs_background": "light"
     },
     "output_type": "display_data"
    },
    {
     "data": {
      "image/png": "[encoded data removed]",
      "text/plain": [
       "<Figure size 432x288 with 1 Axes>"
      ]
     },
     "metadata": {
      "needs_background": "light"
     },
     "output_type": "display_data"
    }
   ],
   "source": [
    "\"\"\"\n",
    "Plotting with pandas and Seaborn \n",
    "Series plot method arguments /dataframe specific- plot arguments pages 277 \n",
    "\n",
    "The plot.bar() and plot.barh() make vertical and horizontal bar plots, respectively. \n",
    "\"\"\"\n",
    "\n",
    "fig, axes = plt.subplots(2,1)\n",
    "\n",
    "data = pd.Series(np.random.rand(16), index=list('abcdefghijklmnop'))\n",
    "\n",
    "data.plot.bar(ax=axes[0], color='r', alpha=0.7)\n",
    "\n",
    "data.plot.barh(ax=axes[1], color='r', alpha=0.7)\n",
    "\n",
    "# The options color='k' and alpha=0.7 set the color of the plots the black and use partial transparency on the filling.\n",
    "# With a df, bar plots group the values in each corow together in a grop in bars, side by side, for each value\n",
    "\n",
    "df = pd.DataFrame(np.random.rand(6,4), \n",
    "                 index=['one', 'two', 'three', 'four', 'five', 'six'],\n",
    "                 columns=pd.Index(['A', 'B', 'C', 'D'], name='Genus'))\n",
    "\n",
    "display(df)\n",
    "\n",
    "df.plot.bar()\n",
    "\n",
    "# Create stacked bar plots from a df by passing stacked=True, resulting in the value in each row being stacked together \n",
    "\n",
    "df.plot.barh(stacked=True, alpha=0.5)"
   ]
  },
  {
   "cell_type": "code",
   "execution_count": 45,
   "id": "f861c482-f8c5-4033-ae80-dfdb45e1bb79",
   "metadata": {},
   "outputs": [
    {
     "data": {
      "text/plain": [
       "<AxesSubplot:>"
      ]
     },
     "execution_count": 45,
     "metadata": {},
     "output_type": "execute_result"
    },
    {
     "data": {
      "image/png": "[encoded data removed]",
      "text/plain": [
       "<Figure size 432x288 with 1 Axes>"
      ]
     },
     "metadata": {
      "needs_background": "light"
     },
     "output_type": "display_data"
    }
   ],
   "source": [
    "# A useful recipe for bar p;ots is to visualize a Series's values frequency using value_counts\n",
    "\n",
    "s = pd.Series(np.random.randn(10).cumsum(), index=np.arange(0, 100, 10))\n",
    "\n",
    "s.value_counts().plot.bar()"
   ]
  },
  {
   "cell_type": "code",
   "execution_count": null,
   "id": "3d4bdab3-7c20-47ca-9bc1-53c56e0d203c",
   "metadata": {},
   "outputs": [],
   "source": []
  }
 ],
 "metadata": {
  "kernelspec": {
   "display_name": "dev",
   "language": "python",
   "name": "dev"
  },
  "language_info": {
   "codemirror_mode": {
    "name": "ipython",
    "version": 3
   },
   "file_extension": ".py",
   "mimetype": "text/x-python",
   "name": "python",
   "nbconvert_exporter": "python",
   "pygments_lexer": "ipython3",
   "version": "3.7.10"
  }
 },
 "nbformat": 4,
 "nbformat_minor": 5
}
